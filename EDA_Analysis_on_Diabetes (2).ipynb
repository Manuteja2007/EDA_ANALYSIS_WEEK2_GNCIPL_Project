{
  "nbformat": 4,
  "nbformat_minor": 0,
  "metadata": {
    "colab": {
      "provenance": []
    },
    "kernelspec": {
      "name": "python3",
      "display_name": "Python 3"
    },
    "language_info": {
      "name": "python"
    }
  },
  "cells": [
    {
      "cell_type": "markdown",
      "source": [
        "# **EDA ANALYSIS ON DIABETES DATASET**"
      ],
      "metadata": {
        "id": "w5npzK8yMT3l"
      }
    },
    {
      "cell_type": "markdown",
      "source": [
        "**Project Type** :Data Science for Predictive Healthcare Analytics\n",
        "\n",
        "**Project Prepared by** : Manu Teja"
      ],
      "metadata": {
        "id": "gb-46r4hMVPV"
      }
    },
    {
      "cell_type": "markdown",
      "source": [
        "**Domain** : Medical Research\n",
        "\n",
        "Data Set Provided by PIMA Diabetes\n",
        "Dataset (UCI)"
      ],
      "metadata": {
        "id": "78OQSSAuMXZT"
      }
    },
    {
      "cell_type": "markdown",
      "source": [
        "**Problem Statement :**\n",
        "\n",
        "Diabetes is a chronic health condition affecting millions globally, yet early detection remains a challenge, leading to severe complications and increased healthcare burdens. This project addresses the critical need for a proactive, data-driven approach to diabetes risk assessment. By leveraging clinical and demographic data, the problem is to identify the most significant predictive factors of diabetes and develop a reliable machine learning model that can accurately stratify individuals based on their risk, enabling timely intervention and improved patient outcomes."
      ],
      "metadata": {
        "id": "39UJ-Sc5MV4f"
      }
    },
    {
      "cell_type": "markdown",
      "source": [
        "**project summary :**\n",
        "\n",
        "This project analyzes a diabetes dataset to find the main factors that cause the disease and to build a tool that can predict if someone has it. We used graphs and charts to discover that high blood sugar, high BMI, and older age are the biggest risk factors.The main goal is to help doctors diagnose diabetes earlier by understanding which warning signs to look for first."
      ],
      "metadata": {
        "id": "5zI7-H7OMX-a"
      }
    },
    {
      "cell_type": "markdown",
      "source": [
        "**CODING SECTION -**"
      ],
      "metadata": {
        "id": "b7kvyU9OMYYJ"
      }
    },
    {
      "cell_type": "code",
      "execution_count": 83,
      "metadata": {
        "id": "cj4RqUzEMHGH"
      },
      "outputs": [],
      "source": [
        "import numpy as np\n",
        "import pandas as pd\n",
        "import seaborn as sns\n",
        "import matplotlib.pyplot as plt\n",
        "import missingno as msno\n",
        "import warnings\n",
        "warnings.filterwarnings('ignore')\n",
        "from sklearn.preprocessing import MinMaxScaler\n",
        "from sklearn.decomposition import PCA\n"
      ]
    },
    {
      "cell_type": "code",
      "source": [
        "from google.colab import drive\n",
        "drive.mount('/content/drive',force_remount=True)\n",
        "df=pd.read_csv(\"/content/drive/MyDrive/diabetes.csv\")\n",
        "print(\"First Five rows of Dataset\\n\")\n",
        "df.head()"
      ],
      "metadata": {
        "colab": {
          "base_uri": "https://localhost:8080/",
          "height": 258
        },
        "id": "qR5sUtkBMalW",
        "outputId": "6ccd2aa5-d009-43be-d390-cfbcd65266bc"
      },
      "execution_count": 84,
      "outputs": [
        {
          "output_type": "stream",
          "name": "stdout",
          "text": [
            "Mounted at /content/drive\n",
            "First Five rows of Dataset\n",
            "\n"
          ]
        },
        {
          "output_type": "execute_result",
          "data": {
            "text/plain": [
              "   Pregnancies  Glucose  BloodPressure  SkinThickness  Insulin   BMI  \\\n",
              "0            6      148             72             35        0  33.6   \n",
              "1            1       85             66             29        0  26.6   \n",
              "2            8      183             64              0        0  23.3   \n",
              "3            1       89             66             23       94  28.1   \n",
              "4            0      137             40             35      168  43.1   \n",
              "\n",
              "   DiabetesPedigreeFunction  Age  Outcome  \n",
              "0                     0.627   50        1  \n",
              "1                     0.351   31        0  \n",
              "2                     0.672   32        1  \n",
              "3                     0.167   21        0  \n",
              "4                     2.288   33        1  "
            ],
            "text/html": [
              "\n",
              "  <div id=\"df-c97f6f62-d1a8-43c2-8a18-043f09844750\" class=\"colab-df-container\">\n",
              "    <div>\n",
              "<style scoped>\n",
              "    .dataframe tbody tr th:only-of-type {\n",
              "        vertical-align: middle;\n",
              "    }\n",
              "\n",
              "    .dataframe tbody tr th {\n",
              "        vertical-align: top;\n",
              "    }\n",
              "\n",
              "    .dataframe thead th {\n",
              "        text-align: right;\n",
              "    }\n",
              "</style>\n",
              "<table border=\"1\" class=\"dataframe\">\n",
              "  <thead>\n",
              "    <tr style=\"text-align: right;\">\n",
              "      <th></th>\n",
              "      <th>Pregnancies</th>\n",
              "      <th>Glucose</th>\n",
              "      <th>BloodPressure</th>\n",
              "      <th>SkinThickness</th>\n",
              "      <th>Insulin</th>\n",
              "      <th>BMI</th>\n",
              "      <th>DiabetesPedigreeFunction</th>\n",
              "      <th>Age</th>\n",
              "      <th>Outcome</th>\n",
              "    </tr>\n",
              "  </thead>\n",
              "  <tbody>\n",
              "    <tr>\n",
              "      <th>0</th>\n",
              "      <td>6</td>\n",
              "      <td>148</td>\n",
              "      <td>72</td>\n",
              "      <td>35</td>\n",
              "      <td>0</td>\n",
              "      <td>33.6</td>\n",
              "      <td>0.627</td>\n",
              "      <td>50</td>\n",
              "      <td>1</td>\n",
              "    </tr>\n",
              "    <tr>\n",
              "      <th>1</th>\n",
              "      <td>1</td>\n",
              "      <td>85</td>\n",
              "      <td>66</td>\n",
              "      <td>29</td>\n",
              "      <td>0</td>\n",
              "      <td>26.6</td>\n",
              "      <td>0.351</td>\n",
              "      <td>31</td>\n",
              "      <td>0</td>\n",
              "    </tr>\n",
              "    <tr>\n",
              "      <th>2</th>\n",
              "      <td>8</td>\n",
              "      <td>183</td>\n",
              "      <td>64</td>\n",
              "      <td>0</td>\n",
              "      <td>0</td>\n",
              "      <td>23.3</td>\n",
              "      <td>0.672</td>\n",
              "      <td>32</td>\n",
              "      <td>1</td>\n",
              "    </tr>\n",
              "    <tr>\n",
              "      <th>3</th>\n",
              "      <td>1</td>\n",
              "      <td>89</td>\n",
              "      <td>66</td>\n",
              "      <td>23</td>\n",
              "      <td>94</td>\n",
              "      <td>28.1</td>\n",
              "      <td>0.167</td>\n",
              "      <td>21</td>\n",
              "      <td>0</td>\n",
              "    </tr>\n",
              "    <tr>\n",
              "      <th>4</th>\n",
              "      <td>0</td>\n",
              "      <td>137</td>\n",
              "      <td>40</td>\n",
              "      <td>35</td>\n",
              "      <td>168</td>\n",
              "      <td>43.1</td>\n",
              "      <td>2.288</td>\n",
              "      <td>33</td>\n",
              "      <td>1</td>\n",
              "    </tr>\n",
              "  </tbody>\n",
              "</table>\n",
              "</div>\n",
              "    <div class=\"colab-df-buttons\">\n",
              "\n",
              "  <div class=\"colab-df-container\">\n",
              "    <button class=\"colab-df-convert\" onclick=\"convertToInteractive('df-c97f6f62-d1a8-43c2-8a18-043f09844750')\"\n",
              "            title=\"Convert this dataframe to an interactive table.\"\n",
              "            style=\"display:none;\">\n",
              "\n",
              "  <svg xmlns=\"http://www.w3.org/2000/svg\" height=\"24px\" viewBox=\"0 -960 960 960\">\n",
              "    <path d=\"M120-120v-720h720v720H120Zm60-500h600v-160H180v160Zm220 220h160v-160H400v160Zm0 220h160v-160H400v160ZM180-400h160v-160H180v160Zm440 0h160v-160H620v160ZM180-180h160v-160H180v160Zm440 0h160v-160H620v160Z\"/>\n",
              "  </svg>\n",
              "    </button>\n",
              "\n",
              "  <style>\n",
              "    .colab-df-container {\n",
              "      display:flex;\n",
              "      gap: 12px;\n",
              "    }\n",
              "\n",
              "    .colab-df-convert {\n",
              "      background-color: #E8F0FE;\n",
              "      border: none;\n",
              "      border-radius: 50%;\n",
              "      cursor: pointer;\n",
              "      display: none;\n",
              "      fill: #1967D2;\n",
              "      height: 32px;\n",
              "      padding: 0 0 0 0;\n",
              "      width: 32px;\n",
              "    }\n",
              "\n",
              "    .colab-df-convert:hover {\n",
              "      background-color: #E2EBFA;\n",
              "      box-shadow: 0px 1px 2px rgba(60, 64, 67, 0.3), 0px 1px 3px 1px rgba(60, 64, 67, 0.15);\n",
              "      fill: #174EA6;\n",
              "    }\n",
              "\n",
              "    .colab-df-buttons div {\n",
              "      margin-bottom: 4px;\n",
              "    }\n",
              "\n",
              "    [theme=dark] .colab-df-convert {\n",
              "      background-color: #3B4455;\n",
              "      fill: #D2E3FC;\n",
              "    }\n",
              "\n",
              "    [theme=dark] .colab-df-convert:hover {\n",
              "      background-color: #434B5C;\n",
              "      box-shadow: 0px 1px 3px 1px rgba(0, 0, 0, 0.15);\n",
              "      filter: drop-shadow(0px 1px 2px rgba(0, 0, 0, 0.3));\n",
              "      fill: #FFFFFF;\n",
              "    }\n",
              "  </style>\n",
              "\n",
              "    <script>\n",
              "      const buttonEl =\n",
              "        document.querySelector('#df-c97f6f62-d1a8-43c2-8a18-043f09844750 button.colab-df-convert');\n",
              "      buttonEl.style.display =\n",
              "        google.colab.kernel.accessAllowed ? 'block' : 'none';\n",
              "\n",
              "      async function convertToInteractive(key) {\n",
              "        const element = document.querySelector('#df-c97f6f62-d1a8-43c2-8a18-043f09844750');\n",
              "        const dataTable =\n",
              "          await google.colab.kernel.invokeFunction('convertToInteractive',\n",
              "                                                    [key], {});\n",
              "        if (!dataTable) return;\n",
              "\n",
              "        const docLinkHtml = 'Like what you see? Visit the ' +\n",
              "          '<a target=\"_blank\" href=https://colab.research.google.com/notebooks/data_table.ipynb>data table notebook</a>'\n",
              "          + ' to learn more about interactive tables.';\n",
              "        element.innerHTML = '';\n",
              "        dataTable['output_type'] = 'display_data';\n",
              "        await google.colab.output.renderOutput(dataTable, element);\n",
              "        const docLink = document.createElement('div');\n",
              "        docLink.innerHTML = docLinkHtml;\n",
              "        element.appendChild(docLink);\n",
              "      }\n",
              "    </script>\n",
              "  </div>\n",
              "\n",
              "\n",
              "    <div id=\"df-6f424005-6cc7-4821-a800-78da76ccebbb\">\n",
              "      <button class=\"colab-df-quickchart\" onclick=\"quickchart('df-6f424005-6cc7-4821-a800-78da76ccebbb')\"\n",
              "                title=\"Suggest charts\"\n",
              "                style=\"display:none;\">\n",
              "\n",
              "<svg xmlns=\"http://www.w3.org/2000/svg\" height=\"24px\"viewBox=\"0 0 24 24\"\n",
              "     width=\"24px\">\n",
              "    <g>\n",
              "        <path d=\"M19 3H5c-1.1 0-2 .9-2 2v14c0 1.1.9 2 2 2h14c1.1 0 2-.9 2-2V5c0-1.1-.9-2-2-2zM9 17H7v-7h2v7zm4 0h-2V7h2v10zm4 0h-2v-4h2v4z\"/>\n",
              "    </g>\n",
              "</svg>\n",
              "      </button>\n",
              "\n",
              "<style>\n",
              "  .colab-df-quickchart {\n",
              "      --bg-color: #E8F0FE;\n",
              "      --fill-color: #1967D2;\n",
              "      --hover-bg-color: #E2EBFA;\n",
              "      --hover-fill-color: #174EA6;\n",
              "      --disabled-fill-color: #AAA;\n",
              "      --disabled-bg-color: #DDD;\n",
              "  }\n",
              "\n",
              "  [theme=dark] .colab-df-quickchart {\n",
              "      --bg-color: #3B4455;\n",
              "      --fill-color: #D2E3FC;\n",
              "      --hover-bg-color: #434B5C;\n",
              "      --hover-fill-color: #FFFFFF;\n",
              "      --disabled-bg-color: #3B4455;\n",
              "      --disabled-fill-color: #666;\n",
              "  }\n",
              "\n",
              "  .colab-df-quickchart {\n",
              "    background-color: var(--bg-color);\n",
              "    border: none;\n",
              "    border-radius: 50%;\n",
              "    cursor: pointer;\n",
              "    display: none;\n",
              "    fill: var(--fill-color);\n",
              "    height: 32px;\n",
              "    padding: 0;\n",
              "    width: 32px;\n",
              "  }\n",
              "\n",
              "  .colab-df-quickchart:hover {\n",
              "    background-color: var(--hover-bg-color);\n",
              "    box-shadow: 0 1px 2px rgba(60, 64, 67, 0.3), 0 1px 3px 1px rgba(60, 64, 67, 0.15);\n",
              "    fill: var(--button-hover-fill-color);\n",
              "  }\n",
              "\n",
              "  .colab-df-quickchart-complete:disabled,\n",
              "  .colab-df-quickchart-complete:disabled:hover {\n",
              "    background-color: var(--disabled-bg-color);\n",
              "    fill: var(--disabled-fill-color);\n",
              "    box-shadow: none;\n",
              "  }\n",
              "\n",
              "  .colab-df-spinner {\n",
              "    border: 2px solid var(--fill-color);\n",
              "    border-color: transparent;\n",
              "    border-bottom-color: var(--fill-color);\n",
              "    animation:\n",
              "      spin 1s steps(1) infinite;\n",
              "  }\n",
              "\n",
              "  @keyframes spin {\n",
              "    0% {\n",
              "      border-color: transparent;\n",
              "      border-bottom-color: var(--fill-color);\n",
              "      border-left-color: var(--fill-color);\n",
              "    }\n",
              "    20% {\n",
              "      border-color: transparent;\n",
              "      border-left-color: var(--fill-color);\n",
              "      border-top-color: var(--fill-color);\n",
              "    }\n",
              "    30% {\n",
              "      border-color: transparent;\n",
              "      border-left-color: var(--fill-color);\n",
              "      border-top-color: var(--fill-color);\n",
              "      border-right-color: var(--fill-color);\n",
              "    }\n",
              "    40% {\n",
              "      border-color: transparent;\n",
              "      border-right-color: var(--fill-color);\n",
              "      border-top-color: var(--fill-color);\n",
              "    }\n",
              "    60% {\n",
              "      border-color: transparent;\n",
              "      border-right-color: var(--fill-color);\n",
              "    }\n",
              "    80% {\n",
              "      border-color: transparent;\n",
              "      border-right-color: var(--fill-color);\n",
              "      border-bottom-color: var(--fill-color);\n",
              "    }\n",
              "    90% {\n",
              "      border-color: transparent;\n",
              "      border-bottom-color: var(--fill-color);\n",
              "    }\n",
              "  }\n",
              "</style>\n",
              "\n",
              "      <script>\n",
              "        async function quickchart(key) {\n",
              "          const quickchartButtonEl =\n",
              "            document.querySelector('#' + key + ' button');\n",
              "          quickchartButtonEl.disabled = true;  // To prevent multiple clicks.\n",
              "          quickchartButtonEl.classList.add('colab-df-spinner');\n",
              "          try {\n",
              "            const charts = await google.colab.kernel.invokeFunction(\n",
              "                'suggestCharts', [key], {});\n",
              "          } catch (error) {\n",
              "            console.error('Error during call to suggestCharts:', error);\n",
              "          }\n",
              "          quickchartButtonEl.classList.remove('colab-df-spinner');\n",
              "          quickchartButtonEl.classList.add('colab-df-quickchart-complete');\n",
              "        }\n",
              "        (() => {\n",
              "          let quickchartButtonEl =\n",
              "            document.querySelector('#df-6f424005-6cc7-4821-a800-78da76ccebbb button');\n",
              "          quickchartButtonEl.style.display =\n",
              "            google.colab.kernel.accessAllowed ? 'block' : 'none';\n",
              "        })();\n",
              "      </script>\n",
              "    </div>\n",
              "\n",
              "    </div>\n",
              "  </div>\n"
            ],
            "application/vnd.google.colaboratory.intrinsic+json": {
              "type": "dataframe",
              "variable_name": "df",
              "summary": "{\n  \"name\": \"df\",\n  \"rows\": 768,\n  \"fields\": [\n    {\n      \"column\": \"Pregnancies\",\n      \"properties\": {\n        \"dtype\": \"number\",\n        \"std\": 3,\n        \"min\": 0,\n        \"max\": 17,\n        \"num_unique_values\": 17,\n        \"samples\": [\n          6,\n          1,\n          3\n        ],\n        \"semantic_type\": \"\",\n        \"description\": \"\"\n      }\n    },\n    {\n      \"column\": \"Glucose\",\n      \"properties\": {\n        \"dtype\": \"number\",\n        \"std\": 31,\n        \"min\": 0,\n        \"max\": 199,\n        \"num_unique_values\": 136,\n        \"samples\": [\n          151,\n          101,\n          112\n        ],\n        \"semantic_type\": \"\",\n        \"description\": \"\"\n      }\n    },\n    {\n      \"column\": \"BloodPressure\",\n      \"properties\": {\n        \"dtype\": \"number\",\n        \"std\": 19,\n        \"min\": 0,\n        \"max\": 122,\n        \"num_unique_values\": 47,\n        \"samples\": [\n          86,\n          46,\n          85\n        ],\n        \"semantic_type\": \"\",\n        \"description\": \"\"\n      }\n    },\n    {\n      \"column\": \"SkinThickness\",\n      \"properties\": {\n        \"dtype\": \"number\",\n        \"std\": 15,\n        \"min\": 0,\n        \"max\": 99,\n        \"num_unique_values\": 51,\n        \"samples\": [\n          7,\n          12,\n          48\n        ],\n        \"semantic_type\": \"\",\n        \"description\": \"\"\n      }\n    },\n    {\n      \"column\": \"Insulin\",\n      \"properties\": {\n        \"dtype\": \"number\",\n        \"std\": 115,\n        \"min\": 0,\n        \"max\": 846,\n        \"num_unique_values\": 186,\n        \"samples\": [\n          52,\n          41,\n          183\n        ],\n        \"semantic_type\": \"\",\n        \"description\": \"\"\n      }\n    },\n    {\n      \"column\": \"BMI\",\n      \"properties\": {\n        \"dtype\": \"number\",\n        \"std\": 7.8841603203754405,\n        \"min\": 0.0,\n        \"max\": 67.1,\n        \"num_unique_values\": 248,\n        \"samples\": [\n          19.9,\n          31.0,\n          38.1\n        ],\n        \"semantic_type\": \"\",\n        \"description\": \"\"\n      }\n    },\n    {\n      \"column\": \"DiabetesPedigreeFunction\",\n      \"properties\": {\n        \"dtype\": \"number\",\n        \"std\": 0.33132859501277484,\n        \"min\": 0.078,\n        \"max\": 2.42,\n        \"num_unique_values\": 517,\n        \"samples\": [\n          1.731,\n          0.426,\n          0.138\n        ],\n        \"semantic_type\": \"\",\n        \"description\": \"\"\n      }\n    },\n    {\n      \"column\": \"Age\",\n      \"properties\": {\n        \"dtype\": \"number\",\n        \"std\": 11,\n        \"min\": 21,\n        \"max\": 81,\n        \"num_unique_values\": 52,\n        \"samples\": [\n          60,\n          47,\n          72\n        ],\n        \"semantic_type\": \"\",\n        \"description\": \"\"\n      }\n    },\n    {\n      \"column\": \"Outcome\",\n      \"properties\": {\n        \"dtype\": \"number\",\n        \"std\": 0,\n        \"min\": 0,\n        \"max\": 1,\n        \"num_unique_values\": 2,\n        \"samples\": [\n          0,\n          1\n        ],\n        \"semantic_type\": \"\",\n        \"description\": \"\"\n      }\n    }\n  ]\n}"
            }
          },
          "metadata": {},
          "execution_count": 84
        }
      ]
    },
    {
      "cell_type": "markdown",
      "source": [
        "READING DATASET"
      ],
      "metadata": {
        "id": "Edwzrc3FO4a2"
      }
    },
    {
      "cell_type": "code",
      "source": [
        "# copying the dataset for cleaning\n",
        "df_clean=df.copy()\n",
        "print(df_clean.columns.tolist)\n",
        "print(\"Dataset shape: \",df_clean.shape)"
      ],
      "metadata": {
        "colab": {
          "base_uri": "https://localhost:8080/"
        },
        "id": "-_PqGJ30N4Wa",
        "outputId": "6c75fd14-1f52-402c-9e3a-abe7517edb94"
      },
      "execution_count": 85,
      "outputs": [
        {
          "output_type": "stream",
          "name": "stdout",
          "text": [
            "<bound method IndexOpsMixin.tolist of Index(['Pregnancies', 'Glucose', 'BloodPressure', 'SkinThickness', 'Insulin',\n",
            "       'BMI', 'DiabetesPedigreeFunction', 'Age', 'Outcome'],\n",
            "      dtype='object')>\n",
            "Dataset shape:  (768, 9)\n"
          ]
        }
      ]
    },
    {
      "cell_type": "markdown",
      "source": [
        "INFO OF ROWS & COLUMNS"
      ],
      "metadata": {
        "id": "Oig7Um3qQHya"
      }
    },
    {
      "cell_type": "code",
      "source": [
        "print(\"Number of rows: \",df_clean.shape[0])\n",
        "print(\"Number of columns: \",df_clean.shape[1])"
      ],
      "metadata": {
        "colab": {
          "base_uri": "https://localhost:8080/"
        },
        "id": "eYN2IphaPaL4",
        "outputId": "85d6e738-d2a3-432b-d767-f4a2b3b2cf60"
      },
      "execution_count": 86,
      "outputs": [
        {
          "output_type": "stream",
          "name": "stdout",
          "text": [
            "Number of rows:  768\n",
            "Number of columns:  9\n"
          ]
        }
      ]
    },
    {
      "cell_type": "markdown",
      "source": [
        "DATASET INFO"
      ],
      "metadata": {
        "id": "FMucsOcMQRBP"
      }
    },
    {
      "cell_type": "code",
      "source": [
        "df_clean.info()"
      ],
      "metadata": {
        "colab": {
          "base_uri": "https://localhost:8080/"
        },
        "id": "wqZwLPFIQO1M",
        "outputId": "a02cfe2b-6ccc-41bd-d8d7-b7355184bf6f"
      },
      "execution_count": 87,
      "outputs": [
        {
          "output_type": "stream",
          "name": "stdout",
          "text": [
            "<class 'pandas.core.frame.DataFrame'>\n",
            "RangeIndex: 768 entries, 0 to 767\n",
            "Data columns (total 9 columns):\n",
            " #   Column                    Non-Null Count  Dtype  \n",
            "---  ------                    --------------  -----  \n",
            " 0   Pregnancies               768 non-null    int64  \n",
            " 1   Glucose                   768 non-null    int64  \n",
            " 2   BloodPressure             768 non-null    int64  \n",
            " 3   SkinThickness             768 non-null    int64  \n",
            " 4   Insulin                   768 non-null    int64  \n",
            " 5   BMI                       768 non-null    float64\n",
            " 6   DiabetesPedigreeFunction  768 non-null    float64\n",
            " 7   Age                       768 non-null    int64  \n",
            " 8   Outcome                   768 non-null    int64  \n",
            "dtypes: float64(2), int64(7)\n",
            "memory usage: 54.1 KB\n"
          ]
        }
      ]
    },
    {
      "cell_type": "markdown",
      "source": [
        "CHECKING DUPLICATE VALUES"
      ],
      "metadata": {
        "id": "bEvwpXViQaDG"
      }
    },
    {
      "cell_type": "code",
      "source": [
        "df_clean.duplicated().sum()"
      ],
      "metadata": {
        "colab": {
          "base_uri": "https://localhost:8080/"
        },
        "id": "PdIggSCHQW3N",
        "outputId": "d6a3d2fe-1291-4d0b-a869-90c124024142"
      },
      "execution_count": 88,
      "outputs": [
        {
          "output_type": "execute_result",
          "data": {
            "text/plain": [
              "np.int64(0)"
            ]
          },
          "metadata": {},
          "execution_count": 88
        }
      ]
    },
    {
      "cell_type": "markdown",
      "source": [
        "NULL VALUES"
      ],
      "metadata": {
        "id": "lzPC5e8cQ6h4"
      }
    },
    {
      "cell_type": "code",
      "source": [
        "df_clean.isnull().sum()"
      ],
      "metadata": {
        "colab": {
          "base_uri": "https://localhost:8080/",
          "height": 366
        },
        "id": "7PLeX6bPQgzj",
        "outputId": "57bd2614-4717-433d-d809-fa10d157ece6"
      },
      "execution_count": 89,
      "outputs": [
        {
          "output_type": "execute_result",
          "data": {
            "text/plain": [
              "Pregnancies                 0\n",
              "Glucose                     0\n",
              "BloodPressure               0\n",
              "SkinThickness               0\n",
              "Insulin                     0\n",
              "BMI                         0\n",
              "DiabetesPedigreeFunction    0\n",
              "Age                         0\n",
              "Outcome                     0\n",
              "dtype: int64"
            ],
            "text/html": [
              "<div>\n",
              "<style scoped>\n",
              "    .dataframe tbody tr th:only-of-type {\n",
              "        vertical-align: middle;\n",
              "    }\n",
              "\n",
              "    .dataframe tbody tr th {\n",
              "        vertical-align: top;\n",
              "    }\n",
              "\n",
              "    .dataframe thead th {\n",
              "        text-align: right;\n",
              "    }\n",
              "</style>\n",
              "<table border=\"1\" class=\"dataframe\">\n",
              "  <thead>\n",
              "    <tr style=\"text-align: right;\">\n",
              "      <th></th>\n",
              "      <th>0</th>\n",
              "    </tr>\n",
              "  </thead>\n",
              "  <tbody>\n",
              "    <tr>\n",
              "      <th>Pregnancies</th>\n",
              "      <td>0</td>\n",
              "    </tr>\n",
              "    <tr>\n",
              "      <th>Glucose</th>\n",
              "      <td>0</td>\n",
              "    </tr>\n",
              "    <tr>\n",
              "      <th>BloodPressure</th>\n",
              "      <td>0</td>\n",
              "    </tr>\n",
              "    <tr>\n",
              "      <th>SkinThickness</th>\n",
              "      <td>0</td>\n",
              "    </tr>\n",
              "    <tr>\n",
              "      <th>Insulin</th>\n",
              "      <td>0</td>\n",
              "    </tr>\n",
              "    <tr>\n",
              "      <th>BMI</th>\n",
              "      <td>0</td>\n",
              "    </tr>\n",
              "    <tr>\n",
              "      <th>DiabetesPedigreeFunction</th>\n",
              "      <td>0</td>\n",
              "    </tr>\n",
              "    <tr>\n",
              "      <th>Age</th>\n",
              "      <td>0</td>\n",
              "    </tr>\n",
              "    <tr>\n",
              "      <th>Outcome</th>\n",
              "      <td>0</td>\n",
              "    </tr>\n",
              "  </tbody>\n",
              "</table>\n",
              "</div><br><label><b>dtype:</b> int64</label>"
            ]
          },
          "metadata": {},
          "execution_count": 89
        }
      ]
    },
    {
      "cell_type": "markdown",
      "source": [
        "RENAMING THE COLUMNS"
      ],
      "metadata": {
        "id": "LutzK6ePT2-Z"
      }
    },
    {
      "cell_type": "code",
      "source": [
        "df_clean.rename(columns={'DiabetesPedigreeFunction':'DPF'},inplace=True)\n",
        "df_clean.head()"
      ],
      "metadata": {
        "colab": {
          "base_uri": "https://localhost:8080/",
          "height": 206
        },
        "id": "nDc144SBT1J-",
        "outputId": "e92b5e3f-fbe2-4c91-e71c-70cc88447f1e"
      },
      "execution_count": 90,
      "outputs": [
        {
          "output_type": "execute_result",
          "data": {
            "text/plain": [
              "   Pregnancies  Glucose  BloodPressure  SkinThickness  Insulin   BMI    DPF  \\\n",
              "0            6      148             72             35        0  33.6  0.627   \n",
              "1            1       85             66             29        0  26.6  0.351   \n",
              "2            8      183             64              0        0  23.3  0.672   \n",
              "3            1       89             66             23       94  28.1  0.167   \n",
              "4            0      137             40             35      168  43.1  2.288   \n",
              "\n",
              "   Age  Outcome  \n",
              "0   50        1  \n",
              "1   31        0  \n",
              "2   32        1  \n",
              "3   21        0  \n",
              "4   33        1  "
            ],
            "text/html": [
              "\n",
              "  <div id=\"df-3872202f-db01-4365-b72e-8c59eefb9f24\" class=\"colab-df-container\">\n",
              "    <div>\n",
              "<style scoped>\n",
              "    .dataframe tbody tr th:only-of-type {\n",
              "        vertical-align: middle;\n",
              "    }\n",
              "\n",
              "    .dataframe tbody tr th {\n",
              "        vertical-align: top;\n",
              "    }\n",
              "\n",
              "    .dataframe thead th {\n",
              "        text-align: right;\n",
              "    }\n",
              "</style>\n",
              "<table border=\"1\" class=\"dataframe\">\n",
              "  <thead>\n",
              "    <tr style=\"text-align: right;\">\n",
              "      <th></th>\n",
              "      <th>Pregnancies</th>\n",
              "      <th>Glucose</th>\n",
              "      <th>BloodPressure</th>\n",
              "      <th>SkinThickness</th>\n",
              "      <th>Insulin</th>\n",
              "      <th>BMI</th>\n",
              "      <th>DPF</th>\n",
              "      <th>Age</th>\n",
              "      <th>Outcome</th>\n",
              "    </tr>\n",
              "  </thead>\n",
              "  <tbody>\n",
              "    <tr>\n",
              "      <th>0</th>\n",
              "      <td>6</td>\n",
              "      <td>148</td>\n",
              "      <td>72</td>\n",
              "      <td>35</td>\n",
              "      <td>0</td>\n",
              "      <td>33.6</td>\n",
              "      <td>0.627</td>\n",
              "      <td>50</td>\n",
              "      <td>1</td>\n",
              "    </tr>\n",
              "    <tr>\n",
              "      <th>1</th>\n",
              "      <td>1</td>\n",
              "      <td>85</td>\n",
              "      <td>66</td>\n",
              "      <td>29</td>\n",
              "      <td>0</td>\n",
              "      <td>26.6</td>\n",
              "      <td>0.351</td>\n",
              "      <td>31</td>\n",
              "      <td>0</td>\n",
              "    </tr>\n",
              "    <tr>\n",
              "      <th>2</th>\n",
              "      <td>8</td>\n",
              "      <td>183</td>\n",
              "      <td>64</td>\n",
              "      <td>0</td>\n",
              "      <td>0</td>\n",
              "      <td>23.3</td>\n",
              "      <td>0.672</td>\n",
              "      <td>32</td>\n",
              "      <td>1</td>\n",
              "    </tr>\n",
              "    <tr>\n",
              "      <th>3</th>\n",
              "      <td>1</td>\n",
              "      <td>89</td>\n",
              "      <td>66</td>\n",
              "      <td>23</td>\n",
              "      <td>94</td>\n",
              "      <td>28.1</td>\n",
              "      <td>0.167</td>\n",
              "      <td>21</td>\n",
              "      <td>0</td>\n",
              "    </tr>\n",
              "    <tr>\n",
              "      <th>4</th>\n",
              "      <td>0</td>\n",
              "      <td>137</td>\n",
              "      <td>40</td>\n",
              "      <td>35</td>\n",
              "      <td>168</td>\n",
              "      <td>43.1</td>\n",
              "      <td>2.288</td>\n",
              "      <td>33</td>\n",
              "      <td>1</td>\n",
              "    </tr>\n",
              "  </tbody>\n",
              "</table>\n",
              "</div>\n",
              "    <div class=\"colab-df-buttons\">\n",
              "\n",
              "  <div class=\"colab-df-container\">\n",
              "    <button class=\"colab-df-convert\" onclick=\"convertToInteractive('df-3872202f-db01-4365-b72e-8c59eefb9f24')\"\n",
              "            title=\"Convert this dataframe to an interactive table.\"\n",
              "            style=\"display:none;\">\n",
              "\n",
              "  <svg xmlns=\"http://www.w3.org/2000/svg\" height=\"24px\" viewBox=\"0 -960 960 960\">\n",
              "    <path d=\"M120-120v-720h720v720H120Zm60-500h600v-160H180v160Zm220 220h160v-160H400v160Zm0 220h160v-160H400v160ZM180-400h160v-160H180v160Zm440 0h160v-160H620v160ZM180-180h160v-160H180v160Zm440 0h160v-160H620v160Z\"/>\n",
              "  </svg>\n",
              "    </button>\n",
              "\n",
              "  <style>\n",
              "    .colab-df-container {\n",
              "      display:flex;\n",
              "      gap: 12px;\n",
              "    }\n",
              "\n",
              "    .colab-df-convert {\n",
              "      background-color: #E8F0FE;\n",
              "      border: none;\n",
              "      border-radius: 50%;\n",
              "      cursor: pointer;\n",
              "      display: none;\n",
              "      fill: #1967D2;\n",
              "      height: 32px;\n",
              "      padding: 0 0 0 0;\n",
              "      width: 32px;\n",
              "    }\n",
              "\n",
              "    .colab-df-convert:hover {\n",
              "      background-color: #E2EBFA;\n",
              "      box-shadow: 0px 1px 2px rgba(60, 64, 67, 0.3), 0px 1px 3px 1px rgba(60, 64, 67, 0.15);\n",
              "      fill: #174EA6;\n",
              "    }\n",
              "\n",
              "    .colab-df-buttons div {\n",
              "      margin-bottom: 4px;\n",
              "    }\n",
              "\n",
              "    [theme=dark] .colab-df-convert {\n",
              "      background-color: #3B4455;\n",
              "      fill: #D2E3FC;\n",
              "    }\n",
              "\n",
              "    [theme=dark] .colab-df-convert:hover {\n",
              "      background-color: #434B5C;\n",
              "      box-shadow: 0px 1px 3px 1px rgba(0, 0, 0, 0.15);\n",
              "      filter: drop-shadow(0px 1px 2px rgba(0, 0, 0, 0.3));\n",
              "      fill: #FFFFFF;\n",
              "    }\n",
              "  </style>\n",
              "\n",
              "    <script>\n",
              "      const buttonEl =\n",
              "        document.querySelector('#df-3872202f-db01-4365-b72e-8c59eefb9f24 button.colab-df-convert');\n",
              "      buttonEl.style.display =\n",
              "        google.colab.kernel.accessAllowed ? 'block' : 'none';\n",
              "\n",
              "      async function convertToInteractive(key) {\n",
              "        const element = document.querySelector('#df-3872202f-db01-4365-b72e-8c59eefb9f24');\n",
              "        const dataTable =\n",
              "          await google.colab.kernel.invokeFunction('convertToInteractive',\n",
              "                                                    [key], {});\n",
              "        if (!dataTable) return;\n",
              "\n",
              "        const docLinkHtml = 'Like what you see? Visit the ' +\n",
              "          '<a target=\"_blank\" href=https://colab.research.google.com/notebooks/data_table.ipynb>data table notebook</a>'\n",
              "          + ' to learn more about interactive tables.';\n",
              "        element.innerHTML = '';\n",
              "        dataTable['output_type'] = 'display_data';\n",
              "        await google.colab.output.renderOutput(dataTable, element);\n",
              "        const docLink = document.createElement('div');\n",
              "        docLink.innerHTML = docLinkHtml;\n",
              "        element.appendChild(docLink);\n",
              "      }\n",
              "    </script>\n",
              "  </div>\n",
              "\n",
              "\n",
              "    <div id=\"df-7d2e0c71-a4a1-4341-bf1c-c1398b2b06e0\">\n",
              "      <button class=\"colab-df-quickchart\" onclick=\"quickchart('df-7d2e0c71-a4a1-4341-bf1c-c1398b2b06e0')\"\n",
              "                title=\"Suggest charts\"\n",
              "                style=\"display:none;\">\n",
              "\n",
              "<svg xmlns=\"http://www.w3.org/2000/svg\" height=\"24px\"viewBox=\"0 0 24 24\"\n",
              "     width=\"24px\">\n",
              "    <g>\n",
              "        <path d=\"M19 3H5c-1.1 0-2 .9-2 2v14c0 1.1.9 2 2 2h14c1.1 0 2-.9 2-2V5c0-1.1-.9-2-2-2zM9 17H7v-7h2v7zm4 0h-2V7h2v10zm4 0h-2v-4h2v4z\"/>\n",
              "    </g>\n",
              "</svg>\n",
              "      </button>\n",
              "\n",
              "<style>\n",
              "  .colab-df-quickchart {\n",
              "      --bg-color: #E8F0FE;\n",
              "      --fill-color: #1967D2;\n",
              "      --hover-bg-color: #E2EBFA;\n",
              "      --hover-fill-color: #174EA6;\n",
              "      --disabled-fill-color: #AAA;\n",
              "      --disabled-bg-color: #DDD;\n",
              "  }\n",
              "\n",
              "  [theme=dark] .colab-df-quickchart {\n",
              "      --bg-color: #3B4455;\n",
              "      --fill-color: #D2E3FC;\n",
              "      --hover-bg-color: #434B5C;\n",
              "      --hover-fill-color: #FFFFFF;\n",
              "      --disabled-bg-color: #3B4455;\n",
              "      --disabled-fill-color: #666;\n",
              "  }\n",
              "\n",
              "  .colab-df-quickchart {\n",
              "    background-color: var(--bg-color);\n",
              "    border: none;\n",
              "    border-radius: 50%;\n",
              "    cursor: pointer;\n",
              "    display: none;\n",
              "    fill: var(--fill-color);\n",
              "    height: 32px;\n",
              "    padding: 0;\n",
              "    width: 32px;\n",
              "  }\n",
              "\n",
              "  .colab-df-quickchart:hover {\n",
              "    background-color: var(--hover-bg-color);\n",
              "    box-shadow: 0 1px 2px rgba(60, 64, 67, 0.3), 0 1px 3px 1px rgba(60, 64, 67, 0.15);\n",
              "    fill: var(--button-hover-fill-color);\n",
              "  }\n",
              "\n",
              "  .colab-df-quickchart-complete:disabled,\n",
              "  .colab-df-quickchart-complete:disabled:hover {\n",
              "    background-color: var(--disabled-bg-color);\n",
              "    fill: var(--disabled-fill-color);\n",
              "    box-shadow: none;\n",
              "  }\n",
              "\n",
              "  .colab-df-spinner {\n",
              "    border: 2px solid var(--fill-color);\n",
              "    border-color: transparent;\n",
              "    border-bottom-color: var(--fill-color);\n",
              "    animation:\n",
              "      spin 1s steps(1) infinite;\n",
              "  }\n",
              "\n",
              "  @keyframes spin {\n",
              "    0% {\n",
              "      border-color: transparent;\n",
              "      border-bottom-color: var(--fill-color);\n",
              "      border-left-color: var(--fill-color);\n",
              "    }\n",
              "    20% {\n",
              "      border-color: transparent;\n",
              "      border-left-color: var(--fill-color);\n",
              "      border-top-color: var(--fill-color);\n",
              "    }\n",
              "    30% {\n",
              "      border-color: transparent;\n",
              "      border-left-color: var(--fill-color);\n",
              "      border-top-color: var(--fill-color);\n",
              "      border-right-color: var(--fill-color);\n",
              "    }\n",
              "    40% {\n",
              "      border-color: transparent;\n",
              "      border-right-color: var(--fill-color);\n",
              "      border-top-color: var(--fill-color);\n",
              "    }\n",
              "    60% {\n",
              "      border-color: transparent;\n",
              "      border-right-color: var(--fill-color);\n",
              "    }\n",
              "    80% {\n",
              "      border-color: transparent;\n",
              "      border-right-color: var(--fill-color);\n",
              "      border-bottom-color: var(--fill-color);\n",
              "    }\n",
              "    90% {\n",
              "      border-color: transparent;\n",
              "      border-bottom-color: var(--fill-color);\n",
              "    }\n",
              "  }\n",
              "</style>\n",
              "\n",
              "      <script>\n",
              "        async function quickchart(key) {\n",
              "          const quickchartButtonEl =\n",
              "            document.querySelector('#' + key + ' button');\n",
              "          quickchartButtonEl.disabled = true;  // To prevent multiple clicks.\n",
              "          quickchartButtonEl.classList.add('colab-df-spinner');\n",
              "          try {\n",
              "            const charts = await google.colab.kernel.invokeFunction(\n",
              "                'suggestCharts', [key], {});\n",
              "          } catch (error) {\n",
              "            console.error('Error during call to suggestCharts:', error);\n",
              "          }\n",
              "          quickchartButtonEl.classList.remove('colab-df-spinner');\n",
              "          quickchartButtonEl.classList.add('colab-df-quickchart-complete');\n",
              "        }\n",
              "        (() => {\n",
              "          let quickchartButtonEl =\n",
              "            document.querySelector('#df-7d2e0c71-a4a1-4341-bf1c-c1398b2b06e0 button');\n",
              "          quickchartButtonEl.style.display =\n",
              "            google.colab.kernel.accessAllowed ? 'block' : 'none';\n",
              "        })();\n",
              "      </script>\n",
              "    </div>\n",
              "\n",
              "    </div>\n",
              "  </div>\n"
            ],
            "application/vnd.google.colaboratory.intrinsic+json": {
              "type": "dataframe",
              "variable_name": "df_clean",
              "summary": "{\n  \"name\": \"df_clean\",\n  \"rows\": 768,\n  \"fields\": [\n    {\n      \"column\": \"Pregnancies\",\n      \"properties\": {\n        \"dtype\": \"number\",\n        \"std\": 3,\n        \"min\": 0,\n        \"max\": 17,\n        \"num_unique_values\": 17,\n        \"samples\": [\n          6,\n          1,\n          3\n        ],\n        \"semantic_type\": \"\",\n        \"description\": \"\"\n      }\n    },\n    {\n      \"column\": \"Glucose\",\n      \"properties\": {\n        \"dtype\": \"number\",\n        \"std\": 31,\n        \"min\": 0,\n        \"max\": 199,\n        \"num_unique_values\": 136,\n        \"samples\": [\n          151,\n          101,\n          112\n        ],\n        \"semantic_type\": \"\",\n        \"description\": \"\"\n      }\n    },\n    {\n      \"column\": \"BloodPressure\",\n      \"properties\": {\n        \"dtype\": \"number\",\n        \"std\": 19,\n        \"min\": 0,\n        \"max\": 122,\n        \"num_unique_values\": 47,\n        \"samples\": [\n          86,\n          46,\n          85\n        ],\n        \"semantic_type\": \"\",\n        \"description\": \"\"\n      }\n    },\n    {\n      \"column\": \"SkinThickness\",\n      \"properties\": {\n        \"dtype\": \"number\",\n        \"std\": 15,\n        \"min\": 0,\n        \"max\": 99,\n        \"num_unique_values\": 51,\n        \"samples\": [\n          7,\n          12,\n          48\n        ],\n        \"semantic_type\": \"\",\n        \"description\": \"\"\n      }\n    },\n    {\n      \"column\": \"Insulin\",\n      \"properties\": {\n        \"dtype\": \"number\",\n        \"std\": 115,\n        \"min\": 0,\n        \"max\": 846,\n        \"num_unique_values\": 186,\n        \"samples\": [\n          52,\n          41,\n          183\n        ],\n        \"semantic_type\": \"\",\n        \"description\": \"\"\n      }\n    },\n    {\n      \"column\": \"BMI\",\n      \"properties\": {\n        \"dtype\": \"number\",\n        \"std\": 7.8841603203754405,\n        \"min\": 0.0,\n        \"max\": 67.1,\n        \"num_unique_values\": 248,\n        \"samples\": [\n          19.9,\n          31.0,\n          38.1\n        ],\n        \"semantic_type\": \"\",\n        \"description\": \"\"\n      }\n    },\n    {\n      \"column\": \"DPF\",\n      \"properties\": {\n        \"dtype\": \"number\",\n        \"std\": 0.33132859501277484,\n        \"min\": 0.078,\n        \"max\": 2.42,\n        \"num_unique_values\": 517,\n        \"samples\": [\n          1.731,\n          0.426,\n          0.138\n        ],\n        \"semantic_type\": \"\",\n        \"description\": \"\"\n      }\n    },\n    {\n      \"column\": \"Age\",\n      \"properties\": {\n        \"dtype\": \"number\",\n        \"std\": 11,\n        \"min\": 21,\n        \"max\": 81,\n        \"num_unique_values\": 52,\n        \"samples\": [\n          60,\n          47,\n          72\n        ],\n        \"semantic_type\": \"\",\n        \"description\": \"\"\n      }\n    },\n    {\n      \"column\": \"Outcome\",\n      \"properties\": {\n        \"dtype\": \"number\",\n        \"std\": 0,\n        \"min\": 0,\n        \"max\": 1,\n        \"num_unique_values\": 2,\n        \"samples\": [\n          0,\n          1\n        ],\n        \"semantic_type\": \"\",\n        \"description\": \"\"\n      }\n    }\n  ]\n}"
            }
          },
          "metadata": {},
          "execution_count": 90
        }
      ]
    },
    {
      "cell_type": "markdown",
      "source": [
        "VISUALISING MISSING VALUES"
      ],
      "metadata": {
        "id": "pQLwJnpbREoo"
      }
    },
    {
      "cell_type": "code",
      "source": [
        "#visualising heatmap of missing values\n",
        "plt.figure(figsize=(10,6))\n",
        "ax=sns.heatmap(df_clean.isnull(),yticklabels=False,cbar=False,cmap='viridis')\n",
        "ax.tick_params(axis='x', rotation=45)\n",
        "plt.title('Heatmap of Missing Values')\n",
        "plt.show()"
      ],
      "metadata": {
        "colab": {
          "base_uri": "https://localhost:8080/",
          "height": 610
        },
        "id": "skPYAxtXQ-08",
        "outputId": "5dcdea87-f2f2-4d2e-e7a6-341f13697424"
      },
      "execution_count": 91,
      "outputs": [
        {
          "output_type": "display_data",
          "data": {
            "text/plain": [
              "<Figure size 1000x600 with 1 Axes>"
            ],
            "image/png": "[encoded data removed]"
          },
          "metadata": {}
        }
      ]
    },
    {
      "cell_type": "markdown",
      "source": [
        "UNDERSTANDING DATASET VARIABLES"
      ],
      "metadata": {
        "id": "Kbkfn1WySxGR"
      }
    },
    {
      "cell_type": "code",
      "source": [
        "print(\"Columns present in dataset\")\n",
        "print(df_clean.columns)\n",
        "print(\"\\n Data types of columns\")\n",
        "print(df_clean.dtypes)"
      ],
      "metadata": {
        "colab": {
          "base_uri": "https://localhost:8080/"
        },
        "id": "RGY_jKkrRM2G",
        "outputId": "2f6038e6-71ae-43d7-a807-af17cd986566"
      },
      "execution_count": 92,
      "outputs": [
        {
          "output_type": "stream",
          "name": "stdout",
          "text": [
            "Columns present in dataset\n",
            "Index(['Pregnancies', 'Glucose', 'BloodPressure', 'SkinThickness', 'Insulin',\n",
            "       'BMI', 'DPF', 'Age', 'Outcome'],\n",
            "      dtype='object')\n",
            "\n",
            " Data types of columns\n",
            "Pregnancies        int64\n",
            "Glucose            int64\n",
            "BloodPressure      int64\n",
            "SkinThickness      int64\n",
            "Insulin            int64\n",
            "BMI              float64\n",
            "DPF              float64\n",
            "Age                int64\n",
            "Outcome            int64\n",
            "dtype: object\n"
          ]
        }
      ]
    },
    {
      "cell_type": "markdown",
      "source": [
        "STATISTIC MEASUREMENTS OF DATASET"
      ],
      "metadata": {
        "id": "2anTw-y1TQ6j"
      }
    },
    {
      "cell_type": "code",
      "source": [
        "print(\"Statistical measures of dataset\")\n",
        "df_clean.describe()"
      ],
      "metadata": {
        "colab": {
          "base_uri": "https://localhost:8080/",
          "height": 317
        },
        "id": "_39NARkwTNYF",
        "outputId": "ceb73b0d-a550-4aa3-8e7d-020cb7116288"
      },
      "execution_count": 93,
      "outputs": [
        {
          "output_type": "stream",
          "name": "stdout",
          "text": [
            "Statistical measures of dataset\n"
          ]
        },
        {
          "output_type": "execute_result",
          "data": {
            "text/plain": [
              "       Pregnancies     Glucose  BloodPressure  SkinThickness     Insulin  \\\n",
              "count   768.000000  768.000000     768.000000     768.000000  768.000000   \n",
              "mean      3.845052  120.894531      69.105469      20.536458   79.799479   \n",
              "std       3.369578   31.972618      19.355807      15.952218  115.244002   \n",
              "min       0.000000    0.000000       0.000000       0.000000    0.000000   \n",
              "25%       1.000000   99.000000      62.000000       0.000000    0.000000   \n",
              "50%       3.000000  117.000000      72.000000      23.000000   30.500000   \n",
              "75%       6.000000  140.250000      80.000000      32.000000  127.250000   \n",
              "max      17.000000  199.000000     122.000000      99.000000  846.000000   \n",
              "\n",
              "              BMI         DPF         Age     Outcome  \n",
              "count  768.000000  768.000000  768.000000  768.000000  \n",
              "mean    31.992578    0.471876   33.240885    0.348958  \n",
              "std      7.884160    0.331329   11.760232    0.476951  \n",
              "min      0.000000    0.078000   21.000000    0.000000  \n",
              "25%     27.300000    0.243750   24.000000    0.000000  \n",
              "50%     32.000000    0.372500   29.000000    0.000000  \n",
              "75%     36.600000    0.626250   41.000000    1.000000  \n",
              "max     67.100000    2.420000   81.000000    1.000000  "
            ],
            "text/html": [
              "\n",
              "  <div id=\"df-818c7045-f767-47fe-855f-ba80780ca1c5\" class=\"colab-df-container\">\n",
              "    <div>\n",
              "<style scoped>\n",
              "    .dataframe tbody tr th:only-of-type {\n",
              "        vertical-align: middle;\n",
              "    }\n",
              "\n",
              "    .dataframe tbody tr th {\n",
              "        vertical-align: top;\n",
              "    }\n",
              "\n",
              "    .dataframe thead th {\n",
              "        text-align: right;\n",
              "    }\n",
              "</style>\n",
              "<table border=\"1\" class=\"dataframe\">\n",
              "  <thead>\n",
              "    <tr style=\"text-align: right;\">\n",
              "      <th></th>\n",
              "      <th>Pregnancies</th>\n",
              "      <th>Glucose</th>\n",
              "      <th>BloodPressure</th>\n",
              "      <th>SkinThickness</th>\n",
              "      <th>Insulin</th>\n",
              "      <th>BMI</th>\n",
              "      <th>DPF</th>\n",
              "      <th>Age</th>\n",
              "      <th>Outcome</th>\n",
              "    </tr>\n",
              "  </thead>\n",
              "  <tbody>\n",
              "    <tr>\n",
              "      <th>count</th>\n",
              "      <td>768.000000</td>\n",
              "      <td>768.000000</td>\n",
              "      <td>768.000000</td>\n",
              "      <td>768.000000</td>\n",
              "      <td>768.000000</td>\n",
              "      <td>768.000000</td>\n",
              "      <td>768.000000</td>\n",
              "      <td>768.000000</td>\n",
              "      <td>768.000000</td>\n",
              "    </tr>\n",
              "    <tr>\n",
              "      <th>mean</th>\n",
              "      <td>3.845052</td>\n",
              "      <td>120.894531</td>\n",
              "      <td>69.105469</td>\n",
              "      <td>20.536458</td>\n",
              "      <td>79.799479</td>\n",
              "      <td>31.992578</td>\n",
              "      <td>0.471876</td>\n",
              "      <td>33.240885</td>\n",
              "      <td>0.348958</td>\n",
              "    </tr>\n",
              "    <tr>\n",
              "      <th>std</th>\n",
              "      <td>3.369578</td>\n",
              "      <td>31.972618</td>\n",
              "      <td>19.355807</td>\n",
              "      <td>15.952218</td>\n",
              "      <td>115.244002</td>\n",
              "      <td>7.884160</td>\n",
              "      <td>0.331329</td>\n",
              "      <td>11.760232</td>\n",
              "      <td>0.476951</td>\n",
              "    </tr>\n",
              "    <tr>\n",
              "      <th>min</th>\n",
              "      <td>0.000000</td>\n",
              "      <td>0.000000</td>\n",
              "      <td>0.000000</td>\n",
              "      <td>0.000000</td>\n",
              "      <td>0.000000</td>\n",
              "      <td>0.000000</td>\n",
              "      <td>0.078000</td>\n",
              "      <td>21.000000</td>\n",
              "      <td>0.000000</td>\n",
              "    </tr>\n",
              "    <tr>\n",
              "      <th>25%</th>\n",
              "      <td>1.000000</td>\n",
              "      <td>99.000000</td>\n",
              "      <td>62.000000</td>\n",
              "      <td>0.000000</td>\n",
              "      <td>0.000000</td>\n",
              "      <td>27.300000</td>\n",
              "      <td>0.243750</td>\n",
              "      <td>24.000000</td>\n",
              "      <td>0.000000</td>\n",
              "    </tr>\n",
              "    <tr>\n",
              "      <th>50%</th>\n",
              "      <td>3.000000</td>\n",
              "      <td>117.000000</td>\n",
              "      <td>72.000000</td>\n",
              "      <td>23.000000</td>\n",
              "      <td>30.500000</td>\n",
              "      <td>32.000000</td>\n",
              "      <td>0.372500</td>\n",
              "      <td>29.000000</td>\n",
              "      <td>0.000000</td>\n",
              "    </tr>\n",
              "    <tr>\n",
              "      <th>75%</th>\n",
              "      <td>6.000000</td>\n",
              "      <td>140.250000</td>\n",
              "      <td>80.000000</td>\n",
              "      <td>32.000000</td>\n",
              "      <td>127.250000</td>\n",
              "      <td>36.600000</td>\n",
              "      <td>0.626250</td>\n",
              "      <td>41.000000</td>\n",
              "      <td>1.000000</td>\n",
              "    </tr>\n",
              "    <tr>\n",
              "      <th>max</th>\n",
              "      <td>17.000000</td>\n",
              "      <td>199.000000</td>\n",
              "      <td>122.000000</td>\n",
              "      <td>99.000000</td>\n",
              "      <td>846.000000</td>\n",
              "      <td>67.100000</td>\n",
              "      <td>2.420000</td>\n",
              "      <td>81.000000</td>\n",
              "      <td>1.000000</td>\n",
              "    </tr>\n",
              "  </tbody>\n",
              "</table>\n",
              "</div>\n",
              "    <div class=\"colab-df-buttons\">\n",
              "\n",
              "  <div class=\"colab-df-container\">\n",
              "    <button class=\"colab-df-convert\" onclick=\"convertToInteractive('df-818c7045-f767-47fe-855f-ba80780ca1c5')\"\n",
              "            title=\"Convert this dataframe to an interactive table.\"\n",
              "            style=\"display:none;\">\n",
              "\n",
              "  <svg xmlns=\"http://www.w3.org/2000/svg\" height=\"24px\" viewBox=\"0 -960 960 960\">\n",
              "    <path d=\"M120-120v-720h720v720H120Zm60-500h600v-160H180v160Zm220 220h160v-160H400v160Zm0 220h160v-160H400v160ZM180-400h160v-160H180v160Zm440 0h160v-160H620v160ZM180-180h160v-160H180v160Zm440 0h160v-160H620v160Z\"/>\n",
              "  </svg>\n",
              "    </button>\n",
              "\n",
              "  <style>\n",
              "    .colab-df-container {\n",
              "      display:flex;\n",
              "      gap: 12px;\n",
              "    }\n",
              "\n",
              "    .colab-df-convert {\n",
              "      background-color: #E8F0FE;\n",
              "      border: none;\n",
              "      border-radius: 50%;\n",
              "      cursor: pointer;\n",
              "      display: none;\n",
              "      fill: #1967D2;\n",
              "      height: 32px;\n",
              "      padding: 0 0 0 0;\n",
              "      width: 32px;\n",
              "    }\n",
              "\n",
              "    .colab-df-convert:hover {\n",
              "      background-color: #E2EBFA;\n",
              "      box-shadow: 0px 1px 2px rgba(60, 64, 67, 0.3), 0px 1px 3px 1px rgba(60, 64, 67, 0.15);\n",
              "      fill: #174EA6;\n",
              "    }\n",
              "\n",
              "    .colab-df-buttons div {\n",
              "      margin-bottom: 4px;\n",
              "    }\n",
              "\n",
              "    [theme=dark] .colab-df-convert {\n",
              "      background-color: #3B4455;\n",
              "      fill: #D2E3FC;\n",
              "    }\n",
              "\n",
              "    [theme=dark] .colab-df-convert:hover {\n",
              "      background-color: #434B5C;\n",
              "      box-shadow: 0px 1px 3px 1px rgba(0, 0, 0, 0.15);\n",
              "      filter: drop-shadow(0px 1px 2px rgba(0, 0, 0, 0.3));\n",
              "      fill: #FFFFFF;\n",
              "    }\n",
              "  </style>\n",
              "\n",
              "    <script>\n",
              "      const buttonEl =\n",
              "        document.querySelector('#df-818c7045-f767-47fe-855f-ba80780ca1c5 button.colab-df-convert');\n",
              "      buttonEl.style.display =\n",
              "        google.colab.kernel.accessAllowed ? 'block' : 'none';\n",
              "\n",
              "      async function convertToInteractive(key) {\n",
              "        const element = document.querySelector('#df-818c7045-f767-47fe-855f-ba80780ca1c5');\n",
              "        const dataTable =\n",
              "          await google.colab.kernel.invokeFunction('convertToInteractive',\n",
              "                                                    [key], {});\n",
              "        if (!dataTable) return;\n",
              "\n",
              "        const docLinkHtml = 'Like what you see? Visit the ' +\n",
              "          '<a target=\"_blank\" href=https://colab.research.google.com/notebooks/data_table.ipynb>data table notebook</a>'\n",
              "          + ' to learn more about interactive tables.';\n",
              "        element.innerHTML = '';\n",
              "        dataTable['output_type'] = 'display_data';\n",
              "        await google.colab.output.renderOutput(dataTable, element);\n",
              "        const docLink = document.createElement('div');\n",
              "        docLink.innerHTML = docLinkHtml;\n",
              "        element.appendChild(docLink);\n",
              "      }\n",
              "    </script>\n",
              "  </div>\n",
              "\n",
              "\n",
              "    <div id=\"df-14ae1e78-ab44-4088-87ef-9ed6356d2b85\">\n",
              "      <button class=\"colab-df-quickchart\" onclick=\"quickchart('df-14ae1e78-ab44-4088-87ef-9ed6356d2b85')\"\n",
              "                title=\"Suggest charts\"\n",
              "                style=\"display:none;\">\n",
              "\n",
              "<svg xmlns=\"http://www.w3.org/2000/svg\" height=\"24px\"viewBox=\"0 0 24 24\"\n",
              "     width=\"24px\">\n",
              "    <g>\n",
              "        <path d=\"M19 3H5c-1.1 0-2 .9-2 2v14c0 1.1.9 2 2 2h14c1.1 0 2-.9 2-2V5c0-1.1-.9-2-2-2zM9 17H7v-7h2v7zm4 0h-2V7h2v10zm4 0h-2v-4h2v4z\"/>\n",
              "    </g>\n",
              "</svg>\n",
              "      </button>\n",
              "\n",
              "<style>\n",
              "  .colab-df-quickchart {\n",
              "      --bg-color: #E8F0FE;\n",
              "      --fill-color: #1967D2;\n",
              "      --hover-bg-color: #E2EBFA;\n",
              "      --hover-fill-color: #174EA6;\n",
              "      --disabled-fill-color: #AAA;\n",
              "      --disabled-bg-color: #DDD;\n",
              "  }\n",
              "\n",
              "  [theme=dark] .colab-df-quickchart {\n",
              "      --bg-color: #3B4455;\n",
              "      --fill-color: #D2E3FC;\n",
              "      --hover-bg-color: #434B5C;\n",
              "      --hover-fill-color: #FFFFFF;\n",
              "      --disabled-bg-color: #3B4455;\n",
              "      --disabled-fill-color: #666;\n",
              "  }\n",
              "\n",
              "  .colab-df-quickchart {\n",
              "    background-color: var(--bg-color);\n",
              "    border: none;\n",
              "    border-radius: 50%;\n",
              "    cursor: pointer;\n",
              "    display: none;\n",
              "    fill: var(--fill-color);\n",
              "    height: 32px;\n",
              "    padding: 0;\n",
              "    width: 32px;\n",
              "  }\n",
              "\n",
              "  .colab-df-quickchart:hover {\n",
              "    background-color: var(--hover-bg-color);\n",
              "    box-shadow: 0 1px 2px rgba(60, 64, 67, 0.3), 0 1px 3px 1px rgba(60, 64, 67, 0.15);\n",
              "    fill: var(--button-hover-fill-color);\n",
              "  }\n",
              "\n",
              "  .colab-df-quickchart-complete:disabled,\n",
              "  .colab-df-quickchart-complete:disabled:hover {\n",
              "    background-color: var(--disabled-bg-color);\n",
              "    fill: var(--disabled-fill-color);\n",
              "    box-shadow: none;\n",
              "  }\n",
              "\n",
              "  .colab-df-spinner {\n",
              "    border: 2px solid var(--fill-color);\n",
              "    border-color: transparent;\n",
              "    border-bottom-color: var(--fill-color);\n",
              "    animation:\n",
              "      spin 1s steps(1) infinite;\n",
              "  }\n",
              "\n",
              "  @keyframes spin {\n",
              "    0% {\n",
              "      border-color: transparent;\n",
              "      border-bottom-color: var(--fill-color);\n",
              "      border-left-color: var(--fill-color);\n",
              "    }\n",
              "    20% {\n",
              "      border-color: transparent;\n",
              "      border-left-color: var(--fill-color);\n",
              "      border-top-color: var(--fill-color);\n",
              "    }\n",
              "    30% {\n",
              "      border-color: transparent;\n",
              "      border-left-color: var(--fill-color);\n",
              "      border-top-color: var(--fill-color);\n",
              "      border-right-color: var(--fill-color);\n",
              "    }\n",
              "    40% {\n",
              "      border-color: transparent;\n",
              "      border-right-color: var(--fill-color);\n",
              "      border-top-color: var(--fill-color);\n",
              "    }\n",
              "    60% {\n",
              "      border-color: transparent;\n",
              "      border-right-color: var(--fill-color);\n",
              "    }\n",
              "    80% {\n",
              "      border-color: transparent;\n",
              "      border-right-color: var(--fill-color);\n",
              "      border-bottom-color: var(--fill-color);\n",
              "    }\n",
              "    90% {\n",
              "      border-color: transparent;\n",
              "      border-bottom-color: var(--fill-color);\n",
              "    }\n",
              "  }\n",
              "</style>\n",
              "\n",
              "      <script>\n",
              "        async function quickchart(key) {\n",
              "          const quickchartButtonEl =\n",
              "            document.querySelector('#' + key + ' button');\n",
              "          quickchartButtonEl.disabled = true;  // To prevent multiple clicks.\n",
              "          quickchartButtonEl.classList.add('colab-df-spinner');\n",
              "          try {\n",
              "            const charts = await google.colab.kernel.invokeFunction(\n",
              "                'suggestCharts', [key], {});\n",
              "          } catch (error) {\n",
              "            console.error('Error during call to suggestCharts:', error);\n",
              "          }\n",
              "          quickchartButtonEl.classList.remove('colab-df-spinner');\n",
              "          quickchartButtonEl.classList.add('colab-df-quickchart-complete');\n",
              "        }\n",
              "        (() => {\n",
              "          let quickchartButtonEl =\n",
              "            document.querySelector('#df-14ae1e78-ab44-4088-87ef-9ed6356d2b85 button');\n",
              "          quickchartButtonEl.style.display =\n",
              "            google.colab.kernel.accessAllowed ? 'block' : 'none';\n",
              "        })();\n",
              "      </script>\n",
              "    </div>\n",
              "\n",
              "    </div>\n",
              "  </div>\n"
            ],
            "application/vnd.google.colaboratory.intrinsic+json": {
              "type": "dataframe",
              "summary": "{\n  \"name\": \"df_clean\",\n  \"rows\": 8,\n  \"fields\": [\n    {\n      \"column\": \"Pregnancies\",\n      \"properties\": {\n        \"dtype\": \"number\",\n        \"std\": 269.85223453356366,\n        \"min\": 0.0,\n        \"max\": 768.0,\n        \"num_unique_values\": 8,\n        \"samples\": [\n          3.8450520833333335,\n          3.0,\n          768.0\n        ],\n        \"semantic_type\": \"\",\n        \"description\": \"\"\n      }\n    },\n    {\n      \"column\": \"Glucose\",\n      \"properties\": {\n        \"dtype\": \"number\",\n        \"std\": 243.73802348295857,\n        \"min\": 0.0,\n        \"max\": 768.0,\n        \"num_unique_values\": 8,\n        \"samples\": [\n          120.89453125,\n          117.0,\n          768.0\n        ],\n        \"semantic_type\": \"\",\n        \"description\": \"\"\n      }\n    },\n    {\n      \"column\": \"BloodPressure\",\n      \"properties\": {\n        \"dtype\": \"number\",\n        \"std\": 252.85250535810619,\n        \"min\": 0.0,\n        \"max\": 768.0,\n        \"num_unique_values\": 8,\n        \"samples\": [\n          69.10546875,\n          72.0,\n          768.0\n        ],\n        \"semantic_type\": \"\",\n        \"description\": \"\"\n      }\n    },\n    {\n      \"column\": \"SkinThickness\",\n      \"properties\": {\n        \"dtype\": \"number\",\n        \"std\": 263.7684730531098,\n        \"min\": 0.0,\n        \"max\": 768.0,\n        \"num_unique_values\": 7,\n        \"samples\": [\n          768.0,\n          20.536458333333332,\n          32.0\n        ],\n        \"semantic_type\": \"\",\n        \"description\": \"\"\n      }\n    },\n    {\n      \"column\": \"Insulin\",\n      \"properties\": {\n        \"dtype\": \"number\",\n        \"std\": 350.26059167945886,\n        \"min\": 0.0,\n        \"max\": 846.0,\n        \"num_unique_values\": 7,\n        \"samples\": [\n          768.0,\n          79.79947916666667,\n          127.25\n        ],\n        \"semantic_type\": \"\",\n        \"description\": \"\"\n      }\n    },\n    {\n      \"column\": \"BMI\",\n      \"properties\": {\n        \"dtype\": \"number\",\n        \"std\": 262.05117817552093,\n        \"min\": 0.0,\n        \"max\": 768.0,\n        \"num_unique_values\": 8,\n        \"samples\": [\n          31.992578124999998,\n          32.0,\n          768.0\n        ],\n        \"semantic_type\": \"\",\n        \"description\": \"\"\n      }\n    },\n    {\n      \"column\": \"DPF\",\n      \"properties\": {\n        \"dtype\": \"number\",\n        \"std\": 271.3005221658502,\n        \"min\": 0.078,\n        \"max\": 768.0,\n        \"num_unique_values\": 8,\n        \"samples\": [\n          0.47187630208333325,\n          0.3725,\n          768.0\n        ],\n        \"semantic_type\": \"\",\n        \"description\": \"\"\n      }\n    },\n    {\n      \"column\": \"Age\",\n      \"properties\": {\n        \"dtype\": \"number\",\n        \"std\": 260.1941178528413,\n        \"min\": 11.76023154067868,\n        \"max\": 768.0,\n        \"num_unique_values\": 8,\n        \"samples\": [\n          33.240885416666664,\n          29.0,\n          768.0\n        ],\n        \"semantic_type\": \"\",\n        \"description\": \"\"\n      }\n    },\n    {\n      \"column\": \"Outcome\",\n      \"properties\": {\n        \"dtype\": \"number\",\n        \"std\": 271.3865920388932,\n        \"min\": 0.0,\n        \"max\": 768.0,\n        \"num_unique_values\": 5,\n        \"samples\": [\n          0.3489583333333333,\n          1.0,\n          0.4769513772427971\n        ],\n        \"semantic_type\": \"\",\n        \"description\": \"\"\n      }\n    }\n  ]\n}"
            }
          },
          "metadata": {},
          "execution_count": 93
        }
      ]
    },
    {
      "cell_type": "markdown",
      "source": [
        "CHECKING UNIQUE VALUES IN COLUMNS OF DATASET"
      ],
      "metadata": {
        "id": "Nr7NEe27TtJg"
      }
    },
    {
      "cell_type": "code",
      "source": [
        "print(\"Unique values in dataset\")\n",
        "df_clean.nunique()"
      ],
      "metadata": {
        "colab": {
          "base_uri": "https://localhost:8080/",
          "height": 383
        },
        "id": "OQ4B3Gi3TkzK",
        "outputId": "5dcc373f-4a2f-463d-9b99-d47b37dfa2fc"
      },
      "execution_count": 94,
      "outputs": [
        {
          "output_type": "stream",
          "name": "stdout",
          "text": [
            "Unique values in dataset\n"
          ]
        },
        {
          "output_type": "execute_result",
          "data": {
            "text/plain": [
              "Pregnancies       17\n",
              "Glucose          136\n",
              "BloodPressure     47\n",
              "SkinThickness     51\n",
              "Insulin          186\n",
              "BMI              248\n",
              "DPF              517\n",
              "Age               52\n",
              "Outcome            2\n",
              "dtype: int64"
            ],
            "text/html": [
              "<div>\n",
              "<style scoped>\n",
              "    .dataframe tbody tr th:only-of-type {\n",
              "        vertical-align: middle;\n",
              "    }\n",
              "\n",
              "    .dataframe tbody tr th {\n",
              "        vertical-align: top;\n",
              "    }\n",
              "\n",
              "    .dataframe thead th {\n",
              "        text-align: right;\n",
              "    }\n",
              "</style>\n",
              "<table border=\"1\" class=\"dataframe\">\n",
              "  <thead>\n",
              "    <tr style=\"text-align: right;\">\n",
              "      <th></th>\n",
              "      <th>0</th>\n",
              "    </tr>\n",
              "  </thead>\n",
              "  <tbody>\n",
              "    <tr>\n",
              "      <th>Pregnancies</th>\n",
              "      <td>17</td>\n",
              "    </tr>\n",
              "    <tr>\n",
              "      <th>Glucose</th>\n",
              "      <td>136</td>\n",
              "    </tr>\n",
              "    <tr>\n",
              "      <th>BloodPressure</th>\n",
              "      <td>47</td>\n",
              "    </tr>\n",
              "    <tr>\n",
              "      <th>SkinThickness</th>\n",
              "      <td>51</td>\n",
              "    </tr>\n",
              "    <tr>\n",
              "      <th>Insulin</th>\n",
              "      <td>186</td>\n",
              "    </tr>\n",
              "    <tr>\n",
              "      <th>BMI</th>\n",
              "      <td>248</td>\n",
              "    </tr>\n",
              "    <tr>\n",
              "      <th>DPF</th>\n",
              "      <td>517</td>\n",
              "    </tr>\n",
              "    <tr>\n",
              "      <th>Age</th>\n",
              "      <td>52</td>\n",
              "    </tr>\n",
              "    <tr>\n",
              "      <th>Outcome</th>\n",
              "      <td>2</td>\n",
              "    </tr>\n",
              "  </tbody>\n",
              "</table>\n",
              "</div><br><label><b>dtype:</b> int64</label>"
            ]
          },
          "metadata": {},
          "execution_count": 94
        }
      ]
    },
    {
      "cell_type": "markdown",
      "source": [
        "DATA WRAGLING"
      ],
      "metadata": {
        "id": "AlD3PQHKUs0z"
      }
    },
    {
      "cell_type": "markdown",
      "source": [
        "REMOVING THE DUPLICATE VALUES"
      ],
      "metadata": {
        "id": "3JSUoum2Uvhw"
      }
    },
    {
      "cell_type": "code",
      "source": [
        "print(\"checking for duplicated rows\\n\")\n",
        "print(\"no.of exact duplicated rows : \",df.duplicated().sum())\n",
        "\n",
        "df=df.drop_duplicates()\n",
        "print(\"shape of dataset after removing duplicates:\",df.shape)"
      ],
      "metadata": {
        "colab": {
          "base_uri": "https://localhost:8080/"
        },
        "id": "BzQu-aKbUUQZ",
        "outputId": "67459655-d28f-4066-d6a6-494e66230351"
      },
      "execution_count": 95,
      "outputs": [
        {
          "output_type": "stream",
          "name": "stdout",
          "text": [
            "checking for duplicated rows\n",
            "\n",
            "no.of exact duplicated rows :  0\n",
            "shape of dataset after removing duplicates: (768, 9)\n"
          ]
        }
      ]
    },
    {
      "cell_type": "markdown",
      "source": [
        "HANDLING MISSING VALUES"
      ],
      "metadata": {
        "id": "oJqvQQ2uU6TE"
      }
    },
    {
      "cell_type": "code",
      "source": [
        "print(\"Handling missing values..\\n\")\n",
        "\n",
        "numeric_cols=df_clean.select_dtypes(include=np.number).columns\n",
        "for col in numeric_cols:\n",
        "    if df_clean[col].isnull().sum() >0:\n",
        "        median_value=df_clean[col].median()\n",
        "        df_clean[col]=df_clean[col].fillna(median_value)\n",
        "        null_count=df_clean[col].isnull().sum()\n",
        "        print(f\"Filled {null_count} missing values in {col} with {median_value}\")\n",
        "\n",
        "#for categorical columns\n",
        "categorical_col=df_clean.select_dtypes(include='object').columns\n",
        "for col in categorical_col:\n",
        "    if df_clean[col].isnull().sum() >0:\n",
        "        mode_val=df_clean[col].mode()[0]\n",
        "        null_count=df_clean[col].isnull().sum()\n",
        "        df_clean[col]=df_clean[col].fillna(mode_val)\n",
        "        print(f\"Filled {null_count} rows of {col} with {mode_val}\")\n",
        "print(\"Missing values left :\",df_clean.isnull().sum().sum())\n"
      ],
      "metadata": {
        "colab": {
          "base_uri": "https://localhost:8080/"
        },
        "id": "HsSmIQkfU1US",
        "outputId": "88c72855-f7ef-48b6-ea16-5734ed65117b"
      },
      "execution_count": 96,
      "outputs": [
        {
          "output_type": "stream",
          "name": "stdout",
          "text": [
            "Handling missing values..\n",
            "\n",
            "Missing values left : 0\n"
          ]
        }
      ]
    },
    {
      "cell_type": "markdown",
      "source": [
        "DETECT AND TREAT OUTLIERS"
      ],
      "metadata": {
        "id": "BQBeYYlhVG_6"
      }
    },
    {
      "cell_type": "code",
      "source": [
        "print(\"Detecting and treating outliers..\\n\")\n",
        "numeric_cols=df_clean.select_dtypes(include=np.number).columns.tolist()\n",
        "for col in numeric_cols:\n",
        "    Q1=df_clean[col].quantile(0.25)\n",
        "    Q3=df_clean[col].quantile(0.75)\n",
        "    IQR=Q3-Q1\n",
        "    lower_bound=Q1-1.5*IQR\n",
        "    upper_bound=Q3+1.5*IQR\n",
        "    median_value=df_clean[col].median()\n",
        "    df_clean[col]=np.where((df_clean[col]<lower_bound)|(df_clean[col]>upper_bound),median_value,df_clean[col])"
      ],
      "metadata": {
        "colab": {
          "base_uri": "https://localhost:8080/"
        },
        "id": "3ynjaYXqVD3N",
        "outputId": "f99ef36e-7d9f-4348-81fa-5fe8925408d7"
      },
      "execution_count": 97,
      "outputs": [
        {
          "output_type": "stream",
          "name": "stdout",
          "text": [
            "Detecting and treating outliers..\n",
            "\n"
          ]
        }
      ]
    },
    {
      "cell_type": "markdown",
      "source": [
        "ENCODING CATEGORICAL VALUES"
      ],
      "metadata": {
        "id": "5d-adv3WXC1i"
      }
    },
    {
      "cell_type": "code",
      "source": [
        "df_clean.info()"
      ],
      "metadata": {
        "colab": {
          "base_uri": "https://localhost:8080/"
        },
        "id": "aL_MQAKzWdpJ",
        "outputId": "dd67c216-3c1e-4d9c-9668-34b283ff0b4b"
      },
      "execution_count": 98,
      "outputs": [
        {
          "output_type": "stream",
          "name": "stdout",
          "text": [
            "<class 'pandas.core.frame.DataFrame'>\n",
            "RangeIndex: 768 entries, 0 to 767\n",
            "Data columns (total 9 columns):\n",
            " #   Column         Non-Null Count  Dtype  \n",
            "---  ------         --------------  -----  \n",
            " 0   Pregnancies    768 non-null    float64\n",
            " 1   Glucose        768 non-null    float64\n",
            " 2   BloodPressure  768 non-null    float64\n",
            " 3   SkinThickness  768 non-null    float64\n",
            " 4   Insulin        768 non-null    float64\n",
            " 5   BMI            768 non-null    float64\n",
            " 6   DPF            768 non-null    float64\n",
            " 7   Age            768 non-null    float64\n",
            " 8   Outcome        768 non-null    float64\n",
            "dtypes: float64(9)\n",
            "memory usage: 54.1 KB\n"
          ]
        }
      ]
    },
    {
      "cell_type": "markdown",
      "source": [
        "As In our Dataset there is no categorical values so we no need to do perform this task on our dataset"
      ],
      "metadata": {
        "id": "KjmRVRZ9XPpH"
      }
    },
    {
      "cell_type": "markdown",
      "source": [
        "FEATURE ENGINEERING"
      ],
      "metadata": {
        "id": "5DEcEuJzXdaO"
      }
    },
    {
      "cell_type": "code",
      "source": [
        "# creating new feature using existing features\n",
        "#creating Glucose category feature\n",
        "df_clean[\"Glucose_Category\"] = pd.cut(\n",
        "    df_clean[\"Glucose\"],\n",
        "    bins=[0, 139, 199, 300],\n",
        "    labels=[\"Normal\", \"Prediabetic\", \"Diabetic\"]\n",
        ")\n",
        "\n",
        "#creating BMI category feature\n",
        "df_clean[\"BMI_Category\"] = pd.cut(\n",
        "    df_clean[\"BMI\"],\n",
        "    bins=[0, 18.4, 24.9, 30],\n",
        "    labels=[\"Underweight\", \"Normal\", \"Overweight\"]\n",
        ")\n",
        "\n",
        "#creating age_group feature\n",
        "df_clean[\"Age_Group\"] = pd.cut(\n",
        "    df_clean['Age']*(df_clean['Age'].max()-df_clean['Age'].min())+df_clean['Age'].min(),\n",
        "    bins=[0,40,55,100],labels=[\"Young\",\"Middle-aged\",\"Senior\"]\n",
        ")\n",
        "\n",
        "#one hot encoding to created new features\n",
        "df_clean = pd.get_dummies(df_clean, columns=[\"Glucose_Category\", \"BMI_Category\",\"Age_Group\"],drop_first=False)"
      ],
      "metadata": {
        "id": "1wAUpg5-Xi-V"
      },
      "execution_count": 99,
      "outputs": []
    },
    {
      "cell_type": "markdown",
      "source": [
        "NEW DATASET ROWS"
      ],
      "metadata": {
        "id": "hKFaJIQsaZFF"
      }
    },
    {
      "cell_type": "code",
      "source": [
        "df_clean.head()"
      ],
      "metadata": {
        "colab": {
          "base_uri": "https://localhost:8080/",
          "height": 243
        },
        "id": "XwDm8hN_aVtG",
        "outputId": "fe836f3a-f5af-479b-fc1b-19ddc91a5c47"
      },
      "execution_count": 100,
      "outputs": [
        {
          "output_type": "execute_result",
          "data": {
            "text/plain": [
              "   Pregnancies  Glucose  BloodPressure  SkinThickness  Insulin   BMI     DPF  \\\n",
              "0          6.0    148.0           72.0           35.0      0.0  33.6  0.6270   \n",
              "1          1.0     85.0           66.0           29.0      0.0  26.6  0.3510   \n",
              "2          8.0    183.0           64.0            0.0      0.0  23.3  0.6720   \n",
              "3          1.0     89.0           66.0           23.0     94.0  28.1  0.1670   \n",
              "4          0.0    137.0           40.0           35.0    168.0  43.1  0.3725   \n",
              "\n",
              "    Age  Outcome  Glucose_Category_Normal  Glucose_Category_Prediabetic  \\\n",
              "0  50.0      1.0                    False                          True   \n",
              "1  31.0      0.0                     True                         False   \n",
              "2  32.0      1.0                    False                          True   \n",
              "3  21.0      0.0                     True                         False   \n",
              "4  33.0      1.0                     True                         False   \n",
              "\n",
              "   Glucose_Category_Diabetic  BMI_Category_Underweight  BMI_Category_Normal  \\\n",
              "0                      False                     False                False   \n",
              "1                      False                     False                False   \n",
              "2                      False                     False                 True   \n",
              "3                      False                     False                False   \n",
              "4                      False                     False                False   \n",
              "\n",
              "   BMI_Category_Overweight  Age_Group_Young  Age_Group_Middle-aged  \\\n",
              "0                    False            False                  False   \n",
              "1                     True            False                  False   \n",
              "2                    False            False                  False   \n",
              "3                     True            False                  False   \n",
              "4                    False            False                  False   \n",
              "\n",
              "   Age_Group_Senior  \n",
              "0             False  \n",
              "1             False  \n",
              "2             False  \n",
              "3             False  \n",
              "4             False  "
            ],
            "text/html": [
              "\n",
              "  <div id=\"df-c13209f4-2f3c-4a04-a52d-7e8f8c9a3021\" class=\"colab-df-container\">\n",
              "    <div>\n",
              "<style scoped>\n",
              "    .dataframe tbody tr th:only-of-type {\n",
              "        vertical-align: middle;\n",
              "    }\n",
              "\n",
              "    .dataframe tbody tr th {\n",
              "        vertical-align: top;\n",
              "    }\n",
              "\n",
              "    .dataframe thead th {\n",
              "        text-align: right;\n",
              "    }\n",
              "</style>\n",
              "<table border=\"1\" class=\"dataframe\">\n",
              "  <thead>\n",
              "    <tr style=\"text-align: right;\">\n",
              "      <th></th>\n",
              "      <th>Pregnancies</th>\n",
              "      <th>Glucose</th>\n",
              "      <th>BloodPressure</th>\n",
              "      <th>SkinThickness</th>\n",
              "      <th>Insulin</th>\n",
              "      <th>BMI</th>\n",
              "      <th>DPF</th>\n",
              "      <th>Age</th>\n",
              "      <th>Outcome</th>\n",
              "      <th>Glucose_Category_Normal</th>\n",
              "      <th>Glucose_Category_Prediabetic</th>\n",
              "      <th>Glucose_Category_Diabetic</th>\n",
              "      <th>BMI_Category_Underweight</th>\n",
              "      <th>BMI_Category_Normal</th>\n",
              "      <th>BMI_Category_Overweight</th>\n",
              "      <th>Age_Group_Young</th>\n",
              "      <th>Age_Group_Middle-aged</th>\n",
              "      <th>Age_Group_Senior</th>\n",
              "    </tr>\n",
              "  </thead>\n",
              "  <tbody>\n",
              "    <tr>\n",
              "      <th>0</th>\n",
              "      <td>6.0</td>\n",
              "      <td>148.0</td>\n",
              "      <td>72.0</td>\n",
              "      <td>35.0</td>\n",
              "      <td>0.0</td>\n",
              "      <td>33.6</td>\n",
              "      <td>0.6270</td>\n",
              "      <td>50.0</td>\n",
              "      <td>1.0</td>\n",
              "      <td>False</td>\n",
              "      <td>True</td>\n",
              "      <td>False</td>\n",
              "      <td>False</td>\n",
              "      <td>False</td>\n",
              "      <td>False</td>\n",
              "      <td>False</td>\n",
              "      <td>False</td>\n",
              "      <td>False</td>\n",
              "    </tr>\n",
              "    <tr>\n",
              "      <th>1</th>\n",
              "      <td>1.0</td>\n",
              "      <td>85.0</td>\n",
              "      <td>66.0</td>\n",
              "      <td>29.0</td>\n",
              "      <td>0.0</td>\n",
              "      <td>26.6</td>\n",
              "      <td>0.3510</td>\n",
              "      <td>31.0</td>\n",
              "      <td>0.0</td>\n",
              "      <td>True</td>\n",
              "      <td>False</td>\n",
              "      <td>False</td>\n",
              "      <td>False</td>\n",
              "      <td>False</td>\n",
              "      <td>True</td>\n",
              "      <td>False</td>\n",
              "      <td>False</td>\n",
              "      <td>False</td>\n",
              "    </tr>\n",
              "    <tr>\n",
              "      <th>2</th>\n",
              "      <td>8.0</td>\n",
              "      <td>183.0</td>\n",
              "      <td>64.0</td>\n",
              "      <td>0.0</td>\n",
              "      <td>0.0</td>\n",
              "      <td>23.3</td>\n",
              "      <td>0.6720</td>\n",
              "      <td>32.0</td>\n",
              "      <td>1.0</td>\n",
              "      <td>False</td>\n",
              "      <td>True</td>\n",
              "      <td>False</td>\n",
              "      <td>False</td>\n",
              "      <td>True</td>\n",
              "      <td>False</td>\n",
              "      <td>False</td>\n",
              "      <td>False</td>\n",
              "      <td>False</td>\n",
              "    </tr>\n",
              "    <tr>\n",
              "      <th>3</th>\n",
              "      <td>1.0</td>\n",
              "      <td>89.0</td>\n",
              "      <td>66.0</td>\n",
              "      <td>23.0</td>\n",
              "      <td>94.0</td>\n",
              "      <td>28.1</td>\n",
              "      <td>0.1670</td>\n",
              "      <td>21.0</td>\n",
              "      <td>0.0</td>\n",
              "      <td>True</td>\n",
              "      <td>False</td>\n",
              "      <td>False</td>\n",
              "      <td>False</td>\n",
              "      <td>False</td>\n",
              "      <td>True</td>\n",
              "      <td>False</td>\n",
              "      <td>False</td>\n",
              "      <td>False</td>\n",
              "    </tr>\n",
              "    <tr>\n",
              "      <th>4</th>\n",
              "      <td>0.0</td>\n",
              "      <td>137.0</td>\n",
              "      <td>40.0</td>\n",
              "      <td>35.0</td>\n",
              "      <td>168.0</td>\n",
              "      <td>43.1</td>\n",
              "      <td>0.3725</td>\n",
              "      <td>33.0</td>\n",
              "      <td>1.0</td>\n",
              "      <td>True</td>\n",
              "      <td>False</td>\n",
              "      <td>False</td>\n",
              "      <td>False</td>\n",
              "      <td>False</td>\n",
              "      <td>False</td>\n",
              "      <td>False</td>\n",
              "      <td>False</td>\n",
              "      <td>False</td>\n",
              "    </tr>\n",
              "  </tbody>\n",
              "</table>\n",
              "</div>\n",
              "    <div class=\"colab-df-buttons\">\n",
              "\n",
              "  <div class=\"colab-df-container\">\n",
              "    <button class=\"colab-df-convert\" onclick=\"convertToInteractive('df-c13209f4-2f3c-4a04-a52d-7e8f8c9a3021')\"\n",
              "            title=\"Convert this dataframe to an interactive table.\"\n",
              "            style=\"display:none;\">\n",
              "\n",
              "  <svg xmlns=\"http://www.w3.org/2000/svg\" height=\"24px\" viewBox=\"0 -960 960 960\">\n",
              "    <path d=\"M120-120v-720h720v720H120Zm60-500h600v-160H180v160Zm220 220h160v-160H400v160Zm0 220h160v-160H400v160ZM180-400h160v-160H180v160Zm440 0h160v-160H620v160ZM180-180h160v-160H180v160Zm440 0h160v-160H620v160Z\"/>\n",
              "  </svg>\n",
              "    </button>\n",
              "\n",
              "  <style>\n",
              "    .colab-df-container {\n",
              "      display:flex;\n",
              "      gap: 12px;\n",
              "    }\n",
              "\n",
              "    .colab-df-convert {\n",
              "      background-color: #E8F0FE;\n",
              "      border: none;\n",
              "      border-radius: 50%;\n",
              "      cursor: pointer;\n",
              "      display: none;\n",
              "      fill: #1967D2;\n",
              "      height: 32px;\n",
              "      padding: 0 0 0 0;\n",
              "      width: 32px;\n",
              "    }\n",
              "\n",
              "    .colab-df-convert:hover {\n",
              "      background-color: #E2EBFA;\n",
              "      box-shadow: 0px 1px 2px rgba(60, 64, 67, 0.3), 0px 1px 3px 1px rgba(60, 64, 67, 0.15);\n",
              "      fill: #174EA6;\n",
              "    }\n",
              "\n",
              "    .colab-df-buttons div {\n",
              "      margin-bottom: 4px;\n",
              "    }\n",
              "\n",
              "    [theme=dark] .colab-df-convert {\n",
              "      background-color: #3B4455;\n",
              "      fill: #D2E3FC;\n",
              "    }\n",
              "\n",
              "    [theme=dark] .colab-df-convert:hover {\n",
              "      background-color: #434B5C;\n",
              "      box-shadow: 0px 1px 3px 1px rgba(0, 0, 0, 0.15);\n",
              "      filter: drop-shadow(0px 1px 2px rgba(0, 0, 0, 0.3));\n",
              "      fill: #FFFFFF;\n",
              "    }\n",
              "  </style>\n",
              "\n",
              "    <script>\n",
              "      const buttonEl =\n",
              "        document.querySelector('#df-c13209f4-2f3c-4a04-a52d-7e8f8c9a3021 button.colab-df-convert');\n",
              "      buttonEl.style.display =\n",
              "        google.colab.kernel.accessAllowed ? 'block' : 'none';\n",
              "\n",
              "      async function convertToInteractive(key) {\n",
              "        const element = document.querySelector('#df-c13209f4-2f3c-4a04-a52d-7e8f8c9a3021');\n",
              "        const dataTable =\n",
              "          await google.colab.kernel.invokeFunction('convertToInteractive',\n",
              "                                                    [key], {});\n",
              "        if (!dataTable) return;\n",
              "\n",
              "        const docLinkHtml = 'Like what you see? Visit the ' +\n",
              "          '<a target=\"_blank\" href=https://colab.research.google.com/notebooks/data_table.ipynb>data table notebook</a>'\n",
              "          + ' to learn more about interactive tables.';\n",
              "        element.innerHTML = '';\n",
              "        dataTable['output_type'] = 'display_data';\n",
              "        await google.colab.output.renderOutput(dataTable, element);\n",
              "        const docLink = document.createElement('div');\n",
              "        docLink.innerHTML = docLinkHtml;\n",
              "        element.appendChild(docLink);\n",
              "      }\n",
              "    </script>\n",
              "  </div>\n",
              "\n",
              "\n",
              "    <div id=\"df-ecd507a8-5ce2-47b9-a293-3db4621456b4\">\n",
              "      <button class=\"colab-df-quickchart\" onclick=\"quickchart('df-ecd507a8-5ce2-47b9-a293-3db4621456b4')\"\n",
              "                title=\"Suggest charts\"\n",
              "                style=\"display:none;\">\n",
              "\n",
              "<svg xmlns=\"http://www.w3.org/2000/svg\" height=\"24px\"viewBox=\"0 0 24 24\"\n",
              "     width=\"24px\">\n",
              "    <g>\n",
              "        <path d=\"M19 3H5c-1.1 0-2 .9-2 2v14c0 1.1.9 2 2 2h14c1.1 0 2-.9 2-2V5c0-1.1-.9-2-2-2zM9 17H7v-7h2v7zm4 0h-2V7h2v10zm4 0h-2v-4h2v4z\"/>\n",
              "    </g>\n",
              "</svg>\n",
              "      </button>\n",
              "\n",
              "<style>\n",
              "  .colab-df-quickchart {\n",
              "      --bg-color: #E8F0FE;\n",
              "      --fill-color: #1967D2;\n",
              "      --hover-bg-color: #E2EBFA;\n",
              "      --hover-fill-color: #174EA6;\n",
              "      --disabled-fill-color: #AAA;\n",
              "      --disabled-bg-color: #DDD;\n",
              "  }\n",
              "\n",
              "  [theme=dark] .colab-df-quickchart {\n",
              "      --bg-color: #3B4455;\n",
              "      --fill-color: #D2E3FC;\n",
              "      --hover-bg-color: #434B5C;\n",
              "      --hover-fill-color: #FFFFFF;\n",
              "      --disabled-bg-color: #3B4455;\n",
              "      --disabled-fill-color: #666;\n",
              "  }\n",
              "\n",
              "  .colab-df-quickchart {\n",
              "    background-color: var(--bg-color);\n",
              "    border: none;\n",
              "    border-radius: 50%;\n",
              "    cursor: pointer;\n",
              "    display: none;\n",
              "    fill: var(--fill-color);\n",
              "    height: 32px;\n",
              "    padding: 0;\n",
              "    width: 32px;\n",
              "  }\n",
              "\n",
              "  .colab-df-quickchart:hover {\n",
              "    background-color: var(--hover-bg-color);\n",
              "    box-shadow: 0 1px 2px rgba(60, 64, 67, 0.3), 0 1px 3px 1px rgba(60, 64, 67, 0.15);\n",
              "    fill: var(--button-hover-fill-color);\n",
              "  }\n",
              "\n",
              "  .colab-df-quickchart-complete:disabled,\n",
              "  .colab-df-quickchart-complete:disabled:hover {\n",
              "    background-color: var(--disabled-bg-color);\n",
              "    fill: var(--disabled-fill-color);\n",
              "    box-shadow: none;\n",
              "  }\n",
              "\n",
              "  .colab-df-spinner {\n",
              "    border: 2px solid var(--fill-color);\n",
              "    border-color: transparent;\n",
              "    border-bottom-color: var(--fill-color);\n",
              "    animation:\n",
              "      spin 1s steps(1) infinite;\n",
              "  }\n",
              "\n",
              "  @keyframes spin {\n",
              "    0% {\n",
              "      border-color: transparent;\n",
              "      border-bottom-color: var(--fill-color);\n",
              "      border-left-color: var(--fill-color);\n",
              "    }\n",
              "    20% {\n",
              "      border-color: transparent;\n",
              "      border-left-color: var(--fill-color);\n",
              "      border-top-color: var(--fill-color);\n",
              "    }\n",
              "    30% {\n",
              "      border-color: transparent;\n",
              "      border-left-color: var(--fill-color);\n",
              "      border-top-color: var(--fill-color);\n",
              "      border-right-color: var(--fill-color);\n",
              "    }\n",
              "    40% {\n",
              "      border-color: transparent;\n",
              "      border-right-color: var(--fill-color);\n",
              "      border-top-color: var(--fill-color);\n",
              "    }\n",
              "    60% {\n",
              "      border-color: transparent;\n",
              "      border-right-color: var(--fill-color);\n",
              "    }\n",
              "    80% {\n",
              "      border-color: transparent;\n",
              "      border-right-color: var(--fill-color);\n",
              "      border-bottom-color: var(--fill-color);\n",
              "    }\n",
              "    90% {\n",
              "      border-color: transparent;\n",
              "      border-bottom-color: var(--fill-color);\n",
              "    }\n",
              "  }\n",
              "</style>\n",
              "\n",
              "      <script>\n",
              "        async function quickchart(key) {\n",
              "          const quickchartButtonEl =\n",
              "            document.querySelector('#' + key + ' button');\n",
              "          quickchartButtonEl.disabled = true;  // To prevent multiple clicks.\n",
              "          quickchartButtonEl.classList.add('colab-df-spinner');\n",
              "          try {\n",
              "            const charts = await google.colab.kernel.invokeFunction(\n",
              "                'suggestCharts', [key], {});\n",
              "          } catch (error) {\n",
              "            console.error('Error during call to suggestCharts:', error);\n",
              "          }\n",
              "          quickchartButtonEl.classList.remove('colab-df-spinner');\n",
              "          quickchartButtonEl.classList.add('colab-df-quickchart-complete');\n",
              "        }\n",
              "        (() => {\n",
              "          let quickchartButtonEl =\n",
              "            document.querySelector('#df-ecd507a8-5ce2-47b9-a293-3db4621456b4 button');\n",
              "          quickchartButtonEl.style.display =\n",
              "            google.colab.kernel.accessAllowed ? 'block' : 'none';\n",
              "        })();\n",
              "      </script>\n",
              "    </div>\n",
              "\n",
              "    </div>\n",
              "  </div>\n"
            ],
            "application/vnd.google.colaboratory.intrinsic+json": {
              "type": "dataframe",
              "variable_name": "df_clean",
              "summary": "{\n  \"name\": \"df_clean\",\n  \"rows\": 768,\n  \"fields\": [\n    {\n      \"column\": \"Pregnancies\",\n      \"properties\": {\n        \"dtype\": \"number\",\n        \"std\": 3.270644231185024,\n        \"min\": 0.0,\n        \"max\": 13.0,\n        \"num_unique_values\": 14,\n        \"samples\": [\n          7.0,\n          11.0,\n          6.0\n        ],\n        \"semantic_type\": \"\",\n        \"description\": \"\"\n      }\n    },\n    {\n      \"column\": \"Glucose\",\n      \"properties\": {\n        \"dtype\": \"number\",\n        \"std\": 30.43828582241517,\n        \"min\": 44.0,\n        \"max\": 199.0,\n        \"num_unique_values\": 135,\n        \"samples\": [\n          135.0,\n          134.0,\n          86.0\n        ],\n        \"semantic_type\": \"\",\n        \"description\": \"\"\n      }\n    },\n    {\n      \"column\": \"BloodPressure\",\n      \"properties\": {\n        \"dtype\": \"number\",\n        \"std\": 11.146722742501327,\n        \"min\": 38.0,\n        \"max\": 106.0,\n        \"num_unique_values\": 40,\n        \"samples\": [\n          78.0,\n          82.0,\n          76.0\n        ],\n        \"semantic_type\": \"\",\n        \"description\": \"\"\n      }\n    },\n    {\n      \"column\": \"SkinThickness\",\n      \"properties\": {\n        \"dtype\": \"number\",\n        \"std\": 15.698553733035284,\n        \"min\": 0.0,\n        \"max\": 63.0,\n        \"num_unique_values\": 50,\n        \"samples\": [\n          15.0,\n          44.0,\n          22.0\n        ],\n        \"semantic_type\": \"\",\n        \"description\": \"\"\n      }\n    },\n    {\n      \"column\": \"Insulin\",\n      \"properties\": {\n        \"dtype\": \"number\",\n        \"std\": 77.63566579465224,\n        \"min\": 0.0,\n        \"max\": 318.0,\n        \"num_unique_values\": 157,\n        \"samples\": [\n          237.0,\n          99.0,\n          188.0\n        ],\n        \"semantic_type\": \"\",\n        \"description\": \"\"\n      }\n    },\n    {\n      \"column\": \"BMI\",\n      \"properties\": {\n        \"dtype\": \"number\",\n        \"std\": 6.410557943798963,\n        \"min\": 18.2,\n        \"max\": 50.0,\n        \"num_unique_values\": 240,\n        \"samples\": [\n          36.6,\n          31.0,\n          33.3\n        ],\n        \"semantic_type\": \"\",\n        \"description\": \"\"\n      }\n    },\n    {\n      \"column\": \"DPF\",\n      \"properties\": {\n        \"dtype\": \"number\",\n        \"std\": 0.2451623740187653,\n        \"min\": 0.078,\n        \"max\": 1.191,\n        \"num_unique_values\": 490,\n        \"samples\": [\n          0.828,\n          0.255,\n          0.149\n        ],\n        \"semantic_type\": \"\",\n        \"description\": \"\"\n      }\n    },\n    {\n      \"column\": \"Age\",\n      \"properties\": {\n        \"dtype\": \"number\",\n        \"std\": 11.055384847014682,\n        \"min\": 21.0,\n        \"max\": 66.0,\n        \"num_unique_values\": 46,\n        \"samples\": [\n          65.0,\n          37.0,\n          48.0\n        ],\n        \"semantic_type\": \"\",\n        \"description\": \"\"\n      }\n    },\n    {\n      \"column\": \"Outcome\",\n      \"properties\": {\n        \"dtype\": \"number\",\n        \"std\": 0.4769513772427971,\n        \"min\": 0.0,\n        \"max\": 1.0,\n        \"num_unique_values\": 2,\n        \"samples\": [\n          0.0,\n          1.0\n        ],\n        \"semantic_type\": \"\",\n        \"description\": \"\"\n      }\n    },\n    {\n      \"column\": \"Glucose_Category_Normal\",\n      \"properties\": {\n        \"dtype\": \"boolean\",\n        \"num_unique_values\": 2,\n        \"samples\": [\n          true,\n          false\n        ],\n        \"semantic_type\": \"\",\n        \"description\": \"\"\n      }\n    },\n    {\n      \"column\": \"Glucose_Category_Prediabetic\",\n      \"properties\": {\n        \"dtype\": \"boolean\",\n        \"num_unique_values\": 2,\n        \"samples\": [\n          false,\n          true\n        ],\n        \"semantic_type\": \"\",\n        \"description\": \"\"\n      }\n    },\n    {\n      \"column\": \"Glucose_Category_Diabetic\",\n      \"properties\": {\n        \"dtype\": \"boolean\",\n        \"num_unique_values\": 1,\n        \"samples\": [\n          false\n        ],\n        \"semantic_type\": \"\",\n        \"description\": \"\"\n      }\n    },\n    {\n      \"column\": \"BMI_Category_Underweight\",\n      \"properties\": {\n        \"dtype\": \"boolean\",\n        \"num_unique_values\": 2,\n        \"samples\": [\n          true\n        ],\n        \"semantic_type\": \"\",\n        \"description\": \"\"\n      }\n    },\n    {\n      \"column\": \"BMI_Category_Normal\",\n      \"properties\": {\n        \"dtype\": \"boolean\",\n        \"num_unique_values\": 2,\n        \"samples\": [\n          true\n        ],\n        \"semantic_type\": \"\",\n        \"description\": \"\"\n      }\n    },\n    {\n      \"column\": \"BMI_Category_Overweight\",\n      \"properties\": {\n        \"dtype\": \"boolean\",\n        \"num_unique_values\": 2,\n        \"samples\": [\n          true\n        ],\n        \"semantic_type\": \"\",\n        \"description\": \"\"\n      }\n    },\n    {\n      \"column\": \"Age_Group_Young\",\n      \"properties\": {\n        \"dtype\": \"boolean\",\n        \"num_unique_values\": 1,\n        \"samples\": [\n          false\n        ],\n        \"semantic_type\": \"\",\n        \"description\": \"\"\n      }\n    },\n    {\n      \"column\": \"Age_Group_Middle-aged\",\n      \"properties\": {\n        \"dtype\": \"boolean\",\n        \"num_unique_values\": 1,\n        \"samples\": [\n          false\n        ],\n        \"semantic_type\": \"\",\n        \"description\": \"\"\n      }\n    },\n    {\n      \"column\": \"Age_Group_Senior\",\n      \"properties\": {\n        \"dtype\": \"boolean\",\n        \"num_unique_values\": 1,\n        \"samples\": [\n          false\n        ],\n        \"semantic_type\": \"\",\n        \"description\": \"\"\n      }\n    }\n  ]\n}"
            }
          },
          "metadata": {},
          "execution_count": 100
        }
      ]
    },
    {
      "cell_type": "markdown",
      "source": [
        "TARGET DISTRIBUTION"
      ],
      "metadata": {
        "id": "BOBBzPUAbEix"
      }
    },
    {
      "cell_type": "code",
      "source": [
        "df_clean['Outcome'].value_counts()"
      ],
      "metadata": {
        "colab": {
          "base_uri": "https://localhost:8080/",
          "height": 178
        },
        "id": "onfVC2Aiaejv",
        "outputId": "fa0232c3-cec2-4b32-833d-961eabaa2cdc"
      },
      "execution_count": 101,
      "outputs": [
        {
          "output_type": "execute_result",
          "data": {
            "text/plain": [
              "Outcome\n",
              "0.0    500\n",
              "1.0    268\n",
              "Name: count, dtype: int64"
            ],
            "text/html": [
              "<div>\n",
              "<style scoped>\n",
              "    .dataframe tbody tr th:only-of-type {\n",
              "        vertical-align: middle;\n",
              "    }\n",
              "\n",
              "    .dataframe tbody tr th {\n",
              "        vertical-align: top;\n",
              "    }\n",
              "\n",
              "    .dataframe thead th {\n",
              "        text-align: right;\n",
              "    }\n",
              "</style>\n",
              "<table border=\"1\" class=\"dataframe\">\n",
              "  <thead>\n",
              "    <tr style=\"text-align: right;\">\n",
              "      <th></th>\n",
              "      <th>count</th>\n",
              "    </tr>\n",
              "    <tr>\n",
              "      <th>Outcome</th>\n",
              "      <th></th>\n",
              "    </tr>\n",
              "  </thead>\n",
              "  <tbody>\n",
              "    <tr>\n",
              "      <th>0.0</th>\n",
              "      <td>500</td>\n",
              "    </tr>\n",
              "    <tr>\n",
              "      <th>1.0</th>\n",
              "      <td>268</td>\n",
              "    </tr>\n",
              "  </tbody>\n",
              "</table>\n",
              "</div><br><label><b>dtype:</b> int64</label>"
            ]
          },
          "metadata": {},
          "execution_count": 101
        }
      ]
    },
    {
      "cell_type": "markdown",
      "source": [
        "SCATTER PLOTS"
      ],
      "metadata": {
        "id": "m71KWhkAZoXj"
      }
    },
    {
      "cell_type": "code",
      "source": [
        "import plotly.io as pio\n",
        "\n",
        "# If you are in Jupyter Notebook\n",
        "pio.renderers.default = \"notebook_connected\"\n",
        "\n",
        "# If you are in JupyterLab\n",
        "# pio.renderers.default = \"iframe_connected\"\n",
        "\n",
        "# If none works, fallback to static image\n",
        "# pio.renderers.default = \"svg\"\n"
      ],
      "metadata": {
        "id": "Brg32lfuix2g"
      },
      "execution_count": 102,
      "outputs": []
    },
    {
      "cell_type": "code",
      "source": [
        "import plotly.express as px\n",
        "fig = px.scatter(df_clean, x=\"Age\", y=\"Glucose\", color=\"Outcome\",color_continuous_scale=\"Viridis\" )\n",
        "fig.update_layout(width=1000,height=500)\n",
        "fig.update_layout(title=\"Age vs Glucose Scatterplot\", xaxis_title=\"Age\", yaxis_title=\"Glucose\")\n",
        "fig.update_traces(marker=dict(size=5))\n",
        "fig.update_layout(\n",
        "    plot_bgcolor='white', # Clean white background\n",
        "    font=dict(size=12),\n",
        "    title_x=0.5 # Center the title\n",
        ")\n",
        "fig.update_xaxes(showgrid=True, gridwidth=1, gridcolor='LightGrey')\n",
        "fig.update_yaxes(showgrid=True, gridwidth=1, gridcolor='LightGrey')\n",
        "fig.show()"
      ],
      "metadata": {
        "colab": {
          "base_uri": "https://localhost:8080/",
          "height": 517
        },
        "id": "CP3czhasbKvB",
        "outputId": "f3d97e5b-5447-44d0-bb73-c58723fd5154"
      },
      "execution_count": 103,
      "outputs": [
        {
          "output_type": "display_data",
          "data": {
            "text/html": [
              "        <script type=\"text/javascript\">\n",
              "        window.PlotlyConfig = {MathJaxConfig: 'local'};\n",
              "        if (window.MathJax && window.MathJax.Hub && window.MathJax.Hub.Config) {window.MathJax.Hub.Config({SVG: {font: \"STIX-Web\"}});}\n",
              "        if (typeof require !== 'undefined') {\n",
              "        require.undef(\"plotly\");\n",
              "        requirejs.config({\n",
              "            paths: {\n",
              "                'plotly': ['https://cdn.plot.ly/plotly-2.35.2.min']\n",
              "            }\n",
              "        });\n",
              "        require(['plotly'], function(Plotly) {\n",
              "            window._Plotly = Plotly;\n",
              "        });\n",
              "        }\n",
              "        </script>\n",
              "        "
            ]
          },
          "metadata": {}
        },
        {
          "output_type": "display_data",
          "data": {
            "text/html": [
              "<div>                            <div id=\"ab0b9198-7b27-4dde-94ca-ad65c13b4658\" class=\"plotly-graph-div\" style=\"height:500px; width:1000px;\"></div>            <script type=\"text/javascript\">                require([\"plotly\"], function(Plotly) {                    window.PLOTLYENV=window.PLOTLYENV || {};                                    if (document.getElementById(\"ab0b9198-7b27-4dde-94ca-ad65c13b4658\")) {                    Plotly.newPlot(                        \"ab0b9198-7b27-4dde-94ca-ad65c13b4658\",                        [{\"hovertemplate\":\"Age=%{x}\\u003cbr\\u003eGlucose=%{y}\\u003cbr\\u003eOutcome=%{marker.color}\\u003cextra\\u003e\\u003c\\u002fextra\\u003e\",\"legendgroup\":\"\",\"marker\":{\"color\":[1.0,0.0,1.0,0.0,1.0,0.0,1.0,0.0,1.0,1.0,0.0,1.0,0.0,1.0,1.0,1.0,1.0,1.0,0.0,1.0,0.0,0.0,1.0,1.0,1.0,1.0,1.0,0.0,0.0,0.0,0.0,1.0,0.0,0.0,0.0,0.0,0.0,1.0,1.0,1.0,0.0,0.0,0.0,1.0,0.0,1.0,0.0,0.0,1.0,0.0,0.0,0.0,0.0,1.0,0.0,0.0,1.0,0.0,0.0,0.0,0.0,1.0,0.0,0.0,1.0,0.0,1.0,0.0,0.0,0.0,1.0,0.0,1.0,0.0,0.0,0.0,0.0,0.0,1.0,0.0,0.0,0.0,0.0,0.0,1.0,0.0,0.0,0.0,1.0,0.0,0.0,0.0,0.0,1.0,0.0,0.0,0.0,0.0,0.0,1.0,1.0,0.0,0.0,0.0,0.0,0.0,0.0,0.0,0.0,1.0,1.0,1.0,0.0,0.0,1.0,1.0,1.0,0.0,0.0,0.0,1.0,0.0,0.0,0.0,1.0,1.0,0.0,0.0,1.0,1.0,1.0,1.0,1.0,0.0,0.0,0.0,0.0,0.0,0.0,0.0,0.0,0.0,0.0,1.0,0.0,0.0,0.0,0.0,0.0,0.0,0.0,0.0,1.0,0.0,1.0,1.0,0.0,0.0,0.0,1.0,0.0,0.0,0.0,0.0,1.0,1.0,0.0,0.0,0.0,0.0,1.0,1.0,0.0,0.0,0.0,1.0,0.0,1.0,0.0,1.0,0.0,0.0,0.0,0.0,0.0,1.0,1.0,1.0,1.0,1.0,0.0,0.0,1.0,1.0,0.0,1.0,0.0,1.0,1.0,1.0,0.0,0.0,0.0,0.0,0.0,0.0,1.0,1.0,0.0,1.0,0.0,0.0,0.0,1.0,1.0,1.0,1.0,0.0,1.0,1.0,1.0,1.0,0.0,0.0,0.0,0.0,0.0,1.0,0.0,0.0,1.0,1.0,0.0,0.0,0.0,1.0,1.0,1.0,1.0,0.0,0.0,0.0,1.0,1.0,0.0,1.0,0.0,0.0,0.0,0.0,0.0,0.0,0.0,0.0,1.0,1.0,0.0,0.0,0.0,1.0,0.0,1.0,0.0,0.0,1.0,0.0,1.0,0.0,0.0,1.0,1.0,0.0,0.0,0.0,0.0,0.0,1.0,0.0,0.0,0.0,1.0,0.0,0.0,1.0,1.0,0.0,0.0,1.0,0.0,0.0,0.0,1.0,1.0,1.0,0.0,0.0,1.0,0.0,1.0,0.0,1.0,1.0,0.0,1.0,0.0,0.0,1.0,0.0,1.0,1.0,0.0,0.0,1.0,0.0,1.0,0.0,0.0,1.0,0.0,1.0,0.0,1.0,1.0,1.0,0.0,0.0,1.0,0.0,1.0,0.0,0.0,0.0,1.0,0.0,0.0,0.0,0.0,1.0,1.0,1.0,0.0,0.0,0.0,0.0,0.0,0.0,0.0,0.0,0.0,1.0,0.0,0.0,0.0,0.0,0.0,1.0,1.0,1.0,0.0,1.0,1.0,0.0,0.0,1.0,0.0,0.0,1.0,0.0,0.0,1.0,1.0,0.0,0.0,0.0,0.0,1.0,0.0,0.0,1.0,0.0,0.0,0.0,0.0,0.0,0.0,0.0,1.0,1.0,1.0,0.0,0.0,1.0,0.0,0.0,1.0,0.0,0.0,1.0,0.0,1.0,1.0,0.0,1.0,0.0,1.0,0.0,1.0,0.0,1.0,1.0,0.0,0.0,0.0,0.0,1.0,1.0,0.0,1.0,0.0,1.0,0.0,0.0,0.0,0.0,1.0,1.0,0.0,1.0,0.0,1.0,0.0,0.0,0.0,0.0,0.0,1.0,0.0,0.0,0.0,0.0,1.0,0.0,0.0,1.0,1.0,1.0,0.0,0.0,1.0,0.0,0.0,1.0,0.0,0.0,0.0,1.0,0.0,0.0,1.0,0.0,0.0,0.0,0.0,0.0,0.0,0.0,0.0,0.0,1.0,0.0,0.0,0.0,0.0,0.0,0.0,0.0,1.0,0.0,0.0,0.0,1.0,0.0,0.0,0.0,1.0,1.0,0.0,0.0,0.0,0.0,0.0,0.0,0.0,1.0,0.0,0.0,0.0,0.0,1.0,0.0,0.0,0.0,1.0,0.0,0.0,0.0,1.0,0.0,0.0,0.0,1.0,0.0,0.0,0.0,0.0,1.0,1.0,0.0,0.0,0.0,0.0,0.0,0.0,1.0,0.0,0.0,0.0,0.0,0.0,0.0,0.0,0.0,0.0,0.0,0.0,1.0,0.0,0.0,0.0,1.0,1.0,1.0,1.0,0.0,0.0,1.0,1.0,0.0,0.0,0.0,0.0,0.0,0.0,0.0,0.0,0.0,0.0,0.0,0.0,0.0,1.0,1.0,0.0,0.0,0.0,0.0,0.0,0.0,0.0,1.0,0.0,0.0,0.0,0.0,0.0,0.0,0.0,1.0,0.0,1.0,1.0,0.0,0.0,0.0,1.0,0.0,1.0,0.0,1.0,0.0,1.0,0.0,1.0,0.0,0.0,1.0,0.0,0.0,1.0,0.0,0.0,0.0,0.0,1.0,1.0,0.0,1.0,0.0,0.0,0.0,0.0,1.0,1.0,0.0,1.0,0.0,0.0,0.0,1.0,1.0,0.0,0.0,0.0,0.0,0.0,0.0,0.0,0.0,0.0,0.0,1.0,0.0,0.0,0.0,0.0,1.0,0.0,0.0,1.0,0.0,0.0,0.0,1.0,0.0,0.0,0.0,1.0,1.0,1.0,0.0,0.0,0.0,0.0,0.0,0.0,1.0,0.0,0.0,0.0,1.0,0.0,1.0,1.0,1.0,1.0,0.0,1.0,1.0,0.0,0.0,0.0,0.0,0.0,0.0,0.0,1.0,1.0,0.0,1.0,0.0,0.0,1.0,0.0,1.0,0.0,0.0,0.0,0.0,0.0,1.0,0.0,1.0,0.0,1.0,0.0,1.0,1.0,0.0,0.0,0.0,0.0,1.0,1.0,0.0,0.0,0.0,1.0,0.0,1.0,1.0,0.0,0.0,1.0,0.0,0.0,1.0,1.0,0.0,0.0,1.0,0.0,0.0,1.0,0.0,0.0,0.0,0.0,0.0,0.0,0.0,1.0,1.0,1.0,0.0,0.0,0.0,0.0,0.0,0.0,1.0,1.0,0.0,0.0,1.0,0.0,0.0,1.0,0.0,1.0,1.0,1.0,0.0,0.0,1.0,1.0,1.0,0.0,1.0,0.0,1.0,0.0,1.0,0.0,0.0,0.0,0.0,1.0,0.0],\"coloraxis\":\"coloraxis\",\"symbol\":\"circle\",\"size\":5},\"mode\":\"markers\",\"name\":\"\",\"orientation\":\"v\",\"showlegend\":false,\"x\":[50.0,31.0,32.0,21.0,33.0,30.0,26.0,29.0,53.0,54.0,30.0,34.0,57.0,59.0,51.0,32.0,31.0,31.0,33.0,32.0,27.0,50.0,41.0,29.0,51.0,41.0,43.0,22.0,57.0,38.0,60.0,28.0,22.0,28.0,45.0,33.0,35.0,46.0,27.0,56.0,26.0,37.0,48.0,54.0,40.0,25.0,29.0,22.0,31.0,24.0,22.0,26.0,30.0,58.0,42.0,21.0,41.0,31.0,44.0,22.0,21.0,39.0,36.0,24.0,42.0,32.0,38.0,54.0,25.0,27.0,28.0,26.0,42.0,23.0,22.0,22.0,41.0,27.0,26.0,24.0,22.0,22.0,36.0,22.0,37.0,27.0,45.0,26.0,43.0,24.0,21.0,34.0,42.0,60.0,21.0,40.0,24.0,22.0,23.0,31.0,33.0,22.0,21.0,24.0,27.0,21.0,27.0,37.0,25.0,24.0,24.0,46.0,23.0,25.0,39.0,61.0,38.0,25.0,22.0,21.0,25.0,24.0,23.0,29.0,23.0,26.0,30.0,23.0,40.0,62.0,33.0,33.0,30.0,39.0,26.0,31.0,21.0,22.0,29.0,28.0,55.0,38.0,22.0,42.0,23.0,21.0,41.0,34.0,65.0,22.0,24.0,37.0,42.0,23.0,43.0,36.0,21.0,23.0,22.0,47.0,36.0,45.0,27.0,21.0,32.0,41.0,22.0,34.0,29.0,29.0,36.0,29.0,25.0,23.0,33.0,36.0,42.0,26.0,47.0,37.0,32.0,23.0,21.0,27.0,40.0,41.0,60.0,33.0,31.0,25.0,21.0,40.0,36.0,40.0,42.0,29.0,21.0,23.0,26.0,29.0,21.0,28.0,32.0,27.0,55.0,27.0,57.0,52.0,21.0,41.0,25.0,24.0,60.0,24.0,36.0,38.0,25.0,32.0,32.0,41.0,21.0,66.0,37.0,61.0,26.0,22.0,26.0,24.0,31.0,24.0,22.0,46.0,22.0,29.0,23.0,26.0,51.0,23.0,32.0,27.0,21.0,22.0,22.0,33.0,29.0,49.0,41.0,23.0,34.0,23.0,42.0,27.0,24.0,25.0,44.0,21.0,30.0,25.0,24.0,51.0,34.0,27.0,24.0,63.0,35.0,43.0,25.0,24.0,21.0,28.0,38.0,21.0,40.0,21.0,52.0,25.0,29.0,23.0,57.0,22.0,28.0,39.0,37.0,47.0,52.0,51.0,34.0,29.0,26.0,33.0,21.0,25.0,31.0,24.0,65.0,28.0,29.0,24.0,46.0,58.0,30.0,25.0,35.0,28.0,37.0,29.0,47.0,21.0,25.0,30.0,41.0,22.0,27.0,25.0,43.0,26.0,30.0,29.0,28.0,59.0,31.0,25.0,36.0,43.0,21.0,24.0,30.0,37.0,23.0,37.0,46.0,25.0,41.0,44.0,22.0,26.0,44.0,44.0,33.0,41.0,22.0,36.0,22.0,33.0,57.0,49.0,22.0,23.0,26.0,37.0,29.0,30.0,46.0,24.0,21.0,49.0,28.0,44.0,48.0,29.0,29.0,63.0,65.0,29.0,30.0,30.0,29.0,21.0,22.0,45.0,25.0,21.0,21.0,25.0,28.0,58.0,22.0,22.0,32.0,35.0,24.0,22.0,21.0,25.0,25.0,24.0,35.0,45.0,58.0,28.0,42.0,27.0,21.0,37.0,31.0,25.0,39.0,22.0,25.0,25.0,31.0,55.0,35.0,38.0,41.0,26.0,46.0,25.0,39.0,28.0,28.0,25.0,22.0,21.0,21.0,22.0,22.0,37.0,27.0,28.0,26.0,21.0,21.0,21.0,36.0,31.0,25.0,38.0,26.0,43.0,23.0,38.0,22.0,29.0,36.0,29.0,41.0,28.0,21.0,31.0,41.0,22.0,24.0,33.0,30.0,25.0,28.0,26.0,22.0,26.0,23.0,23.0,25.0,29.0,24.0,38.0,62.0,24.0,51.0,29.0,48.0,26.0,39.0,37.0,34.0,21.0,22.0,25.0,38.0,27.0,28.0,22.0,22.0,50.0,24.0,59.0,29.0,31.0,39.0,63.0,35.0,29.0,28.0,23.0,31.0,24.0,21.0,58.0,28.0,29.0,24.0,42.0,33.0,45.0,22.0,66.0,30.0,25.0,55.0,39.0,21.0,28.0,41.0,41.0,40.0,38.0,35.0,21.0,21.0,64.0,46.0,21.0,58.0,22.0,24.0,28.0,53.0,51.0,41.0,60.0,25.0,26.0,26.0,45.0,24.0,21.0,21.0,24.0,22.0,31.0,22.0,24.0,29.0,31.0,24.0,23.0,46.0,29.0,23.0,32.0,43.0,27.0,56.0,25.0,29.0,37.0,53.0,28.0,50.0,37.0,21.0,25.0,66.0,23.0,28.0,37.0,30.0,58.0,42.0,35.0,54.0,28.0,24.0,32.0,27.0,22.0,21.0,46.0,37.0,33.0,39.0,21.0,22.0,22.0,23.0,25.0,35.0,21.0,36.0,62.0,21.0,27.0,62.0,42.0,52.0,22.0,41.0,29.0,52.0,25.0,45.0,24.0,44.0,25.0,34.0,22.0,46.0,21.0,38.0,26.0,24.0,28.0,30.0,54.0,36.0,21.0,22.0,25.0,27.0,23.0,24.0,36.0,40.0,26.0,50.0,27.0,30.0,23.0,50.0,24.0,28.0,28.0,45.0,21.0,21.0,29.0,21.0,21.0,45.0,21.0,34.0,24.0,23.0,22.0,31.0,38.0,48.0,23.0,32.0,28.0,27.0,24.0,50.0,31.0,27.0,30.0,33.0,22.0,42.0,23.0,23.0,27.0,28.0,27.0,22.0,25.0,22.0,41.0,51.0,27.0,54.0,22.0,43.0,40.0,40.0,24.0,29.0,40.0,43.0,45.0,49.0,21.0,47.0,22.0,29.0,31.0,53.0,25.0,25.0,23.0,22.0,26.0,22.0,27.0,29.0,25.0,22.0,29.0,23.0,46.0,34.0,44.0,23.0,43.0,25.0,43.0,31.0,22.0,28.0,26.0,26.0,49.0,52.0,41.0,27.0,28.0,30.0,22.0,45.0,23.0,24.0,40.0,38.0,21.0,32.0,34.0,31.0,56.0,24.0,52.0,34.0,21.0,42.0,42.0,45.0,38.0,25.0,22.0,22.0,22.0,34.0,22.0,24.0,22.0,53.0,28.0,21.0,42.0,21.0,42.0,48.0,26.0,22.0,45.0,39.0,46.0,27.0,32.0,36.0,50.0,22.0,28.0,25.0,26.0,45.0,37.0,39.0,52.0,26.0,66.0,22.0,43.0,33.0,63.0,27.0,30.0,47.0,23.0],\"xaxis\":\"x\",\"y\":[148.0,85.0,183.0,89.0,137.0,116.0,78.0,115.0,197.0,125.0,110.0,168.0,139.0,189.0,166.0,100.0,118.0,107.0,103.0,115.0,126.0,99.0,196.0,119.0,143.0,125.0,147.0,97.0,145.0,117.0,109.0,158.0,88.0,92.0,122.0,103.0,138.0,102.0,90.0,111.0,180.0,133.0,106.0,171.0,159.0,180.0,146.0,71.0,103.0,105.0,103.0,101.0,88.0,176.0,150.0,73.0,187.0,100.0,146.0,105.0,84.0,133.0,44.0,141.0,114.0,99.0,109.0,109.0,95.0,146.0,100.0,139.0,126.0,129.0,79.0,117.0,62.0,95.0,131.0,112.0,113.0,74.0,83.0,101.0,137.0,110.0,106.0,100.0,136.0,107.0,80.0,123.0,81.0,134.0,142.0,144.0,92.0,71.0,93.0,122.0,163.0,151.0,125.0,81.0,85.0,126.0,96.0,144.0,83.0,95.0,171.0,155.0,89.0,76.0,160.0,146.0,124.0,78.0,97.0,99.0,162.0,111.0,107.0,132.0,113.0,88.0,120.0,118.0,117.0,105.0,173.0,122.0,170.0,84.0,96.0,125.0,100.0,93.0,129.0,105.0,128.0,106.0,108.0,108.0,154.0,102.0,57.0,106.0,147.0,90.0,136.0,114.0,156.0,153.0,188.0,152.0,99.0,109.0,88.0,163.0,151.0,102.0,114.0,100.0,131.0,104.0,148.0,120.0,110.0,111.0,102.0,134.0,87.0,79.0,75.0,179.0,85.0,129.0,143.0,130.0,87.0,119.0,117.0,73.0,141.0,194.0,181.0,128.0,109.0,139.0,111.0,123.0,159.0,135.0,85.0,158.0,105.0,107.0,109.0,148.0,113.0,138.0,108.0,99.0,103.0,111.0,196.0,162.0,96.0,184.0,81.0,147.0,179.0,140.0,112.0,151.0,109.0,125.0,85.0,112.0,177.0,158.0,119.0,142.0,100.0,87.0,101.0,162.0,197.0,117.0,142.0,134.0,79.0,122.0,74.0,171.0,181.0,179.0,164.0,104.0,91.0,91.0,139.0,119.0,146.0,184.0,122.0,165.0,124.0,111.0,106.0,129.0,90.0,86.0,92.0,113.0,111.0,114.0,193.0,155.0,191.0,141.0,95.0,142.0,123.0,96.0,138.0,128.0,102.0,146.0,101.0,108.0,122.0,71.0,106.0,100.0,106.0,104.0,114.0,108.0,146.0,129.0,133.0,161.0,108.0,136.0,155.0,119.0,96.0,108.0,78.0,107.0,128.0,128.0,161.0,151.0,146.0,126.0,100.0,112.0,167.0,144.0,77.0,115.0,150.0,120.0,161.0,137.0,128.0,124.0,80.0,106.0,155.0,113.0,109.0,112.0,99.0,182.0,115.0,194.0,129.0,112.0,124.0,152.0,112.0,157.0,122.0,179.0,102.0,105.0,118.0,87.0,180.0,106.0,95.0,165.0,117.0,115.0,152.0,178.0,130.0,95.0,117.0,122.0,95.0,126.0,139.0,116.0,99.0,117.0,92.0,137.0,61.0,90.0,90.0,165.0,125.0,129.0,88.0,196.0,189.0,158.0,103.0,146.0,147.0,99.0,124.0,101.0,81.0,133.0,173.0,118.0,84.0,105.0,122.0,140.0,98.0,87.0,156.0,93.0,107.0,105.0,109.0,90.0,125.0,119.0,116.0,105.0,144.0,100.0,100.0,166.0,131.0,116.0,158.0,127.0,96.0,131.0,82.0,193.0,95.0,137.0,136.0,72.0,168.0,123.0,115.0,101.0,197.0,172.0,102.0,112.0,143.0,143.0,138.0,173.0,97.0,144.0,83.0,129.0,119.0,94.0,102.0,115.0,151.0,184.0,94.0,181.0,135.0,95.0,99.0,89.0,80.0,139.0,90.0,141.0,140.0,147.0,97.0,107.0,189.0,83.0,117.0,108.0,117.0,180.0,100.0,95.0,104.0,120.0,82.0,134.0,91.0,119.0,100.0,175.0,135.0,86.0,148.0,134.0,120.0,71.0,74.0,88.0,115.0,124.0,74.0,97.0,120.0,154.0,144.0,137.0,119.0,136.0,114.0,137.0,105.0,114.0,126.0,132.0,158.0,123.0,85.0,84.0,145.0,135.0,139.0,173.0,99.0,194.0,83.0,89.0,99.0,125.0,80.0,166.0,110.0,81.0,195.0,154.0,117.0,84.0,117.0,94.0,96.0,75.0,180.0,130.0,84.0,120.0,84.0,139.0,91.0,91.0,99.0,163.0,145.0,125.0,76.0,129.0,68.0,124.0,114.0,130.0,125.0,87.0,97.0,116.0,117.0,111.0,122.0,107.0,86.0,91.0,77.0,132.0,105.0,57.0,127.0,129.0,100.0,128.0,90.0,84.0,88.0,186.0,187.0,131.0,164.0,189.0,116.0,84.0,114.0,88.0,84.0,124.0,97.0,110.0,103.0,85.0,125.0,198.0,87.0,99.0,91.0,95.0,99.0,92.0,154.0,121.0,78.0,130.0,111.0,98.0,143.0,119.0,108.0,118.0,133.0,197.0,151.0,109.0,121.0,100.0,124.0,93.0,143.0,103.0,176.0,73.0,111.0,112.0,132.0,82.0,123.0,188.0,67.0,89.0,173.0,109.0,108.0,96.0,124.0,150.0,183.0,124.0,181.0,92.0,152.0,111.0,106.0,174.0,168.0,105.0,138.0,106.0,117.0,68.0,112.0,119.0,112.0,92.0,183.0,94.0,108.0,90.0,125.0,132.0,128.0,94.0,114.0,102.0,111.0,128.0,92.0,104.0,104.0,94.0,97.0,100.0,102.0,128.0,147.0,90.0,103.0,157.0,167.0,179.0,136.0,107.0,91.0,117.0,123.0,120.0,106.0,155.0,101.0,120.0,127.0,80.0,162.0,199.0,167.0,145.0,115.0,112.0,145.0,111.0,98.0,154.0,165.0,99.0,68.0,123.0,91.0,195.0,156.0,93.0,121.0,101.0,56.0,162.0,95.0,125.0,136.0,129.0,130.0,107.0,140.0,144.0,107.0,158.0,121.0,129.0,90.0,142.0,169.0,99.0,127.0,118.0,122.0,125.0,168.0,129.0,110.0,80.0,115.0,127.0,164.0,93.0,158.0,126.0,129.0,134.0,102.0,187.0,173.0,94.0,108.0,97.0,83.0,114.0,149.0,117.0,111.0,112.0,116.0,141.0,175.0,92.0,130.0,120.0,174.0,106.0,105.0,95.0,126.0,65.0,99.0,102.0,120.0,102.0,109.0,140.0,153.0,100.0,147.0,81.0,187.0,162.0,136.0,121.0,108.0,181.0,154.0,128.0,137.0,123.0,106.0,190.0,88.0,170.0,89.0,101.0,122.0,121.0,126.0,93.0],\"yaxis\":\"y\",\"type\":\"scatter\"}],                        {\"template\":{\"data\":{\"histogram2dcontour\":[{\"type\":\"histogram2dcontour\",\"colorbar\":{\"outlinewidth\":0,\"ticks\":\"\"},\"colorscale\":[[0.0,\"#0d0887\"],[0.1111111111111111,\"#46039f\"],[0.2222222222222222,\"#7201a8\"],[0.3333333333333333,\"#9c179e\"],[0.4444444444444444,\"#bd3786\"],[0.5555555555555556,\"#d8576b\"],[0.6666666666666666,\"#ed7953\"],[0.7777777777777778,\"#fb9f3a\"],[0.8888888888888888,\"#fdca26\"],[1.0,\"#f0f921\"]]}],\"choropleth\":[{\"type\":\"choropleth\",\"colorbar\":{\"outlinewidth\":0,\"ticks\":\"\"}}],\"histogram2d\":[{\"type\":\"histogram2d\",\"colorbar\":{\"outlinewidth\":0,\"ticks\":\"\"},\"colorscale\":[[0.0,\"#0d0887\"],[0.1111111111111111,\"#46039f\"],[0.2222222222222222,\"#7201a8\"],[0.3333333333333333,\"#9c179e\"],[0.4444444444444444,\"#bd3786\"],[0.5555555555555556,\"#d8576b\"],[0.6666666666666666,\"#ed7953\"],[0.7777777777777778,\"#fb9f3a\"],[0.8888888888888888,\"#fdca26\"],[1.0,\"#f0f921\"]]}],\"heatmap\":[{\"type\":\"heatmap\",\"colorbar\":{\"outlinewidth\":0,\"ticks\":\"\"},\"colorscale\":[[0.0,\"#0d0887\"],[0.1111111111111111,\"#46039f\"],[0.2222222222222222,\"#7201a8\"],[0.3333333333333333,\"#9c179e\"],[0.4444444444444444,\"#bd3786\"],[0.5555555555555556,\"#d8576b\"],[0.6666666666666666,\"#ed7953\"],[0.7777777777777778,\"#fb9f3a\"],[0.8888888888888888,\"#fdca26\"],[1.0,\"#f0f921\"]]}],\"heatmapgl\":[{\"type\":\"heatmapgl\",\"colorbar\":{\"outlinewidth\":0,\"ticks\":\"\"},\"colorscale\":[[0.0,\"#0d0887\"],[0.1111111111111111,\"#46039f\"],[0.2222222222222222,\"#7201a8\"],[0.3333333333333333,\"#9c179e\"],[0.4444444444444444,\"#bd3786\"],[0.5555555555555556,\"#d8576b\"],[0.6666666666666666,\"#ed7953\"],[0.7777777777777778,\"#fb9f3a\"],[0.8888888888888888,\"#fdca26\"],[1.0,\"#f0f921\"]]}],\"contourcarpet\":[{\"type\":\"contourcarpet\",\"colorbar\":{\"outlinewidth\":0,\"ticks\":\"\"}}],\"contour\":[{\"type\":\"contour\",\"colorbar\":{\"outlinewidth\":0,\"ticks\":\"\"},\"colorscale\":[[0.0,\"#0d0887\"],[0.1111111111111111,\"#46039f\"],[0.2222222222222222,\"#7201a8\"],[0.3333333333333333,\"#9c179e\"],[0.4444444444444444,\"#bd3786\"],[0.5555555555555556,\"#d8576b\"],[0.6666666666666666,\"#ed7953\"],[0.7777777777777778,\"#fb9f3a\"],[0.8888888888888888,\"#fdca26\"],[1.0,\"#f0f921\"]]}],\"surface\":[{\"type\":\"surface\",\"colorbar\":{\"outlinewidth\":0,\"ticks\":\"\"},\"colorscale\":[[0.0,\"#0d0887\"],[0.1111111111111111,\"#46039f\"],[0.2222222222222222,\"#7201a8\"],[0.3333333333333333,\"#9c179e\"],[0.4444444444444444,\"#bd3786\"],[0.5555555555555556,\"#d8576b\"],[0.6666666666666666,\"#ed7953\"],[0.7777777777777778,\"#fb9f3a\"],[0.8888888888888888,\"#fdca26\"],[1.0,\"#f0f921\"]]}],\"mesh3d\":[{\"type\":\"mesh3d\",\"colorbar\":{\"outlinewidth\":0,\"ticks\":\"\"}}],\"scatter\":[{\"fillpattern\":{\"fillmode\":\"overlay\",\"size\":10,\"solidity\":0.2},\"type\":\"scatter\"}],\"parcoords\":[{\"type\":\"parcoords\",\"line\":{\"colorbar\":{\"outlinewidth\":0,\"ticks\":\"\"}}}],\"scatterpolargl\":[{\"type\":\"scatterpolargl\",\"marker\":{\"colorbar\":{\"outlinewidth\":0,\"ticks\":\"\"}}}],\"bar\":[{\"error_x\":{\"color\":\"#2a3f5f\"},\"error_y\":{\"color\":\"#2a3f5f\"},\"marker\":{\"line\":{\"color\":\"#E5ECF6\",\"width\":0.5},\"pattern\":{\"fillmode\":\"overlay\",\"size\":10,\"solidity\":0.2}},\"type\":\"bar\"}],\"scattergeo\":[{\"type\":\"scattergeo\",\"marker\":{\"colorbar\":{\"outlinewidth\":0,\"ticks\":\"\"}}}],\"scatterpolar\":[{\"type\":\"scatterpolar\",\"marker\":{\"colorbar\":{\"outlinewidth\":0,\"ticks\":\"\"}}}],\"histogram\":[{\"marker\":{\"pattern\":{\"fillmode\":\"overlay\",\"size\":10,\"solidity\":0.2}},\"type\":\"histogram\"}],\"scattergl\":[{\"type\":\"scattergl\",\"marker\":{\"colorbar\":{\"outlinewidth\":0,\"ticks\":\"\"}}}],\"scatter3d\":[{\"type\":\"scatter3d\",\"line\":{\"colorbar\":{\"outlinewidth\":0,\"ticks\":\"\"}},\"marker\":{\"colorbar\":{\"outlinewidth\":0,\"ticks\":\"\"}}}],\"scattermapbox\":[{\"type\":\"scattermapbox\",\"marker\":{\"colorbar\":{\"outlinewidth\":0,\"ticks\":\"\"}}}],\"scatterternary\":[{\"type\":\"scatterternary\",\"marker\":{\"colorbar\":{\"outlinewidth\":0,\"ticks\":\"\"}}}],\"scattercarpet\":[{\"type\":\"scattercarpet\",\"marker\":{\"colorbar\":{\"outlinewidth\":0,\"ticks\":\"\"}}}],\"carpet\":[{\"aaxis\":{\"endlinecolor\":\"#2a3f5f\",\"gridcolor\":\"white\",\"linecolor\":\"white\",\"minorgridcolor\":\"white\",\"startlinecolor\":\"#2a3f5f\"},\"baxis\":{\"endlinecolor\":\"#2a3f5f\",\"gridcolor\":\"white\",\"linecolor\":\"white\",\"minorgridcolor\":\"white\",\"startlinecolor\":\"#2a3f5f\"},\"type\":\"carpet\"}],\"table\":[{\"cells\":{\"fill\":{\"color\":\"#EBF0F8\"},\"line\":{\"color\":\"white\"}},\"header\":{\"fill\":{\"color\":\"#C8D4E3\"},\"line\":{\"color\":\"white\"}},\"type\":\"table\"}],\"barpolar\":[{\"marker\":{\"line\":{\"color\":\"#E5ECF6\",\"width\":0.5},\"pattern\":{\"fillmode\":\"overlay\",\"size\":10,\"solidity\":0.2}},\"type\":\"barpolar\"}],\"pie\":[{\"automargin\":true,\"type\":\"pie\"}]},\"layout\":{\"autotypenumbers\":\"strict\",\"colorway\":[\"#636efa\",\"#EF553B\",\"#00cc96\",\"#ab63fa\",\"#FFA15A\",\"#19d3f3\",\"#FF6692\",\"#B6E880\",\"#FF97FF\",\"#FECB52\"],\"font\":{\"color\":\"#2a3f5f\"},\"hovermode\":\"closest\",\"hoverlabel\":{\"align\":\"left\"},\"paper_bgcolor\":\"white\",\"plot_bgcolor\":\"#E5ECF6\",\"polar\":{\"bgcolor\":\"#E5ECF6\",\"angularaxis\":{\"gridcolor\":\"white\",\"linecolor\":\"white\",\"ticks\":\"\"},\"radialaxis\":{\"gridcolor\":\"white\",\"linecolor\":\"white\",\"ticks\":\"\"}},\"ternary\":{\"bgcolor\":\"#E5ECF6\",\"aaxis\":{\"gridcolor\":\"white\",\"linecolor\":\"white\",\"ticks\":\"\"},\"baxis\":{\"gridcolor\":\"white\",\"linecolor\":\"white\",\"ticks\":\"\"},\"caxis\":{\"gridcolor\":\"white\",\"linecolor\":\"white\",\"ticks\":\"\"}},\"coloraxis\":{\"colorbar\":{\"outlinewidth\":0,\"ticks\":\"\"}},\"colorscale\":{\"sequential\":[[0.0,\"#0d0887\"],[0.1111111111111111,\"#46039f\"],[0.2222222222222222,\"#7201a8\"],[0.3333333333333333,\"#9c179e\"],[0.4444444444444444,\"#bd3786\"],[0.5555555555555556,\"#d8576b\"],[0.6666666666666666,\"#ed7953\"],[0.7777777777777778,\"#fb9f3a\"],[0.8888888888888888,\"#fdca26\"],[1.0,\"#f0f921\"]],\"sequentialminus\":[[0.0,\"#0d0887\"],[0.1111111111111111,\"#46039f\"],[0.2222222222222222,\"#7201a8\"],[0.3333333333333333,\"#9c179e\"],[0.4444444444444444,\"#bd3786\"],[0.5555555555555556,\"#d8576b\"],[0.6666666666666666,\"#ed7953\"],[0.7777777777777778,\"#fb9f3a\"],[0.8888888888888888,\"#fdca26\"],[1.0,\"#f0f921\"]],\"diverging\":[[0,\"#8e0152\"],[0.1,\"#c51b7d\"],[0.2,\"#de77ae\"],[0.3,\"#f1b6da\"],[0.4,\"#fde0ef\"],[0.5,\"#f7f7f7\"],[0.6,\"#e6f5d0\"],[0.7,\"#b8e186\"],[0.8,\"#7fbc41\"],[0.9,\"#4d9221\"],[1,\"#276419\"]]},\"xaxis\":{\"gridcolor\":\"white\",\"linecolor\":\"white\",\"ticks\":\"\",\"title\":{\"standoff\":15},\"zerolinecolor\":\"white\",\"automargin\":true,\"zerolinewidth\":2},\"yaxis\":{\"gridcolor\":\"white\",\"linecolor\":\"white\",\"ticks\":\"\",\"title\":{\"standoff\":15},\"zerolinecolor\":\"white\",\"automargin\":true,\"zerolinewidth\":2},\"scene\":{\"xaxis\":{\"backgroundcolor\":\"#E5ECF6\",\"gridcolor\":\"white\",\"linecolor\":\"white\",\"showbackground\":true,\"ticks\":\"\",\"zerolinecolor\":\"white\",\"gridwidth\":2},\"yaxis\":{\"backgroundcolor\":\"#E5ECF6\",\"gridcolor\":\"white\",\"linecolor\":\"white\",\"showbackground\":true,\"ticks\":\"\",\"zerolinecolor\":\"white\",\"gridwidth\":2},\"zaxis\":{\"backgroundcolor\":\"#E5ECF6\",\"gridcolor\":\"white\",\"linecolor\":\"white\",\"showbackground\":true,\"ticks\":\"\",\"zerolinecolor\":\"white\",\"gridwidth\":2}},\"shapedefaults\":{\"line\":{\"color\":\"#2a3f5f\"}},\"annotationdefaults\":{\"arrowcolor\":\"#2a3f5f\",\"arrowhead\":0,\"arrowwidth\":1},\"geo\":{\"bgcolor\":\"white\",\"landcolor\":\"#E5ECF6\",\"subunitcolor\":\"white\",\"showland\":true,\"showlakes\":true,\"lakecolor\":\"white\"},\"title\":{\"x\":0.05},\"mapbox\":{\"style\":\"light\"}}},\"xaxis\":{\"anchor\":\"y\",\"domain\":[0.0,1.0],\"title\":{\"text\":\"Age\"},\"showgrid\":true,\"gridwidth\":1,\"gridcolor\":\"LightGrey\"},\"yaxis\":{\"anchor\":\"x\",\"domain\":[0.0,1.0],\"title\":{\"text\":\"Glucose\"},\"showgrid\":true,\"gridwidth\":1,\"gridcolor\":\"LightGrey\"},\"coloraxis\":{\"colorbar\":{\"title\":{\"text\":\"Outcome\"}},\"colorscale\":[[0.0,\"#440154\"],[0.1111111111111111,\"#482878\"],[0.2222222222222222,\"#3e4989\"],[0.3333333333333333,\"#31688e\"],[0.4444444444444444,\"#26828e\"],[0.5555555555555556,\"#1f9e89\"],[0.6666666666666666,\"#35b779\"],[0.7777777777777778,\"#6ece58\"],[0.8888888888888888,\"#b5de2b\"],[1.0,\"#fde725\"]]},\"legend\":{\"tracegroupgap\":0},\"margin\":{\"t\":60},\"width\":1000,\"height\":500,\"title\":{\"text\":\"Age vs Glucose Scatterplot\",\"x\":0.5},\"font\":{\"size\":12},\"plot_bgcolor\":\"white\"},                        {\"responsive\": true}                    ).then(function(){\n",
              "                            \n",
              "var gd = document.getElementById('ab0b9198-7b27-4dde-94ca-ad65c13b4658');\n",
              "var x = new MutationObserver(function (mutations, observer) {{\n",
              "        var display = window.getComputedStyle(gd).display;\n",
              "        if (!display || display === 'none') {{\n",
              "            console.log([gd, 'removed!']);\n",
              "            Plotly.purge(gd);\n",
              "            observer.disconnect();\n",
              "        }}\n",
              "}});\n",
              "\n",
              "// Listen for the removal of the full notebook cells\n",
              "var notebookContainer = gd.closest('#notebook-container');\n",
              "if (notebookContainer) {{\n",
              "    x.observe(notebookContainer, {childList: true});\n",
              "}}\n",
              "\n",
              "// Listen for the clearing of the current output cell\n",
              "var outputEl = gd.closest('.output');\n",
              "if (outputEl) {{\n",
              "    x.observe(outputEl, {childList: true});\n",
              "}}\n",
              "\n",
              "                        })                };                });            </script>        </div>"
            ]
          },
          "metadata": {}
        }
      ]
    },
    {
      "cell_type": "markdown",
      "source": [
        "Based on the scatterplot, there is no clear correlation between Age and Glucose levels in this dataset. The data points appear randomly distributed without any discernible upward or downward trend. Glucose values are concentrated across all age groups without significant clustering. The outcome variable (likely diabetes diagnosis) shows mixed results throughout the age and glucose ranges. This suggests that while both are risk factors, their relationship alone doesn't strongly predict the outcome pattern shown."
      ],
      "metadata": {
        "id": "Wn9_xIhILgZG"
      }
    },
    {
      "cell_type": "code",
      "source": [
        "fig=px.scatter(df_clean,x='Pregnancies',y='Glucose',color='Outcome',color_continuous_scale='Viridis')\n",
        "fig.update_layout(width=1000,height=500)\n",
        "fig.update_layout(title=\"Pregnancies vs Glucose Scatterplot\",xaxis_title=\"Pregnancies\",yaxis_title=\"Glucose\")\n",
        "fig.update_traces(marker=dict(size=5))\n",
        "fig.update_layout(\n",
        "    plot_bgcolor='white',\n",
        "    font=dict(size=12),\n",
        "    title_x=0.5\n",
        ")\n",
        "fig.update_xaxes(showgrid=True, gridwidth=1, gridcolor='LightGrey')\n",
        "fig.update_yaxes(showgrid=True, gridwidth=1, gridcolor='LightGrey')\n",
        "fig.show()"
      ],
      "metadata": {
        "id": "IfHZQlt1gpbE",
        "colab": {
          "base_uri": "https://localhost:8080/",
          "height": 517
        },
        "outputId": "c6890c0f-3648-410c-f032-41e9b65f9f31"
      },
      "execution_count": 104,
      "outputs": [
        {
          "output_type": "display_data",
          "data": {
            "text/html": [
              "<div>                            <div id=\"a646636a-d511-43fc-a72c-4cb7b2f9c46f\" class=\"plotly-graph-div\" style=\"height:500px; width:1000px;\"></div>            <script type=\"text/javascript\">                require([\"plotly\"], function(Plotly) {                    window.PLOTLYENV=window.PLOTLYENV || {};                                    if (document.getElementById(\"a646636a-d511-43fc-a72c-4cb7b2f9c46f\")) {                    Plotly.newPlot(                        \"a646636a-d511-43fc-a72c-4cb7b2f9c46f\",                        [{\"hovertemplate\":\"Pregnancies=%{x}\\u003cbr\\u003eGlucose=%{y}\\u003cbr\\u003eOutcome=%{marker.color}\\u003cextra\\u003e\\u003c\\u002fextra\\u003e\",\"legendgroup\":\"\",\"marker\":{\"color\":[1.0,0.0,1.0,0.0,1.0,0.0,1.0,0.0,1.0,1.0,0.0,1.0,0.0,1.0,1.0,1.0,1.0,1.0,0.0,1.0,0.0,0.0,1.0,1.0,1.0,1.0,1.0,0.0,0.0,0.0,0.0,1.0,0.0,0.0,0.0,0.0,0.0,1.0,1.0,1.0,0.0,0.0,0.0,1.0,0.0,1.0,0.0,0.0,1.0,0.0,0.0,0.0,0.0,1.0,0.0,0.0,1.0,0.0,0.0,0.0,0.0,1.0,0.0,0.0,1.0,0.0,1.0,0.0,0.0,0.0,1.0,0.0,1.0,0.0,0.0,0.0,0.0,0.0,1.0,0.0,0.0,0.0,0.0,0.0,1.0,0.0,0.0,0.0,1.0,0.0,0.0,0.0,0.0,1.0,0.0,0.0,0.0,0.0,0.0,1.0,1.0,0.0,0.0,0.0,0.0,0.0,0.0,0.0,0.0,1.0,1.0,1.0,0.0,0.0,1.0,1.0,1.0,0.0,0.0,0.0,1.0,0.0,0.0,0.0,1.0,1.0,0.0,0.0,1.0,1.0,1.0,1.0,1.0,0.0,0.0,0.0,0.0,0.0,0.0,0.0,0.0,0.0,0.0,1.0,0.0,0.0,0.0,0.0,0.0,0.0,0.0,0.0,1.0,0.0,1.0,1.0,0.0,0.0,0.0,1.0,0.0,0.0,0.0,0.0,1.0,1.0,0.0,0.0,0.0,0.0,1.0,1.0,0.0,0.0,0.0,1.0,0.0,1.0,0.0,1.0,0.0,0.0,0.0,0.0,0.0,1.0,1.0,1.0,1.0,1.0,0.0,0.0,1.0,1.0,0.0,1.0,0.0,1.0,1.0,1.0,0.0,0.0,0.0,0.0,0.0,0.0,1.0,1.0,0.0,1.0,0.0,0.0,0.0,1.0,1.0,1.0,1.0,0.0,1.0,1.0,1.0,1.0,0.0,0.0,0.0,0.0,0.0,1.0,0.0,0.0,1.0,1.0,0.0,0.0,0.0,1.0,1.0,1.0,1.0,0.0,0.0,0.0,1.0,1.0,0.0,1.0,0.0,0.0,0.0,0.0,0.0,0.0,0.0,0.0,1.0,1.0,0.0,0.0,0.0,1.0,0.0,1.0,0.0,0.0,1.0,0.0,1.0,0.0,0.0,1.0,1.0,0.0,0.0,0.0,0.0,0.0,1.0,0.0,0.0,0.0,1.0,0.0,0.0,1.0,1.0,0.0,0.0,1.0,0.0,0.0,0.0,1.0,1.0,1.0,0.0,0.0,1.0,0.0,1.0,0.0,1.0,1.0,0.0,1.0,0.0,0.0,1.0,0.0,1.0,1.0,0.0,0.0,1.0,0.0,1.0,0.0,0.0,1.0,0.0,1.0,0.0,1.0,1.0,1.0,0.0,0.0,1.0,0.0,1.0,0.0,0.0,0.0,1.0,0.0,0.0,0.0,0.0,1.0,1.0,1.0,0.0,0.0,0.0,0.0,0.0,0.0,0.0,0.0,0.0,1.0,0.0,0.0,0.0,0.0,0.0,1.0,1.0,1.0,0.0,1.0,1.0,0.0,0.0,1.0,0.0,0.0,1.0,0.0,0.0,1.0,1.0,0.0,0.0,0.0,0.0,1.0,0.0,0.0,1.0,0.0,0.0,0.0,0.0,0.0,0.0,0.0,1.0,1.0,1.0,0.0,0.0,1.0,0.0,0.0,1.0,0.0,0.0,1.0,0.0,1.0,1.0,0.0,1.0,0.0,1.0,0.0,1.0,0.0,1.0,1.0,0.0,0.0,0.0,0.0,1.0,1.0,0.0,1.0,0.0,1.0,0.0,0.0,0.0,0.0,1.0,1.0,0.0,1.0,0.0,1.0,0.0,0.0,0.0,0.0,0.0,1.0,0.0,0.0,0.0,0.0,1.0,0.0,0.0,1.0,1.0,1.0,0.0,0.0,1.0,0.0,0.0,1.0,0.0,0.0,0.0,1.0,0.0,0.0,1.0,0.0,0.0,0.0,0.0,0.0,0.0,0.0,0.0,0.0,1.0,0.0,0.0,0.0,0.0,0.0,0.0,0.0,1.0,0.0,0.0,0.0,1.0,0.0,0.0,0.0,1.0,1.0,0.0,0.0,0.0,0.0,0.0,0.0,0.0,1.0,0.0,0.0,0.0,0.0,1.0,0.0,0.0,0.0,1.0,0.0,0.0,0.0,1.0,0.0,0.0,0.0,1.0,0.0,0.0,0.0,0.0,1.0,1.0,0.0,0.0,0.0,0.0,0.0,0.0,1.0,0.0,0.0,0.0,0.0,0.0,0.0,0.0,0.0,0.0,0.0,0.0,1.0,0.0,0.0,0.0,1.0,1.0,1.0,1.0,0.0,0.0,1.0,1.0,0.0,0.0,0.0,0.0,0.0,0.0,0.0,0.0,0.0,0.0,0.0,0.0,0.0,1.0,1.0,0.0,0.0,0.0,0.0,0.0,0.0,0.0,1.0,0.0,0.0,0.0,0.0,0.0,0.0,0.0,1.0,0.0,1.0,1.0,0.0,0.0,0.0,1.0,0.0,1.0,0.0,1.0,0.0,1.0,0.0,1.0,0.0,0.0,1.0,0.0,0.0,1.0,0.0,0.0,0.0,0.0,1.0,1.0,0.0,1.0,0.0,0.0,0.0,0.0,1.0,1.0,0.0,1.0,0.0,0.0,0.0,1.0,1.0,0.0,0.0,0.0,0.0,0.0,0.0,0.0,0.0,0.0,0.0,1.0,0.0,0.0,0.0,0.0,1.0,0.0,0.0,1.0,0.0,0.0,0.0,1.0,0.0,0.0,0.0,1.0,1.0,1.0,0.0,0.0,0.0,0.0,0.0,0.0,1.0,0.0,0.0,0.0,1.0,0.0,1.0,1.0,1.0,1.0,0.0,1.0,1.0,0.0,0.0,0.0,0.0,0.0,0.0,0.0,1.0,1.0,0.0,1.0,0.0,0.0,1.0,0.0,1.0,0.0,0.0,0.0,0.0,0.0,1.0,0.0,1.0,0.0,1.0,0.0,1.0,1.0,0.0,0.0,0.0,0.0,1.0,1.0,0.0,0.0,0.0,1.0,0.0,1.0,1.0,0.0,0.0,1.0,0.0,0.0,1.0,1.0,0.0,0.0,1.0,0.0,0.0,1.0,0.0,0.0,0.0,0.0,0.0,0.0,0.0,1.0,1.0,1.0,0.0,0.0,0.0,0.0,0.0,0.0,1.0,1.0,0.0,0.0,1.0,0.0,0.0,1.0,0.0,1.0,1.0,1.0,0.0,0.0,1.0,1.0,1.0,0.0,1.0,0.0,1.0,0.0,1.0,0.0,0.0,0.0,0.0,1.0,0.0],\"coloraxis\":\"coloraxis\",\"symbol\":\"circle\",\"size\":5},\"mode\":\"markers\",\"name\":\"\",\"orientation\":\"v\",\"showlegend\":false,\"x\":[6.0,1.0,8.0,1.0,0.0,5.0,3.0,10.0,2.0,8.0,4.0,10.0,10.0,1.0,5.0,7.0,0.0,7.0,1.0,1.0,3.0,8.0,7.0,9.0,11.0,10.0,7.0,1.0,13.0,5.0,5.0,3.0,3.0,6.0,10.0,4.0,11.0,9.0,2.0,4.0,3.0,7.0,7.0,9.0,7.0,0.0,1.0,2.0,7.0,7.0,1.0,1.0,5.0,8.0,7.0,1.0,7.0,0.0,0.0,0.0,2.0,8.0,5.0,2.0,7.0,5.0,0.0,2.0,1.0,4.0,2.0,5.0,13.0,4.0,1.0,1.0,7.0,5.0,0.0,2.0,3.0,2.0,7.0,0.0,5.0,2.0,13.0,2.0,3.0,1.0,1.0,4.0,7.0,4.0,2.0,6.0,2.0,1.0,6.0,1.0,1.0,1.0,0.0,1.0,2.0,1.0,1.0,4.0,3.0,0.0,3.0,8.0,1.0,4.0,7.0,4.0,5.0,5.0,4.0,4.0,0.0,6.0,2.0,5.0,0.0,1.0,3.0,1.0,1.0,0.0,4.0,9.0,3.0,8.0,2.0,2.0,0.0,0.0,0.0,5.0,3.0,5.0,2.0,10.0,4.0,0.0,9.0,2.0,5.0,2.0,1.0,4.0,9.0,1.0,8.0,7.0,2.0,1.0,2.0,3.0,4.0,7.0,0.0,2.0,0.0,6.0,3.0,4.0,4.0,3.0,6.0,6.0,2.0,1.0,2.0,8.0,6.0,0.0,5.0,5.0,6.0,0.0,1.0,5.0,4.0,7.0,8.0,1.0,8.0,5.0,3.0,9.0,7.0,11.0,8.0,5.0,1.0,3.0,4.0,4.0,0.0,1.0,0.0,2.0,6.0,5.0,8.0,5.0,1.0,7.0,2.0,0.0,7.0,0.0,9.0,12.0,5.0,6.0,5.0,5.0,0.0,2.0,7.0,7.0,1.0,1.0,0.0,3.0,4.0,0.0,4.0,6.0,1.0,4.0,3.0,4.0,7.0,0.0,9.0,0.0,1.0,4.0,3.0,6.0,2.0,9.0,10.0,0.0,9.0,1.0,9.0,2.0,2.0,0.0,12.0,1.0,3.0,2.0,1.0,11.0,3.0,3.0,4.0,3.0,4.0,5.0,0.0,2.0,0.0,2.0,10.0,2.0,3.0,1.0,13.0,2.0,7.0,0.0,5.0,2.0,0.0,10.0,7.0,7.0,2.0,7.0,5.0,1.0,4.0,5.0,0.0,0.0,2.0,1.0,0.0,6.0,2.0,0.0,3.0,8.0,0.0,2.0,5.0,5.0,3.0,2.0,10.0,0.0,0.0,2.0,6.0,0.0,2.0,3.0,7.0,2.0,3.0,3.0,3.0,6.0,4.0,3.0,0.0,13.0,2.0,1.0,1.0,10.0,2.0,6.0,8.0,2.0,1.0,12.0,1.0,0.0,0.0,5.0,9.0,7.0,1.0,1.0,1.0,5.0,8.0,8.0,1.0,3.0,3.0,5.0,4.0,4.0,3.0,1.0,3.0,9.0,1.0,13.0,12.0,1.0,5.0,5.0,5.0,4.0,4.0,5.0,6.0,0.0,3.0,1.0,3.0,0.0,0.0,2.0,2.0,12.0,0.0,1.0,4.0,0.0,1.0,0.0,1.0,1.0,1.0,1.0,5.0,8.0,5.0,3.0,1.0,5.0,1.0,4.0,4.0,2.0,3.0,0.0,3.0,3.0,4.0,6.0,5.0,9.0,5.0,2.0,4.0,0.0,8.0,1.0,6.0,1.0,1.0,1.0,0.0,3.0,1.0,4.0,1.0,3.0,1.0,2.0,0.0,2.0,8.0,4.0,0.0,1.0,0.0,1.0,2.0,3.0,1.0,2.0,1.0,0.0,12.0,5.0,1.0,6.0,0.0,2.0,4.0,8.0,4.0,0.0,1.0,0.0,0.0,0.0,1.0,2.0,0.0,2.0,2.0,3.0,1.0,5.0,10.0,9.0,9.0,1.0,8.0,5.0,10.0,0.0,0.0,0.0,8.0,6.0,1.0,0.0,0.0,7.0,4.0,0.0,2.0,7.0,8.0,4.0,3.0,0.0,4.0,0.0,0.0,0.0,1.0,0.0,4.0,8.0,2.0,2.0,4.0,4.0,3.0,6.0,5.0,2.0,7.0,6.0,2.0,3.0,6.0,7.0,3.0,10.0,0.0,1.0,2.0,8.0,12.0,0.0,9.0,2.0,3.0,3.0,9.0,7.0,13.0,6.0,2.0,3.0,6.0,9.0,3.0,3.0,1.0,3.0,0.0,0.0,2.0,0.0,1.0,6.0,1.0,4.0,0.0,0.0,0.0,3.0,8.0,3.0,10.0,4.0,1.0,8.0,5.0,4.0,1.0,4.0,1.0,3.0,6.0,1.0,1.0,7.0,1.0,8.0,11.0,11.0,6.0,0.0,1.0,6.0,0.0,2.0,1.0,6.0,4.0,0.0,3.0,2.0,3.0,2.0,1.0,1.0,6.0,2.0,10.0,2.0,0.0,6.0,12.0,8.0,8.0,1.0,8.0,6.0,3.0,0.0,11.0,2.0,3.0,2.0,6.0,0.0,0.0,1.0,1.0,1.0,1.0,6.0,1.0,7.0,4.0,1.0,1.0,1.0,0.0,1.0,3.0,3.0,7.0,6.0,11.0,3.0,6.0,2.0,9.0,0.0,2.0,2.0,6.0,0.0,2.0,4.0,0.0,0.0,5.0,4.0,7.0,0.0,2.0,1.0,10.0,13.0,5.0,2.0,7.0,1.0,0.0,4.0,6.0,4.0,3.0,2.0,1.0,0.0,11.0,0.0,1.0,1.0,5.0,2.0,1.0,2.0,2.0,1.0,11.0,3.0,10.0,1.0,8.0,9.0,6.0,1.0,4.0,10.0,6.0,9.0,6.0,1.0,10.0,3.0,8.0,6.0,9.0,0.0,3.0,2.0,2.0,0.0,0.0,4.0,5.0,2.0,3.0,1.0,1.0,1.0,8.0,13.0,2.0,7.0,2.0,7.0,3.0,0.0,4.0,4.0,2.0,6.0,1.0,2.0,4.0,6.0,10.0,2.0,9.0,2.0,3.0,5.0,10.0,0.0,3.0,7.0,3.0,10.0,1.0,5.0,4.0,1.0,1.0,5.0,1.0,4.0,1.0,0.0,2.0,2.0,3.0,8.0,2.0,2.0,2.0,4.0,0.0,8.0,2.0,1.0,11.0,3.0,1.0,9.0,13.0,12.0,1.0,1.0,3.0,6.0,4.0,1.0,3.0,0.0,8.0,1.0,7.0,0.0,1.0,6.0,2.0,9.0,9.0,10.0,2.0,5.0,1.0,1.0],\"xaxis\":\"x\",\"y\":[148.0,85.0,183.0,89.0,137.0,116.0,78.0,115.0,197.0,125.0,110.0,168.0,139.0,189.0,166.0,100.0,118.0,107.0,103.0,115.0,126.0,99.0,196.0,119.0,143.0,125.0,147.0,97.0,145.0,117.0,109.0,158.0,88.0,92.0,122.0,103.0,138.0,102.0,90.0,111.0,180.0,133.0,106.0,171.0,159.0,180.0,146.0,71.0,103.0,105.0,103.0,101.0,88.0,176.0,150.0,73.0,187.0,100.0,146.0,105.0,84.0,133.0,44.0,141.0,114.0,99.0,109.0,109.0,95.0,146.0,100.0,139.0,126.0,129.0,79.0,117.0,62.0,95.0,131.0,112.0,113.0,74.0,83.0,101.0,137.0,110.0,106.0,100.0,136.0,107.0,80.0,123.0,81.0,134.0,142.0,144.0,92.0,71.0,93.0,122.0,163.0,151.0,125.0,81.0,85.0,126.0,96.0,144.0,83.0,95.0,171.0,155.0,89.0,76.0,160.0,146.0,124.0,78.0,97.0,99.0,162.0,111.0,107.0,132.0,113.0,88.0,120.0,118.0,117.0,105.0,173.0,122.0,170.0,84.0,96.0,125.0,100.0,93.0,129.0,105.0,128.0,106.0,108.0,108.0,154.0,102.0,57.0,106.0,147.0,90.0,136.0,114.0,156.0,153.0,188.0,152.0,99.0,109.0,88.0,163.0,151.0,102.0,114.0,100.0,131.0,104.0,148.0,120.0,110.0,111.0,102.0,134.0,87.0,79.0,75.0,179.0,85.0,129.0,143.0,130.0,87.0,119.0,117.0,73.0,141.0,194.0,181.0,128.0,109.0,139.0,111.0,123.0,159.0,135.0,85.0,158.0,105.0,107.0,109.0,148.0,113.0,138.0,108.0,99.0,103.0,111.0,196.0,162.0,96.0,184.0,81.0,147.0,179.0,140.0,112.0,151.0,109.0,125.0,85.0,112.0,177.0,158.0,119.0,142.0,100.0,87.0,101.0,162.0,197.0,117.0,142.0,134.0,79.0,122.0,74.0,171.0,181.0,179.0,164.0,104.0,91.0,91.0,139.0,119.0,146.0,184.0,122.0,165.0,124.0,111.0,106.0,129.0,90.0,86.0,92.0,113.0,111.0,114.0,193.0,155.0,191.0,141.0,95.0,142.0,123.0,96.0,138.0,128.0,102.0,146.0,101.0,108.0,122.0,71.0,106.0,100.0,106.0,104.0,114.0,108.0,146.0,129.0,133.0,161.0,108.0,136.0,155.0,119.0,96.0,108.0,78.0,107.0,128.0,128.0,161.0,151.0,146.0,126.0,100.0,112.0,167.0,144.0,77.0,115.0,150.0,120.0,161.0,137.0,128.0,124.0,80.0,106.0,155.0,113.0,109.0,112.0,99.0,182.0,115.0,194.0,129.0,112.0,124.0,152.0,112.0,157.0,122.0,179.0,102.0,105.0,118.0,87.0,180.0,106.0,95.0,165.0,117.0,115.0,152.0,178.0,130.0,95.0,117.0,122.0,95.0,126.0,139.0,116.0,99.0,117.0,92.0,137.0,61.0,90.0,90.0,165.0,125.0,129.0,88.0,196.0,189.0,158.0,103.0,146.0,147.0,99.0,124.0,101.0,81.0,133.0,173.0,118.0,84.0,105.0,122.0,140.0,98.0,87.0,156.0,93.0,107.0,105.0,109.0,90.0,125.0,119.0,116.0,105.0,144.0,100.0,100.0,166.0,131.0,116.0,158.0,127.0,96.0,131.0,82.0,193.0,95.0,137.0,136.0,72.0,168.0,123.0,115.0,101.0,197.0,172.0,102.0,112.0,143.0,143.0,138.0,173.0,97.0,144.0,83.0,129.0,119.0,94.0,102.0,115.0,151.0,184.0,94.0,181.0,135.0,95.0,99.0,89.0,80.0,139.0,90.0,141.0,140.0,147.0,97.0,107.0,189.0,83.0,117.0,108.0,117.0,180.0,100.0,95.0,104.0,120.0,82.0,134.0,91.0,119.0,100.0,175.0,135.0,86.0,148.0,134.0,120.0,71.0,74.0,88.0,115.0,124.0,74.0,97.0,120.0,154.0,144.0,137.0,119.0,136.0,114.0,137.0,105.0,114.0,126.0,132.0,158.0,123.0,85.0,84.0,145.0,135.0,139.0,173.0,99.0,194.0,83.0,89.0,99.0,125.0,80.0,166.0,110.0,81.0,195.0,154.0,117.0,84.0,117.0,94.0,96.0,75.0,180.0,130.0,84.0,120.0,84.0,139.0,91.0,91.0,99.0,163.0,145.0,125.0,76.0,129.0,68.0,124.0,114.0,130.0,125.0,87.0,97.0,116.0,117.0,111.0,122.0,107.0,86.0,91.0,77.0,132.0,105.0,57.0,127.0,129.0,100.0,128.0,90.0,84.0,88.0,186.0,187.0,131.0,164.0,189.0,116.0,84.0,114.0,88.0,84.0,124.0,97.0,110.0,103.0,85.0,125.0,198.0,87.0,99.0,91.0,95.0,99.0,92.0,154.0,121.0,78.0,130.0,111.0,98.0,143.0,119.0,108.0,118.0,133.0,197.0,151.0,109.0,121.0,100.0,124.0,93.0,143.0,103.0,176.0,73.0,111.0,112.0,132.0,82.0,123.0,188.0,67.0,89.0,173.0,109.0,108.0,96.0,124.0,150.0,183.0,124.0,181.0,92.0,152.0,111.0,106.0,174.0,168.0,105.0,138.0,106.0,117.0,68.0,112.0,119.0,112.0,92.0,183.0,94.0,108.0,90.0,125.0,132.0,128.0,94.0,114.0,102.0,111.0,128.0,92.0,104.0,104.0,94.0,97.0,100.0,102.0,128.0,147.0,90.0,103.0,157.0,167.0,179.0,136.0,107.0,91.0,117.0,123.0,120.0,106.0,155.0,101.0,120.0,127.0,80.0,162.0,199.0,167.0,145.0,115.0,112.0,145.0,111.0,98.0,154.0,165.0,99.0,68.0,123.0,91.0,195.0,156.0,93.0,121.0,101.0,56.0,162.0,95.0,125.0,136.0,129.0,130.0,107.0,140.0,144.0,107.0,158.0,121.0,129.0,90.0,142.0,169.0,99.0,127.0,118.0,122.0,125.0,168.0,129.0,110.0,80.0,115.0,127.0,164.0,93.0,158.0,126.0,129.0,134.0,102.0,187.0,173.0,94.0,108.0,97.0,83.0,114.0,149.0,117.0,111.0,112.0,116.0,141.0,175.0,92.0,130.0,120.0,174.0,106.0,105.0,95.0,126.0,65.0,99.0,102.0,120.0,102.0,109.0,140.0,153.0,100.0,147.0,81.0,187.0,162.0,136.0,121.0,108.0,181.0,154.0,128.0,137.0,123.0,106.0,190.0,88.0,170.0,89.0,101.0,122.0,121.0,126.0,93.0],\"yaxis\":\"y\",\"type\":\"scatter\"}],                        {\"template\":{\"data\":{\"histogram2dcontour\":[{\"type\":\"histogram2dcontour\",\"colorbar\":{\"outlinewidth\":0,\"ticks\":\"\"},\"colorscale\":[[0.0,\"#0d0887\"],[0.1111111111111111,\"#46039f\"],[0.2222222222222222,\"#7201a8\"],[0.3333333333333333,\"#9c179e\"],[0.4444444444444444,\"#bd3786\"],[0.5555555555555556,\"#d8576b\"],[0.6666666666666666,\"#ed7953\"],[0.7777777777777778,\"#fb9f3a\"],[0.8888888888888888,\"#fdca26\"],[1.0,\"#f0f921\"]]}],\"choropleth\":[{\"type\":\"choropleth\",\"colorbar\":{\"outlinewidth\":0,\"ticks\":\"\"}}],\"histogram2d\":[{\"type\":\"histogram2d\",\"colorbar\":{\"outlinewidth\":0,\"ticks\":\"\"},\"colorscale\":[[0.0,\"#0d0887\"],[0.1111111111111111,\"#46039f\"],[0.2222222222222222,\"#7201a8\"],[0.3333333333333333,\"#9c179e\"],[0.4444444444444444,\"#bd3786\"],[0.5555555555555556,\"#d8576b\"],[0.6666666666666666,\"#ed7953\"],[0.7777777777777778,\"#fb9f3a\"],[0.8888888888888888,\"#fdca26\"],[1.0,\"#f0f921\"]]}],\"heatmap\":[{\"type\":\"heatmap\",\"colorbar\":{\"outlinewidth\":0,\"ticks\":\"\"},\"colorscale\":[[0.0,\"#0d0887\"],[0.1111111111111111,\"#46039f\"],[0.2222222222222222,\"#7201a8\"],[0.3333333333333333,\"#9c179e\"],[0.4444444444444444,\"#bd3786\"],[0.5555555555555556,\"#d8576b\"],[0.6666666666666666,\"#ed7953\"],[0.7777777777777778,\"#fb9f3a\"],[0.8888888888888888,\"#fdca26\"],[1.0,\"#f0f921\"]]}],\"heatmapgl\":[{\"type\":\"heatmapgl\",\"colorbar\":{\"outlinewidth\":0,\"ticks\":\"\"},\"colorscale\":[[0.0,\"#0d0887\"],[0.1111111111111111,\"#46039f\"],[0.2222222222222222,\"#7201a8\"],[0.3333333333333333,\"#9c179e\"],[0.4444444444444444,\"#bd3786\"],[0.5555555555555556,\"#d8576b\"],[0.6666666666666666,\"#ed7953\"],[0.7777777777777778,\"#fb9f3a\"],[0.8888888888888888,\"#fdca26\"],[1.0,\"#f0f921\"]]}],\"contourcarpet\":[{\"type\":\"contourcarpet\",\"colorbar\":{\"outlinewidth\":0,\"ticks\":\"\"}}],\"contour\":[{\"type\":\"contour\",\"colorbar\":{\"outlinewidth\":0,\"ticks\":\"\"},\"colorscale\":[[0.0,\"#0d0887\"],[0.1111111111111111,\"#46039f\"],[0.2222222222222222,\"#7201a8\"],[0.3333333333333333,\"#9c179e\"],[0.4444444444444444,\"#bd3786\"],[0.5555555555555556,\"#d8576b\"],[0.6666666666666666,\"#ed7953\"],[0.7777777777777778,\"#fb9f3a\"],[0.8888888888888888,\"#fdca26\"],[1.0,\"#f0f921\"]]}],\"surface\":[{\"type\":\"surface\",\"colorbar\":{\"outlinewidth\":0,\"ticks\":\"\"},\"colorscale\":[[0.0,\"#0d0887\"],[0.1111111111111111,\"#46039f\"],[0.2222222222222222,\"#7201a8\"],[0.3333333333333333,\"#9c179e\"],[0.4444444444444444,\"#bd3786\"],[0.5555555555555556,\"#d8576b\"],[0.6666666666666666,\"#ed7953\"],[0.7777777777777778,\"#fb9f3a\"],[0.8888888888888888,\"#fdca26\"],[1.0,\"#f0f921\"]]}],\"mesh3d\":[{\"type\":\"mesh3d\",\"colorbar\":{\"outlinewidth\":0,\"ticks\":\"\"}}],\"scatter\":[{\"fillpattern\":{\"fillmode\":\"overlay\",\"size\":10,\"solidity\":0.2},\"type\":\"scatter\"}],\"parcoords\":[{\"type\":\"parcoords\",\"line\":{\"colorbar\":{\"outlinewidth\":0,\"ticks\":\"\"}}}],\"scatterpolargl\":[{\"type\":\"scatterpolargl\",\"marker\":{\"colorbar\":{\"outlinewidth\":0,\"ticks\":\"\"}}}],\"bar\":[{\"error_x\":{\"color\":\"#2a3f5f\"},\"error_y\":{\"color\":\"#2a3f5f\"},\"marker\":{\"line\":{\"color\":\"#E5ECF6\",\"width\":0.5},\"pattern\":{\"fillmode\":\"overlay\",\"size\":10,\"solidity\":0.2}},\"type\":\"bar\"}],\"scattergeo\":[{\"type\":\"scattergeo\",\"marker\":{\"colorbar\":{\"outlinewidth\":0,\"ticks\":\"\"}}}],\"scatterpolar\":[{\"type\":\"scatterpolar\",\"marker\":{\"colorbar\":{\"outlinewidth\":0,\"ticks\":\"\"}}}],\"histogram\":[{\"marker\":{\"pattern\":{\"fillmode\":\"overlay\",\"size\":10,\"solidity\":0.2}},\"type\":\"histogram\"}],\"scattergl\":[{\"type\":\"scattergl\",\"marker\":{\"colorbar\":{\"outlinewidth\":0,\"ticks\":\"\"}}}],\"scatter3d\":[{\"type\":\"scatter3d\",\"line\":{\"colorbar\":{\"outlinewidth\":0,\"ticks\":\"\"}},\"marker\":{\"colorbar\":{\"outlinewidth\":0,\"ticks\":\"\"}}}],\"scattermapbox\":[{\"type\":\"scattermapbox\",\"marker\":{\"colorbar\":{\"outlinewidth\":0,\"ticks\":\"\"}}}],\"scatterternary\":[{\"type\":\"scatterternary\",\"marker\":{\"colorbar\":{\"outlinewidth\":0,\"ticks\":\"\"}}}],\"scattercarpet\":[{\"type\":\"scattercarpet\",\"marker\":{\"colorbar\":{\"outlinewidth\":0,\"ticks\":\"\"}}}],\"carpet\":[{\"aaxis\":{\"endlinecolor\":\"#2a3f5f\",\"gridcolor\":\"white\",\"linecolor\":\"white\",\"minorgridcolor\":\"white\",\"startlinecolor\":\"#2a3f5f\"},\"baxis\":{\"endlinecolor\":\"#2a3f5f\",\"gridcolor\":\"white\",\"linecolor\":\"white\",\"minorgridcolor\":\"white\",\"startlinecolor\":\"#2a3f5f\"},\"type\":\"carpet\"}],\"table\":[{\"cells\":{\"fill\":{\"color\":\"#EBF0F8\"},\"line\":{\"color\":\"white\"}},\"header\":{\"fill\":{\"color\":\"#C8D4E3\"},\"line\":{\"color\":\"white\"}},\"type\":\"table\"}],\"barpolar\":[{\"marker\":{\"line\":{\"color\":\"#E5ECF6\",\"width\":0.5},\"pattern\":{\"fillmode\":\"overlay\",\"size\":10,\"solidity\":0.2}},\"type\":\"barpolar\"}],\"pie\":[{\"automargin\":true,\"type\":\"pie\"}]},\"layout\":{\"autotypenumbers\":\"strict\",\"colorway\":[\"#636efa\",\"#EF553B\",\"#00cc96\",\"#ab63fa\",\"#FFA15A\",\"#19d3f3\",\"#FF6692\",\"#B6E880\",\"#FF97FF\",\"#FECB52\"],\"font\":{\"color\":\"#2a3f5f\"},\"hovermode\":\"closest\",\"hoverlabel\":{\"align\":\"left\"},\"paper_bgcolor\":\"white\",\"plot_bgcolor\":\"#E5ECF6\",\"polar\":{\"bgcolor\":\"#E5ECF6\",\"angularaxis\":{\"gridcolor\":\"white\",\"linecolor\":\"white\",\"ticks\":\"\"},\"radialaxis\":{\"gridcolor\":\"white\",\"linecolor\":\"white\",\"ticks\":\"\"}},\"ternary\":{\"bgcolor\":\"#E5ECF6\",\"aaxis\":{\"gridcolor\":\"white\",\"linecolor\":\"white\",\"ticks\":\"\"},\"baxis\":{\"gridcolor\":\"white\",\"linecolor\":\"white\",\"ticks\":\"\"},\"caxis\":{\"gridcolor\":\"white\",\"linecolor\":\"white\",\"ticks\":\"\"}},\"coloraxis\":{\"colorbar\":{\"outlinewidth\":0,\"ticks\":\"\"}},\"colorscale\":{\"sequential\":[[0.0,\"#0d0887\"],[0.1111111111111111,\"#46039f\"],[0.2222222222222222,\"#7201a8\"],[0.3333333333333333,\"#9c179e\"],[0.4444444444444444,\"#bd3786\"],[0.5555555555555556,\"#d8576b\"],[0.6666666666666666,\"#ed7953\"],[0.7777777777777778,\"#fb9f3a\"],[0.8888888888888888,\"#fdca26\"],[1.0,\"#f0f921\"]],\"sequentialminus\":[[0.0,\"#0d0887\"],[0.1111111111111111,\"#46039f\"],[0.2222222222222222,\"#7201a8\"],[0.3333333333333333,\"#9c179e\"],[0.4444444444444444,\"#bd3786\"],[0.5555555555555556,\"#d8576b\"],[0.6666666666666666,\"#ed7953\"],[0.7777777777777778,\"#fb9f3a\"],[0.8888888888888888,\"#fdca26\"],[1.0,\"#f0f921\"]],\"diverging\":[[0,\"#8e0152\"],[0.1,\"#c51b7d\"],[0.2,\"#de77ae\"],[0.3,\"#f1b6da\"],[0.4,\"#fde0ef\"],[0.5,\"#f7f7f7\"],[0.6,\"#e6f5d0\"],[0.7,\"#b8e186\"],[0.8,\"#7fbc41\"],[0.9,\"#4d9221\"],[1,\"#276419\"]]},\"xaxis\":{\"gridcolor\":\"white\",\"linecolor\":\"white\",\"ticks\":\"\",\"title\":{\"standoff\":15},\"zerolinecolor\":\"white\",\"automargin\":true,\"zerolinewidth\":2},\"yaxis\":{\"gridcolor\":\"white\",\"linecolor\":\"white\",\"ticks\":\"\",\"title\":{\"standoff\":15},\"zerolinecolor\":\"white\",\"automargin\":true,\"zerolinewidth\":2},\"scene\":{\"xaxis\":{\"backgroundcolor\":\"#E5ECF6\",\"gridcolor\":\"white\",\"linecolor\":\"white\",\"showbackground\":true,\"ticks\":\"\",\"zerolinecolor\":\"white\",\"gridwidth\":2},\"yaxis\":{\"backgroundcolor\":\"#E5ECF6\",\"gridcolor\":\"white\",\"linecolor\":\"white\",\"showbackground\":true,\"ticks\":\"\",\"zerolinecolor\":\"white\",\"gridwidth\":2},\"zaxis\":{\"backgroundcolor\":\"#E5ECF6\",\"gridcolor\":\"white\",\"linecolor\":\"white\",\"showbackground\":true,\"ticks\":\"\",\"zerolinecolor\":\"white\",\"gridwidth\":2}},\"shapedefaults\":{\"line\":{\"color\":\"#2a3f5f\"}},\"annotationdefaults\":{\"arrowcolor\":\"#2a3f5f\",\"arrowhead\":0,\"arrowwidth\":1},\"geo\":{\"bgcolor\":\"white\",\"landcolor\":\"#E5ECF6\",\"subunitcolor\":\"white\",\"showland\":true,\"showlakes\":true,\"lakecolor\":\"white\"},\"title\":{\"x\":0.05},\"mapbox\":{\"style\":\"light\"}}},\"xaxis\":{\"anchor\":\"y\",\"domain\":[0.0,1.0],\"title\":{\"text\":\"Pregnancies\"},\"showgrid\":true,\"gridwidth\":1,\"gridcolor\":\"LightGrey\"},\"yaxis\":{\"anchor\":\"x\",\"domain\":[0.0,1.0],\"title\":{\"text\":\"Glucose\"},\"showgrid\":true,\"gridwidth\":1,\"gridcolor\":\"LightGrey\"},\"coloraxis\":{\"colorbar\":{\"title\":{\"text\":\"Outcome\"}},\"colorscale\":[[0.0,\"#440154\"],[0.1111111111111111,\"#482878\"],[0.2222222222222222,\"#3e4989\"],[0.3333333333333333,\"#31688e\"],[0.4444444444444444,\"#26828e\"],[0.5555555555555556,\"#1f9e89\"],[0.6666666666666666,\"#35b779\"],[0.7777777777777778,\"#6ece58\"],[0.8888888888888888,\"#b5de2b\"],[1.0,\"#fde725\"]]},\"legend\":{\"tracegroupgap\":0},\"margin\":{\"t\":60},\"width\":1000,\"height\":500,\"title\":{\"text\":\"Pregnancies vs Glucose Scatterplot\",\"x\":0.5},\"font\":{\"size\":12},\"plot_bgcolor\":\"white\"},                        {\"responsive\": true}                    ).then(function(){\n",
              "                            \n",
              "var gd = document.getElementById('a646636a-d511-43fc-a72c-4cb7b2f9c46f');\n",
              "var x = new MutationObserver(function (mutations, observer) {{\n",
              "        var display = window.getComputedStyle(gd).display;\n",
              "        if (!display || display === 'none') {{\n",
              "            console.log([gd, 'removed!']);\n",
              "            Plotly.purge(gd);\n",
              "            observer.disconnect();\n",
              "        }}\n",
              "}});\n",
              "\n",
              "// Listen for the removal of the full notebook cells\n",
              "var notebookContainer = gd.closest('#notebook-container');\n",
              "if (notebookContainer) {{\n",
              "    x.observe(notebookContainer, {childList: true});\n",
              "}}\n",
              "\n",
              "// Listen for the clearing of the current output cell\n",
              "var outputEl = gd.closest('.output');\n",
              "if (outputEl) {{\n",
              "    x.observe(outputEl, {childList: true});\n",
              "}}\n",
              "\n",
              "                        })                };                });            </script>        </div>"
            ]
          },
          "metadata": {}
        }
      ]
    },
    {
      "cell_type": "markdown",
      "source": [
        "Based on the displayed axes, this scatterplot appears to show a weak positive correlation between the number of pregnancies and glucose levels. The concentration of higher glucose values seems to increase slightly with more pregnancies, suggesting gestation may influence glucose metabolism. However, the relationship is not strongly deterministic, as high glucose values are present across all pregnancy counts. This pattern indicates that while pregnancies may be a contributing factor, it is not the sole predictor of elevated glucose levels."
      ],
      "metadata": {
        "id": "xS3IbJH3L1SE"
      }
    },
    {
      "cell_type": "code",
      "source": [
        "import plotly.express as px\n",
        "\n",
        "fig = px.scatter(df,\n",
        "                 x='Glucose',\n",
        "                 y='BMI',\n",
        "                 color='Outcome',\n",
        "                 title='Core Relationship: Glucose Level vs. BMI (Colored by Diabetes Outcome)',\n",
        "                 trendline=\"lowess\",\n",
        "                 labels={\"Glucose\": \"Glucose Level (mg/dL)\", \"BMI\": \"Body Mass Index\"},\n",
        "                 hover_data=['Age', 'Pregnancies', 'BloodPressure']\n",
        "                )\n",
        "fig.update_layout(\n",
        "    plot_bgcolor='white',\n",
        "    font=dict(size=12),\n",
        "    title_x=0.5\n",
        ")\n",
        "fig.update_xaxes(showgrid=True, gridwidth=1, gridcolor='LightGrey')\n",
        "fig.update_yaxes(showgrid=True, gridwidth=1, gridcolor='LightGrey')\n",
        "fig.show()"
      ],
      "metadata": {
        "colab": {
          "base_uri": "https://localhost:8080/",
          "height": 542
        },
        "id": "H9Y36J_eIXBE",
        "outputId": "2cefa355-b132-42f5-9dfe-db9c24b5a110"
      },
      "execution_count": 105,
      "outputs": [
        {
          "output_type": "display_data",
          "data": {
            "text/html": [
              "<div>                            <div id=\"9f6a750a-4286-4b48-840d-fab72405206f\" class=\"plotly-graph-div\" style=\"height:525px; width:100%;\"></div>            <script type=\"text/javascript\">                require([\"plotly\"], function(Plotly) {                    window.PLOTLYENV=window.PLOTLYENV || {};                                    if (document.getElementById(\"9f6a750a-4286-4b48-840d-fab72405206f\")) {                    Plotly.newPlot(                        \"9f6a750a-4286-4b48-840d-fab72405206f\",                        [{\"customdata\":[[50,6,72],[31,1,66],[32,8,64],[21,1,66],[33,0,40],[30,5,74],[26,3,50],[29,10,0],[53,2,70],[54,8,96],[30,4,92],[34,10,74],[57,10,80],[59,1,60],[51,5,72],[32,7,0],[31,0,84],[31,7,74],[33,1,30],[32,1,70],[27,3,88],[50,8,84],[41,7,90],[29,9,80],[51,11,94],[41,10,70],[43,7,76],[22,1,66],[57,13,82],[38,5,92],[60,5,75],[28,3,76],[22,3,58],[28,6,92],[45,10,78],[33,4,60],[35,11,76],[46,9,76],[27,2,68],[56,4,72],[26,3,64],[37,7,84],[48,7,92],[54,9,110],[40,7,64],[25,0,66],[29,1,56],[22,2,70],[31,7,66],[24,7,0],[22,1,80],[26,1,50],[30,5,66],[58,8,90],[42,7,66],[21,1,50],[41,7,68],[31,0,88],[44,0,82],[22,0,64],[21,2,0],[39,8,72],[36,5,62],[24,2,58],[42,7,66],[32,5,74],[38,0,88],[54,2,92],[25,1,66],[27,4,85],[28,2,66],[26,5,64],[42,13,90],[23,4,86],[22,1,75],[22,1,48],[41,7,78],[27,5,72],[26,0,0],[24,2,66],[22,3,44],[22,2,0],[36,7,78],[22,0,65],[37,5,108],[27,2,74],[45,13,72],[26,2,68],[43,15,70],[24,1,68],[21,1,55],[34,4,80],[42,7,78],[60,4,72],[21,2,82],[40,6,72],[24,2,62],[22,1,48],[23,6,50],[31,1,90],[33,1,72],[22,1,60],[21,0,96],[24,1,72],[27,2,65],[21,1,56],[27,1,122],[37,4,58],[25,3,58],[24,0,85],[24,3,72],[46,8,62],[23,1,76],[25,4,62],[39,7,54],[61,4,92],[38,5,74],[25,5,48],[22,4,60],[21,4,76],[25,0,76],[24,6,64],[23,2,74],[69,5,80],[23,0,76],[26,1,30],[30,3,70],[23,1,58],[40,1,88],[62,0,84],[33,4,70],[33,9,56],[30,3,64],[39,8,74],[26,2,68],[31,2,60],[21,0,70],[22,0,60],[29,0,80],[28,5,72],[55,3,78],[38,5,82],[22,2,52],[42,10,66],[23,4,62],[21,0,75],[41,9,80],[34,2,64],[65,5,78],[22,2,70],[24,1,74],[37,4,65],[42,9,86],[23,1,82],[43,8,78],[36,7,88],[21,2,52],[23,1,56],[22,2,74],[47,17,72],[36,4,90],[45,7,74],[27,0,80],[21,2,64],[32,0,88],[41,6,74],[22,3,66],[34,4,68],[29,4,66],[29,3,90],[36,6,82],[29,6,70],[25,2,0],[23,1,60],[33,2,64],[36,8,72],[42,6,78],[26,0,110],[47,5,78],[37,5,82],[32,6,80],[23,0,64],[21,1,74],[27,5,60],[40,4,74],[41,7,68],[60,8,68],[33,1,98],[31,8,76],[25,5,80],[21,3,62],[40,9,70],[36,7,66],[40,11,0],[42,8,55],[29,5,84],[21,1,58],[23,3,62],[26,4,64],[29,4,60],[21,0,80],[28,1,82],[32,0,68],[27,2,70],[55,6,72],[27,5,72],[57,8,76],[52,5,104],[21,1,64],[41,7,84],[25,2,60],[24,0,85],[60,7,95],[24,0,65],[36,9,82],[38,12,70],[25,5,62],[32,6,68],[32,5,74],[41,5,66],[21,0,60],[66,2,90],[37,7,0],[61,7,60],[26,1,66],[22,1,78],[26,0,76],[24,3,52],[31,4,70],[24,0,80],[22,4,86],[46,6,80],[22,1,80],[29,4,68],[23,3,68],[26,4,72],[51,7,84],[23,0,90],[32,9,84],[27,0,76],[21,1,64],[22,4,70],[22,3,54],[33,6,50],[29,2,76],[49,9,85],[41,10,68],[23,0,90],[34,9,70],[23,1,86],[42,9,52],[27,2,84],[24,2,80],[25,0,68],[44,12,62],[21,1,64],[30,3,56],[25,2,68],[24,1,50],[51,11,76],[34,3,68],[27,3,0],[24,4,70],[63,3,80],[35,4,62],[43,5,74],[25,0,0],[24,2,64],[21,0,52],[28,2,0],[38,10,86],[21,2,62],[40,3,78],[21,1,78],[52,13,70],[25,2,70],[29,7,60],[23,0,64],[57,5,74],[22,2,62],[28,0,70],[39,10,76],[37,7,88],[47,7,86],[52,2,80],[51,7,74],[34,5,84],[29,1,86],[26,4,56],[33,5,72],[21,0,88],[25,0,62],[31,2,78],[24,1,48],[65,0,50],[28,6,62],[29,2,70],[24,0,84],[46,14,78],[58,8,72],[30,0,0],[25,2,58],[35,5,82],[28,5,98],[37,3,76],[29,2,76],[47,10,68],[21,0,68],[25,0,68],[30,2,68],[41,6,66],[22,0,70],[27,2,74],[25,3,50],[43,7,80],[26,2,68],[30,3,80],[29,3,74],[28,3,66],[59,6,78],[31,4,60],[25,3,74],[36,0,70],[43,13,90],[21,2,75],[24,1,72],[30,1,64],[37,10,70],[23,2,86],[37,6,70],[46,8,72],[25,2,58],[41,1,0],[44,12,80],[22,1,60],[26,0,76],[44,0,0],[44,5,76],[33,9,78],[41,7,84],[22,1,70],[36,1,74],[22,1,68],[33,5,86],[57,8,72],[49,8,88],[22,1,46],[23,3,0],[26,3,62],[37,5,80],[29,4,80],[30,4,84],[46,3,82],[24,1,62],[21,3,78],[49,9,88],[28,1,50],[44,13,0],[48,12,74],[29,1,76],[29,5,64],[63,5,70],[65,5,108],[67,4,78],[30,4,74],[30,5,54],[29,6,72],[21,0,64],[22,3,86],[45,1,102],[25,3,82],[21,0,64],[21,0,64],[25,2,58],[28,2,52],[58,12,82],[22,0,82],[22,1,60],[32,4,75],[35,0,100],[24,1,72],[22,0,68],[21,1,60],[25,1,62],[25,1,70],[24,1,54],[35,5,74],[45,8,100],[58,5,82],[28,3,68],[42,1,66],[27,5,76],[21,1,64],[37,4,72],[31,4,78],[25,2,58],[39,3,56],[22,0,66],[25,3,70],[25,3,70],[31,4,64],[55,6,61],[35,5,84],[38,9,78],[41,5,64],[26,2,48],[46,4,72],[25,0,62],[39,8,74],[28,1,68],[28,6,90],[25,1,72],[22,1,84],[21,1,74],[21,0,60],[22,3,84],[22,1,68],[37,4,82],[27,1,68],[28,3,64],[26,1,88],[21,2,68],[21,0,64],[21,2,64],[36,8,78],[31,4,78],[25,0,0],[38,1,64],[26,0,94],[43,1,82],[23,2,0],[38,3,74],[22,1,74],[29,2,75],[36,1,68],[29,0,0],[41,12,85],[28,5,75],[21,1,70],[31,6,88],[41,0,104],[22,2,66],[24,4,64],[33,8,70],[30,4,62],[25,0,78],[28,1,72],[26,0,80],[22,0,64],[26,0,74],[23,1,64],[23,2,70],[25,0,68],[72,2,0],[24,2,54],[38,14,62],[62,1,54],[24,5,68],[51,10,84],[81,9,74],[48,9,72],[26,1,62],[39,8,70],[37,5,78],[34,10,98],[21,0,56],[22,0,52],[25,0,64],[38,8,0],[27,6,78],[28,1,82],[22,0,70],[22,0,66],[50,7,90],[24,4,64],[59,0,84],[29,2,80],[31,7,76],[39,8,74],[63,4,86],[35,3,70],[29,0,88],[28,4,58],[23,0,82],[31,0,0],[24,0,68],[21,1,62],[58,0,78],[28,4,72],[67,8,80],[24,2,65],[42,2,90],[33,4,68],[45,4,70],[22,3,0],[66,6,74],[30,5,68],[25,2,72],[55,7,70],[39,6,74],[21,2,90],[28,3,72],[41,6,68],[41,7,64],[40,3,78],[38,10,82],[35,0,90],[21,1,60],[21,2,50],[64,8,78],[46,12,72],[21,0,62],[58,9,68],[22,2,62],[24,3,54],[28,3,70],[53,9,88],[51,7,86],[41,13,60],[60,6,90],[25,2,70],[26,3,80],[26,6,0],[45,9,70],[24,3,58],[21,3,60],[21,1,64],[24,3,74],[22,0,66],[31,0,65],[22,2,60],[24,0,76],[29,1,66],[31,6,0],[24,1,56],[23,4,0],[46,0,90],[67,0,60],[23,0,80],[32,3,92],[43,8,74],[27,3,72],[56,10,85],[25,4,90],[29,1,78],[37,8,90],[53,5,76],[28,4,68],[50,1,82],[37,4,110],[21,1,70],[25,3,68],[66,6,88],[23,1,62],[28,1,64],[37,7,70],[30,1,70],[58,8,76],[42,11,68],[35,11,74],[54,6,76],[28,0,66],[24,1,68],[32,6,60],[27,0,80],[22,2,54],[21,1,72],[46,6,62],[37,4,72],[33,0,66],[39,3,70],[21,2,96],[22,3,58],[22,2,60],[23,1,86],[25,1,44],[35,6,44],[21,2,80],[36,10,68],[62,2,70],[21,0,90],[27,6,60],[62,12,78],[42,8,76],[52,8,76],[22,1,56],[41,8,66],[29,6,66],[52,3,86],[25,0,0],[45,11,84],[24,2,78],[44,3,80],[25,2,52],[34,6,72],[22,0,82],[46,0,76],[21,1,24],[38,1,74],[26,1,38],[24,1,88],[28,6,0],[30,1,74],[54,7,78],[36,4,0],[21,1,60],[22,1,78],[25,1,62],[27,0,82],[23,1,62],[24,3,54],[36,3,58],[40,7,88],[26,6,80],[50,11,74],[27,3,72],[30,6,96],[23,2,62],[50,9,82],[24,0,0],[28,2,86],[28,2,76],[45,6,94],[21,0,70],[21,2,64],[29,4,88],[21,0,68],[21,0,78],[45,5,80],[21,4,65],[34,7,64],[24,0,78],[23,2,60],[22,1,82],[31,10,62],[38,13,72],[48,5,74],[23,2,76],[32,7,76],[28,1,74],[27,0,86],[24,4,70],[50,6,80],[31,4,0],[27,3,72],[30,2,74],[33,1,74],[22,0,50],[42,11,84],[23,0,60],[23,1,54],[27,1,60],[28,5,74],[27,2,54],[22,1,70],[25,2,52],[22,2,58],[41,1,80],[51,11,106],[27,3,82],[54,10,84],[22,1,76],[43,8,106],[40,9,80],[40,6,60],[24,1,80],[70,4,82],[40,10,70],[43,6,58],[45,9,78],[49,6,68],[21,1,58],[47,10,106],[22,3,100],[68,8,82],[31,6,70],[53,9,86],[25,0,60],[25,3,52],[23,2,58],[22,2,56],[26,0,76],[22,0,64],[27,4,80],[69,5,82],[25,2,74],[22,3,64],[29,1,50],[23,1,74],[46,1,82],[34,8,80],[44,13,114],[23,2,70],[43,7,68],[25,2,60],[43,7,90],[31,3,74],[22,0,0],[28,4,88],[26,4,70],[26,2,76],[49,6,78],[52,1,88],[41,2,0],[27,4,76],[28,6,80],[30,10,0],[22,2,46],[45,9,78],[23,2,64],[24,3,64],[40,5,78],[38,10,62],[21,0,58],[32,3,74],[34,7,50],[31,3,78],[56,10,72],[24,1,60],[52,5,76],[34,4,86],[21,1,66],[42,1,68],[42,5,86],[45,1,94],[38,4,78],[25,1,78],[22,0,84],[22,2,88],[22,2,52],[34,3,78],[22,8,86],[24,2,88],[22,2,56],[53,2,75],[28,4,60],[21,0,86],[42,8,72],[21,2,60],[42,1,74],[48,11,80],[26,3,44],[22,1,58],[45,9,94],[39,13,88],[46,12,84],[27,1,94],[32,1,74],[36,3,70],[50,6,62],[22,4,70],[28,1,78],[25,3,62],[26,0,88],[45,8,78],[37,1,88],[39,7,90],[52,0,72],[26,1,76],[66,6,92],[22,2,58],[43,9,74],[33,9,62],[63,10,76],[27,2,70],[30,5,72],[47,1,60],[23,1,70]],\"hovertemplate\":\"Glucose Level (mg\\u002fdL)=%{x}\\u003cbr\\u003eBody Mass Index=%{y}\\u003cbr\\u003eAge=%{customdata[0]}\\u003cbr\\u003ePregnancies=%{customdata[1]}\\u003cbr\\u003eBloodPressure=%{customdata[2]}\\u003cbr\\u003eOutcome=%{marker.color}\\u003cextra\\u003e\\u003c\\u002fextra\\u003e\",\"legendgroup\":\"\",\"marker\":{\"color\":[1,0,1,0,1,0,1,0,1,1,0,1,0,1,1,1,1,1,0,1,0,0,1,1,1,1,1,0,0,0,0,1,0,0,0,0,0,1,1,1,0,0,0,1,0,1,0,0,1,0,0,0,0,1,0,0,1,0,0,0,0,1,0,0,1,0,1,0,0,0,1,0,1,0,0,0,0,0,1,0,0,0,0,0,1,0,0,0,1,0,0,0,0,1,0,0,0,0,0,1,1,0,0,0,0,0,0,0,0,1,1,1,0,0,1,1,1,0,0,0,1,0,0,0,1,1,0,0,1,1,1,1,1,0,0,0,0,0,0,0,0,0,0,1,0,0,0,0,0,0,0,0,1,0,1,1,0,0,0,1,0,0,0,0,1,1,0,0,0,0,1,1,0,0,0,1,0,1,0,1,0,0,0,0,0,1,1,1,1,1,0,0,1,1,0,1,0,1,1,1,0,0,0,0,0,0,1,1,0,1,0,0,0,1,1,1,1,0,1,1,1,1,0,0,0,0,0,1,0,0,1,1,0,0,0,1,1,1,1,0,0,0,1,1,0,1,0,0,0,0,0,0,0,0,1,1,0,0,0,1,0,1,0,0,1,0,1,0,0,1,1,0,0,0,0,0,1,0,0,0,1,0,0,1,1,0,0,1,0,0,0,1,1,1,0,0,1,0,1,0,1,1,0,1,0,0,1,0,1,1,0,0,1,0,1,0,0,1,0,1,0,1,1,1,0,0,1,0,1,0,0,0,1,0,0,0,0,1,1,1,0,0,0,0,0,0,0,0,0,1,0,0,0,0,0,1,1,1,0,1,1,0,0,1,0,0,1,0,0,1,1,0,0,0,0,1,0,0,1,0,0,0,0,0,0,0,1,1,1,0,0,1,0,0,1,0,0,1,0,1,1,0,1,0,1,0,1,0,1,1,0,0,0,0,1,1,0,1,0,1,0,0,0,0,1,1,0,1,0,1,0,0,0,0,0,1,0,0,0,0,1,0,0,1,1,1,0,0,1,0,0,1,0,0,0,1,0,0,1,0,0,0,0,0,0,0,0,0,1,0,0,0,0,0,0,0,1,0,0,0,1,0,0,0,1,1,0,0,0,0,0,0,0,1,0,0,0,0,1,0,0,0,1,0,0,0,1,0,0,0,1,0,0,0,0,1,1,0,0,0,0,0,0,1,0,0,0,0,0,0,0,0,0,0,0,1,0,0,0,1,1,1,1,0,0,1,1,0,0,0,0,0,0,0,0,0,0,0,0,0,1,1,0,0,0,0,0,0,0,1,0,0,0,0,0,0,0,1,0,1,1,0,0,0,1,0,1,0,1,0,1,0,1,0,0,1,0,0,1,0,0,0,0,1,1,0,1,0,0,0,0,1,1,0,1,0,0,0,1,1,0,0,0,0,0,0,0,0,0,0,1,0,0,0,0,1,0,0,1,0,0,0,1,0,0,0,1,1,1,0,0,0,0,0,0,1,0,0,0,1,0,1,1,1,1,0,1,1,0,0,0,0,0,0,0,1,1,0,1,0,0,1,0,1,0,0,0,0,0,1,0,1,0,1,0,1,1,0,0,0,0,1,1,0,0,0,1,0,1,1,0,0,1,0,0,1,1,0,0,1,0,0,1,0,0,0,0,0,0,0,1,1,1,0,0,0,0,0,0,1,1,0,0,1,0,0,1,0,1,1,1,0,0,1,1,1,0,1,0,1,0,1,0,0,0,0,1,0],\"coloraxis\":\"coloraxis\",\"symbol\":\"circle\"},\"mode\":\"markers\",\"name\":\"\",\"orientation\":\"v\",\"showlegend\":false,\"x\":[148,85,183,89,137,116,78,115,197,125,110,168,139,189,166,100,118,107,103,115,126,99,196,119,143,125,147,97,145,117,109,158,88,92,122,103,138,102,90,111,180,133,106,171,159,180,146,71,103,105,103,101,88,176,150,73,187,100,146,105,84,133,44,141,114,99,109,109,95,146,100,139,126,129,79,0,62,95,131,112,113,74,83,101,137,110,106,100,136,107,80,123,81,134,142,144,92,71,93,122,163,151,125,81,85,126,96,144,83,95,171,155,89,76,160,146,124,78,97,99,162,111,107,132,113,88,120,118,117,105,173,122,170,84,96,125,100,93,129,105,128,106,108,108,154,102,57,106,147,90,136,114,156,153,188,152,99,109,88,163,151,102,114,100,131,104,148,120,110,111,102,134,87,79,75,179,85,129,143,130,87,119,0,73,141,194,181,128,109,139,111,123,159,135,85,158,105,107,109,148,113,138,108,99,103,111,196,162,96,184,81,147,179,140,112,151,109,125,85,112,177,158,119,142,100,87,101,162,197,117,142,134,79,122,74,171,181,179,164,104,91,91,139,119,146,184,122,165,124,111,106,129,90,86,92,113,111,114,193,155,191,141,95,142,123,96,138,128,102,146,101,108,122,71,106,100,106,104,114,108,146,129,133,161,108,136,155,119,96,108,78,107,128,128,161,151,146,126,100,112,167,144,77,115,150,120,161,137,128,124,80,106,155,113,109,112,99,182,115,194,129,112,124,152,112,157,122,179,102,105,118,87,180,106,95,165,117,115,152,178,130,95,0,122,95,126,139,116,99,0,92,137,61,90,90,165,125,129,88,196,189,158,103,146,147,99,124,101,81,133,173,118,84,105,122,140,98,87,156,93,107,105,109,90,125,119,116,105,144,100,100,166,131,116,158,127,96,131,82,193,95,137,136,72,168,123,115,101,197,172,102,112,143,143,138,173,97,144,83,129,119,94,102,115,151,184,94,181,135,95,99,89,80,139,90,141,140,147,97,107,189,83,117,108,117,180,100,95,104,120,82,134,91,119,100,175,135,86,148,134,120,71,74,88,115,124,74,97,120,154,144,137,119,136,114,137,105,114,126,132,158,123,85,84,145,135,139,173,99,194,83,89,99,125,80,166,110,81,195,154,117,84,0,94,96,75,180,130,84,120,84,139,91,91,99,163,145,125,76,129,68,124,114,130,125,87,97,116,117,111,122,107,86,91,77,132,105,57,127,129,100,128,90,84,88,186,187,131,164,189,116,84,114,88,84,124,97,110,103,85,125,198,87,99,91,95,99,92,154,121,78,130,111,98,143,119,108,118,133,197,151,109,121,100,124,93,143,103,176,73,111,112,132,82,123,188,67,89,173,109,108,96,124,150,183,124,181,92,152,111,106,174,168,105,138,106,117,68,112,119,112,92,183,94,108,90,125,132,128,94,114,102,111,128,92,104,104,94,97,100,102,128,147,90,103,157,167,179,136,107,91,117,123,120,106,155,101,120,127,80,162,199,167,145,115,112,145,111,98,154,165,99,68,123,91,195,156,93,121,101,56,162,95,125,136,129,130,107,140,144,107,158,121,129,90,142,169,99,127,118,122,125,168,129,110,80,115,127,164,93,158,126,129,134,102,187,173,94,108,97,83,114,149,117,111,112,116,141,175,92,130,120,174,106,105,95,126,65,99,102,120,102,109,140,153,100,147,81,187,162,136,121,108,181,154,128,137,123,106,190,88,170,89,101,122,121,126,93],\"xaxis\":\"x\",\"y\":[33.6,26.6,23.3,28.1,43.1,25.6,31.0,35.3,30.5,0.0,37.6,38.0,27.1,30.1,25.8,30.0,45.8,29.6,43.3,34.6,39.3,35.4,39.8,29.0,36.6,31.1,39.4,23.2,22.2,34.1,36.0,31.6,24.8,19.9,27.6,24.0,33.2,32.9,38.2,37.1,34.0,40.2,22.7,45.4,27.4,42.0,29.7,28.0,39.1,0.0,19.4,24.2,24.4,33.7,34.7,23.0,37.7,46.8,40.5,41.5,0.0,32.9,25.0,25.4,32.8,29.0,32.5,42.7,19.6,28.9,32.9,28.6,43.4,35.1,32.0,24.7,32.6,37.7,43.2,25.0,22.4,0.0,29.3,24.6,48.8,32.4,36.6,38.5,37.1,26.5,19.1,32.0,46.7,23.8,24.7,33.9,31.6,20.4,28.7,49.7,39.0,26.1,22.5,26.6,39.6,28.7,22.4,29.5,34.3,37.4,33.3,34.0,31.2,34.0,30.5,31.2,34.0,33.7,28.2,23.2,53.2,34.2,33.6,26.8,33.3,55.0,42.9,33.3,34.5,27.9,29.7,33.3,34.5,38.3,21.1,33.8,30.8,28.7,31.2,36.9,21.1,39.5,32.5,32.4,32.8,0.0,32.8,30.5,33.7,27.3,37.4,21.9,34.3,40.6,47.9,50.0,24.6,25.2,29.0,40.9,29.7,37.2,44.2,29.7,31.6,29.9,32.5,29.6,31.9,28.4,30.8,35.4,28.9,43.5,29.7,32.7,31.2,67.1,45.0,39.1,23.2,34.9,27.7,26.8,27.6,35.9,30.1,32.0,27.9,31.6,22.6,33.1,30.4,52.3,24.4,39.4,24.3,22.9,34.8,30.9,31.0,40.1,27.3,20.4,37.7,23.9,37.5,37.7,33.2,35.5,27.7,42.8,34.2,42.6,34.2,41.8,35.8,30.0,29.0,37.8,34.6,31.6,25.2,28.8,23.6,34.6,35.7,37.2,36.7,45.2,44.0,46.2,25.4,35.0,29.7,43.6,35.9,44.1,30.8,18.4,29.2,33.1,25.6,27.1,38.2,30.0,31.2,52.3,35.4,30.1,31.2,28.0,24.4,35.8,27.6,33.6,30.1,28.7,25.9,33.3,30.9,30.0,32.1,32.4,32.0,33.6,36.3,40.0,25.1,27.5,45.6,25.2,23.0,33.2,34.2,40.5,26.5,27.8,24.9,25.3,37.9,35.9,32.4,30.4,27.0,26.0,38.7,45.6,20.8,36.1,36.9,36.6,43.3,40.5,21.9,35.5,28.0,30.7,36.6,23.6,32.3,31.6,35.8,52.9,21.0,39.7,25.5,24.8,30.5,32.9,26.2,39.4,26.6,29.5,35.9,34.1,19.3,30.5,38.1,23.5,27.5,31.6,27.4,26.8,35.7,25.6,35.1,35.1,45.5,30.8,23.1,32.7,43.3,23.6,23.9,47.9,33.8,31.2,34.2,39.9,25.9,25.9,32.0,34.7,36.8,38.5,28.7,23.5,21.8,41.0,42.2,31.2,34.4,27.2,42.7,30.4,33.3,39.9,35.3,36.5,31.2,29.8,39.2,38.5,34.9,34.0,27.6,21.0,27.5,32.8,38.4,0.0,35.8,34.9,36.2,39.2,25.2,37.2,48.3,43.4,30.8,20.0,25.4,25.1,24.3,22.3,32.3,43.3,32.0,31.6,32.0,45.7,23.7,22.1,32.9,27.7,24.7,34.3,21.1,34.9,32.0,24.2,35.0,31.6,32.9,42.1,28.9,21.9,25.9,42.4,35.7,34.4,42.4,26.2,34.6,35.7,27.2,38.5,18.2,26.4,45.3,26.0,40.6,30.8,42.9,37.0,0.0,34.1,40.6,35.0,22.2,30.4,30.0,25.6,24.5,42.4,37.4,29.9,18.2,36.8,34.3,32.2,33.2,30.5,29.7,59.4,25.3,36.5,33.6,30.5,21.2,28.9,39.9,19.6,37.8,33.6,26.7,30.2,37.6,25.9,20.8,21.8,35.3,27.6,24.0,21.8,27.8,36.8,30.0,46.1,41.3,33.2,38.8,29.9,28.9,27.3,33.7,23.8,25.9,28.0,35.5,35.2,27.8,38.2,44.2,42.3,40.7,46.5,25.6,26.1,36.8,33.5,32.8,28.9,0.0,26.6,26.0,30.1,25.1,29.3,25.2,37.2,39.0,33.3,37.3,33.3,36.5,28.6,30.4,25.0,29.7,22.1,24.2,27.3,25.6,31.6,30.3,37.6,32.8,19.6,25.0,33.2,0.0,34.2,31.6,21.8,18.2,26.3,30.8,24.6,29.8,45.3,41.3,29.8,33.3,32.9,29.6,21.7,36.3,36.4,39.4,32.4,34.9,39.5,32.0,34.5,43.6,33.1,32.8,28.5,27.4,31.9,27.8,29.9,36.9,25.5,38.1,27.8,46.2,30.1,33.8,41.3,37.6,26.9,32.4,26.1,38.6,32.0,31.3,34.3,32.5,22.6,29.5,34.7,30.1,35.5,24.0,42.9,27.0,34.7,42.1,25.0,26.5,38.7,28.7,22.5,34.9,24.3,33.3,21.1,46.8,39.4,34.4,28.5,33.6,32.0,45.3,27.8,36.8,23.1,27.1,23.7,27.8,35.2,28.4,35.8,40.0,19.5,41.5,24.0,30.9,32.9,38.2,32.5,36.1,25.8,28.7,20.1,28.2,32.4,38.4,24.2,40.8,43.5,30.8,37.7,24.7,32.4,34.6,24.7,27.4,34.5,26.2,27.5,25.9,31.2,28.8,31.6,40.9,19.5,29.3,34.3,29.5,28.0,27.6,39.4,23.4,37.8,28.3,26.4,25.2,33.8,34.1,26.8,34.2,38.7,21.8,38.9,39.0,34.2,27.7,42.9,37.6,37.9,33.7,34.8,32.5,27.5,34.0,30.9,33.6,25.4,35.5,57.3,35.6,30.9,24.8,35.3,36.0,24.2,24.2,49.6,44.6,32.3,0.0,33.2,23.1,28.3,24.1,46.1,24.6,42.3,39.1,38.5,23.5,30.4,29.9,25.0,34.5,44.5,35.9,27.6,35.0,38.5,28.4,39.8,0.0,34.4,32.8,38.0,31.2,29.6,41.2,26.4,29.5,33.9,33.8,23.1,35.5,35.6,29.3,38.1,29.3,39.1,32.8,39.4,36.1,32.4,22.9,30.1,28.4,28.4,44.5,29.0,23.3,35.4,27.4,32.0,36.6,39.5,42.3,30.8,28.5,32.7,40.6,30.0,49.3,46.3,36.4,24.3,31.2,39.0,26.0,43.3,32.4,36.5,32.0,36.3,37.5,35.5,28.4,44.0,22.5,32.9,36.8,26.2,30.1,30.4],\"yaxis\":\"y\",\"type\":\"scatter\"},{\"hovertemplate\":\"\\u003cb\\u003eLOWESS trendline\\u003c\\u002fb\\u003e\\u003cbr\\u003e\\u003cbr\\u003eGlucose Level (mg\\u002fdL)=%{x}\\u003cbr\\u003eBody Mass Index=%{y} \\u003cb\\u003e(trend)\\u003c\\u002fb\\u003e\\u003cextra\\u003e\\u003c\\u002fextra\\u003e\",\"legendgroup\":\"\",\"marker\":{\"symbol\":\"circle\"},\"mode\":\"lines\",\"name\":\"\",\"showlegend\":false,\"x\":[0,0,0,0,0,44,56,57,57,61,62,65,67,68,68,68,71,71,71,71,72,73,73,73,74,74,74,74,75,75,76,76,77,77,78,78,78,78,79,79,79,80,80,80,80,80,80,81,81,81,81,81,81,82,82,82,83,83,83,83,83,83,84,84,84,84,84,84,84,84,84,84,85,85,85,85,85,85,85,86,86,86,87,87,87,87,87,87,87,88,88,88,88,88,88,88,88,88,89,89,89,89,89,89,90,90,90,90,90,90,90,90,90,90,90,91,91,91,91,91,91,91,91,91,92,92,92,92,92,92,92,92,92,93,93,93,93,93,93,93,94,94,94,94,94,94,94,95,95,95,95,95,95,95,95,95,95,95,95,95,96,96,96,96,96,96,96,96,97,97,97,97,97,97,97,97,97,98,98,98,99,99,99,99,99,99,99,99,99,99,99,99,99,99,99,99,99,100,100,100,100,100,100,100,100,100,100,100,100,100,100,100,100,100,101,101,101,101,101,101,101,101,101,102,102,102,102,102,102,102,102,102,102,102,102,102,103,103,103,103,103,103,103,103,103,104,104,104,104,104,104,105,105,105,105,105,105,105,105,105,105,105,105,105,106,106,106,106,106,106,106,106,106,106,106,106,106,106,107,107,107,107,107,107,107,107,107,107,107,108,108,108,108,108,108,108,108,108,108,108,108,108,109,109,109,109,109,109,109,109,109,109,109,109,110,110,110,110,110,110,111,111,111,111,111,111,111,111,111,111,111,111,111,111,112,112,112,112,112,112,112,112,112,112,112,112,112,113,113,113,113,113,114,114,114,114,114,114,114,114,114,114,114,115,115,115,115,115,115,115,115,115,115,116,116,116,116,116,116,116,117,117,117,117,117,117,117,117,117,117,117,118,118,118,118,118,118,119,119,119,119,119,119,119,119,119,119,119,120,120,120,120,120,120,120,120,120,120,120,121,121,121,121,121,121,122,122,122,122,122,122,122,122,122,122,122,122,123,123,123,123,123,123,123,123,123,124,124,124,124,124,124,124,124,124,124,124,125,125,125,125,125,125,125,125,125,125,125,125,125,125,126,126,126,126,126,126,126,126,126,127,127,127,127,127,128,128,128,128,128,128,128,128,128,128,128,129,129,129,129,129,129,129,129,129,129,129,129,129,129,130,130,130,130,130,130,130,131,131,131,131,131,132,132,132,132,132,133,133,133,133,133,134,134,134,134,134,134,135,135,135,135,136,136,136,136,136,136,136,136,137,137,137,137,137,137,137,137,138,138,138,138,138,139,139,139,139,139,139,139,139,140,140,140,140,140,141,141,141,141,141,142,142,142,142,142,143,143,143,143,143,143,144,144,144,144,144,144,144,145,145,145,145,145,146,146,146,146,146,146,146,146,146,147,147,147,147,147,147,147,148,148,148,148,149,150,150,150,151,151,151,151,151,151,152,152,152,152,153,153,154,154,154,154,154,154,155,155,155,155,155,156,156,156,157,157,158,158,158,158,158,158,158,158,159,159,160,161,161,161,162,162,162,162,162,162,163,163,163,164,164,164,165,165,165,165,166,166,166,167,167,167,168,168,168,168,169,170,170,171,171,171,172,173,173,173,173,173,173,174,174,175,175,176,176,177,178,179,179,179,179,179,180,180,180,180,180,181,181,181,181,181,182,183,183,183,184,184,184,186,187,187,187,187,188,188,189,189,189,189,190,191,193,193,194,194,194,195,195,196,196,196,197,197,197,197,198,199],\"xaxis\":\"x\",\"y\":[30.934887322492685,30.934887322492685,30.934887322492685,30.934887322492685,30.934887322492685,30.299107032509554,29.891651702932172,29.857282423204524,29.857282423204524,29.780684121051767,29.78481864244588,29.851566668002587,29.910997826955413,29.94067591543112,29.94067591543112,29.94067591543112,30.02948048691223,30.02948048691223,30.02948048691223,30.02948048691223,30.058981386592055,30.08843539727059,30.08843539727059,30.08843539727059,30.117854110688533,30.117854110688533,30.117854110688533,30.117854110688533,30.147269809512068,30.147269809512068,30.176707402051047,30.176707402051047,30.206170661931008,30.206170661931008,30.235631762659175,30.235631762659175,30.235631762659175,30.235631762659175,30.265021310981304,30.265021310981304,30.265021310981304,30.294220467394787,30.294220467394787,30.294220467394787,30.294220467394787,30.294220467394787,30.294220467394787,30.323073618874897,30.323073618874897,30.323073618874897,30.323073618874897,30.323073618874897,30.323073618874897,30.351403710299206,30.351403710299206,30.351403710299206,30.379025008328938,30.379025008328938,30.379025008328938,30.379025008328938,30.379025008328938,30.379025008328938,30.40579454985004,30.40579454985004,30.40579454985004,30.40579454985004,30.40579454985004,30.40579454985004,30.40579454985004,30.40579454985004,30.40579454985004,30.40579454985004,30.431618794476865,30.431618794476865,30.431618794476865,30.431618794476865,30.431618794476865,30.431618794476865,30.431618794476865,30.456464497301916,30.456464497301916,30.456464497301916,30.480512330031328,30.480512330031328,30.480512330031328,30.480512330031328,30.480512330031328,30.480512330031328,30.480512330031328,30.504111649401114,30.504111649401114,30.504111649401114,30.504111649401114,30.504111649401114,30.504111649401114,30.504111649401114,30.504111649401114,30.504111649401114,30.527148050258663,30.527148050258663,30.527148050258663,30.527148050258663,30.527148050258663,30.527148050258663,30.549386246394686,30.549386246394686,30.549386246394686,30.549386246394686,30.549386246394686,30.549386246394686,30.549386246394686,30.549386246394686,30.549386246394686,30.549386246394686,30.549386246394686,30.570685874609286,30.570685874609286,30.570685874609286,30.570685874609286,30.570685874609286,30.570685874609286,30.570685874609286,30.570685874609286,30.570685874609286,30.59110474231099,30.59110474231099,30.59110474231099,30.59110474231099,30.59110474231099,30.59110474231099,30.59110474231099,30.59110474231099,30.59110474231099,30.611075576677052,30.611075576677052,30.611075576677052,30.611075576677052,30.611075576677052,30.611075576677052,30.611075576677052,30.632942340416683,30.632942340416683,30.632942340416683,30.632942340416683,30.632942340416683,30.632942340416683,30.632942340416683,30.654808144974947,30.654808144974947,30.654808144974947,30.654808144974947,30.654808144974947,30.654808144974947,30.654808144974947,30.654808144974947,30.654808144974947,30.654808144974947,30.654808144974947,30.654808144974947,30.654808144974947,30.676677450554525,30.676677450554525,30.676677450554525,30.676677450554525,30.676677450554525,30.676677450554525,30.676677450554525,30.676677450554525,30.697289566967918,30.697289566967918,30.697289566967918,30.697289566967918,30.697289566967918,30.697289566967918,30.697289566967918,30.697289566967918,30.697289566967918,30.71561917642939,30.71561917642939,30.71561917642939,30.742985968463007,30.742985968463007,30.742985968463007,30.742985968463007,30.742985968463007,30.742985968463007,30.742985968463007,30.742985968463007,30.742985968463007,30.742985968463007,30.742985968463007,30.742985968463007,30.742985968463007,30.742985968463007,30.742985968463007,30.742985968463007,30.742985968463007,30.758854477624446,30.758854477624446,30.758854477624446,30.758854477624446,30.758854477624446,30.758854477624446,30.758854477624446,30.758854477624446,30.758854477624446,30.758854477624446,30.758854477624446,30.758854477624446,30.758854477624446,30.758854477624446,30.758854477624446,30.758854477624446,30.758854477624446,30.77308411949058,30.77308411949058,30.77308411949058,30.77308411949058,30.77308411949058,30.77308411949058,30.77308411949058,30.77308411949058,30.77308411949058,30.80691726568017,30.80691726568017,30.80691726568017,30.80691726568017,30.80691726568017,30.80691726568017,30.80691726568017,30.80691726568017,30.80691726568017,30.80691726568017,30.80691726568017,30.80691726568017,30.80691726568017,30.82728253768079,30.82728253768079,30.82728253768079,30.82728253768079,30.82728253768079,30.82728253768079,30.82728253768079,30.82728253768079,30.82728253768079,30.870904633495847,30.870904633495847,30.870904633495847,30.870904633495847,30.870904633495847,30.870904633495847,30.9187689853735,30.9187689853735,30.9187689853735,30.9187689853735,30.9187689853735,30.9187689853735,30.9187689853735,30.9187689853735,30.9187689853735,30.9187689853735,30.9187689853735,30.9187689853735,30.9187689853735,30.970165895786508,30.970165895786508,30.970165895786508,30.970165895786508,30.970165895786508,30.970165895786508,30.970165895786508,30.970165895786508,30.970165895786508,30.970165895786508,30.970165895786508,30.970165895786508,30.970165895786508,30.970165895786508,31.013994845751732,31.013994845751732,31.013994845751732,31.013994845751732,31.013994845751732,31.013994845751732,31.013994845751732,31.013994845751732,31.013994845751732,31.013994845751732,31.013994845751732,31.07278715889333,31.07278715889333,31.07278715889333,31.07278715889333,31.07278715889333,31.07278715889333,31.07278715889333,31.07278715889333,31.07278715889333,31.07278715889333,31.07278715889333,31.07278715889333,31.07278715889333,31.127556978338102,31.127556978338102,31.127556978338102,31.127556978338102,31.127556978338102,31.127556978338102,31.127556978338102,31.127556978338102,31.127556978338102,31.127556978338102,31.127556978338102,31.127556978338102,31.195921701678948,31.195921701678948,31.195921701678948,31.195921701678948,31.195921701678948,31.195921701678948,31.258546260858576,31.258546260858576,31.258546260858576,31.258546260858576,31.258546260858576,31.258546260858576,31.258546260858576,31.258546260858576,31.258546260858576,31.258546260858576,31.258546260858576,31.258546260858576,31.258546260858576,31.258546260858576,31.325203000825933,31.325203000825933,31.325203000825933,31.325203000825933,31.325203000825933,31.325203000825933,31.325203000825933,31.325203000825933,31.325203000825933,31.325203000825933,31.325203000825933,31.325203000825933,31.325203000825933,31.38910473402111,31.38910473402111,31.38910473402111,31.38910473402111,31.38910473402111,31.452894609293075,31.452894609293075,31.452894609293075,31.452894609293075,31.452894609293075,31.452894609293075,31.452894609293075,31.452894609293075,31.452894609293075,31.452894609293075,31.452894609293075,31.515296944278305,31.515296944278305,31.515296944278305,31.515296944278305,31.515296944278305,31.515296944278305,31.515296944278305,31.515296944278305,31.515296944278305,31.515296944278305,31.576349004615974,31.576349004615974,31.576349004615974,31.576349004615974,31.576349004615974,31.576349004615974,31.576349004615974,31.636564627177158,31.636564627177158,31.636564627177158,31.636564627177158,31.636564627177158,31.636564627177158,31.636564627177158,31.636564627177158,31.636564627177158,31.636564627177158,31.636564627177158,31.69665176087294,31.69665176087294,31.69665176087294,31.69665176087294,31.69665176087294,31.69665176087294,31.75722866069687,31.75722866069687,31.75722866069687,31.75722866069687,31.75722866069687,31.75722866069687,31.75722866069687,31.75722866069687,31.75722866069687,31.75722866069687,31.75722866069687,31.817531395402177,31.817531395402177,31.817531395402177,31.817531395402177,31.817531395402177,31.817531395402177,31.817531395402177,31.817531395402177,31.817531395402177,31.817531395402177,31.817531395402177,31.881954581256863,31.881954581256863,31.881954581256863,31.881954581256863,31.881954581256863,31.881954581256863,31.94796826591105,31.94796826591105,31.94796826591105,31.94796826591105,31.94796826591105,31.94796826591105,31.94796826591105,31.94796826591105,31.94796826591105,31.94796826591105,31.94796826591105,31.94796826591105,32.0176741063806,32.0176741063806,32.0176741063806,32.0176741063806,32.0176741063806,32.0176741063806,32.0176741063806,32.0176741063806,32.0176741063806,32.08844368638649,32.08844368638649,32.08844368638649,32.08844368638649,32.08844368638649,32.08844368638649,32.08844368638649,32.08844368638649,32.08844368638649,32.08844368638649,32.08844368638649,32.161248416121055,32.161248416121055,32.161248416121055,32.161248416121055,32.161248416121055,32.161248416121055,32.161248416121055,32.161248416121055,32.161248416121055,32.161248416121055,32.161248416121055,32.161248416121055,32.161248416121055,32.161248416121055,32.241092562438396,32.241092562438396,32.241092562438396,32.241092562438396,32.241092562438396,32.241092562438396,32.241092562438396,32.241092562438396,32.241092562438396,32.31787301697419,32.31787301697419,32.31787301697419,32.31787301697419,32.31787301697419,32.40042329218931,32.40042329218931,32.40042329218931,32.40042329218931,32.40042329218931,32.40042329218931,32.40042329218931,32.40042329218931,32.40042329218931,32.40042329218931,32.40042329218931,32.47786339183109,32.47786339183109,32.47786339183109,32.47786339183109,32.47786339183109,32.47786339183109,32.47786339183109,32.47786339183109,32.47786339183109,32.47786339183109,32.47786339183109,32.47786339183109,32.47786339183109,32.47786339183109,32.55450718704674,32.55450718704674,32.55450718704674,32.55450718704674,32.55450718704674,32.55450718704674,32.55450718704674,32.62837727129517,32.62837727129517,32.62837727129517,32.62837727129517,32.62837727129517,32.69990008495029,32.69990008495029,32.69990008495029,32.69990008495029,32.69990008495029,32.76943737665146,32.76943737665146,32.76943737665146,32.76943737665146,32.76943737665146,32.83049693466779,32.83049693466779,32.83049693466779,32.83049693466779,32.83049693466779,32.83049693466779,32.88698424803123,32.88698424803123,32.88698424803123,32.88698424803123,32.940773324366695,32.940773324366695,32.940773324366695,32.940773324366695,32.940773324366695,32.940773324366695,32.940773324366695,32.940773324366695,33.00063886014254,33.00063886014254,33.00063886014254,33.00063886014254,33.00063886014254,33.00063886014254,33.00063886014254,33.00063886014254,33.055712433880615,33.055712433880615,33.055712433880615,33.055712433880615,33.055712433880615,33.11416233201148,33.11416233201148,33.11416233201148,33.11416233201148,33.11416233201148,33.11416233201148,33.11416233201148,33.11416233201148,33.17514754340264,33.17514754340264,33.17514754340264,33.17514754340264,33.17514754340264,33.23786468514556,33.23786468514556,33.23786468514556,33.23786468514556,33.23786468514556,33.30313162449875,33.30313162449875,33.30313162449875,33.30313162449875,33.30313162449875,33.3684044049157,33.3684044049157,33.3684044049157,33.3684044049157,33.3684044049157,33.3684044049157,33.438205545375375,33.438205545375375,33.438205545375375,33.438205545375375,33.438205545375375,33.438205545375375,33.438205545375375,33.5084921496306,33.5084921496306,33.5084921496306,33.5084921496306,33.5084921496306,33.57566747427298,33.57566747427298,33.57566747427298,33.57566747427298,33.57566747427298,33.57566747427298,33.57566747427298,33.57566747427298,33.57566747427298,33.645329347869,33.645329347869,33.645329347869,33.645329347869,33.645329347869,33.645329347869,33.645329347869,33.712698891168934,33.712698891168934,33.712698891168934,33.712698891168934,33.77775759807522,33.83933153109246,33.83933153109246,33.83933153109246,33.90014369728163,33.90014369728163,33.90014369728163,33.90014369728163,33.90014369728163,33.90014369728163,33.951418359504714,33.951418359504714,33.951418359504714,33.951418359504714,33.99535468229332,33.99535468229332,34.03343088205111,34.03343088205111,34.03343088205111,34.03343088205111,34.03343088205111,34.03343088205111,34.06741516399339,34.06741516399339,34.06741516399339,34.06741516399339,34.06741516399339,34.09882234920189,34.09882234920189,34.09882234920189,34.12878953846415,34.12878953846415,34.15810150113518,34.15810150113518,34.15810150113518,34.15810150113518,34.15810150113518,34.15810150113518,34.15810150113518,34.15810150113518,34.18726837800825,34.18726837800825,34.216604377549146,34.2462963219144,34.2462963219144,34.2462963219144,34.27644909002131,34.27644909002131,34.27644909002131,34.27644909002131,34.27644909002131,34.27644909002131,34.3071216122905,34.3071216122905,34.3071216122905,34.338332810429804,34.338332810429804,34.338332810429804,34.37007420530336,34.37007420530336,34.37007420530336,34.37007420530336,34.40232603511323,34.40232603511323,34.40232603511323,34.43505769308894,34.43505769308894,34.43505769308894,34.468238778413586,34.468238778413586,34.468238778413586,34.468238778413586,34.50184159549014,34.53583621837971,34.53583621837971,34.570193914881656,34.570193914881656,34.570193914881656,34.60488146784874,34.63985788725,34.63985788725,34.63985788725,34.63985788725,34.63985788725,34.63985788725,34.67507813932852,34.67507813932852,34.71049355114867,34.71049355114867,34.7460557838559,34.7460557838559,34.781724502611304,34.81746469149007,34.85324332240646,34.85324332240646,34.85324332240646,34.85324332240646,34.85324332240646,34.88902567348487,34.88902567348487,34.88902567348487,34.88902567348487,34.88902567348487,34.92477194917343,34.92477194917343,34.92477194917343,34.92477194917343,34.92477194917343,34.96043395950718,34.995960666815925,34.995960666815925,34.995960666815925,35.03130668122564,35.03130668122564,35.03130668122564,35.10131382358126,35.13591279856521,35.13591279856521,35.13591279856521,35.13591279856521,35.170202691351456,35.170202691351456,35.204149249014385,35.204149249014385,35.204149249014385,35.204149249014385,35.23771798245508,35.270885064763505,35.33593939373981,35.33593939373981,35.36779763847838,35.36779763847838,35.36779763847838,35.39920095558961,35.39920095558961,35.43015834402204,35.43015834402204,35.43015834402204,35.46068801414579,35.46068801414579,35.46068801414579,35.46068801414579,35.49080679008764,35.520536933765186],\"yaxis\":\"y\",\"type\":\"scatter\"}],                        {\"template\":{\"data\":{\"histogram2dcontour\":[{\"type\":\"histogram2dcontour\",\"colorbar\":{\"outlinewidth\":0,\"ticks\":\"\"},\"colorscale\":[[0.0,\"#0d0887\"],[0.1111111111111111,\"#46039f\"],[0.2222222222222222,\"#7201a8\"],[0.3333333333333333,\"#9c179e\"],[0.4444444444444444,\"#bd3786\"],[0.5555555555555556,\"#d8576b\"],[0.6666666666666666,\"#ed7953\"],[0.7777777777777778,\"#fb9f3a\"],[0.8888888888888888,\"#fdca26\"],[1.0,\"#f0f921\"]]}],\"choropleth\":[{\"type\":\"choropleth\",\"colorbar\":{\"outlinewidth\":0,\"ticks\":\"\"}}],\"histogram2d\":[{\"type\":\"histogram2d\",\"colorbar\":{\"outlinewidth\":0,\"ticks\":\"\"},\"colorscale\":[[0.0,\"#0d0887\"],[0.1111111111111111,\"#46039f\"],[0.2222222222222222,\"#7201a8\"],[0.3333333333333333,\"#9c179e\"],[0.4444444444444444,\"#bd3786\"],[0.5555555555555556,\"#d8576b\"],[0.6666666666666666,\"#ed7953\"],[0.7777777777777778,\"#fb9f3a\"],[0.8888888888888888,\"#fdca26\"],[1.0,\"#f0f921\"]]}],\"heatmap\":[{\"type\":\"heatmap\",\"colorbar\":{\"outlinewidth\":0,\"ticks\":\"\"},\"colorscale\":[[0.0,\"#0d0887\"],[0.1111111111111111,\"#46039f\"],[0.2222222222222222,\"#7201a8\"],[0.3333333333333333,\"#9c179e\"],[0.4444444444444444,\"#bd3786\"],[0.5555555555555556,\"#d8576b\"],[0.6666666666666666,\"#ed7953\"],[0.7777777777777778,\"#fb9f3a\"],[0.8888888888888888,\"#fdca26\"],[1.0,\"#f0f921\"]]}],\"heatmapgl\":[{\"type\":\"heatmapgl\",\"colorbar\":{\"outlinewidth\":0,\"ticks\":\"\"},\"colorscale\":[[0.0,\"#0d0887\"],[0.1111111111111111,\"#46039f\"],[0.2222222222222222,\"#7201a8\"],[0.3333333333333333,\"#9c179e\"],[0.4444444444444444,\"#bd3786\"],[0.5555555555555556,\"#d8576b\"],[0.6666666666666666,\"#ed7953\"],[0.7777777777777778,\"#fb9f3a\"],[0.8888888888888888,\"#fdca26\"],[1.0,\"#f0f921\"]]}],\"contourcarpet\":[{\"type\":\"contourcarpet\",\"colorbar\":{\"outlinewidth\":0,\"ticks\":\"\"}}],\"contour\":[{\"type\":\"contour\",\"colorbar\":{\"outlinewidth\":0,\"ticks\":\"\"},\"colorscale\":[[0.0,\"#0d0887\"],[0.1111111111111111,\"#46039f\"],[0.2222222222222222,\"#7201a8\"],[0.3333333333333333,\"#9c179e\"],[0.4444444444444444,\"#bd3786\"],[0.5555555555555556,\"#d8576b\"],[0.6666666666666666,\"#ed7953\"],[0.7777777777777778,\"#fb9f3a\"],[0.8888888888888888,\"#fdca26\"],[1.0,\"#f0f921\"]]}],\"surface\":[{\"type\":\"surface\",\"colorbar\":{\"outlinewidth\":0,\"ticks\":\"\"},\"colorscale\":[[0.0,\"#0d0887\"],[0.1111111111111111,\"#46039f\"],[0.2222222222222222,\"#7201a8\"],[0.3333333333333333,\"#9c179e\"],[0.4444444444444444,\"#bd3786\"],[0.5555555555555556,\"#d8576b\"],[0.6666666666666666,\"#ed7953\"],[0.7777777777777778,\"#fb9f3a\"],[0.8888888888888888,\"#fdca26\"],[1.0,\"#f0f921\"]]}],\"mesh3d\":[{\"type\":\"mesh3d\",\"colorbar\":{\"outlinewidth\":0,\"ticks\":\"\"}}],\"scatter\":[{\"fillpattern\":{\"fillmode\":\"overlay\",\"size\":10,\"solidity\":0.2},\"type\":\"scatter\"}],\"parcoords\":[{\"type\":\"parcoords\",\"line\":{\"colorbar\":{\"outlinewidth\":0,\"ticks\":\"\"}}}],\"scatterpolargl\":[{\"type\":\"scatterpolargl\",\"marker\":{\"colorbar\":{\"outlinewidth\":0,\"ticks\":\"\"}}}],\"bar\":[{\"error_x\":{\"color\":\"#2a3f5f\"},\"error_y\":{\"color\":\"#2a3f5f\"},\"marker\":{\"line\":{\"color\":\"#E5ECF6\",\"width\":0.5},\"pattern\":{\"fillmode\":\"overlay\",\"size\":10,\"solidity\":0.2}},\"type\":\"bar\"}],\"scattergeo\":[{\"type\":\"scattergeo\",\"marker\":{\"colorbar\":{\"outlinewidth\":0,\"ticks\":\"\"}}}],\"scatterpolar\":[{\"type\":\"scatterpolar\",\"marker\":{\"colorbar\":{\"outlinewidth\":0,\"ticks\":\"\"}}}],\"histogram\":[{\"marker\":{\"pattern\":{\"fillmode\":\"overlay\",\"size\":10,\"solidity\":0.2}},\"type\":\"histogram\"}],\"scattergl\":[{\"type\":\"scattergl\",\"marker\":{\"colorbar\":{\"outlinewidth\":0,\"ticks\":\"\"}}}],\"scatter3d\":[{\"type\":\"scatter3d\",\"line\":{\"colorbar\":{\"outlinewidth\":0,\"ticks\":\"\"}},\"marker\":{\"colorbar\":{\"outlinewidth\":0,\"ticks\":\"\"}}}],\"scattermapbox\":[{\"type\":\"scattermapbox\",\"marker\":{\"colorbar\":{\"outlinewidth\":0,\"ticks\":\"\"}}}],\"scatterternary\":[{\"type\":\"scatterternary\",\"marker\":{\"colorbar\":{\"outlinewidth\":0,\"ticks\":\"\"}}}],\"scattercarpet\":[{\"type\":\"scattercarpet\",\"marker\":{\"colorbar\":{\"outlinewidth\":0,\"ticks\":\"\"}}}],\"carpet\":[{\"aaxis\":{\"endlinecolor\":\"#2a3f5f\",\"gridcolor\":\"white\",\"linecolor\":\"white\",\"minorgridcolor\":\"white\",\"startlinecolor\":\"#2a3f5f\"},\"baxis\":{\"endlinecolor\":\"#2a3f5f\",\"gridcolor\":\"white\",\"linecolor\":\"white\",\"minorgridcolor\":\"white\",\"startlinecolor\":\"#2a3f5f\"},\"type\":\"carpet\"}],\"table\":[{\"cells\":{\"fill\":{\"color\":\"#EBF0F8\"},\"line\":{\"color\":\"white\"}},\"header\":{\"fill\":{\"color\":\"#C8D4E3\"},\"line\":{\"color\":\"white\"}},\"type\":\"table\"}],\"barpolar\":[{\"marker\":{\"line\":{\"color\":\"#E5ECF6\",\"width\":0.5},\"pattern\":{\"fillmode\":\"overlay\",\"size\":10,\"solidity\":0.2}},\"type\":\"barpolar\"}],\"pie\":[{\"automargin\":true,\"type\":\"pie\"}]},\"layout\":{\"autotypenumbers\":\"strict\",\"colorway\":[\"#636efa\",\"#EF553B\",\"#00cc96\",\"#ab63fa\",\"#FFA15A\",\"#19d3f3\",\"#FF6692\",\"#B6E880\",\"#FF97FF\",\"#FECB52\"],\"font\":{\"color\":\"#2a3f5f\"},\"hovermode\":\"closest\",\"hoverlabel\":{\"align\":\"left\"},\"paper_bgcolor\":\"white\",\"plot_bgcolor\":\"#E5ECF6\",\"polar\":{\"bgcolor\":\"#E5ECF6\",\"angularaxis\":{\"gridcolor\":\"white\",\"linecolor\":\"white\",\"ticks\":\"\"},\"radialaxis\":{\"gridcolor\":\"white\",\"linecolor\":\"white\",\"ticks\":\"\"}},\"ternary\":{\"bgcolor\":\"#E5ECF6\",\"aaxis\":{\"gridcolor\":\"white\",\"linecolor\":\"white\",\"ticks\":\"\"},\"baxis\":{\"gridcolor\":\"white\",\"linecolor\":\"white\",\"ticks\":\"\"},\"caxis\":{\"gridcolor\":\"white\",\"linecolor\":\"white\",\"ticks\":\"\"}},\"coloraxis\":{\"colorbar\":{\"outlinewidth\":0,\"ticks\":\"\"}},\"colorscale\":{\"sequential\":[[0.0,\"#0d0887\"],[0.1111111111111111,\"#46039f\"],[0.2222222222222222,\"#7201a8\"],[0.3333333333333333,\"#9c179e\"],[0.4444444444444444,\"#bd3786\"],[0.5555555555555556,\"#d8576b\"],[0.6666666666666666,\"#ed7953\"],[0.7777777777777778,\"#fb9f3a\"],[0.8888888888888888,\"#fdca26\"],[1.0,\"#f0f921\"]],\"sequentialminus\":[[0.0,\"#0d0887\"],[0.1111111111111111,\"#46039f\"],[0.2222222222222222,\"#7201a8\"],[0.3333333333333333,\"#9c179e\"],[0.4444444444444444,\"#bd3786\"],[0.5555555555555556,\"#d8576b\"],[0.6666666666666666,\"#ed7953\"],[0.7777777777777778,\"#fb9f3a\"],[0.8888888888888888,\"#fdca26\"],[1.0,\"#f0f921\"]],\"diverging\":[[0,\"#8e0152\"],[0.1,\"#c51b7d\"],[0.2,\"#de77ae\"],[0.3,\"#f1b6da\"],[0.4,\"#fde0ef\"],[0.5,\"#f7f7f7\"],[0.6,\"#e6f5d0\"],[0.7,\"#b8e186\"],[0.8,\"#7fbc41\"],[0.9,\"#4d9221\"],[1,\"#276419\"]]},\"xaxis\":{\"gridcolor\":\"white\",\"linecolor\":\"white\",\"ticks\":\"\",\"title\":{\"standoff\":15},\"zerolinecolor\":\"white\",\"automargin\":true,\"zerolinewidth\":2},\"yaxis\":{\"gridcolor\":\"white\",\"linecolor\":\"white\",\"ticks\":\"\",\"title\":{\"standoff\":15},\"zerolinecolor\":\"white\",\"automargin\":true,\"zerolinewidth\":2},\"scene\":{\"xaxis\":{\"backgroundcolor\":\"#E5ECF6\",\"gridcolor\":\"white\",\"linecolor\":\"white\",\"showbackground\":true,\"ticks\":\"\",\"zerolinecolor\":\"white\",\"gridwidth\":2},\"yaxis\":{\"backgroundcolor\":\"#E5ECF6\",\"gridcolor\":\"white\",\"linecolor\":\"white\",\"showbackground\":true,\"ticks\":\"\",\"zerolinecolor\":\"white\",\"gridwidth\":2},\"zaxis\":{\"backgroundcolor\":\"#E5ECF6\",\"gridcolor\":\"white\",\"linecolor\":\"white\",\"showbackground\":true,\"ticks\":\"\",\"zerolinecolor\":\"white\",\"gridwidth\":2}},\"shapedefaults\":{\"line\":{\"color\":\"#2a3f5f\"}},\"annotationdefaults\":{\"arrowcolor\":\"#2a3f5f\",\"arrowhead\":0,\"arrowwidth\":1},\"geo\":{\"bgcolor\":\"white\",\"landcolor\":\"#E5ECF6\",\"subunitcolor\":\"white\",\"showland\":true,\"showlakes\":true,\"lakecolor\":\"white\"},\"title\":{\"x\":0.05},\"mapbox\":{\"style\":\"light\"}}},\"xaxis\":{\"anchor\":\"y\",\"domain\":[0.0,1.0],\"title\":{\"text\":\"Glucose Level (mg\\u002fdL)\"},\"showgrid\":true,\"gridwidth\":1,\"gridcolor\":\"LightGrey\"},\"yaxis\":{\"anchor\":\"x\",\"domain\":[0.0,1.0],\"title\":{\"text\":\"Body Mass Index\"},\"showgrid\":true,\"gridwidth\":1,\"gridcolor\":\"LightGrey\"},\"coloraxis\":{\"colorbar\":{\"title\":{\"text\":\"Outcome\"}},\"colorscale\":[[0.0,\"#0d0887\"],[0.1111111111111111,\"#46039f\"],[0.2222222222222222,\"#7201a8\"],[0.3333333333333333,\"#9c179e\"],[0.4444444444444444,\"#bd3786\"],[0.5555555555555556,\"#d8576b\"],[0.6666666666666666,\"#ed7953\"],[0.7777777777777778,\"#fb9f3a\"],[0.8888888888888888,\"#fdca26\"],[1.0,\"#f0f921\"]]},\"legend\":{\"tracegroupgap\":0},\"title\":{\"text\":\"Core Relationship: Glucose Level vs. BMI (Colored by Diabetes Outcome)\",\"x\":0.5},\"font\":{\"size\":12},\"plot_bgcolor\":\"white\"},                        {\"responsive\": true}                    ).then(function(){\n",
              "                            \n",
              "var gd = document.getElementById('9f6a750a-4286-4b48-840d-fab72405206f');\n",
              "var x = new MutationObserver(function (mutations, observer) {{\n",
              "        var display = window.getComputedStyle(gd).display;\n",
              "        if (!display || display === 'none') {{\n",
              "            console.log([gd, 'removed!']);\n",
              "            Plotly.purge(gd);\n",
              "            observer.disconnect();\n",
              "        }}\n",
              "}});\n",
              "\n",
              "// Listen for the removal of the full notebook cells\n",
              "var notebookContainer = gd.closest('#notebook-container');\n",
              "if (notebookContainer) {{\n",
              "    x.observe(notebookContainer, {childList: true});\n",
              "}}\n",
              "\n",
              "// Listen for the clearing of the current output cell\n",
              "var outputEl = gd.closest('.output');\n",
              "if (outputEl) {{\n",
              "    x.observe(outputEl, {childList: true});\n",
              "}}\n",
              "\n",
              "                        })                };                });            </script>        </div>"
            ]
          },
          "metadata": {}
        }
      ]
    },
    {
      "cell_type": "markdown",
      "source": [
        "This scatterplot reveals a critical clinical relationship: higher glucose levels strongly correlate with diabetes diagnosis (colored points). The data shows a positive trend where elevated BMI often coincides with hyperglycemia, particularly in diabetic cases. Notably, diabetic outcomes cluster prominently in the high-glucose quadrant, regardless of BMI. Non-diabetic cases predominantly occupy the normal glucose range across all BMI values. This visualization confirms glucose level as a primary biomarker, with BMI serving as a significant compounding risk factor for diabetes."
      ],
      "metadata": {
        "id": "AxdWYLcLMTbv"
      }
    },
    {
      "cell_type": "code",
      "source": [
        "fig = px.scatter(df,\n",
        "                 x='Glucose',\n",
        "                 y='BMI',\n",
        "                 size='Age',\n",
        "                 color='Outcome',\n",
        "                 hover_name='Pregnancies',\n",
        "                 size_max=15,\n",
        "                 title='Multi-Dimensional Analysis: Glucose, BMI, Age, and Outcome',\n",
        "                 labels={\"Glucose\": \"Glucose Level (mg/dL)\", \"BMI\": \"Body Mass Index\"}\n",
        "                )\n",
        "fig.update_layout(\n",
        "    plot_bgcolor='white',\n",
        "    font=dict(size=12),\n",
        "    title_x=0.5\n",
        ")\n",
        "fig.update_xaxes(showgrid=True, gridwidth=1, gridcolor='LightGrey')\n",
        "fig.update_yaxes(showgrid=True, gridwidth=1, gridcolor='LightGrey')\n",
        "fig.show()"
      ],
      "metadata": {
        "colab": {
          "base_uri": "https://localhost:8080/",
          "height": 542
        },
        "id": "opRUIx7oJAcT",
        "outputId": "7d32eeca-6004-4a85-aef7-51cb4607d51a"
      },
      "execution_count": 106,
      "outputs": [
        {
          "output_type": "display_data",
          "data": {
            "text/html": [
              "<div>                            <div id=\"a68716a6-fd5f-4298-b733-71263db1a4d9\" class=\"plotly-graph-div\" style=\"height:525px; width:100%;\"></div>            <script type=\"text/javascript\">                require([\"plotly\"], function(Plotly) {                    window.PLOTLYENV=window.PLOTLYENV || {};                                    if (document.getElementById(\"a68716a6-fd5f-4298-b733-71263db1a4d9\")) {                    Plotly.newPlot(                        \"a68716a6-fd5f-4298-b733-71263db1a4d9\",                        [{\"hovertemplate\":\"\\u003cb\\u003e%{hovertext}\\u003c\\u002fb\\u003e\\u003cbr\\u003e\\u003cbr\\u003eGlucose Level (mg\\u002fdL)=%{x}\\u003cbr\\u003eBody Mass Index=%{y}\\u003cbr\\u003eAge=%{marker.size}\\u003cbr\\u003eOutcome=%{marker.color}\\u003cextra\\u003e\\u003c\\u002fextra\\u003e\",\"hovertext\":[6.0,1.0,8.0,1.0,0.0,5.0,3.0,10.0,2.0,8.0,4.0,10.0,10.0,1.0,5.0,7.0,0.0,7.0,1.0,1.0,3.0,8.0,7.0,9.0,11.0,10.0,7.0,1.0,13.0,5.0,5.0,3.0,3.0,6.0,10.0,4.0,11.0,9.0,2.0,4.0,3.0,7.0,7.0,9.0,7.0,0.0,1.0,2.0,7.0,7.0,1.0,1.0,5.0,8.0,7.0,1.0,7.0,0.0,0.0,0.0,2.0,8.0,5.0,2.0,7.0,5.0,0.0,2.0,1.0,4.0,2.0,5.0,13.0,4.0,1.0,1.0,7.0,5.0,0.0,2.0,3.0,2.0,7.0,0.0,5.0,2.0,13.0,2.0,15.0,1.0,1.0,4.0,7.0,4.0,2.0,6.0,2.0,1.0,6.0,1.0,1.0,1.0,0.0,1.0,2.0,1.0,1.0,4.0,3.0,0.0,3.0,8.0,1.0,4.0,7.0,4.0,5.0,5.0,4.0,4.0,0.0,6.0,2.0,5.0,0.0,1.0,3.0,1.0,1.0,0.0,4.0,9.0,3.0,8.0,2.0,2.0,0.0,0.0,0.0,5.0,3.0,5.0,2.0,10.0,4.0,0.0,9.0,2.0,5.0,2.0,1.0,4.0,9.0,1.0,8.0,7.0,2.0,1.0,2.0,17.0,4.0,7.0,0.0,2.0,0.0,6.0,3.0,4.0,4.0,3.0,6.0,6.0,2.0,1.0,2.0,8.0,6.0,0.0,5.0,5.0,6.0,0.0,1.0,5.0,4.0,7.0,8.0,1.0,8.0,5.0,3.0,9.0,7.0,11.0,8.0,5.0,1.0,3.0,4.0,4.0,0.0,1.0,0.0,2.0,6.0,5.0,8.0,5.0,1.0,7.0,2.0,0.0,7.0,0.0,9.0,12.0,5.0,6.0,5.0,5.0,0.0,2.0,7.0,7.0,1.0,1.0,0.0,3.0,4.0,0.0,4.0,6.0,1.0,4.0,3.0,4.0,7.0,0.0,9.0,0.0,1.0,4.0,3.0,6.0,2.0,9.0,10.0,0.0,9.0,1.0,9.0,2.0,2.0,0.0,12.0,1.0,3.0,2.0,1.0,11.0,3.0,3.0,4.0,3.0,4.0,5.0,0.0,2.0,0.0,2.0,10.0,2.0,3.0,1.0,13.0,2.0,7.0,0.0,5.0,2.0,0.0,10.0,7.0,7.0,2.0,7.0,5.0,1.0,4.0,5.0,0.0,0.0,2.0,1.0,0.0,6.0,2.0,0.0,14.0,8.0,0.0,2.0,5.0,5.0,3.0,2.0,10.0,0.0,0.0,2.0,6.0,0.0,2.0,3.0,7.0,2.0,3.0,3.0,3.0,6.0,4.0,3.0,0.0,13.0,2.0,1.0,1.0,10.0,2.0,6.0,8.0,2.0,1.0,12.0,1.0,0.0,0.0,5.0,9.0,7.0,1.0,1.0,1.0,5.0,8.0,8.0,1.0,3.0,3.0,5.0,4.0,4.0,3.0,1.0,3.0,9.0,1.0,13.0,12.0,1.0,5.0,5.0,5.0,4.0,4.0,5.0,6.0,0.0,3.0,1.0,3.0,0.0,0.0,2.0,2.0,12.0,0.0,1.0,4.0,0.0,1.0,0.0,1.0,1.0,1.0,1.0,5.0,8.0,5.0,3.0,1.0,5.0,1.0,4.0,4.0,2.0,3.0,0.0,3.0,3.0,4.0,6.0,5.0,9.0,5.0,2.0,4.0,0.0,8.0,1.0,6.0,1.0,1.0,1.0,0.0,3.0,1.0,4.0,1.0,3.0,1.0,2.0,0.0,2.0,8.0,4.0,0.0,1.0,0.0,1.0,2.0,3.0,1.0,2.0,1.0,0.0,12.0,5.0,1.0,6.0,0.0,2.0,4.0,8.0,4.0,0.0,1.0,0.0,0.0,0.0,1.0,2.0,0.0,2.0,2.0,14.0,1.0,5.0,10.0,9.0,9.0,1.0,8.0,5.0,10.0,0.0,0.0,0.0,8.0,6.0,1.0,0.0,0.0,7.0,4.0,0.0,2.0,7.0,8.0,4.0,3.0,0.0,4.0,0.0,0.0,0.0,1.0,0.0,4.0,8.0,2.0,2.0,4.0,4.0,3.0,6.0,5.0,2.0,7.0,6.0,2.0,3.0,6.0,7.0,3.0,10.0,0.0,1.0,2.0,8.0,12.0,0.0,9.0,2.0,3.0,3.0,9.0,7.0,13.0,6.0,2.0,3.0,6.0,9.0,3.0,3.0,1.0,3.0,0.0,0.0,2.0,0.0,1.0,6.0,1.0,4.0,0.0,0.0,0.0,3.0,8.0,3.0,10.0,4.0,1.0,8.0,5.0,4.0,1.0,4.0,1.0,3.0,6.0,1.0,1.0,7.0,1.0,8.0,11.0,11.0,6.0,0.0,1.0,6.0,0.0,2.0,1.0,6.0,4.0,0.0,3.0,2.0,3.0,2.0,1.0,1.0,6.0,2.0,10.0,2.0,0.0,6.0,12.0,8.0,8.0,1.0,8.0,6.0,3.0,0.0,11.0,2.0,3.0,2.0,6.0,0.0,0.0,1.0,1.0,1.0,1.0,6.0,1.0,7.0,4.0,1.0,1.0,1.0,0.0,1.0,3.0,3.0,7.0,6.0,11.0,3.0,6.0,2.0,9.0,0.0,2.0,2.0,6.0,0.0,2.0,4.0,0.0,0.0,5.0,4.0,7.0,0.0,2.0,1.0,10.0,13.0,5.0,2.0,7.0,1.0,0.0,4.0,6.0,4.0,3.0,2.0,1.0,0.0,11.0,0.0,1.0,1.0,5.0,2.0,1.0,2.0,2.0,1.0,11.0,3.0,10.0,1.0,8.0,9.0,6.0,1.0,4.0,10.0,6.0,9.0,6.0,1.0,10.0,3.0,8.0,6.0,9.0,0.0,3.0,2.0,2.0,0.0,0.0,4.0,5.0,2.0,3.0,1.0,1.0,1.0,8.0,13.0,2.0,7.0,2.0,7.0,3.0,0.0,4.0,4.0,2.0,6.0,1.0,2.0,4.0,6.0,10.0,2.0,9.0,2.0,3.0,5.0,10.0,0.0,3.0,7.0,3.0,10.0,1.0,5.0,4.0,1.0,1.0,5.0,1.0,4.0,1.0,0.0,2.0,2.0,3.0,8.0,2.0,2.0,2.0,4.0,0.0,8.0,2.0,1.0,11.0,3.0,1.0,9.0,13.0,12.0,1.0,1.0,3.0,6.0,4.0,1.0,3.0,0.0,8.0,1.0,7.0,0.0,1.0,6.0,2.0,9.0,9.0,10.0,2.0,5.0,1.0,1.0],\"legendgroup\":\"\",\"marker\":{\"color\":[1,0,1,0,1,0,1,0,1,1,0,1,0,1,1,1,1,1,0,1,0,0,1,1,1,1,1,0,0,0,0,1,0,0,0,0,0,1,1,1,0,0,0,1,0,1,0,0,1,0,0,0,0,1,0,0,1,0,0,0,0,1,0,0,1,0,1,0,0,0,1,0,1,0,0,0,0,0,1,0,0,0,0,0,1,0,0,0,1,0,0,0,0,1,0,0,0,0,0,1,1,0,0,0,0,0,0,0,0,1,1,1,0,0,1,1,1,0,0,0,1,0,0,0,1,1,0,0,1,1,1,1,1,0,0,0,0,0,0,0,0,0,0,1,0,0,0,0,0,0,0,0,1,0,1,1,0,0,0,1,0,0,0,0,1,1,0,0,0,0,1,1,0,0,0,1,0,1,0,1,0,0,0,0,0,1,1,1,1,1,0,0,1,1,0,1,0,1,1,1,0,0,0,0,0,0,1,1,0,1,0,0,0,1,1,1,1,0,1,1,1,1,0,0,0,0,0,1,0,0,1,1,0,0,0,1,1,1,1,0,0,0,1,1,0,1,0,0,0,0,0,0,0,0,1,1,0,0,0,1,0,1,0,0,1,0,1,0,0,1,1,0,0,0,0,0,1,0,0,0,1,0,0,1,1,0,0,1,0,0,0,1,1,1,0,0,1,0,1,0,1,1,0,1,0,0,1,0,1,1,0,0,1,0,1,0,0,1,0,1,0,1,1,1,0,0,1,0,1,0,0,0,1,0,0,0,0,1,1,1,0,0,0,0,0,0,0,0,0,1,0,0,0,0,0,1,1,1,0,1,1,0,0,1,0,0,1,0,0,1,1,0,0,0,0,1,0,0,1,0,0,0,0,0,0,0,1,1,1,0,0,1,0,0,1,0,0,1,0,1,1,0,1,0,1,0,1,0,1,1,0,0,0,0,1,1,0,1,0,1,0,0,0,0,1,1,0,1,0,1,0,0,0,0,0,1,0,0,0,0,1,0,0,1,1,1,0,0,1,0,0,1,0,0,0,1,0,0,1,0,0,0,0,0,0,0,0,0,1,0,0,0,0,0,0,0,1,0,0,0,1,0,0,0,1,1,0,0,0,0,0,0,0,1,0,0,0,0,1,0,0,0,1,0,0,0,1,0,0,0,1,0,0,0,0,1,1,0,0,0,0,0,0,1,0,0,0,0,0,0,0,0,0,0,0,1,0,0,0,1,1,1,1,0,0,1,1,0,0,0,0,0,0,0,0,0,0,0,0,0,1,1,0,0,0,0,0,0,0,1,0,0,0,0,0,0,0,1,0,1,1,0,0,0,1,0,1,0,1,0,1,0,1,0,0,1,0,0,1,0,0,0,0,1,1,0,1,0,0,0,0,1,1,0,1,0,0,0,1,1,0,0,0,0,0,0,0,0,0,0,1,0,0,0,0,1,0,0,1,0,0,0,1,0,0,0,1,1,1,0,0,0,0,0,0,1,0,0,0,1,0,1,1,1,1,0,1,1,0,0,0,0,0,0,0,1,1,0,1,0,0,1,0,1,0,0,0,0,0,1,0,1,0,1,0,1,1,0,0,0,0,1,1,0,0,0,1,0,1,1,0,0,1,0,0,1,1,0,0,1,0,0,1,0,0,0,0,0,0,0,1,1,1,0,0,0,0,0,0,1,1,0,0,1,0,0,1,0,1,1,1,0,0,1,1,1,0,1,0,1,0,1,0,0,0,0,1,0],\"coloraxis\":\"coloraxis\",\"size\":[50,31,32,21,33,30,26,29,53,54,30,34,57,59,51,32,31,31,33,32,27,50,41,29,51,41,43,22,57,38,60,28,22,28,45,33,35,46,27,56,26,37,48,54,40,25,29,22,31,24,22,26,30,58,42,21,41,31,44,22,21,39,36,24,42,32,38,54,25,27,28,26,42,23,22,22,41,27,26,24,22,22,36,22,37,27,45,26,43,24,21,34,42,60,21,40,24,22,23,31,33,22,21,24,27,21,27,37,25,24,24,46,23,25,39,61,38,25,22,21,25,24,23,69,23,26,30,23,40,62,33,33,30,39,26,31,21,22,29,28,55,38,22,42,23,21,41,34,65,22,24,37,42,23,43,36,21,23,22,47,36,45,27,21,32,41,22,34,29,29,36,29,25,23,33,36,42,26,47,37,32,23,21,27,40,41,60,33,31,25,21,40,36,40,42,29,21,23,26,29,21,28,32,27,55,27,57,52,21,41,25,24,60,24,36,38,25,32,32,41,21,66,37,61,26,22,26,24,31,24,22,46,22,29,23,26,51,23,32,27,21,22,22,33,29,49,41,23,34,23,42,27,24,25,44,21,30,25,24,51,34,27,24,63,35,43,25,24,21,28,38,21,40,21,52,25,29,23,57,22,28,39,37,47,52,51,34,29,26,33,21,25,31,24,65,28,29,24,46,58,30,25,35,28,37,29,47,21,25,30,41,22,27,25,43,26,30,29,28,59,31,25,36,43,21,24,30,37,23,37,46,25,41,44,22,26,44,44,33,41,22,36,22,33,57,49,22,23,26,37,29,30,46,24,21,49,28,44,48,29,29,63,65,67,30,30,29,21,22,45,25,21,21,25,28,58,22,22,32,35,24,22,21,25,25,24,35,45,58,28,42,27,21,37,31,25,39,22,25,25,31,55,35,38,41,26,46,25,39,28,28,25,22,21,21,22,22,37,27,28,26,21,21,21,36,31,25,38,26,43,23,38,22,29,36,29,41,28,21,31,41,22,24,33,30,25,28,26,22,26,23,23,25,72,24,38,62,24,51,81,48,26,39,37,34,21,22,25,38,27,28,22,22,50,24,59,29,31,39,63,35,29,28,23,31,24,21,58,28,67,24,42,33,45,22,66,30,25,55,39,21,28,41,41,40,38,35,21,21,64,46,21,58,22,24,28,53,51,41,60,25,26,26,45,24,21,21,24,22,31,22,24,29,31,24,23,46,67,23,32,43,27,56,25,29,37,53,28,50,37,21,25,66,23,28,37,30,58,42,35,54,28,24,32,27,22,21,46,37,33,39,21,22,22,23,25,35,21,36,62,21,27,62,42,52,22,41,29,52,25,45,24,44,25,34,22,46,21,38,26,24,28,30,54,36,21,22,25,27,23,24,36,40,26,50,27,30,23,50,24,28,28,45,21,21,29,21,21,45,21,34,24,23,22,31,38,48,23,32,28,27,24,50,31,27,30,33,22,42,23,23,27,28,27,22,25,22,41,51,27,54,22,43,40,40,24,70,40,43,45,49,21,47,22,68,31,53,25,25,23,22,26,22,27,69,25,22,29,23,46,34,44,23,43,25,43,31,22,28,26,26,49,52,41,27,28,30,22,45,23,24,40,38,21,32,34,31,56,24,52,34,21,42,42,45,38,25,22,22,22,34,22,24,22,53,28,21,42,21,42,48,26,22,45,39,46,27,32,36,50,22,28,25,26,45,37,39,52,26,66,22,43,33,63,27,30,47,23],\"sizemode\":\"area\",\"sizeref\":0.36,\"symbol\":\"circle\"},\"mode\":\"markers\",\"name\":\"\",\"orientation\":\"v\",\"showlegend\":false,\"x\":[148,85,183,89,137,116,78,115,197,125,110,168,139,189,166,100,118,107,103,115,126,99,196,119,143,125,147,97,145,117,109,158,88,92,122,103,138,102,90,111,180,133,106,171,159,180,146,71,103,105,103,101,88,176,150,73,187,100,146,105,84,133,44,141,114,99,109,109,95,146,100,139,126,129,79,0,62,95,131,112,113,74,83,101,137,110,106,100,136,107,80,123,81,134,142,144,92,71,93,122,163,151,125,81,85,126,96,144,83,95,171,155,89,76,160,146,124,78,97,99,162,111,107,132,113,88,120,118,117,105,173,122,170,84,96,125,100,93,129,105,128,106,108,108,154,102,57,106,147,90,136,114,156,153,188,152,99,109,88,163,151,102,114,100,131,104,148,120,110,111,102,134,87,79,75,179,85,129,143,130,87,119,0,73,141,194,181,128,109,139,111,123,159,135,85,158,105,107,109,148,113,138,108,99,103,111,196,162,96,184,81,147,179,140,112,151,109,125,85,112,177,158,119,142,100,87,101,162,197,117,142,134,79,122,74,171,181,179,164,104,91,91,139,119,146,184,122,165,124,111,106,129,90,86,92,113,111,114,193,155,191,141,95,142,123,96,138,128,102,146,101,108,122,71,106,100,106,104,114,108,146,129,133,161,108,136,155,119,96,108,78,107,128,128,161,151,146,126,100,112,167,144,77,115,150,120,161,137,128,124,80,106,155,113,109,112,99,182,115,194,129,112,124,152,112,157,122,179,102,105,118,87,180,106,95,165,117,115,152,178,130,95,0,122,95,126,139,116,99,0,92,137,61,90,90,165,125,129,88,196,189,158,103,146,147,99,124,101,81,133,173,118,84,105,122,140,98,87,156,93,107,105,109,90,125,119,116,105,144,100,100,166,131,116,158,127,96,131,82,193,95,137,136,72,168,123,115,101,197,172,102,112,143,143,138,173,97,144,83,129,119,94,102,115,151,184,94,181,135,95,99,89,80,139,90,141,140,147,97,107,189,83,117,108,117,180,100,95,104,120,82,134,91,119,100,175,135,86,148,134,120,71,74,88,115,124,74,97,120,154,144,137,119,136,114,137,105,114,126,132,158,123,85,84,145,135,139,173,99,194,83,89,99,125,80,166,110,81,195,154,117,84,0,94,96,75,180,130,84,120,84,139,91,91,99,163,145,125,76,129,68,124,114,130,125,87,97,116,117,111,122,107,86,91,77,132,105,57,127,129,100,128,90,84,88,186,187,131,164,189,116,84,114,88,84,124,97,110,103,85,125,198,87,99,91,95,99,92,154,121,78,130,111,98,143,119,108,118,133,197,151,109,121,100,124,93,143,103,176,73,111,112,132,82,123,188,67,89,173,109,108,96,124,150,183,124,181,92,152,111,106,174,168,105,138,106,117,68,112,119,112,92,183,94,108,90,125,132,128,94,114,102,111,128,92,104,104,94,97,100,102,128,147,90,103,157,167,179,136,107,91,117,123,120,106,155,101,120,127,80,162,199,167,145,115,112,145,111,98,154,165,99,68,123,91,195,156,93,121,101,56,162,95,125,136,129,130,107,140,144,107,158,121,129,90,142,169,99,127,118,122,125,168,129,110,80,115,127,164,93,158,126,129,134,102,187,173,94,108,97,83,114,149,117,111,112,116,141,175,92,130,120,174,106,105,95,126,65,99,102,120,102,109,140,153,100,147,81,187,162,136,121,108,181,154,128,137,123,106,190,88,170,89,101,122,121,126,93],\"xaxis\":\"x\",\"y\":[33.6,26.6,23.3,28.1,43.1,25.6,31.0,35.3,30.5,0.0,37.6,38.0,27.1,30.1,25.8,30.0,45.8,29.6,43.3,34.6,39.3,35.4,39.8,29.0,36.6,31.1,39.4,23.2,22.2,34.1,36.0,31.6,24.8,19.9,27.6,24.0,33.2,32.9,38.2,37.1,34.0,40.2,22.7,45.4,27.4,42.0,29.7,28.0,39.1,0.0,19.4,24.2,24.4,33.7,34.7,23.0,37.7,46.8,40.5,41.5,0.0,32.9,25.0,25.4,32.8,29.0,32.5,42.7,19.6,28.9,32.9,28.6,43.4,35.1,32.0,24.7,32.6,37.7,43.2,25.0,22.4,0.0,29.3,24.6,48.8,32.4,36.6,38.5,37.1,26.5,19.1,32.0,46.7,23.8,24.7,33.9,31.6,20.4,28.7,49.7,39.0,26.1,22.5,26.6,39.6,28.7,22.4,29.5,34.3,37.4,33.3,34.0,31.2,34.0,30.5,31.2,34.0,33.7,28.2,23.2,53.2,34.2,33.6,26.8,33.3,55.0,42.9,33.3,34.5,27.9,29.7,33.3,34.5,38.3,21.1,33.8,30.8,28.7,31.2,36.9,21.1,39.5,32.5,32.4,32.8,0.0,32.8,30.5,33.7,27.3,37.4,21.9,34.3,40.6,47.9,50.0,24.6,25.2,29.0,40.9,29.7,37.2,44.2,29.7,31.6,29.9,32.5,29.6,31.9,28.4,30.8,35.4,28.9,43.5,29.7,32.7,31.2,67.1,45.0,39.1,23.2,34.9,27.7,26.8,27.6,35.9,30.1,32.0,27.9,31.6,22.6,33.1,30.4,52.3,24.4,39.4,24.3,22.9,34.8,30.9,31.0,40.1,27.3,20.4,37.7,23.9,37.5,37.7,33.2,35.5,27.7,42.8,34.2,42.6,34.2,41.8,35.8,30.0,29.0,37.8,34.6,31.6,25.2,28.8,23.6,34.6,35.7,37.2,36.7,45.2,44.0,46.2,25.4,35.0,29.7,43.6,35.9,44.1,30.8,18.4,29.2,33.1,25.6,27.1,38.2,30.0,31.2,52.3,35.4,30.1,31.2,28.0,24.4,35.8,27.6,33.6,30.1,28.7,25.9,33.3,30.9,30.0,32.1,32.4,32.0,33.6,36.3,40.0,25.1,27.5,45.6,25.2,23.0,33.2,34.2,40.5,26.5,27.8,24.9,25.3,37.9,35.9,32.4,30.4,27.0,26.0,38.7,45.6,20.8,36.1,36.9,36.6,43.3,40.5,21.9,35.5,28.0,30.7,36.6,23.6,32.3,31.6,35.8,52.9,21.0,39.7,25.5,24.8,30.5,32.9,26.2,39.4,26.6,29.5,35.9,34.1,19.3,30.5,38.1,23.5,27.5,31.6,27.4,26.8,35.7,25.6,35.1,35.1,45.5,30.8,23.1,32.7,43.3,23.6,23.9,47.9,33.8,31.2,34.2,39.9,25.9,25.9,32.0,34.7,36.8,38.5,28.7,23.5,21.8,41.0,42.2,31.2,34.4,27.2,42.7,30.4,33.3,39.9,35.3,36.5,31.2,29.8,39.2,38.5,34.9,34.0,27.6,21.0,27.5,32.8,38.4,0.0,35.8,34.9,36.2,39.2,25.2,37.2,48.3,43.4,30.8,20.0,25.4,25.1,24.3,22.3,32.3,43.3,32.0,31.6,32.0,45.7,23.7,22.1,32.9,27.7,24.7,34.3,21.1,34.9,32.0,24.2,35.0,31.6,32.9,42.1,28.9,21.9,25.9,42.4,35.7,34.4,42.4,26.2,34.6,35.7,27.2,38.5,18.2,26.4,45.3,26.0,40.6,30.8,42.9,37.0,0.0,34.1,40.6,35.0,22.2,30.4,30.0,25.6,24.5,42.4,37.4,29.9,18.2,36.8,34.3,32.2,33.2,30.5,29.7,59.4,25.3,36.5,33.6,30.5,21.2,28.9,39.9,19.6,37.8,33.6,26.7,30.2,37.6,25.9,20.8,21.8,35.3,27.6,24.0,21.8,27.8,36.8,30.0,46.1,41.3,33.2,38.8,29.9,28.9,27.3,33.7,23.8,25.9,28.0,35.5,35.2,27.8,38.2,44.2,42.3,40.7,46.5,25.6,26.1,36.8,33.5,32.8,28.9,0.0,26.6,26.0,30.1,25.1,29.3,25.2,37.2,39.0,33.3,37.3,33.3,36.5,28.6,30.4,25.0,29.7,22.1,24.2,27.3,25.6,31.6,30.3,37.6,32.8,19.6,25.0,33.2,0.0,34.2,31.6,21.8,18.2,26.3,30.8,24.6,29.8,45.3,41.3,29.8,33.3,32.9,29.6,21.7,36.3,36.4,39.4,32.4,34.9,39.5,32.0,34.5,43.6,33.1,32.8,28.5,27.4,31.9,27.8,29.9,36.9,25.5,38.1,27.8,46.2,30.1,33.8,41.3,37.6,26.9,32.4,26.1,38.6,32.0,31.3,34.3,32.5,22.6,29.5,34.7,30.1,35.5,24.0,42.9,27.0,34.7,42.1,25.0,26.5,38.7,28.7,22.5,34.9,24.3,33.3,21.1,46.8,39.4,34.4,28.5,33.6,32.0,45.3,27.8,36.8,23.1,27.1,23.7,27.8,35.2,28.4,35.8,40.0,19.5,41.5,24.0,30.9,32.9,38.2,32.5,36.1,25.8,28.7,20.1,28.2,32.4,38.4,24.2,40.8,43.5,30.8,37.7,24.7,32.4,34.6,24.7,27.4,34.5,26.2,27.5,25.9,31.2,28.8,31.6,40.9,19.5,29.3,34.3,29.5,28.0,27.6,39.4,23.4,37.8,28.3,26.4,25.2,33.8,34.1,26.8,34.2,38.7,21.8,38.9,39.0,34.2,27.7,42.9,37.6,37.9,33.7,34.8,32.5,27.5,34.0,30.9,33.6,25.4,35.5,57.3,35.6,30.9,24.8,35.3,36.0,24.2,24.2,49.6,44.6,32.3,0.0,33.2,23.1,28.3,24.1,46.1,24.6,42.3,39.1,38.5,23.5,30.4,29.9,25.0,34.5,44.5,35.9,27.6,35.0,38.5,28.4,39.8,0.0,34.4,32.8,38.0,31.2,29.6,41.2,26.4,29.5,33.9,33.8,23.1,35.5,35.6,29.3,38.1,29.3,39.1,32.8,39.4,36.1,32.4,22.9,30.1,28.4,28.4,44.5,29.0,23.3,35.4,27.4,32.0,36.6,39.5,42.3,30.8,28.5,32.7,40.6,30.0,49.3,46.3,36.4,24.3,31.2,39.0,26.0,43.3,32.4,36.5,32.0,36.3,37.5,35.5,28.4,44.0,22.5,32.9,36.8,26.2,30.1,30.4],\"yaxis\":\"y\",\"type\":\"scatter\"}],                        {\"template\":{\"data\":{\"histogram2dcontour\":[{\"type\":\"histogram2dcontour\",\"colorbar\":{\"outlinewidth\":0,\"ticks\":\"\"},\"colorscale\":[[0.0,\"#0d0887\"],[0.1111111111111111,\"#46039f\"],[0.2222222222222222,\"#7201a8\"],[0.3333333333333333,\"#9c179e\"],[0.4444444444444444,\"#bd3786\"],[0.5555555555555556,\"#d8576b\"],[0.6666666666666666,\"#ed7953\"],[0.7777777777777778,\"#fb9f3a\"],[0.8888888888888888,\"#fdca26\"],[1.0,\"#f0f921\"]]}],\"choropleth\":[{\"type\":\"choropleth\",\"colorbar\":{\"outlinewidth\":0,\"ticks\":\"\"}}],\"histogram2d\":[{\"type\":\"histogram2d\",\"colorbar\":{\"outlinewidth\":0,\"ticks\":\"\"},\"colorscale\":[[0.0,\"#0d0887\"],[0.1111111111111111,\"#46039f\"],[0.2222222222222222,\"#7201a8\"],[0.3333333333333333,\"#9c179e\"],[0.4444444444444444,\"#bd3786\"],[0.5555555555555556,\"#d8576b\"],[0.6666666666666666,\"#ed7953\"],[0.7777777777777778,\"#fb9f3a\"],[0.8888888888888888,\"#fdca26\"],[1.0,\"#f0f921\"]]}],\"heatmap\":[{\"type\":\"heatmap\",\"colorbar\":{\"outlinewidth\":0,\"ticks\":\"\"},\"colorscale\":[[0.0,\"#0d0887\"],[0.1111111111111111,\"#46039f\"],[0.2222222222222222,\"#7201a8\"],[0.3333333333333333,\"#9c179e\"],[0.4444444444444444,\"#bd3786\"],[0.5555555555555556,\"#d8576b\"],[0.6666666666666666,\"#ed7953\"],[0.7777777777777778,\"#fb9f3a\"],[0.8888888888888888,\"#fdca26\"],[1.0,\"#f0f921\"]]}],\"heatmapgl\":[{\"type\":\"heatmapgl\",\"colorbar\":{\"outlinewidth\":0,\"ticks\":\"\"},\"colorscale\":[[0.0,\"#0d0887\"],[0.1111111111111111,\"#46039f\"],[0.2222222222222222,\"#7201a8\"],[0.3333333333333333,\"#9c179e\"],[0.4444444444444444,\"#bd3786\"],[0.5555555555555556,\"#d8576b\"],[0.6666666666666666,\"#ed7953\"],[0.7777777777777778,\"#fb9f3a\"],[0.8888888888888888,\"#fdca26\"],[1.0,\"#f0f921\"]]}],\"contourcarpet\":[{\"type\":\"contourcarpet\",\"colorbar\":{\"outlinewidth\":0,\"ticks\":\"\"}}],\"contour\":[{\"type\":\"contour\",\"colorbar\":{\"outlinewidth\":0,\"ticks\":\"\"},\"colorscale\":[[0.0,\"#0d0887\"],[0.1111111111111111,\"#46039f\"],[0.2222222222222222,\"#7201a8\"],[0.3333333333333333,\"#9c179e\"],[0.4444444444444444,\"#bd3786\"],[0.5555555555555556,\"#d8576b\"],[0.6666666666666666,\"#ed7953\"],[0.7777777777777778,\"#fb9f3a\"],[0.8888888888888888,\"#fdca26\"],[1.0,\"#f0f921\"]]}],\"surface\":[{\"type\":\"surface\",\"colorbar\":{\"outlinewidth\":0,\"ticks\":\"\"},\"colorscale\":[[0.0,\"#0d0887\"],[0.1111111111111111,\"#46039f\"],[0.2222222222222222,\"#7201a8\"],[0.3333333333333333,\"#9c179e\"],[0.4444444444444444,\"#bd3786\"],[0.5555555555555556,\"#d8576b\"],[0.6666666666666666,\"#ed7953\"],[0.7777777777777778,\"#fb9f3a\"],[0.8888888888888888,\"#fdca26\"],[1.0,\"#f0f921\"]]}],\"mesh3d\":[{\"type\":\"mesh3d\",\"colorbar\":{\"outlinewidth\":0,\"ticks\":\"\"}}],\"scatter\":[{\"fillpattern\":{\"fillmode\":\"overlay\",\"size\":10,\"solidity\":0.2},\"type\":\"scatter\"}],\"parcoords\":[{\"type\":\"parcoords\",\"line\":{\"colorbar\":{\"outlinewidth\":0,\"ticks\":\"\"}}}],\"scatterpolargl\":[{\"type\":\"scatterpolargl\",\"marker\":{\"colorbar\":{\"outlinewidth\":0,\"ticks\":\"\"}}}],\"bar\":[{\"error_x\":{\"color\":\"#2a3f5f\"},\"error_y\":{\"color\":\"#2a3f5f\"},\"marker\":{\"line\":{\"color\":\"#E5ECF6\",\"width\":0.5},\"pattern\":{\"fillmode\":\"overlay\",\"size\":10,\"solidity\":0.2}},\"type\":\"bar\"}],\"scattergeo\":[{\"type\":\"scattergeo\",\"marker\":{\"colorbar\":{\"outlinewidth\":0,\"ticks\":\"\"}}}],\"scatterpolar\":[{\"type\":\"scatterpolar\",\"marker\":{\"colorbar\":{\"outlinewidth\":0,\"ticks\":\"\"}}}],\"histogram\":[{\"marker\":{\"pattern\":{\"fillmode\":\"overlay\",\"size\":10,\"solidity\":0.2}},\"type\":\"histogram\"}],\"scattergl\":[{\"type\":\"scattergl\",\"marker\":{\"colorbar\":{\"outlinewidth\":0,\"ticks\":\"\"}}}],\"scatter3d\":[{\"type\":\"scatter3d\",\"line\":{\"colorbar\":{\"outlinewidth\":0,\"ticks\":\"\"}},\"marker\":{\"colorbar\":{\"outlinewidth\":0,\"ticks\":\"\"}}}],\"scattermapbox\":[{\"type\":\"scattermapbox\",\"marker\":{\"colorbar\":{\"outlinewidth\":0,\"ticks\":\"\"}}}],\"scatterternary\":[{\"type\":\"scatterternary\",\"marker\":{\"colorbar\":{\"outlinewidth\":0,\"ticks\":\"\"}}}],\"scattercarpet\":[{\"type\":\"scattercarpet\",\"marker\":{\"colorbar\":{\"outlinewidth\":0,\"ticks\":\"\"}}}],\"carpet\":[{\"aaxis\":{\"endlinecolor\":\"#2a3f5f\",\"gridcolor\":\"white\",\"linecolor\":\"white\",\"minorgridcolor\":\"white\",\"startlinecolor\":\"#2a3f5f\"},\"baxis\":{\"endlinecolor\":\"#2a3f5f\",\"gridcolor\":\"white\",\"linecolor\":\"white\",\"minorgridcolor\":\"white\",\"startlinecolor\":\"#2a3f5f\"},\"type\":\"carpet\"}],\"table\":[{\"cells\":{\"fill\":{\"color\":\"#EBF0F8\"},\"line\":{\"color\":\"white\"}},\"header\":{\"fill\":{\"color\":\"#C8D4E3\"},\"line\":{\"color\":\"white\"}},\"type\":\"table\"}],\"barpolar\":[{\"marker\":{\"line\":{\"color\":\"#E5ECF6\",\"width\":0.5},\"pattern\":{\"fillmode\":\"overlay\",\"size\":10,\"solidity\":0.2}},\"type\":\"barpolar\"}],\"pie\":[{\"automargin\":true,\"type\":\"pie\"}]},\"layout\":{\"autotypenumbers\":\"strict\",\"colorway\":[\"#636efa\",\"#EF553B\",\"#00cc96\",\"#ab63fa\",\"#FFA15A\",\"#19d3f3\",\"#FF6692\",\"#B6E880\",\"#FF97FF\",\"#FECB52\"],\"font\":{\"color\":\"#2a3f5f\"},\"hovermode\":\"closest\",\"hoverlabel\":{\"align\":\"left\"},\"paper_bgcolor\":\"white\",\"plot_bgcolor\":\"#E5ECF6\",\"polar\":{\"bgcolor\":\"#E5ECF6\",\"angularaxis\":{\"gridcolor\":\"white\",\"linecolor\":\"white\",\"ticks\":\"\"},\"radialaxis\":{\"gridcolor\":\"white\",\"linecolor\":\"white\",\"ticks\":\"\"}},\"ternary\":{\"bgcolor\":\"#E5ECF6\",\"aaxis\":{\"gridcolor\":\"white\",\"linecolor\":\"white\",\"ticks\":\"\"},\"baxis\":{\"gridcolor\":\"white\",\"linecolor\":\"white\",\"ticks\":\"\"},\"caxis\":{\"gridcolor\":\"white\",\"linecolor\":\"white\",\"ticks\":\"\"}},\"coloraxis\":{\"colorbar\":{\"outlinewidth\":0,\"ticks\":\"\"}},\"colorscale\":{\"sequential\":[[0.0,\"#0d0887\"],[0.1111111111111111,\"#46039f\"],[0.2222222222222222,\"#7201a8\"],[0.3333333333333333,\"#9c179e\"],[0.4444444444444444,\"#bd3786\"],[0.5555555555555556,\"#d8576b\"],[0.6666666666666666,\"#ed7953\"],[0.7777777777777778,\"#fb9f3a\"],[0.8888888888888888,\"#fdca26\"],[1.0,\"#f0f921\"]],\"sequentialminus\":[[0.0,\"#0d0887\"],[0.1111111111111111,\"#46039f\"],[0.2222222222222222,\"#7201a8\"],[0.3333333333333333,\"#9c179e\"],[0.4444444444444444,\"#bd3786\"],[0.5555555555555556,\"#d8576b\"],[0.6666666666666666,\"#ed7953\"],[0.7777777777777778,\"#fb9f3a\"],[0.8888888888888888,\"#fdca26\"],[1.0,\"#f0f921\"]],\"diverging\":[[0,\"#8e0152\"],[0.1,\"#c51b7d\"],[0.2,\"#de77ae\"],[0.3,\"#f1b6da\"],[0.4,\"#fde0ef\"],[0.5,\"#f7f7f7\"],[0.6,\"#e6f5d0\"],[0.7,\"#b8e186\"],[0.8,\"#7fbc41\"],[0.9,\"#4d9221\"],[1,\"#276419\"]]},\"xaxis\":{\"gridcolor\":\"white\",\"linecolor\":\"white\",\"ticks\":\"\",\"title\":{\"standoff\":15},\"zerolinecolor\":\"white\",\"automargin\":true,\"zerolinewidth\":2},\"yaxis\":{\"gridcolor\":\"white\",\"linecolor\":\"white\",\"ticks\":\"\",\"title\":{\"standoff\":15},\"zerolinecolor\":\"white\",\"automargin\":true,\"zerolinewidth\":2},\"scene\":{\"xaxis\":{\"backgroundcolor\":\"#E5ECF6\",\"gridcolor\":\"white\",\"linecolor\":\"white\",\"showbackground\":true,\"ticks\":\"\",\"zerolinecolor\":\"white\",\"gridwidth\":2},\"yaxis\":{\"backgroundcolor\":\"#E5ECF6\",\"gridcolor\":\"white\",\"linecolor\":\"white\",\"showbackground\":true,\"ticks\":\"\",\"zerolinecolor\":\"white\",\"gridwidth\":2},\"zaxis\":{\"backgroundcolor\":\"#E5ECF6\",\"gridcolor\":\"white\",\"linecolor\":\"white\",\"showbackground\":true,\"ticks\":\"\",\"zerolinecolor\":\"white\",\"gridwidth\":2}},\"shapedefaults\":{\"line\":{\"color\":\"#2a3f5f\"}},\"annotationdefaults\":{\"arrowcolor\":\"#2a3f5f\",\"arrowhead\":0,\"arrowwidth\":1},\"geo\":{\"bgcolor\":\"white\",\"landcolor\":\"#E5ECF6\",\"subunitcolor\":\"white\",\"showland\":true,\"showlakes\":true,\"lakecolor\":\"white\"},\"title\":{\"x\":0.05},\"mapbox\":{\"style\":\"light\"}}},\"xaxis\":{\"anchor\":\"y\",\"domain\":[0.0,1.0],\"title\":{\"text\":\"Glucose Level (mg\\u002fdL)\"},\"showgrid\":true,\"gridwidth\":1,\"gridcolor\":\"LightGrey\"},\"yaxis\":{\"anchor\":\"x\",\"domain\":[0.0,1.0],\"title\":{\"text\":\"Body Mass Index\"},\"showgrid\":true,\"gridwidth\":1,\"gridcolor\":\"LightGrey\"},\"coloraxis\":{\"colorbar\":{\"title\":{\"text\":\"Outcome\"}},\"colorscale\":[[0.0,\"#0d0887\"],[0.1111111111111111,\"#46039f\"],[0.2222222222222222,\"#7201a8\"],[0.3333333333333333,\"#9c179e\"],[0.4444444444444444,\"#bd3786\"],[0.5555555555555556,\"#d8576b\"],[0.6666666666666666,\"#ed7953\"],[0.7777777777777778,\"#fb9f3a\"],[0.8888888888888888,\"#fdca26\"],[1.0,\"#f0f921\"]]},\"legend\":{\"tracegroupgap\":0,\"itemsizing\":\"constant\"},\"title\":{\"text\":\"Multi-Dimensional Analysis: Glucose, BMI, Age, and Outcome\",\"x\":0.5},\"font\":{\"size\":12},\"plot_bgcolor\":\"white\"},                        {\"responsive\": true}                    ).then(function(){\n",
              "                            \n",
              "var gd = document.getElementById('a68716a6-fd5f-4298-b733-71263db1a4d9');\n",
              "var x = new MutationObserver(function (mutations, observer) {{\n",
              "        var display = window.getComputedStyle(gd).display;\n",
              "        if (!display || display === 'none') {{\n",
              "            console.log([gd, 'removed!']);\n",
              "            Plotly.purge(gd);\n",
              "            observer.disconnect();\n",
              "        }}\n",
              "}});\n",
              "\n",
              "// Listen for the removal of the full notebook cells\n",
              "var notebookContainer = gd.closest('#notebook-container');\n",
              "if (notebookContainer) {{\n",
              "    x.observe(notebookContainer, {childList: true});\n",
              "}}\n",
              "\n",
              "// Listen for the clearing of the current output cell\n",
              "var outputEl = gd.closest('.output');\n",
              "if (outputEl) {{\n",
              "    x.observe(outputEl, {childList: true});\n",
              "}}\n",
              "\n",
              "                        })                };                });            </script>        </div>"
            ]
          },
          "metadata": {}
        }
      ]
    },
    {
      "cell_type": "markdown",
      "source": [
        "This chart shows that high sugar levels in the blood are the biggest sign of diabetes. People with high sugar levels are almost always diagnosed (colored points). Heavier weight also plays a role, especially when combined with high sugar. You can see that older people (larger dots) in the high-sugar area almost always have diabetes. The main takeaway is that controlling blood sugar is the most important goal, while managing weight and age are also important factors.\n",
        "\n"
      ],
      "metadata": {
        "id": "TZ-Hw6G3M5PL"
      }
    },
    {
      "cell_type": "code",
      "source": [
        "df_clean['Age_Group_Combined'] = 'Young'\n",
        "df_clean.loc[df_clean['Age_Group_Middle-aged'], 'Age_Group_Combined'] = 'Middle-aged'\n",
        "df_clean.loc[df_clean['Age_Group_Senior'], 'Age_Group_Combined'] = 'Senior'\n",
        "\n",
        "fig = px.scatter(df_clean,\n",
        "                 x=\"BloodPressure\",\n",
        "                 y=\"SkinThickness\",\n",
        "                 animation_frame=\"Age_Group_Combined\",\n",
        "                 color=\"Outcome\",\n",
        "                 range_x=[df_clean['BloodPressure'].min()-5, df_clean['BloodPressure'].max()+5],\n",
        "                 range_y=[0, df_clean['SkinThickness'].max()+5],\n",
        "                 title=\"Blood Pressure vs. Skin Thickness by Age Group and Outcome\"\n",
        "                )\n",
        "fig.update_layout(\n",
        "    plot_bgcolor='white',\n",
        "    font=dict(size=12),\n",
        "    title_x=0.5\n",
        ")\n",
        "fig.update_xaxes(showgrid=True, gridwidth=1, gridcolor='LightGrey')\n",
        "fig.update_yaxes(showgrid=True, gridwidth=1, gridcolor='LightGrey')\n",
        "fig.show()"
      ],
      "metadata": {
        "colab": {
          "base_uri": "https://localhost:8080/",
          "height": 542
        },
        "id": "QozHm2RBJIfp",
        "outputId": "cd92fe52-bafc-4fa6-b192-327709dc16db"
      },
      "execution_count": 107,
      "outputs": [
        {
          "output_type": "display_data",
          "data": {
            "text/html": [
              "<div>                            <div id=\"06b7ce02-cecf-4502-8f79-d53bfad8c70e\" class=\"plotly-graph-div\" style=\"height:525px; width:100%;\"></div>            <script type=\"text/javascript\">                require([\"plotly\"], function(Plotly) {                    window.PLOTLYENV=window.PLOTLYENV || {};                                    if (document.getElementById(\"06b7ce02-cecf-4502-8f79-d53bfad8c70e\")) {                    Plotly.newPlot(                        \"06b7ce02-cecf-4502-8f79-d53bfad8c70e\",                        [{\"hovertemplate\":\"Age_Group_Combined=Young\\u003cbr\\u003eBloodPressure=%{x}\\u003cbr\\u003eSkinThickness=%{y}\\u003cbr\\u003eOutcome=%{marker.color}\\u003cextra\\u003e\\u003c\\u002fextra\\u003e\",\"legendgroup\":\"\",\"marker\":{\"color\":[1.0,0.0,1.0,0.0,1.0,0.0,1.0,0.0,1.0,1.0,0.0,1.0,0.0,1.0,1.0,1.0,1.0,1.0,0.0,1.0,0.0,0.0,1.0,1.0,1.0,1.0,1.0,0.0,0.0,0.0,0.0,1.0,0.0,0.0,0.0,0.0,0.0,1.0,1.0,1.0,0.0,0.0,0.0,1.0,0.0,1.0,0.0,0.0,1.0,0.0,0.0,0.0,0.0,1.0,0.0,0.0,1.0,0.0,0.0,0.0,0.0,1.0,0.0,0.0,1.0,0.0,1.0,0.0,0.0,0.0,1.0,0.0,1.0,0.0,0.0,0.0,0.0,0.0,1.0,0.0,0.0,0.0,0.0,0.0,1.0,0.0,0.0,0.0,1.0,0.0,0.0,0.0,0.0,1.0,0.0,0.0,0.0,0.0,0.0,1.0,1.0,0.0,0.0,0.0,0.0,0.0,0.0,0.0,0.0,1.0,1.0,1.0,0.0,0.0,1.0,1.0,1.0,0.0,0.0,0.0,1.0,0.0,0.0,0.0,1.0,1.0,0.0,0.0,1.0,1.0,1.0,1.0,1.0,0.0,0.0,0.0,0.0,0.0,0.0,0.0,0.0,0.0,0.0,1.0,0.0,0.0,0.0,0.0,0.0,0.0,0.0,0.0,1.0,0.0,1.0,1.0,0.0,0.0,0.0,1.0,0.0,0.0,0.0,0.0,1.0,1.0,0.0,0.0,0.0,0.0,1.0,1.0,0.0,0.0,0.0,1.0,0.0,1.0,0.0,1.0,0.0,0.0,0.0,0.0,0.0,1.0,1.0,1.0,1.0,1.0,0.0,0.0,1.0,1.0,0.0,1.0,0.0,1.0,1.0,1.0,0.0,0.0,0.0,0.0,0.0,0.0,1.0,1.0,0.0,1.0,0.0,0.0,0.0,1.0,1.0,1.0,1.0,0.0,1.0,1.0,1.0,1.0,0.0,0.0,0.0,0.0,0.0,1.0,0.0,0.0,1.0,1.0,0.0,0.0,0.0,1.0,1.0,1.0,1.0,0.0,0.0,0.0,1.0,1.0,0.0,1.0,0.0,0.0,0.0,0.0,0.0,0.0,0.0,0.0,1.0,1.0,0.0,0.0,0.0,1.0,0.0,1.0,0.0,0.0,1.0,0.0,1.0,0.0,0.0,1.0,1.0,0.0,0.0,0.0,0.0,0.0,1.0,0.0,0.0,0.0,1.0,0.0,0.0,1.0,1.0,0.0,0.0,1.0,0.0,0.0,0.0,1.0,1.0,1.0,0.0,0.0,1.0,0.0,1.0,0.0,1.0,1.0,0.0,1.0,0.0,0.0,1.0,0.0,1.0,1.0,0.0,0.0,1.0,0.0,1.0,0.0,0.0,1.0,0.0,1.0,0.0,1.0,1.0,1.0,0.0,0.0,1.0,0.0,1.0,0.0,0.0,0.0,1.0,0.0,0.0,0.0,0.0,1.0,1.0,1.0,0.0,0.0,0.0,0.0,0.0,0.0,0.0,0.0,0.0,1.0,0.0,0.0,0.0,0.0,0.0,1.0,1.0,1.0,0.0,1.0,1.0,0.0,0.0,1.0,0.0,0.0,1.0,0.0,0.0,1.0,1.0,0.0,0.0,0.0,0.0,1.0,0.0,0.0,1.0,0.0,0.0,0.0,0.0,0.0,0.0,0.0,1.0,1.0,1.0,0.0,0.0,1.0,0.0,0.0,1.0,0.0,0.0,1.0,0.0,1.0,1.0,0.0,1.0,0.0,1.0,0.0,1.0,0.0,1.0,1.0,0.0,0.0,0.0,0.0,1.0,1.0,0.0,1.0,0.0,1.0,0.0,0.0,0.0,0.0,1.0,1.0,0.0,1.0,0.0,1.0,0.0,0.0,0.0,0.0,0.0,1.0,0.0,0.0,0.0,0.0,1.0,0.0,0.0,1.0,1.0,1.0,0.0,0.0,1.0,0.0,0.0,1.0,0.0,0.0,0.0,1.0,0.0,0.0,1.0,0.0,0.0,0.0,0.0,0.0,0.0,0.0,0.0,0.0,1.0,0.0,0.0,0.0,0.0,0.0,0.0,0.0,1.0,0.0,0.0,0.0,1.0,0.0,0.0,0.0,1.0,1.0,0.0,0.0,0.0,0.0,0.0,0.0,0.0,1.0,0.0,0.0,0.0,0.0,1.0,0.0,0.0,0.0,1.0,0.0,0.0,0.0,1.0,0.0,0.0,0.0,1.0,0.0,0.0,0.0,0.0,1.0,1.0,0.0,0.0,0.0,0.0,0.0,0.0,1.0,0.0,0.0,0.0,0.0,0.0,0.0,0.0,0.0,0.0,0.0,0.0,1.0,0.0,0.0,0.0,1.0,1.0,1.0,1.0,0.0,0.0,1.0,1.0,0.0,0.0,0.0,0.0,0.0,0.0,0.0,0.0,0.0,0.0,0.0,0.0,0.0,1.0,1.0,0.0,0.0,0.0,0.0,0.0,0.0,0.0,1.0,0.0,0.0,0.0,0.0,0.0,0.0,0.0,1.0,0.0,1.0,1.0,0.0,0.0,0.0,1.0,0.0,1.0,0.0,1.0,0.0,1.0,0.0,1.0,0.0,0.0,1.0,0.0,0.0,1.0,0.0,0.0,0.0,0.0,1.0,1.0,0.0,1.0,0.0,0.0,0.0,0.0,1.0,1.0,0.0,1.0,0.0,0.0,0.0,1.0,1.0,0.0,0.0,0.0,0.0,0.0,0.0,0.0,0.0,0.0,0.0,1.0,0.0,0.0,0.0,0.0,1.0,0.0,0.0,1.0,0.0,0.0,0.0,1.0,0.0,0.0,0.0,1.0,1.0,1.0,0.0,0.0,0.0,0.0,0.0,0.0,1.0,0.0,0.0,0.0,1.0,0.0,1.0,1.0,1.0,1.0,0.0,1.0,1.0,0.0,0.0,0.0,0.0,0.0,0.0,0.0,1.0,1.0,0.0,1.0,0.0,0.0,1.0,0.0,1.0,0.0,0.0,0.0,0.0,0.0,1.0,0.0,1.0,0.0,1.0,0.0,1.0,1.0,0.0,0.0,0.0,0.0,1.0,1.0,0.0,0.0,0.0,1.0,0.0,1.0,1.0,0.0,0.0,1.0,0.0,0.0,1.0,1.0,0.0,0.0,1.0,0.0,0.0,1.0,0.0,0.0,0.0,0.0,0.0,0.0,0.0,1.0,1.0,1.0,0.0,0.0,0.0,0.0,0.0,0.0,1.0,1.0,0.0,0.0,1.0,0.0,0.0,1.0,0.0,1.0,1.0,1.0,0.0,0.0,1.0,1.0,1.0,0.0,1.0,0.0,1.0,0.0,1.0,0.0,0.0,0.0,0.0,1.0,0.0],\"coloraxis\":\"coloraxis\",\"symbol\":\"circle\"},\"mode\":\"markers\",\"name\":\"\",\"orientation\":\"v\",\"showlegend\":false,\"x\":[72.0,66.0,64.0,66.0,40.0,74.0,50.0,72.0,70.0,96.0,92.0,74.0,80.0,60.0,72.0,72.0,84.0,74.0,72.0,70.0,88.0,84.0,90.0,80.0,94.0,70.0,76.0,66.0,82.0,92.0,75.0,76.0,58.0,92.0,78.0,60.0,76.0,76.0,68.0,72.0,64.0,84.0,92.0,72.0,64.0,66.0,56.0,70.0,66.0,72.0,80.0,50.0,66.0,90.0,66.0,50.0,68.0,88.0,82.0,64.0,72.0,72.0,62.0,58.0,66.0,74.0,88.0,92.0,66.0,85.0,66.0,64.0,90.0,86.0,75.0,48.0,78.0,72.0,72.0,66.0,44.0,72.0,78.0,65.0,72.0,74.0,72.0,68.0,70.0,68.0,55.0,80.0,78.0,72.0,82.0,72.0,62.0,48.0,50.0,90.0,72.0,60.0,96.0,72.0,65.0,56.0,72.0,58.0,58.0,85.0,72.0,62.0,76.0,62.0,54.0,92.0,74.0,48.0,60.0,76.0,76.0,64.0,74.0,80.0,76.0,72.0,70.0,58.0,88.0,84.0,70.0,56.0,64.0,74.0,68.0,60.0,70.0,60.0,80.0,72.0,78.0,82.0,52.0,66.0,62.0,75.0,80.0,64.0,78.0,70.0,74.0,65.0,86.0,82.0,78.0,88.0,52.0,56.0,74.0,72.0,90.0,74.0,80.0,64.0,88.0,74.0,66.0,68.0,66.0,90.0,82.0,70.0,72.0,60.0,64.0,72.0,78.0,72.0,78.0,82.0,80.0,64.0,74.0,60.0,74.0,68.0,68.0,98.0,76.0,80.0,62.0,70.0,66.0,72.0,55.0,84.0,58.0,62.0,64.0,60.0,80.0,82.0,68.0,70.0,72.0,72.0,76.0,104.0,64.0,84.0,60.0,85.0,95.0,65.0,82.0,70.0,62.0,68.0,74.0,66.0,60.0,90.0,72.0,60.0,66.0,78.0,76.0,52.0,70.0,80.0,86.0,80.0,80.0,68.0,68.0,72.0,84.0,90.0,84.0,76.0,64.0,70.0,54.0,50.0,76.0,85.0,68.0,90.0,70.0,86.0,52.0,84.0,80.0,68.0,62.0,64.0,56.0,68.0,50.0,76.0,68.0,72.0,70.0,80.0,62.0,74.0,72.0,64.0,52.0,72.0,86.0,62.0,78.0,78.0,70.0,70.0,60.0,64.0,74.0,62.0,70.0,76.0,88.0,86.0,80.0,74.0,84.0,86.0,56.0,72.0,88.0,62.0,78.0,48.0,50.0,62.0,70.0,84.0,78.0,72.0,72.0,58.0,82.0,98.0,76.0,76.0,68.0,68.0,68.0,68.0,66.0,70.0,74.0,50.0,80.0,68.0,80.0,74.0,66.0,78.0,60.0,74.0,70.0,90.0,75.0,72.0,64.0,70.0,86.0,70.0,72.0,58.0,72.0,80.0,60.0,76.0,72.0,76.0,78.0,84.0,70.0,74.0,68.0,86.0,72.0,88.0,46.0,72.0,62.0,80.0,80.0,84.0,82.0,62.0,78.0,88.0,50.0,72.0,74.0,76.0,64.0,70.0,72.0,78.0,74.0,54.0,72.0,64.0,86.0,102.0,82.0,64.0,64.0,58.0,52.0,82.0,82.0,60.0,75.0,100.0,72.0,68.0,60.0,62.0,70.0,54.0,74.0,100.0,82.0,68.0,66.0,76.0,64.0,72.0,78.0,58.0,56.0,66.0,70.0,70.0,64.0,61.0,84.0,78.0,64.0,48.0,72.0,62.0,74.0,68.0,90.0,72.0,84.0,74.0,60.0,84.0,68.0,82.0,68.0,64.0,88.0,68.0,64.0,64.0,78.0,78.0,72.0,64.0,94.0,82.0,72.0,74.0,74.0,75.0,68.0,72.0,85.0,75.0,70.0,88.0,104.0,66.0,64.0,70.0,62.0,78.0,72.0,80.0,64.0,74.0,64.0,70.0,68.0,72.0,54.0,62.0,54.0,68.0,84.0,74.0,72.0,62.0,70.0,78.0,98.0,56.0,52.0,64.0,72.0,78.0,82.0,70.0,66.0,90.0,64.0,84.0,80.0,76.0,74.0,86.0,70.0,88.0,58.0,82.0,72.0,68.0,62.0,78.0,72.0,80.0,65.0,90.0,68.0,70.0,72.0,74.0,68.0,72.0,70.0,74.0,90.0,72.0,68.0,64.0,78.0,82.0,90.0,60.0,50.0,78.0,72.0,62.0,68.0,62.0,54.0,70.0,88.0,86.0,60.0,90.0,70.0,80.0,72.0,70.0,58.0,60.0,64.0,74.0,66.0,65.0,60.0,76.0,66.0,72.0,56.0,72.0,90.0,60.0,80.0,92.0,74.0,72.0,85.0,90.0,78.0,90.0,76.0,68.0,82.0,72.0,70.0,68.0,88.0,62.0,64.0,70.0,70.0,76.0,68.0,74.0,76.0,66.0,68.0,60.0,80.0,54.0,72.0,62.0,72.0,66.0,70.0,96.0,58.0,60.0,86.0,44.0,44.0,80.0,68.0,70.0,90.0,60.0,78.0,76.0,76.0,56.0,66.0,66.0,86.0,72.0,84.0,78.0,80.0,52.0,72.0,82.0,76.0,72.0,74.0,38.0,88.0,72.0,74.0,78.0,72.0,60.0,78.0,62.0,82.0,62.0,54.0,58.0,88.0,80.0,74.0,72.0,96.0,62.0,82.0,72.0,86.0,76.0,94.0,70.0,64.0,88.0,68.0,78.0,80.0,65.0,64.0,78.0,60.0,82.0,62.0,72.0,74.0,76.0,76.0,74.0,86.0,70.0,80.0,72.0,72.0,74.0,74.0,50.0,84.0,60.0,54.0,60.0,74.0,54.0,70.0,52.0,58.0,80.0,106.0,82.0,84.0,76.0,106.0,80.0,60.0,80.0,82.0,70.0,58.0,78.0,68.0,58.0,106.0,100.0,82.0,70.0,86.0,60.0,52.0,58.0,56.0,76.0,64.0,80.0,82.0,74.0,64.0,50.0,74.0,82.0,80.0,72.0,70.0,68.0,60.0,90.0,74.0,72.0,88.0,70.0,76.0,78.0,88.0,72.0,76.0,80.0,72.0,46.0,78.0,64.0,64.0,78.0,62.0,58.0,74.0,50.0,78.0,72.0,60.0,76.0,86.0,66.0,68.0,86.0,94.0,78.0,78.0,84.0,88.0,52.0,78.0,86.0,88.0,56.0,75.0,60.0,86.0,72.0,60.0,74.0,80.0,44.0,58.0,94.0,88.0,84.0,94.0,74.0,70.0,62.0,70.0,78.0,62.0,88.0,78.0,88.0,90.0,72.0,76.0,92.0,58.0,74.0,62.0,76.0,70.0,72.0,60.0,70.0],\"xaxis\":\"x\",\"y\":[35.0,29.0,0.0,23.0,35.0,0.0,32.0,0.0,45.0,0.0,0.0,0.0,0.0,23.0,19.0,0.0,47.0,0.0,38.0,30.0,41.0,0.0,0.0,35.0,33.0,26.0,0.0,15.0,19.0,0.0,26.0,36.0,11.0,0.0,31.0,33.0,0.0,37.0,42.0,47.0,25.0,0.0,18.0,24.0,0.0,39.0,0.0,27.0,32.0,0.0,11.0,15.0,21.0,34.0,42.0,10.0,39.0,60.0,0.0,41.0,0.0,0.0,0.0,34.0,0.0,27.0,30.0,0.0,13.0,27.0,20.0,35.0,0.0,20.0,30.0,20.0,0.0,33.0,0.0,22.0,13.0,0.0,26.0,28.0,0.0,29.0,54.0,25.0,32.0,19.0,0.0,15.0,40.0,0.0,18.0,27.0,28.0,18.0,30.0,51.0,0.0,0.0,0.0,18.0,0.0,29.0,0.0,28.0,31.0,25.0,33.0,26.0,34.0,0.0,32.0,0.0,0.0,0.0,23.0,15.0,56.0,39.0,30.0,0.0,0.0,42.0,30.0,36.0,24.0,0.0,14.0,0.0,37.0,31.0,13.0,20.0,26.0,25.0,0.0,29.0,0.0,30.0,26.0,0.0,31.0,23.0,37.0,35.0,0.0,17.0,50.0,0.0,28.0,42.0,0.0,44.0,15.0,21.0,19.0,41.0,38.0,40.0,34.0,23.0,0.0,18.0,25.0,0.0,0.0,12.0,0.0,23.0,23.0,42.0,24.0,42.0,0.0,46.0,0.0,0.0,0.0,18.0,20.0,0.0,0.0,28.0,36.0,41.0,39.0,35.0,0.0,44.0,0.0,0.0,20.0,41.0,0.0,13.0,44.0,27.0,16.0,0.0,20.0,16.0,32.0,28.0,29.0,0.0,27.0,33.0,22.0,54.0,31.0,26.0,32.0,40.0,41.0,30.0,22.0,0.0,29.0,0.0,0.0,33.0,15.0,27.0,0.0,38.0,39.0,31.0,0.0,37.0,25.0,0.0,28.0,0.0,21.0,27.0,21.0,0.0,24.0,32.0,0.0,22.0,35.0,15.0,0.0,33.0,33.0,19.0,0.0,0.0,14.0,32.0,7.0,35.0,39.0,22.0,16.0,28.0,15.0,0.0,32.0,15.0,0.0,18.0,0.0,42.0,0.0,0.0,37.0,32.0,0.0,50.0,0.0,52.0,24.0,23.0,0.0,10.0,0.0,28.0,15.0,0.0,0.0,26.0,44.0,39.0,17.0,43.0,29.0,30.0,37.0,45.0,0.0,31.0,38.0,29.0,25.0,0.0,0.0,33.0,41.0,0.0,0.0,37.0,23.0,14.0,19.0,28.0,30.0,37.0,17.0,10.0,31.0,22.0,11.0,0.0,39.0,0.0,12.0,30.0,20.0,33.0,32.0,21.0,32.0,0.0,36.0,32.0,19.0,16.0,0.0,0.0,18.0,43.0,0.0,0.0,34.0,0.0,13.0,21.0,35.0,0.0,0.0,36.0,19.0,0.0,19.0,32.0,0.0,0.0,28.0,12.0,0.0,0.0,40.0,30.0,40.0,36.0,33.0,0.0,37.0,0.0,25.0,28.0,0.0,17.0,16.0,28.0,48.0,23.0,22.0,40.0,43.0,43.0,15.0,37.0,0.0,39.0,30.0,22.0,8.0,18.0,24.0,13.0,29.0,36.0,26.0,23.0,29.0,0.0,14.0,12.0,0.0,24.0,34.0,40.0,0.0,31.0,0.0,0.0,41.0,25.0,0.0,32.0,0.0,0.0,0.0,49.0,39.0,30.0,23.0,22.0,35.0,33.0,21.0,32.0,0.0,29.0,41.0,18.0,46.0,22.0,32.0,39.0,0.0,30.0,46.0,25.0,0.0,16.0,11.0,0.0,8.0,0.0,33.0,0.0,15.0,0.0,25.0,23.0,27.0,0.0,12.0,63.0,12.0,45.0,37.0,18.0,13.0,0.0,32.0,0.0,28.0,30.0,0.0,28.0,48.0,33.0,22.0,0.0,40.0,30.0,0.0,13.0,10.0,36.0,0.0,41.0,40.0,38.0,27.0,0.0,0.0,27.0,45.0,17.0,38.0,31.0,30.0,37.0,22.0,31.0,0.0,42.0,41.0,32.0,17.0,0.0,28.0,30.0,38.0,18.0,0.0,0.0,0.0,15.0,33.0,32.0,19.0,32.0,41.0,25.0,39.0,0.0,26.0,23.0,23.0,0.0,31.0,17.0,0.0,0.0,19.0,18.0,34.0,0.0,0.0,7.0,32.0,33.0,0.0,0.0,0.0,18.0,19.0,15.0,31.0,0.0,18.0,0.0,52.0,0.0,30.0,0.0,0.0,0.0,37.0,49.0,40.0,25.0,32.0,23.0,29.0,35.0,27.0,21.0,43.0,31.0,28.0,30.0,0.0,24.0,23.0,33.0,40.0,0.0,40.0,0.0,0.0,32.0,34.0,19.0,0.0,14.0,30.0,32.0,29.0,30.0,0.0,0.0,31.0,17.0,30.0,47.0,20.0,0.0,0.0,23.0,46.0,27.0,17.0,0.0,24.0,11.0,0.0,0.0,27.0,0.0,40.0,50.0,0.0,22.0,45.0,14.0,0.0,19.0,0.0,18.0,19.0,0.0,36.0,29.0,0.0,32.0,42.0,25.0,39.0,13.0,21.0,22.0,42.0,28.0,26.0,0.0,0.0,13.0,24.0,0.0,42.0,20.0,0.0,27.0,0.0,47.0,0.0,0.0,0.0,22.0,0.0,40.0,0.0,17.0,0.0,0.0,0.0,18.0,32.0,12.0,17.0,0.0,0.0,0.0,30.0,35.0,17.0,36.0,35.0,25.0,25.0,23.0,40.0,0.0,28.0,27.0,35.0,48.0,0.0,31.0,0.0,43.0,46.0,46.0,39.0,45.0,18.0,27.0,33.0,30.0,26.0,10.0,23.0,35.0,0.0,0.0,0.0,0.0,0.0,17.0,28.0,36.0,39.0,0.0,0.0,26.0,0.0,19.0,26.0,46.0,0.0,0.0,32.0,49.0,0.0,24.0,19.0,0.0,11.0,0.0,27.0,31.0,29.0,0.0,20.0,36.0,0.0,21.0,0.0,32.0,13.0,27.0,36.0,20.0,0.0,33.0,39.0,18.0,46.0,27.0,19.0,36.0,29.0,30.0,0.0,40.0,29.0,26.0,0.0,0.0,23.0,0.0,37.0,27.0,0.0,32.0,27.0,23.0,17.0,0.0,37.0,20.0,18.0,0.0,37.0,33.0,41.0,41.0,22.0,0.0,0.0,39.0,24.0,44.0,32.0,39.0,41.0,0.0,0.0,0.0,26.0,31.0,0.0,48.0,27.0,23.0,0.0,31.0],\"yaxis\":\"y\",\"type\":\"scatter\"}],                        {\"template\":{\"data\":{\"histogram2dcontour\":[{\"type\":\"histogram2dcontour\",\"colorbar\":{\"outlinewidth\":0,\"ticks\":\"\"},\"colorscale\":[[0.0,\"#0d0887\"],[0.1111111111111111,\"#46039f\"],[0.2222222222222222,\"#7201a8\"],[0.3333333333333333,\"#9c179e\"],[0.4444444444444444,\"#bd3786\"],[0.5555555555555556,\"#d8576b\"],[0.6666666666666666,\"#ed7953\"],[0.7777777777777778,\"#fb9f3a\"],[0.8888888888888888,\"#fdca26\"],[1.0,\"#f0f921\"]]}],\"choropleth\":[{\"type\":\"choropleth\",\"colorbar\":{\"outlinewidth\":0,\"ticks\":\"\"}}],\"histogram2d\":[{\"type\":\"histogram2d\",\"colorbar\":{\"outlinewidth\":0,\"ticks\":\"\"},\"colorscale\":[[0.0,\"#0d0887\"],[0.1111111111111111,\"#46039f\"],[0.2222222222222222,\"#7201a8\"],[0.3333333333333333,\"#9c179e\"],[0.4444444444444444,\"#bd3786\"],[0.5555555555555556,\"#d8576b\"],[0.6666666666666666,\"#ed7953\"],[0.7777777777777778,\"#fb9f3a\"],[0.8888888888888888,\"#fdca26\"],[1.0,\"#f0f921\"]]}],\"heatmap\":[{\"type\":\"heatmap\",\"colorbar\":{\"outlinewidth\":0,\"ticks\":\"\"},\"colorscale\":[[0.0,\"#0d0887\"],[0.1111111111111111,\"#46039f\"],[0.2222222222222222,\"#7201a8\"],[0.3333333333333333,\"#9c179e\"],[0.4444444444444444,\"#bd3786\"],[0.5555555555555556,\"#d8576b\"],[0.6666666666666666,\"#ed7953\"],[0.7777777777777778,\"#fb9f3a\"],[0.8888888888888888,\"#fdca26\"],[1.0,\"#f0f921\"]]}],\"heatmapgl\":[{\"type\":\"heatmapgl\",\"colorbar\":{\"outlinewidth\":0,\"ticks\":\"\"},\"colorscale\":[[0.0,\"#0d0887\"],[0.1111111111111111,\"#46039f\"],[0.2222222222222222,\"#7201a8\"],[0.3333333333333333,\"#9c179e\"],[0.4444444444444444,\"#bd3786\"],[0.5555555555555556,\"#d8576b\"],[0.6666666666666666,\"#ed7953\"],[0.7777777777777778,\"#fb9f3a\"],[0.8888888888888888,\"#fdca26\"],[1.0,\"#f0f921\"]]}],\"contourcarpet\":[{\"type\":\"contourcarpet\",\"colorbar\":{\"outlinewidth\":0,\"ticks\":\"\"}}],\"contour\":[{\"type\":\"contour\",\"colorbar\":{\"outlinewidth\":0,\"ticks\":\"\"},\"colorscale\":[[0.0,\"#0d0887\"],[0.1111111111111111,\"#46039f\"],[0.2222222222222222,\"#7201a8\"],[0.3333333333333333,\"#9c179e\"],[0.4444444444444444,\"#bd3786\"],[0.5555555555555556,\"#d8576b\"],[0.6666666666666666,\"#ed7953\"],[0.7777777777777778,\"#fb9f3a\"],[0.8888888888888888,\"#fdca26\"],[1.0,\"#f0f921\"]]}],\"surface\":[{\"type\":\"surface\",\"colorbar\":{\"outlinewidth\":0,\"ticks\":\"\"},\"colorscale\":[[0.0,\"#0d0887\"],[0.1111111111111111,\"#46039f\"],[0.2222222222222222,\"#7201a8\"],[0.3333333333333333,\"#9c179e\"],[0.4444444444444444,\"#bd3786\"],[0.5555555555555556,\"#d8576b\"],[0.6666666666666666,\"#ed7953\"],[0.7777777777777778,\"#fb9f3a\"],[0.8888888888888888,\"#fdca26\"],[1.0,\"#f0f921\"]]}],\"mesh3d\":[{\"type\":\"mesh3d\",\"colorbar\":{\"outlinewidth\":0,\"ticks\":\"\"}}],\"scatter\":[{\"fillpattern\":{\"fillmode\":\"overlay\",\"size\":10,\"solidity\":0.2},\"type\":\"scatter\"}],\"parcoords\":[{\"type\":\"parcoords\",\"line\":{\"colorbar\":{\"outlinewidth\":0,\"ticks\":\"\"}}}],\"scatterpolargl\":[{\"type\":\"scatterpolargl\",\"marker\":{\"colorbar\":{\"outlinewidth\":0,\"ticks\":\"\"}}}],\"bar\":[{\"error_x\":{\"color\":\"#2a3f5f\"},\"error_y\":{\"color\":\"#2a3f5f\"},\"marker\":{\"line\":{\"color\":\"#E5ECF6\",\"width\":0.5},\"pattern\":{\"fillmode\":\"overlay\",\"size\":10,\"solidity\":0.2}},\"type\":\"bar\"}],\"scattergeo\":[{\"type\":\"scattergeo\",\"marker\":{\"colorbar\":{\"outlinewidth\":0,\"ticks\":\"\"}}}],\"scatterpolar\":[{\"type\":\"scatterpolar\",\"marker\":{\"colorbar\":{\"outlinewidth\":0,\"ticks\":\"\"}}}],\"histogram\":[{\"marker\":{\"pattern\":{\"fillmode\":\"overlay\",\"size\":10,\"solidity\":0.2}},\"type\":\"histogram\"}],\"scattergl\":[{\"type\":\"scattergl\",\"marker\":{\"colorbar\":{\"outlinewidth\":0,\"ticks\":\"\"}}}],\"scatter3d\":[{\"type\":\"scatter3d\",\"line\":{\"colorbar\":{\"outlinewidth\":0,\"ticks\":\"\"}},\"marker\":{\"colorbar\":{\"outlinewidth\":0,\"ticks\":\"\"}}}],\"scattermapbox\":[{\"type\":\"scattermapbox\",\"marker\":{\"colorbar\":{\"outlinewidth\":0,\"ticks\":\"\"}}}],\"scatterternary\":[{\"type\":\"scatterternary\",\"marker\":{\"colorbar\":{\"outlinewidth\":0,\"ticks\":\"\"}}}],\"scattercarpet\":[{\"type\":\"scattercarpet\",\"marker\":{\"colorbar\":{\"outlinewidth\":0,\"ticks\":\"\"}}}],\"carpet\":[{\"aaxis\":{\"endlinecolor\":\"#2a3f5f\",\"gridcolor\":\"white\",\"linecolor\":\"white\",\"minorgridcolor\":\"white\",\"startlinecolor\":\"#2a3f5f\"},\"baxis\":{\"endlinecolor\":\"#2a3f5f\",\"gridcolor\":\"white\",\"linecolor\":\"white\",\"minorgridcolor\":\"white\",\"startlinecolor\":\"#2a3f5f\"},\"type\":\"carpet\"}],\"table\":[{\"cells\":{\"fill\":{\"color\":\"#EBF0F8\"},\"line\":{\"color\":\"white\"}},\"header\":{\"fill\":{\"color\":\"#C8D4E3\"},\"line\":{\"color\":\"white\"}},\"type\":\"table\"}],\"barpolar\":[{\"marker\":{\"line\":{\"color\":\"#E5ECF6\",\"width\":0.5},\"pattern\":{\"fillmode\":\"overlay\",\"size\":10,\"solidity\":0.2}},\"type\":\"barpolar\"}],\"pie\":[{\"automargin\":true,\"type\":\"pie\"}]},\"layout\":{\"autotypenumbers\":\"strict\",\"colorway\":[\"#636efa\",\"#EF553B\",\"#00cc96\",\"#ab63fa\",\"#FFA15A\",\"#19d3f3\",\"#FF6692\",\"#B6E880\",\"#FF97FF\",\"#FECB52\"],\"font\":{\"color\":\"#2a3f5f\"},\"hovermode\":\"closest\",\"hoverlabel\":{\"align\":\"left\"},\"paper_bgcolor\":\"white\",\"plot_bgcolor\":\"#E5ECF6\",\"polar\":{\"bgcolor\":\"#E5ECF6\",\"angularaxis\":{\"gridcolor\":\"white\",\"linecolor\":\"white\",\"ticks\":\"\"},\"radialaxis\":{\"gridcolor\":\"white\",\"linecolor\":\"white\",\"ticks\":\"\"}},\"ternary\":{\"bgcolor\":\"#E5ECF6\",\"aaxis\":{\"gridcolor\":\"white\",\"linecolor\":\"white\",\"ticks\":\"\"},\"baxis\":{\"gridcolor\":\"white\",\"linecolor\":\"white\",\"ticks\":\"\"},\"caxis\":{\"gridcolor\":\"white\",\"linecolor\":\"white\",\"ticks\":\"\"}},\"coloraxis\":{\"colorbar\":{\"outlinewidth\":0,\"ticks\":\"\"}},\"colorscale\":{\"sequential\":[[0.0,\"#0d0887\"],[0.1111111111111111,\"#46039f\"],[0.2222222222222222,\"#7201a8\"],[0.3333333333333333,\"#9c179e\"],[0.4444444444444444,\"#bd3786\"],[0.5555555555555556,\"#d8576b\"],[0.6666666666666666,\"#ed7953\"],[0.7777777777777778,\"#fb9f3a\"],[0.8888888888888888,\"#fdca26\"],[1.0,\"#f0f921\"]],\"sequentialminus\":[[0.0,\"#0d0887\"],[0.1111111111111111,\"#46039f\"],[0.2222222222222222,\"#7201a8\"],[0.3333333333333333,\"#9c179e\"],[0.4444444444444444,\"#bd3786\"],[0.5555555555555556,\"#d8576b\"],[0.6666666666666666,\"#ed7953\"],[0.7777777777777778,\"#fb9f3a\"],[0.8888888888888888,\"#fdca26\"],[1.0,\"#f0f921\"]],\"diverging\":[[0,\"#8e0152\"],[0.1,\"#c51b7d\"],[0.2,\"#de77ae\"],[0.3,\"#f1b6da\"],[0.4,\"#fde0ef\"],[0.5,\"#f7f7f7\"],[0.6,\"#e6f5d0\"],[0.7,\"#b8e186\"],[0.8,\"#7fbc41\"],[0.9,\"#4d9221\"],[1,\"#276419\"]]},\"xaxis\":{\"gridcolor\":\"white\",\"linecolor\":\"white\",\"ticks\":\"\",\"title\":{\"standoff\":15},\"zerolinecolor\":\"white\",\"automargin\":true,\"zerolinewidth\":2},\"yaxis\":{\"gridcolor\":\"white\",\"linecolor\":\"white\",\"ticks\":\"\",\"title\":{\"standoff\":15},\"zerolinecolor\":\"white\",\"automargin\":true,\"zerolinewidth\":2},\"scene\":{\"xaxis\":{\"backgroundcolor\":\"#E5ECF6\",\"gridcolor\":\"white\",\"linecolor\":\"white\",\"showbackground\":true,\"ticks\":\"\",\"zerolinecolor\":\"white\",\"gridwidth\":2},\"yaxis\":{\"backgroundcolor\":\"#E5ECF6\",\"gridcolor\":\"white\",\"linecolor\":\"white\",\"showbackground\":true,\"ticks\":\"\",\"zerolinecolor\":\"white\",\"gridwidth\":2},\"zaxis\":{\"backgroundcolor\":\"#E5ECF6\",\"gridcolor\":\"white\",\"linecolor\":\"white\",\"showbackground\":true,\"ticks\":\"\",\"zerolinecolor\":\"white\",\"gridwidth\":2}},\"shapedefaults\":{\"line\":{\"color\":\"#2a3f5f\"}},\"annotationdefaults\":{\"arrowcolor\":\"#2a3f5f\",\"arrowhead\":0,\"arrowwidth\":1},\"geo\":{\"bgcolor\":\"white\",\"landcolor\":\"#E5ECF6\",\"subunitcolor\":\"white\",\"showland\":true,\"showlakes\":true,\"lakecolor\":\"white\"},\"title\":{\"x\":0.05},\"mapbox\":{\"style\":\"light\"}}},\"xaxis\":{\"anchor\":\"y\",\"domain\":[0.0,1.0],\"title\":{\"text\":\"BloodPressure\"},\"range\":[33.0,111.0],\"showgrid\":true,\"gridwidth\":1,\"gridcolor\":\"LightGrey\"},\"yaxis\":{\"anchor\":\"x\",\"domain\":[0.0,1.0],\"title\":{\"text\":\"SkinThickness\"},\"range\":[0,68.0],\"showgrid\":true,\"gridwidth\":1,\"gridcolor\":\"LightGrey\"},\"coloraxis\":{\"colorbar\":{\"title\":{\"text\":\"Outcome\"}},\"colorscale\":[[0.0,\"#0d0887\"],[0.1111111111111111,\"#46039f\"],[0.2222222222222222,\"#7201a8\"],[0.3333333333333333,\"#9c179e\"],[0.4444444444444444,\"#bd3786\"],[0.5555555555555556,\"#d8576b\"],[0.6666666666666666,\"#ed7953\"],[0.7777777777777778,\"#fb9f3a\"],[0.8888888888888888,\"#fdca26\"],[1.0,\"#f0f921\"]]},\"legend\":{\"tracegroupgap\":0},\"title\":{\"text\":\"Blood Pressure vs. Skin Thickness by Age Group and Outcome\",\"x\":0.5},\"font\":{\"size\":12},\"plot_bgcolor\":\"white\"},                        {\"responsive\": true}                    ).then(function(){\n",
              "                            \n",
              "var gd = document.getElementById('06b7ce02-cecf-4502-8f79-d53bfad8c70e');\n",
              "var x = new MutationObserver(function (mutations, observer) {{\n",
              "        var display = window.getComputedStyle(gd).display;\n",
              "        if (!display || display === 'none') {{\n",
              "            console.log([gd, 'removed!']);\n",
              "            Plotly.purge(gd);\n",
              "            observer.disconnect();\n",
              "        }}\n",
              "}});\n",
              "\n",
              "// Listen for the removal of the full notebook cells\n",
              "var notebookContainer = gd.closest('#notebook-container');\n",
              "if (notebookContainer) {{\n",
              "    x.observe(notebookContainer, {childList: true});\n",
              "}}\n",
              "\n",
              "// Listen for the clearing of the current output cell\n",
              "var outputEl = gd.closest('.output');\n",
              "if (outputEl) {{\n",
              "    x.observe(outputEl, {childList: true});\n",
              "}}\n",
              "\n",
              "                        })                };                });            </script>        </div>"
            ]
          },
          "metadata": {}
        }
      ]
    },
    {
      "cell_type": "markdown",
      "source": [
        "This plot reveals a weak positive correlation between blood pressure and skin thickness across all age groups. Diabetic outcomes (colored points) are dispersed throughout the data without forming distinct clusters based on these two variables. The widespread scatter indicates that blood pressure and skin thickness alone are poor predictors of diabetes diagnosis. The relationship appears consistent across different age cohorts, suggesting these factors are not age-dependent indicators. This analysis suggests focusing on stronger predictors like glucose rather than these specific metrics.\n",
        "\n"
      ],
      "metadata": {
        "id": "0Sb29nrFNaDc"
      }
    },
    {
      "cell_type": "code",
      "source": [
        "bmi_category_conditions = [\n",
        "    df_clean['BMI_Category_Underweight'],\n",
        "    df_clean['BMI_Category_Normal'],\n",
        "    df_clean['BMI_Category_Overweight']\n",
        "]\n",
        "bmi_category_choices = ['Underweight', 'Normal', 'Overweight']\n",
        "df_clean['BMI_Category'] = np.select(bmi_category_conditions, bmi_category_choices, default='Unknown')\n",
        "\n",
        "fig = px.scatter(df_clean,\n",
        "                 x='Glucose',\n",
        "                 y='BloodPressure',\n",
        "                 color='Outcome',\n",
        "                 facet_col='BMI_Category',\n",
        "                 title='Glucose vs. Blood Pressure, Stratified by BMI Category',\n",
        "                 labels={\"Glucose\": \"Glucose Level (mg/dL)\", \"BloodPressure\": \"Blood Pressure (mm Hg)\"}\n",
        "                )\n",
        "fig.update_layout(\n",
        "    plot_bgcolor='white',\n",
        "    font=dict(size=12),\n",
        "    title_x=0.5\n",
        ")\n",
        "fig.update_xaxes(showgrid=True, gridwidth=1, gridcolor='LightGrey')\n",
        "fig.update_yaxes(showgrid=True, gridwidth=1, gridcolor='LightGrey')\n",
        "fig.show()"
      ],
      "metadata": {
        "colab": {
          "base_uri": "https://localhost:8080/",
          "height": 542
        },
        "id": "KcjA-L68JMTM",
        "outputId": "e5dc9d69-3ab2-4a5e-a27f-230b462023ab"
      },
      "execution_count": 108,
      "outputs": [
        {
          "output_type": "display_data",
          "data": {
            "text/html": [
              "<div>                            <div id=\"13cddf50-8c26-48a6-855b-47697bbdfe5a\" class=\"plotly-graph-div\" style=\"height:525px; width:100%;\"></div>            <script type=\"text/javascript\">                require([\"plotly\"], function(Plotly) {                    window.PLOTLYENV=window.PLOTLYENV || {};                                    if (document.getElementById(\"13cddf50-8c26-48a6-855b-47697bbdfe5a\")) {                    Plotly.newPlot(                        \"13cddf50-8c26-48a6-855b-47697bbdfe5a\",                        [{\"hovertemplate\":\"BMI_Category=Unknown\\u003cbr\\u003eGlucose Level (mg\\u002fdL)=%{x}\\u003cbr\\u003eBlood Pressure (mm Hg)=%{y}\\u003cbr\\u003eOutcome=%{marker.color}\\u003cextra\\u003e\\u003c\\u002fextra\\u003e\",\"legendgroup\":\"\",\"marker\":{\"color\":[1.0,1.0,1.0,0.0,1.0,1.0,0.0,1.0,1.0,1.0,0.0,1.0,0.0,0.0,1.0,1.0,1.0,1.0,0.0,0.0,1.0,0.0,1.0,1.0,1.0,0.0,0.0,1.0,1.0,1.0,0.0,1.0,0.0,1.0,0.0,0.0,0.0,0.0,1.0,1.0,1.0,0.0,1.0,1.0,0.0,0.0,0.0,0.0,1.0,0.0,1.0,0.0,0.0,0.0,1.0,0.0,0.0,0.0,0.0,1.0,1.0,0.0,0.0,1.0,1.0,1.0,0.0,0.0,1.0,1.0,1.0,0.0,1.0,0.0,0.0,1.0,1.0,0.0,0.0,1.0,1.0,1.0,0.0,0.0,0.0,0.0,0.0,0.0,0.0,1.0,0.0,0.0,0.0,0.0,0.0,0.0,1.0,0.0,1.0,1.0,1.0,0.0,0.0,1.0,0.0,0.0,1.0,1.0,0.0,1.0,0.0,1.0,0.0,1.0,0.0,1.0,1.0,1.0,1.0,0.0,1.0,1.0,1.0,1.0,1.0,0.0,0.0,0.0,1.0,1.0,0.0,1.0,0.0,0.0,1.0,1.0,1.0,1.0,1.0,1.0,1.0,0.0,0.0,1.0,0.0,0.0,1.0,1.0,0.0,1.0,1.0,1.0,1.0,0.0,0.0,0.0,0.0,0.0,0.0,0.0,0.0,1.0,0.0,1.0,0.0,0.0,0.0,1.0,0.0,1.0,0.0,1.0,0.0,0.0,0.0,1.0,0.0,0.0,1.0,0.0,1.0,0.0,0.0,1.0,1.0,1.0,0.0,0.0,1.0,1.0,1.0,0.0,1.0,0.0,1.0,1.0,0.0,1.0,0.0,1.0,0.0,1.0,0.0,1.0,0.0,1.0,0.0,0.0,1.0,0.0,0.0,1.0,1.0,1.0,0.0,0.0,0.0,0.0,1.0,0.0,0.0,0.0,0.0,1.0,1.0,1.0,0.0,1.0,1.0,0.0,1.0,0.0,0.0,1.0,1.0,0.0,0.0,0.0,0.0,1.0,0.0,1.0,0.0,0.0,1.0,1.0,1.0,0.0,0.0,1.0,1.0,1.0,1.0,1.0,1.0,0.0,1.0,0.0,1.0,0.0,0.0,0.0,1.0,1.0,1.0,0.0,0.0,0.0,1.0,1.0,0.0,1.0,0.0,1.0,0.0,1.0,0.0,0.0,1.0,0.0,0.0,1.0,1.0,0.0,1.0,0.0,0.0,0.0,1.0,0.0,1.0,0.0,0.0,0.0,0.0,0.0,0.0,1.0,1.0,0.0,0.0,1.0,1.0,0.0,0.0,0.0,0.0,0.0,0.0,0.0,0.0,1.0,0.0,0.0,0.0,1.0,0.0,1.0,1.0,0.0,0.0,0.0,0.0,1.0,0.0,0.0,0.0,0.0,0.0,1.0,0.0,1.0,1.0,1.0,1.0,0.0,0.0,1.0,1.0,0.0,0.0,0.0,0.0,0.0,0.0,0.0,1.0,1.0,0.0,0.0,0.0,0.0,0.0,1.0,0.0,0.0,0.0,0.0,1.0,1.0,1.0,0.0,1.0,1.0,1.0,0.0,1.0,0.0,1.0,0.0,1.0,1.0,0.0,1.0,0.0,0.0,1.0,1.0,0.0,1.0,1.0,0.0,0.0,0.0,0.0,0.0,0.0,0.0,0.0,1.0,0.0,1.0,0.0,0.0,1.0,0.0,0.0,0.0,1.0,0.0,0.0,1.0,1.0,1.0,1.0,1.0,0.0,1.0,0.0,0.0,0.0,0.0,0.0,0.0,1.0,0.0,1.0,1.0,0.0,1.0,0.0,0.0,1.0,1.0,0.0,1.0,1.0,0.0,0.0,0.0,1.0,0.0,0.0,1.0,0.0,1.0,1.0,0.0,1.0,1.0,1.0,0.0,1.0,0.0,0.0,0.0,0.0,0.0,0.0,0.0,1.0,0.0,0.0,0.0,1.0,1.0,0.0,1.0,0.0,1.0,0.0,1.0,1.0,0.0,1.0,1.0,1.0,0.0,1.0,0.0,1.0,1.0,0.0,0.0,1.0,0.0],\"coloraxis\":\"coloraxis\",\"symbol\":\"circle\"},\"mode\":\"markers\",\"name\":\"\",\"orientation\":\"v\",\"showlegend\":false,\"x\":[148.0,137.0,78.0,115.0,197.0,125.0,110.0,168.0,189.0,118.0,103.0,115.0,126.0,99.0,196.0,143.0,125.0,147.0,117.0,109.0,158.0,138.0,102.0,90.0,111.0,180.0,133.0,171.0,180.0,103.0,105.0,176.0,150.0,187.0,100.0,146.0,105.0,84.0,133.0,114.0,109.0,109.0,100.0,126.0,129.0,79.0,62.0,95.0,131.0,74.0,137.0,110.0,106.0,100.0,136.0,123.0,81.0,144.0,92.0,122.0,163.0,85.0,83.0,95.0,171.0,155.0,89.0,76.0,160.0,146.0,124.0,78.0,162.0,111.0,107.0,113.0,88.0,120.0,118.0,117.0,122.0,170.0,84.0,125.0,100.0,129.0,105.0,106.0,108.0,108.0,154.0,102.0,57.0,106.0,147.0,136.0,156.0,153.0,188.0,152.0,163.0,102.0,114.0,131.0,148.0,110.0,102.0,134.0,79.0,179.0,85.0,129.0,143.0,130.0,119.0,194.0,181.0,128.0,139.0,123.0,159.0,135.0,158.0,109.0,148.0,113.0,138.0,103.0,196.0,162.0,96.0,184.0,147.0,179.0,140.0,112.0,151.0,109.0,112.0,177.0,158.0,87.0,101.0,162.0,197.0,117.0,142.0,134.0,122.0,171.0,181.0,179.0,164.0,91.0,146.0,122.0,165.0,124.0,111.0,106.0,86.0,113.0,111.0,155.0,191.0,95.0,142.0,123.0,96.0,138.0,128.0,101.0,71.0,106.0,100.0,146.0,129.0,133.0,161.0,155.0,119.0,108.0,78.0,107.0,128.0,128.0,151.0,126.0,100.0,167.0,144.0,77.0,115.0,120.0,128.0,124.0,106.0,109.0,112.0,182.0,115.0,112.0,112.0,122.0,179.0,102.0,105.0,87.0,180.0,165.0,117.0,115.0,152.0,178.0,117.0,122.0,95.0,126.0,117.0,92.0,137.0,61.0,90.0,165.0,125.0,129.0,88.0,196.0,189.0,103.0,146.0,147.0,99.0,133.0,173.0,118.0,84.0,105.0,122.0,140.0,87.0,156.0,93.0,107.0,116.0,105.0,144.0,100.0,100.0,166.0,158.0,131.0,193.0,95.0,136.0,72.0,168.0,123.0,172.0,102.0,112.0,143.0,138.0,173.0,144.0,119.0,102.0,115.0,151.0,184.0,94.0,181.0,135.0,95.0,89.0,141.0,140.0,107.0,189.0,83.0,117.0,108.0,180.0,95.0,104.0,120.0,91.0,100.0,175.0,86.0,148.0,74.0,97.0,154.0,144.0,137.0,119.0,105.0,158.0,123.0,84.0,145.0,135.0,139.0,173.0,83.0,89.0,99.0,80.0,81.0,84.0,117.0,94.0,96.0,75.0,180.0,84.0,163.0,145.0,125.0,76.0,124.0,114.0,130.0,125.0,117.0,107.0,86.0,77.0,132.0,127.0,129.0,100.0,128.0,90.0,84.0,88.0,186.0,187.0,131.0,164.0,84.0,84.0,97.0,103.0,85.0,125.0,198.0,87.0,91.0,99.0,92.0,154.0,121.0,78.0,98.0,143.0,119.0,118.0,197.0,151.0,100.0,143.0,176.0,111.0,112.0,132.0,123.0,188.0,67.0,173.0,150.0,124.0,181.0,152.0,106.0,174.0,168.0,105.0,138.0,119.0,112.0,183.0,94.0,108.0,90.0,132.0,128.0,102.0,104.0,94.0,97.0,128.0,157.0,179.0,117.0,123.0,106.0,155.0,120.0,127.0,80.0,199.0,167.0,145.0,115.0,112.0,145.0,98.0,154.0,165.0,68.0,123.0,91.0,195.0,93.0,121.0,162.0,95.0,125.0,136.0,129.0,144.0,158.0,121.0,129.0,142.0,127.0,118.0,122.0,168.0,129.0,80.0,115.0,127.0,164.0,93.0,158.0,129.0,187.0,173.0,108.0,97.0,114.0,117.0,111.0,112.0,116.0,141.0,92.0,174.0,95.0,65.0,99.0,102.0,120.0,102.0,140.0,153.0,147.0,81.0,187.0,136.0,121.0,181.0,154.0,128.0,137.0,123.0,106.0,190.0,170.0,101.0,122.0,126.0,93.0],\"xaxis\":\"x\",\"y\":[72.0,40.0,50.0,72.0,70.0,96.0,92.0,74.0,60.0,84.0,72.0,70.0,88.0,84.0,90.0,94.0,70.0,76.0,92.0,75.0,76.0,76.0,76.0,68.0,72.0,64.0,84.0,72.0,66.0,66.0,72.0,90.0,66.0,68.0,88.0,82.0,64.0,72.0,72.0,66.0,88.0,92.0,66.0,90.0,86.0,75.0,78.0,72.0,72.0,72.0,72.0,74.0,72.0,68.0,70.0,80.0,78.0,72.0,62.0,90.0,72.0,65.0,58.0,85.0,72.0,62.0,76.0,62.0,54.0,92.0,74.0,48.0,76.0,64.0,74.0,76.0,72.0,70.0,58.0,88.0,56.0,64.0,74.0,60.0,70.0,80.0,72.0,82.0,52.0,66.0,62.0,75.0,80.0,64.0,78.0,74.0,86.0,82.0,78.0,88.0,72.0,74.0,80.0,88.0,66.0,66.0,82.0,70.0,60.0,72.0,78.0,72.0,78.0,82.0,64.0,68.0,68.0,98.0,80.0,70.0,66.0,72.0,84.0,64.0,60.0,80.0,82.0,72.0,76.0,104.0,64.0,84.0,85.0,95.0,65.0,82.0,70.0,62.0,66.0,60.0,90.0,78.0,76.0,52.0,70.0,80.0,86.0,80.0,68.0,72.0,84.0,90.0,84.0,70.0,76.0,68.0,90.0,70.0,86.0,52.0,68.0,64.0,56.0,76.0,68.0,70.0,80.0,62.0,74.0,72.0,64.0,86.0,78.0,70.0,70.0,70.0,76.0,88.0,86.0,84.0,86.0,72.0,88.0,62.0,78.0,48.0,62.0,84.0,78.0,72.0,58.0,82.0,98.0,76.0,68.0,68.0,70.0,80.0,68.0,74.0,66.0,74.0,75.0,64.0,70.0,86.0,70.0,58.0,72.0,76.0,72.0,76.0,78.0,84.0,68.0,86.0,72.0,88.0,80.0,80.0,84.0,82.0,78.0,88.0,50.0,72.0,74.0,76.0,64.0,72.0,78.0,74.0,54.0,102.0,82.0,64.0,64.0,58.0,52.0,82.0,60.0,75.0,100.0,72.0,74.0,100.0,82.0,68.0,66.0,76.0,78.0,66.0,70.0,64.0,84.0,78.0,64.0,48.0,68.0,90.0,72.0,84.0,60.0,84.0,82.0,88.0,64.0,64.0,78.0,78.0,72.0,64.0,94.0,82.0,74.0,72.0,85.0,88.0,104.0,66.0,64.0,70.0,78.0,80.0,64.0,74.0,68.0,54.0,62.0,68.0,84.0,70.0,64.0,78.0,82.0,70.0,66.0,80.0,70.0,88.0,82.0,72.0,68.0,62.0,78.0,65.0,90.0,68.0,72.0,72.0,72.0,68.0,64.0,78.0,82.0,90.0,50.0,70.0,88.0,86.0,60.0,80.0,72.0,70.0,58.0,66.0,76.0,66.0,56.0,72.0,80.0,92.0,74.0,72.0,85.0,90.0,78.0,90.0,76.0,68.0,82.0,68.0,64.0,70.0,68.0,74.0,76.0,66.0,68.0,80.0,72.0,62.0,72.0,66.0,70.0,60.0,86.0,44.0,80.0,70.0,90.0,76.0,66.0,86.0,84.0,78.0,80.0,72.0,82.0,76.0,74.0,78.0,60.0,78.0,82.0,54.0,58.0,88.0,80.0,74.0,72.0,86.0,94.0,70.0,64.0,88.0,78.0,80.0,78.0,72.0,76.0,76.0,70.0,74.0,50.0,60.0,74.0,70.0,52.0,80.0,106.0,82.0,76.0,106.0,80.0,60.0,80.0,82.0,58.0,78.0,68.0,106.0,100.0,82.0,70.0,60.0,52.0,76.0,64.0,80.0,82.0,74.0,82.0,72.0,70.0,68.0,90.0,88.0,70.0,76.0,88.0,72.0,80.0,72.0,46.0,78.0,64.0,64.0,62.0,50.0,78.0,60.0,76.0,66.0,86.0,94.0,78.0,78.0,84.0,52.0,88.0,60.0,72.0,60.0,74.0,80.0,44.0,94.0,88.0,94.0,74.0,70.0,70.0,78.0,88.0,78.0,88.0,90.0,72.0,76.0,92.0,74.0,76.0,70.0,60.0,70.0],\"yaxis\":\"y\",\"type\":\"scatter\"},{\"hovertemplate\":\"BMI_Category=Overweight\\u003cbr\\u003eGlucose Level (mg\\u002fdL)=%{x}\\u003cbr\\u003eBlood Pressure (mm Hg)=%{y}\\u003cbr\\u003eOutcome=%{marker.color}\\u003cextra\\u003e\\u003c\\u002fextra\\u003e\",\"legendgroup\":\"\",\"marker\":{\"color\":[0.0,0.0,0.0,0.0,1.0,1.0,1.0,1.0,0.0,0.0,0.0,0.0,0.0,0.0,0.0,0.0,0.0,0.0,0.0,0.0,0.0,0.0,0.0,0.0,0.0,0.0,0.0,1.0,1.0,0.0,0.0,0.0,0.0,0.0,0.0,1.0,0.0,0.0,0.0,0.0,0.0,0.0,0.0,1.0,0.0,0.0,0.0,1.0,0.0,0.0,0.0,0.0,0.0,1.0,1.0,1.0,0.0,1.0,0.0,0.0,1.0,0.0,1.0,0.0,1.0,0.0,0.0,1.0,0.0,1.0,1.0,0.0,1.0,0.0,0.0,1.0,1.0,0.0,0.0,0.0,0.0,0.0,0.0,1.0,0.0,0.0,0.0,0.0,0.0,1.0,1.0,0.0,0.0,1.0,0.0,0.0,0.0,0.0,1.0,0.0,1.0,0.0,0.0,0.0,0.0,1.0,0.0,0.0,0.0,0.0,0.0,0.0,0.0,0.0,1.0,0.0,0.0,1.0,0.0,0.0,0.0,0.0,1.0,0.0,0.0,0.0,0.0,0.0,0.0,0.0,0.0,0.0,0.0,0.0,0.0,0.0,0.0,0.0,0.0,0.0,0.0,0.0,1.0,0.0,0.0,0.0,0.0,1.0,0.0,0.0,1.0,1.0,0.0,0.0,0.0,0.0,0.0,1.0,0.0,0.0,1.0,0.0,0.0,0.0,0.0,1.0,0.0,0.0,1.0,0.0,1.0,0.0,0.0,0.0,0.0,0.0,1.0,1.0,1.0,0.0,0.0,0.0,0.0,0.0,0.0,0.0],\"coloraxis\":\"coloraxis\",\"symbol\":\"circle\"},\"mode\":\"markers\",\"name\":\"\",\"orientation\":\"v\",\"showlegend\":false,\"x\":[85.0,89.0,116.0,139.0,166.0,100.0,107.0,119.0,122.0,159.0,146.0,71.0,44.0,141.0,99.0,146.0,139.0,112.0,83.0,107.0,93.0,151.0,81.0,126.0,144.0,97.0,132.0,105.0,173.0,93.0,90.0,109.0,88.0,151.0,100.0,104.0,120.0,111.0,87.0,75.0,117.0,73.0,141.0,109.0,108.0,81.0,125.0,85.0,119.0,142.0,79.0,74.0,91.0,139.0,119.0,184.0,129.0,92.0,114.0,193.0,141.0,102.0,146.0,108.0,106.0,104.0,108.0,108.0,136.0,146.0,161.0,80.0,155.0,113.0,129.0,124.0,152.0,157.0,130.0,95.0,139.0,90.0,158.0,124.0,81.0,98.0,109.0,90.0,127.0,115.0,197.0,143.0,97.0,129.0,94.0,80.0,139.0,147.0,117.0,100.0,134.0,135.0,134.0,88.0,74.0,120.0,136.0,114.0,137.0,126.0,132.0,85.0,99.0,194.0,125.0,166.0,110.0,195.0,154.0,117.0,130.0,120.0,84.0,91.0,99.0,68.0,116.0,122.0,91.0,105.0,189.0,116.0,114.0,88.0,124.0,110.0,99.0,95.0,111.0,133.0,109.0,121.0,124.0,82.0,89.0,108.0,124.0,183.0,106.0,117.0,112.0,114.0,111.0,128.0,92.0,104.0,102.0,147.0,90.0,103.0,136.0,107.0,91.0,120.0,162.0,111.0,99.0,107.0,169.0,99.0,125.0,110.0,126.0,134.0,102.0,83.0,149.0,130.0,120.0,106.0,126.0,109.0,100.0,108.0,88.0,121.0],\"xaxis\":\"x2\",\"y\":[66.0,66.0,74.0,80.0,72.0,72.0,74.0,80.0,78.0,64.0,56.0,70.0,62.0,58.0,74.0,85.0,64.0,66.0,78.0,68.0,50.0,60.0,72.0,56.0,58.0,60.0,80.0,84.0,70.0,60.0,70.0,56.0,74.0,90.0,64.0,74.0,68.0,90.0,72.0,64.0,74.0,60.0,74.0,76.0,68.0,60.0,68.0,74.0,72.0,60.0,80.0,68.0,64.0,54.0,50.0,85.0,84.0,62.0,68.0,50.0,72.0,52.0,72.0,62.0,60.0,64.0,62.0,80.0,74.0,70.0,68.0,66.0,74.0,50.0,60.0,70.0,90.0,72.0,70.0,74.0,46.0,62.0,70.0,72.0,86.0,82.0,60.0,62.0,58.0,72.0,74.0,74.0,68.0,64.0,68.0,74.0,75.0,75.0,62.0,72.0,70.0,54.0,74.0,78.0,52.0,72.0,90.0,64.0,84.0,74.0,86.0,58.0,72.0,80.0,70.0,74.0,68.0,70.0,74.0,90.0,60.0,78.0,72.0,62.0,54.0,70.0,74.0,60.0,72.0,90.0,72.0,70.0,88.0,62.0,70.0,76.0,60.0,54.0,58.0,68.0,60.0,78.0,76.0,52.0,72.0,88.0,74.0,72.0,72.0,96.0,82.0,64.0,60.0,82.0,62.0,74.0,86.0,80.0,72.0,72.0,84.0,60.0,54.0,54.0,84.0,70.0,58.0,50.0,74.0,72.0,78.0,76.0,78.0,58.0,74.0,86.0,68.0,78.0,86.0,56.0,86.0,58.0,84.0,62.0,58.0,72.0],\"yaxis\":\"y2\",\"type\":\"scatter\"},{\"hovertemplate\":\"BMI_Category=Normal\\u003cbr\\u003eGlucose Level (mg\\u002fdL)=%{x}\\u003cbr\\u003eBlood Pressure (mm Hg)=%{y}\\u003cbr\\u003eOutcome=%{marker.color}\\u003cextra\\u003e\\u003c\\u002fextra\\u003e\",\"legendgroup\":\"\",\"marker\":{\"color\":[1.0,0.0,0.0,0.0,0.0,0.0,0.0,0.0,0.0,0.0,0.0,0.0,0.0,0.0,0.0,0.0,1.0,0.0,0.0,0.0,0.0,0.0,0.0,0.0,0.0,0.0,0.0,0.0,0.0,0.0,1.0,0.0,0.0,0.0,0.0,0.0,0.0,0.0,0.0,0.0,0.0,0.0,0.0,1.0,0.0,0.0,0.0,0.0,0.0,0.0,0.0,0.0,0.0,0.0,0.0,0.0,0.0,0.0,0.0,0.0,0.0,0.0,0.0,0.0,0.0,0.0,0.0,0.0,0.0,0.0,0.0,0.0,0.0,0.0,0.0,0.0,0.0,0.0,0.0,0.0,0.0,0.0,0.0,0.0,0.0,0.0,0.0,0.0,1.0,0.0,1.0,0.0,0.0,0.0,0.0,0.0,0.0,0.0,0.0,0.0,1.0,0.0],\"coloraxis\":\"coloraxis\",\"symbol\":\"circle\"},\"mode\":\"markers\",\"name\":\"\",\"orientation\":\"v\",\"showlegend\":false,\"x\":[183.0,97.0,145.0,88.0,92.0,103.0,106.0,103.0,101.0,88.0,73.0,95.0,117.0,113.0,101.0,80.0,134.0,142.0,71.0,125.0,96.0,99.0,96.0,128.0,114.0,99.0,87.0,111.0,85.0,105.0,107.0,99.0,111.0,100.0,90.0,122.0,114.0,96.0,161.0,112.0,150.0,137.0,99.0,194.0,118.0,106.0,95.0,116.0,99.0,101.0,105.0,125.0,119.0,131.0,116.0,96.0,82.0,137.0,101.0,99.0,90.0,82.0,119.0,120.0,71.0,115.0,124.0,114.0,139.0,91.0,129.0,87.0,111.0,57.0,130.0,108.0,93.0,103.0,73.0,109.0,96.0,92.0,111.0,68.0,92.0,125.0,94.0,100.0,167.0,101.0,156.0,101.0,56.0,130.0,140.0,107.0,90.0,94.0,175.0,105.0,162.0,89.0],\"xaxis\":\"x3\",\"y\":[64.0,66.0,82.0,58.0,92.0,60.0,92.0,80.0,50.0,66.0,50.0,66.0,48.0,44.0,65.0,55.0,72.0,82.0,48.0,96.0,72.0,76.0,68.0,78.0,65.0,52.0,80.0,62.0,55.0,58.0,62.0,70.0,72.0,66.0,80.0,78.0,74.0,56.0,50.0,72.0,76.0,68.0,80.0,78.0,72.0,80.0,60.0,72.0,62.0,64.0,68.0,70.0,54.0,64.0,72.0,56.0,70.0,61.0,62.0,72.0,68.0,64.0,72.0,72.0,62.0,98.0,56.0,76.0,62.0,68.0,90.0,60.0,65.0,60.0,96.0,44.0,56.0,66.0,72.0,38.0,72.0,62.0,62.0,62.0,76.0,68.0,65.0,74.0,74.0,58.0,86.0,58.0,56.0,64.0,74.0,80.0,60.0,72.0,88.0,75.0,62.0,62.0],\"yaxis\":\"y3\",\"type\":\"scatter\"},{\"hovertemplate\":\"BMI_Category=Underweight\\u003cbr\\u003eGlucose Level (mg\\u002fdL)=%{x}\\u003cbr\\u003eBlood Pressure (mm Hg)=%{y}\\u003cbr\\u003eOutcome=%{marker.color}\\u003cextra\\u003e\\u003c\\u002fextra\\u003e\",\"legendgroup\":\"\",\"marker\":{\"color\":[0.0,0.0,0.0,0.0],\"coloraxis\":\"coloraxis\",\"symbol\":\"circle\"},\"mode\":\"markers\",\"name\":\"\",\"orientation\":\"v\",\"showlegend\":false,\"x\":[104.0,83.0,97.0,97.0],\"xaxis\":\"x4\",\"y\":[76.0,68.0,70.0,64.0],\"yaxis\":\"y4\",\"type\":\"scatter\"}],                        {\"template\":{\"data\":{\"histogram2dcontour\":[{\"type\":\"histogram2dcontour\",\"colorbar\":{\"outlinewidth\":0,\"ticks\":\"\"},\"colorscale\":[[0.0,\"#0d0887\"],[0.1111111111111111,\"#46039f\"],[0.2222222222222222,\"#7201a8\"],[0.3333333333333333,\"#9c179e\"],[0.4444444444444444,\"#bd3786\"],[0.5555555555555556,\"#d8576b\"],[0.6666666666666666,\"#ed7953\"],[0.7777777777777778,\"#fb9f3a\"],[0.8888888888888888,\"#fdca26\"],[1.0,\"#f0f921\"]]}],\"choropleth\":[{\"type\":\"choropleth\",\"colorbar\":{\"outlinewidth\":0,\"ticks\":\"\"}}],\"histogram2d\":[{\"type\":\"histogram2d\",\"colorbar\":{\"outlinewidth\":0,\"ticks\":\"\"},\"colorscale\":[[0.0,\"#0d0887\"],[0.1111111111111111,\"#46039f\"],[0.2222222222222222,\"#7201a8\"],[0.3333333333333333,\"#9c179e\"],[0.4444444444444444,\"#bd3786\"],[0.5555555555555556,\"#d8576b\"],[0.6666666666666666,\"#ed7953\"],[0.7777777777777778,\"#fb9f3a\"],[0.8888888888888888,\"#fdca26\"],[1.0,\"#f0f921\"]]}],\"heatmap\":[{\"type\":\"heatmap\",\"colorbar\":{\"outlinewidth\":0,\"ticks\":\"\"},\"colorscale\":[[0.0,\"#0d0887\"],[0.1111111111111111,\"#46039f\"],[0.2222222222222222,\"#7201a8\"],[0.3333333333333333,\"#9c179e\"],[0.4444444444444444,\"#bd3786\"],[0.5555555555555556,\"#d8576b\"],[0.6666666666666666,\"#ed7953\"],[0.7777777777777778,\"#fb9f3a\"],[0.8888888888888888,\"#fdca26\"],[1.0,\"#f0f921\"]]}],\"heatmapgl\":[{\"type\":\"heatmapgl\",\"colorbar\":{\"outlinewidth\":0,\"ticks\":\"\"},\"colorscale\":[[0.0,\"#0d0887\"],[0.1111111111111111,\"#46039f\"],[0.2222222222222222,\"#7201a8\"],[0.3333333333333333,\"#9c179e\"],[0.4444444444444444,\"#bd3786\"],[0.5555555555555556,\"#d8576b\"],[0.6666666666666666,\"#ed7953\"],[0.7777777777777778,\"#fb9f3a\"],[0.8888888888888888,\"#fdca26\"],[1.0,\"#f0f921\"]]}],\"contourcarpet\":[{\"type\":\"contourcarpet\",\"colorbar\":{\"outlinewidth\":0,\"ticks\":\"\"}}],\"contour\":[{\"type\":\"contour\",\"colorbar\":{\"outlinewidth\":0,\"ticks\":\"\"},\"colorscale\":[[0.0,\"#0d0887\"],[0.1111111111111111,\"#46039f\"],[0.2222222222222222,\"#7201a8\"],[0.3333333333333333,\"#9c179e\"],[0.4444444444444444,\"#bd3786\"],[0.5555555555555556,\"#d8576b\"],[0.6666666666666666,\"#ed7953\"],[0.7777777777777778,\"#fb9f3a\"],[0.8888888888888888,\"#fdca26\"],[1.0,\"#f0f921\"]]}],\"surface\":[{\"type\":\"surface\",\"colorbar\":{\"outlinewidth\":0,\"ticks\":\"\"},\"colorscale\":[[0.0,\"#0d0887\"],[0.1111111111111111,\"#46039f\"],[0.2222222222222222,\"#7201a8\"],[0.3333333333333333,\"#9c179e\"],[0.4444444444444444,\"#bd3786\"],[0.5555555555555556,\"#d8576b\"],[0.6666666666666666,\"#ed7953\"],[0.7777777777777778,\"#fb9f3a\"],[0.8888888888888888,\"#fdca26\"],[1.0,\"#f0f921\"]]}],\"mesh3d\":[{\"type\":\"mesh3d\",\"colorbar\":{\"outlinewidth\":0,\"ticks\":\"\"}}],\"scatter\":[{\"fillpattern\":{\"fillmode\":\"overlay\",\"size\":10,\"solidity\":0.2},\"type\":\"scatter\"}],\"parcoords\":[{\"type\":\"parcoords\",\"line\":{\"colorbar\":{\"outlinewidth\":0,\"ticks\":\"\"}}}],\"scatterpolargl\":[{\"type\":\"scatterpolargl\",\"marker\":{\"colorbar\":{\"outlinewidth\":0,\"ticks\":\"\"}}}],\"bar\":[{\"error_x\":{\"color\":\"#2a3f5f\"},\"error_y\":{\"color\":\"#2a3f5f\"},\"marker\":{\"line\":{\"color\":\"#E5ECF6\",\"width\":0.5},\"pattern\":{\"fillmode\":\"overlay\",\"size\":10,\"solidity\":0.2}},\"type\":\"bar\"}],\"scattergeo\":[{\"type\":\"scattergeo\",\"marker\":{\"colorbar\":{\"outlinewidth\":0,\"ticks\":\"\"}}}],\"scatterpolar\":[{\"type\":\"scatterpolar\",\"marker\":{\"colorbar\":{\"outlinewidth\":0,\"ticks\":\"\"}}}],\"histogram\":[{\"marker\":{\"pattern\":{\"fillmode\":\"overlay\",\"size\":10,\"solidity\":0.2}},\"type\":\"histogram\"}],\"scattergl\":[{\"type\":\"scattergl\",\"marker\":{\"colorbar\":{\"outlinewidth\":0,\"ticks\":\"\"}}}],\"scatter3d\":[{\"type\":\"scatter3d\",\"line\":{\"colorbar\":{\"outlinewidth\":0,\"ticks\":\"\"}},\"marker\":{\"colorbar\":{\"outlinewidth\":0,\"ticks\":\"\"}}}],\"scattermapbox\":[{\"type\":\"scattermapbox\",\"marker\":{\"colorbar\":{\"outlinewidth\":0,\"ticks\":\"\"}}}],\"scatterternary\":[{\"type\":\"scatterternary\",\"marker\":{\"colorbar\":{\"outlinewidth\":0,\"ticks\":\"\"}}}],\"scattercarpet\":[{\"type\":\"scattercarpet\",\"marker\":{\"colorbar\":{\"outlinewidth\":0,\"ticks\":\"\"}}}],\"carpet\":[{\"aaxis\":{\"endlinecolor\":\"#2a3f5f\",\"gridcolor\":\"white\",\"linecolor\":\"white\",\"minorgridcolor\":\"white\",\"startlinecolor\":\"#2a3f5f\"},\"baxis\":{\"endlinecolor\":\"#2a3f5f\",\"gridcolor\":\"white\",\"linecolor\":\"white\",\"minorgridcolor\":\"white\",\"startlinecolor\":\"#2a3f5f\"},\"type\":\"carpet\"}],\"table\":[{\"cells\":{\"fill\":{\"color\":\"#EBF0F8\"},\"line\":{\"color\":\"white\"}},\"header\":{\"fill\":{\"color\":\"#C8D4E3\"},\"line\":{\"color\":\"white\"}},\"type\":\"table\"}],\"barpolar\":[{\"marker\":{\"line\":{\"color\":\"#E5ECF6\",\"width\":0.5},\"pattern\":{\"fillmode\":\"overlay\",\"size\":10,\"solidity\":0.2}},\"type\":\"barpolar\"}],\"pie\":[{\"automargin\":true,\"type\":\"pie\"}]},\"layout\":{\"autotypenumbers\":\"strict\",\"colorway\":[\"#636efa\",\"#EF553B\",\"#00cc96\",\"#ab63fa\",\"#FFA15A\",\"#19d3f3\",\"#FF6692\",\"#B6E880\",\"#FF97FF\",\"#FECB52\"],\"font\":{\"color\":\"#2a3f5f\"},\"hovermode\":\"closest\",\"hoverlabel\":{\"align\":\"left\"},\"paper_bgcolor\":\"white\",\"plot_bgcolor\":\"#E5ECF6\",\"polar\":{\"bgcolor\":\"#E5ECF6\",\"angularaxis\":{\"gridcolor\":\"white\",\"linecolor\":\"white\",\"ticks\":\"\"},\"radialaxis\":{\"gridcolor\":\"white\",\"linecolor\":\"white\",\"ticks\":\"\"}},\"ternary\":{\"bgcolor\":\"#E5ECF6\",\"aaxis\":{\"gridcolor\":\"white\",\"linecolor\":\"white\",\"ticks\":\"\"},\"baxis\":{\"gridcolor\":\"white\",\"linecolor\":\"white\",\"ticks\":\"\"},\"caxis\":{\"gridcolor\":\"white\",\"linecolor\":\"white\",\"ticks\":\"\"}},\"coloraxis\":{\"colorbar\":{\"outlinewidth\":0,\"ticks\":\"\"}},\"colorscale\":{\"sequential\":[[0.0,\"#0d0887\"],[0.1111111111111111,\"#46039f\"],[0.2222222222222222,\"#7201a8\"],[0.3333333333333333,\"#9c179e\"],[0.4444444444444444,\"#bd3786\"],[0.5555555555555556,\"#d8576b\"],[0.6666666666666666,\"#ed7953\"],[0.7777777777777778,\"#fb9f3a\"],[0.8888888888888888,\"#fdca26\"],[1.0,\"#f0f921\"]],\"sequentialminus\":[[0.0,\"#0d0887\"],[0.1111111111111111,\"#46039f\"],[0.2222222222222222,\"#7201a8\"],[0.3333333333333333,\"#9c179e\"],[0.4444444444444444,\"#bd3786\"],[0.5555555555555556,\"#d8576b\"],[0.6666666666666666,\"#ed7953\"],[0.7777777777777778,\"#fb9f3a\"],[0.8888888888888888,\"#fdca26\"],[1.0,\"#f0f921\"]],\"diverging\":[[0,\"#8e0152\"],[0.1,\"#c51b7d\"],[0.2,\"#de77ae\"],[0.3,\"#f1b6da\"],[0.4,\"#fde0ef\"],[0.5,\"#f7f7f7\"],[0.6,\"#e6f5d0\"],[0.7,\"#b8e186\"],[0.8,\"#7fbc41\"],[0.9,\"#4d9221\"],[1,\"#276419\"]]},\"xaxis\":{\"gridcolor\":\"white\",\"linecolor\":\"white\",\"ticks\":\"\",\"title\":{\"standoff\":15},\"zerolinecolor\":\"white\",\"automargin\":true,\"zerolinewidth\":2},\"yaxis\":{\"gridcolor\":\"white\",\"linecolor\":\"white\",\"ticks\":\"\",\"title\":{\"standoff\":15},\"zerolinecolor\":\"white\",\"automargin\":true,\"zerolinewidth\":2},\"scene\":{\"xaxis\":{\"backgroundcolor\":\"#E5ECF6\",\"gridcolor\":\"white\",\"linecolor\":\"white\",\"showbackground\":true,\"ticks\":\"\",\"zerolinecolor\":\"white\",\"gridwidth\":2},\"yaxis\":{\"backgroundcolor\":\"#E5ECF6\",\"gridcolor\":\"white\",\"linecolor\":\"white\",\"showbackground\":true,\"ticks\":\"\",\"zerolinecolor\":\"white\",\"gridwidth\":2},\"zaxis\":{\"backgroundcolor\":\"#E5ECF6\",\"gridcolor\":\"white\",\"linecolor\":\"white\",\"showbackground\":true,\"ticks\":\"\",\"zerolinecolor\":\"white\",\"gridwidth\":2}},\"shapedefaults\":{\"line\":{\"color\":\"#2a3f5f\"}},\"annotationdefaults\":{\"arrowcolor\":\"#2a3f5f\",\"arrowhead\":0,\"arrowwidth\":1},\"geo\":{\"bgcolor\":\"white\",\"landcolor\":\"#E5ECF6\",\"subunitcolor\":\"white\",\"showland\":true,\"showlakes\":true,\"lakecolor\":\"white\"},\"title\":{\"x\":0.05},\"mapbox\":{\"style\":\"light\"}}},\"xaxis\":{\"anchor\":\"y\",\"domain\":[0.0,0.235],\"title\":{\"text\":\"Glucose Level (mg\\u002fdL)\"},\"showgrid\":true,\"gridwidth\":1,\"gridcolor\":\"LightGrey\"},\"yaxis\":{\"anchor\":\"x\",\"domain\":[0.0,1.0],\"title\":{\"text\":\"Blood Pressure (mm Hg)\"},\"showgrid\":true,\"gridwidth\":1,\"gridcolor\":\"LightGrey\"},\"xaxis2\":{\"anchor\":\"y2\",\"domain\":[0.255,0.49],\"matches\":\"x\",\"title\":{\"text\":\"Glucose Level (mg\\u002fdL)\"},\"showgrid\":true,\"gridwidth\":1,\"gridcolor\":\"LightGrey\"},\"yaxis2\":{\"anchor\":\"x2\",\"domain\":[0.0,1.0],\"matches\":\"y\",\"showticklabels\":false,\"showgrid\":true,\"gridwidth\":1,\"gridcolor\":\"LightGrey\"},\"xaxis3\":{\"anchor\":\"y3\",\"domain\":[0.51,0.745],\"matches\":\"x\",\"title\":{\"text\":\"Glucose Level (mg\\u002fdL)\"},\"showgrid\":true,\"gridwidth\":1,\"gridcolor\":\"LightGrey\"},\"yaxis3\":{\"anchor\":\"x3\",\"domain\":[0.0,1.0],\"matches\":\"y\",\"showticklabels\":false,\"showgrid\":true,\"gridwidth\":1,\"gridcolor\":\"LightGrey\"},\"xaxis4\":{\"anchor\":\"y4\",\"domain\":[0.7649999999999999,0.9999999999999999],\"matches\":\"x\",\"title\":{\"text\":\"Glucose Level (mg\\u002fdL)\"},\"showgrid\":true,\"gridwidth\":1,\"gridcolor\":\"LightGrey\"},\"yaxis4\":{\"anchor\":\"x4\",\"domain\":[0.0,1.0],\"matches\":\"y\",\"showticklabels\":false,\"showgrid\":true,\"gridwidth\":1,\"gridcolor\":\"LightGrey\"},\"annotations\":[{\"font\":{},\"showarrow\":false,\"text\":\"BMI_Category=Unknown\",\"x\":0.1175,\"xanchor\":\"center\",\"xref\":\"paper\",\"y\":1.0,\"yanchor\":\"bottom\",\"yref\":\"paper\"},{\"font\":{},\"showarrow\":false,\"text\":\"BMI_Category=Overweight\",\"x\":0.3725,\"xanchor\":\"center\",\"xref\":\"paper\",\"y\":1.0,\"yanchor\":\"bottom\",\"yref\":\"paper\"},{\"font\":{},\"showarrow\":false,\"text\":\"BMI_Category=Normal\",\"x\":0.6275,\"xanchor\":\"center\",\"xref\":\"paper\",\"y\":1.0,\"yanchor\":\"bottom\",\"yref\":\"paper\"},{\"font\":{},\"showarrow\":false,\"text\":\"BMI_Category=Underweight\",\"x\":0.8824999999999998,\"xanchor\":\"center\",\"xref\":\"paper\",\"y\":1.0,\"yanchor\":\"bottom\",\"yref\":\"paper\"}],\"coloraxis\":{\"colorbar\":{\"title\":{\"text\":\"Outcome\"}},\"colorscale\":[[0.0,\"#0d0887\"],[0.1111111111111111,\"#46039f\"],[0.2222222222222222,\"#7201a8\"],[0.3333333333333333,\"#9c179e\"],[0.4444444444444444,\"#bd3786\"],[0.5555555555555556,\"#d8576b\"],[0.6666666666666666,\"#ed7953\"],[0.7777777777777778,\"#fb9f3a\"],[0.8888888888888888,\"#fdca26\"],[1.0,\"#f0f921\"]]},\"legend\":{\"tracegroupgap\":0},\"title\":{\"text\":\"Glucose vs. Blood Pressure, Stratified by BMI Category\",\"x\":0.5},\"font\":{\"size\":12},\"plot_bgcolor\":\"white\"},                        {\"responsive\": true}                    ).then(function(){\n",
              "                            \n",
              "var gd = document.getElementById('13cddf50-8c26-48a6-855b-47697bbdfe5a');\n",
              "var x = new MutationObserver(function (mutations, observer) {{\n",
              "        var display = window.getComputedStyle(gd).display;\n",
              "        if (!display || display === 'none') {{\n",
              "            console.log([gd, 'removed!']);\n",
              "            Plotly.purge(gd);\n",
              "            observer.disconnect();\n",
              "        }}\n",
              "}});\n",
              "\n",
              "// Listen for the removal of the full notebook cells\n",
              "var notebookContainer = gd.closest('#notebook-container');\n",
              "if (notebookContainer) {{\n",
              "    x.observe(notebookContainer, {childList: true});\n",
              "}}\n",
              "\n",
              "// Listen for the clearing of the current output cell\n",
              "var outputEl = gd.closest('.output');\n",
              "if (outputEl) {{\n",
              "    x.observe(outputEl, {childList: true});\n",
              "}}\n",
              "\n",
              "                        })                };                });            </script>        </div>"
            ]
          },
          "metadata": {}
        }
      ]
    },
    {
      "cell_type": "markdown",
      "source": [
        "This stratified analysis shows that the relationship between glucose and blood pressure remains consistently weak across all BMI categories. There is no clear, strong correlation visible in any weight group—underweight, normal, or overweight. Diabetic outcomes are present at all levels of blood pressure, indicating it is not a primary distinguishing factor. The plot confirms that high glucose levels, not blood pressure, are the dominant predictor of diabetes, regardless of a patient's weight category. This suggests clinical focus should remain on glucose management over blood pressure for diabetes prediction."
      ],
      "metadata": {
        "id": "R4P9OtXFN2fZ"
      }
    },
    {
      "cell_type": "markdown",
      "source": [
        "BOX PLOTS"
      ],
      "metadata": {
        "id": "vxBZrtNXZlEi"
      }
    },
    {
      "cell_type": "code",
      "source": [
        "fig1 = px.box(df_clean,\n",
        "             x='Outcome',\n",
        "             y='Glucose',\n",
        "             color='Outcome',\n",
        "             title='<b>Glucose Level Distribution: Diabetes vs Non-Diabetes</b><br><sup>The Primary Diagnostic Differentiator</sup>',\n",
        "             labels={'Outcome': 'Diabetes Diagnosis (0 = No, 1 = Yes)', 'Glucose': 'Glucose Level (mg/dL)'},\n",
        "             category_orders={'Outcome': [0, 1]},\n",
        "             color_discrete_map={0: '#1f77b4', 1: '#d62728'},  # Blue for healthy, red for diabetic\n",
        "             notched=True  # Adds confidence intervals around the median\n",
        "            )\n",
        "fig1.update_layout(showlegend=False, plot_bgcolor='white')\n",
        "fig1.update_yaxes(showgrid=True, gridwidth=1, gridcolor='LightGrey')\n",
        "fig1.show()"
      ],
      "metadata": {
        "colab": {
          "base_uri": "https://localhost:8080/",
          "height": 542
        },
        "id": "tJYtSIS6Jr56",
        "outputId": "26f1c233-81c1-485a-f0c1-c82eb2f66b12"
      },
      "execution_count": 109,
      "outputs": [
        {
          "output_type": "display_data",
          "data": {
            "text/html": [
              "<div>                            <div id=\"ee30a439-05c9-41a6-8a6e-de5716b1bad7\" class=\"plotly-graph-div\" style=\"height:525px; width:100%;\"></div>            <script type=\"text/javascript\">                require([\"plotly\"], function(Plotly) {                    window.PLOTLYENV=window.PLOTLYENV || {};                                    if (document.getElementById(\"ee30a439-05c9-41a6-8a6e-de5716b1bad7\")) {                    Plotly.newPlot(                        \"ee30a439-05c9-41a6-8a6e-de5716b1bad7\",                        [{\"alignmentgroup\":\"True\",\"hovertemplate\":\"Diabetes Diagnosis (0 = No, 1 = Yes)=%{x}\\u003cbr\\u003eGlucose Level (mg\\u002fdL)=%{y}\\u003cextra\\u003e\\u003c\\u002fextra\\u003e\",\"legendgroup\":\"0.0\",\"marker\":{\"color\":\"#1f77b4\"},\"name\":\"0.0\",\"notched\":true,\"offsetgroup\":\"0.0\",\"orientation\":\"v\",\"showlegend\":true,\"x\":[0.0,0.0,0.0,0.0,0.0,0.0,0.0,0.0,0.0,0.0,0.0,0.0,0.0,0.0,0.0,0.0,0.0,0.0,0.0,0.0,0.0,0.0,0.0,0.0,0.0,0.0,0.0,0.0,0.0,0.0,0.0,0.0,0.0,0.0,0.0,0.0,0.0,0.0,0.0,0.0,0.0,0.0,0.0,0.0,0.0,0.0,0.0,0.0,0.0,0.0,0.0,0.0,0.0,0.0,0.0,0.0,0.0,0.0,0.0,0.0,0.0,0.0,0.0,0.0,0.0,0.0,0.0,0.0,0.0,0.0,0.0,0.0,0.0,0.0,0.0,0.0,0.0,0.0,0.0,0.0,0.0,0.0,0.0,0.0,0.0,0.0,0.0,0.0,0.0,0.0,0.0,0.0,0.0,0.0,0.0,0.0,0.0,0.0,0.0,0.0,0.0,0.0,0.0,0.0,0.0,0.0,0.0,0.0,0.0,0.0,0.0,0.0,0.0,0.0,0.0,0.0,0.0,0.0,0.0,0.0,0.0,0.0,0.0,0.0,0.0,0.0,0.0,0.0,0.0,0.0,0.0,0.0,0.0,0.0,0.0,0.0,0.0,0.0,0.0,0.0,0.0,0.0,0.0,0.0,0.0,0.0,0.0,0.0,0.0,0.0,0.0,0.0,0.0,0.0,0.0,0.0,0.0,0.0,0.0,0.0,0.0,0.0,0.0,0.0,0.0,0.0,0.0,0.0,0.0,0.0,0.0,0.0,0.0,0.0,0.0,0.0,0.0,0.0,0.0,0.0,0.0,0.0,0.0,0.0,0.0,0.0,0.0,0.0,0.0,0.0,0.0,0.0,0.0,0.0,0.0,0.0,0.0,0.0,0.0,0.0,0.0,0.0,0.0,0.0,0.0,0.0,0.0,0.0,0.0,0.0,0.0,0.0,0.0,0.0,0.0,0.0,0.0,0.0,0.0,0.0,0.0,0.0,0.0,0.0,0.0,0.0,0.0,0.0,0.0,0.0,0.0,0.0,0.0,0.0,0.0,0.0,0.0,0.0,0.0,0.0,0.0,0.0,0.0,0.0,0.0,0.0,0.0,0.0,0.0,0.0,0.0,0.0,0.0,0.0,0.0,0.0,0.0,0.0,0.0,0.0,0.0,0.0,0.0,0.0,0.0,0.0,0.0,0.0,0.0,0.0,0.0,0.0,0.0,0.0,0.0,0.0,0.0,0.0,0.0,0.0,0.0,0.0,0.0,0.0,0.0,0.0,0.0,0.0,0.0,0.0,0.0,0.0,0.0,0.0,0.0,0.0,0.0,0.0,0.0,0.0,0.0,0.0,0.0,0.0,0.0,0.0,0.0,0.0,0.0,0.0,0.0,0.0,0.0,0.0,0.0,0.0,0.0,0.0,0.0,0.0,0.0,0.0,0.0,0.0,0.0,0.0,0.0,0.0,0.0,0.0,0.0,0.0,0.0,0.0,0.0,0.0,0.0,0.0,0.0,0.0,0.0,0.0,0.0,0.0,0.0,0.0,0.0,0.0,0.0,0.0,0.0,0.0,0.0,0.0,0.0,0.0,0.0,0.0,0.0,0.0,0.0,0.0,0.0,0.0,0.0,0.0,0.0,0.0,0.0,0.0,0.0,0.0,0.0,0.0,0.0,0.0,0.0,0.0,0.0,0.0,0.0,0.0,0.0,0.0,0.0,0.0,0.0,0.0,0.0,0.0,0.0,0.0,0.0,0.0,0.0,0.0,0.0,0.0,0.0,0.0,0.0,0.0,0.0,0.0,0.0,0.0,0.0,0.0,0.0,0.0,0.0,0.0,0.0,0.0,0.0,0.0,0.0,0.0,0.0,0.0,0.0,0.0,0.0,0.0,0.0,0.0,0.0,0.0,0.0,0.0,0.0,0.0,0.0,0.0,0.0,0.0,0.0,0.0,0.0,0.0,0.0,0.0,0.0,0.0,0.0,0.0,0.0,0.0,0.0,0.0,0.0,0.0,0.0,0.0,0.0,0.0,0.0,0.0,0.0,0.0,0.0,0.0,0.0,0.0,0.0,0.0,0.0,0.0,0.0,0.0,0.0,0.0,0.0,0.0,0.0,0.0,0.0,0.0,0.0,0.0,0.0,0.0,0.0,0.0,0.0,0.0,0.0,0.0,0.0,0.0,0.0,0.0,0.0,0.0,0.0,0.0,0.0,0.0,0.0,0.0],\"x0\":\" \",\"xaxis\":\"x\",\"y\":[85.0,89.0,116.0,115.0,110.0,139.0,103.0,126.0,99.0,97.0,145.0,117.0,109.0,88.0,92.0,122.0,103.0,138.0,180.0,133.0,106.0,159.0,146.0,71.0,105.0,103.0,101.0,88.0,150.0,73.0,100.0,146.0,105.0,84.0,44.0,141.0,99.0,109.0,95.0,146.0,139.0,129.0,79.0,117.0,62.0,95.0,112.0,113.0,74.0,83.0,101.0,110.0,106.0,100.0,107.0,80.0,123.0,81.0,142.0,144.0,92.0,71.0,93.0,151.0,125.0,81.0,85.0,126.0,96.0,144.0,83.0,89.0,76.0,78.0,97.0,99.0,111.0,107.0,132.0,120.0,118.0,84.0,96.0,125.0,100.0,93.0,129.0,105.0,128.0,106.0,108.0,154.0,102.0,57.0,106.0,147.0,90.0,136.0,114.0,153.0,99.0,109.0,88.0,151.0,102.0,114.0,100.0,148.0,120.0,110.0,111.0,87.0,79.0,75.0,85.0,143.0,87.0,119.0,117.0,73.0,141.0,111.0,123.0,85.0,105.0,113.0,138.0,108.0,99.0,103.0,111.0,96.0,81.0,147.0,179.0,125.0,119.0,142.0,100.0,87.0,101.0,197.0,117.0,79.0,122.0,74.0,104.0,91.0,91.0,146.0,122.0,165.0,124.0,111.0,106.0,129.0,90.0,86.0,111.0,114.0,193.0,191.0,95.0,142.0,96.0,128.0,102.0,108.0,122.0,71.0,106.0,100.0,104.0,114.0,108.0,129.0,133.0,136.0,155.0,96.0,108.0,78.0,161.0,151.0,126.0,112.0,77.0,150.0,120.0,137.0,80.0,106.0,113.0,112.0,99.0,115.0,129.0,112.0,157.0,179.0,105.0,118.0,87.0,106.0,95.0,165.0,117.0,130.0,95.0,117.0,122.0,95.0,126.0,139.0,116.0,99.0,92.0,137.0,61.0,90.0,90.0,88.0,158.0,103.0,147.0,99.0,101.0,81.0,118.0,84.0,105.0,122.0,98.0,87.0,93.0,107.0,105.0,109.0,90.0,125.0,119.0,100.0,100.0,131.0,116.0,127.0,96.0,82.0,137.0,72.0,123.0,101.0,102.0,112.0,143.0,143.0,97.0,83.0,119.0,94.0,102.0,115.0,94.0,135.0,99.0,89.0,80.0,139.0,90.0,140.0,147.0,97.0,107.0,83.0,117.0,100.0,95.0,120.0,82.0,91.0,119.0,100.0,135.0,86.0,134.0,120.0,71.0,74.0,88.0,115.0,124.0,74.0,97.0,154.0,144.0,137.0,119.0,136.0,114.0,137.0,114.0,126.0,132.0,123.0,85.0,84.0,139.0,173.0,99.0,194.0,83.0,89.0,99.0,80.0,166.0,110.0,81.0,154.0,117.0,84.0,94.0,96.0,75.0,130.0,84.0,120.0,139.0,91.0,91.0,99.0,125.0,76.0,129.0,68.0,124.0,114.0,125.0,87.0,97.0,116.0,117.0,111.0,122.0,107.0,86.0,91.0,77.0,105.0,57.0,127.0,84.0,88.0,131.0,164.0,189.0,116.0,84.0,114.0,88.0,84.0,124.0,97.0,110.0,103.0,85.0,87.0,99.0,91.0,95.0,99.0,92.0,154.0,78.0,130.0,111.0,98.0,143.0,119.0,108.0,133.0,109.0,121.0,100.0,93.0,103.0,73.0,112.0,82.0,123.0,67.0,89.0,109.0,108.0,96.0,124.0,124.0,92.0,152.0,111.0,106.0,105.0,106.0,117.0,68.0,112.0,92.0,183.0,94.0,108.0,90.0,125.0,132.0,128.0,94.0,102.0,111.0,128.0,92.0,104.0,94.0,100.0,102.0,128.0,90.0,103.0,157.0,107.0,91.0,117.0,123.0,120.0,106.0,101.0,120.0,127.0,162.0,112.0,98.0,154.0,165.0,99.0,68.0,123.0,91.0,93.0,101.0,56.0,95.0,136.0,129.0,130.0,107.0,140.0,107.0,121.0,90.0,99.0,127.0,118.0,122.0,129.0,110.0,80.0,127.0,158.0,126.0,134.0,102.0,94.0,108.0,83.0,114.0,117.0,111.0,112.0,116.0,141.0,175.0,92.0,106.0,105.0,95.0,126.0,65.0,99.0,102.0,109.0,153.0,100.0,81.0,121.0,108.0,137.0,106.0,88.0,89.0,101.0,122.0,121.0,93.0],\"y0\":\" \",\"yaxis\":\"y\",\"type\":\"box\"},{\"alignmentgroup\":\"True\",\"hovertemplate\":\"Diabetes Diagnosis (0 = No, 1 = Yes)=%{x}\\u003cbr\\u003eGlucose Level (mg\\u002fdL)=%{y}\\u003cextra\\u003e\\u003c\\u002fextra\\u003e\",\"legendgroup\":\"1.0\",\"marker\":{\"color\":\"#d62728\"},\"name\":\"1.0\",\"notched\":true,\"offsetgroup\":\"1.0\",\"orientation\":\"v\",\"showlegend\":true,\"x\":[1.0,1.0,1.0,1.0,1.0,1.0,1.0,1.0,1.0,1.0,1.0,1.0,1.0,1.0,1.0,1.0,1.0,1.0,1.0,1.0,1.0,1.0,1.0,1.0,1.0,1.0,1.0,1.0,1.0,1.0,1.0,1.0,1.0,1.0,1.0,1.0,1.0,1.0,1.0,1.0,1.0,1.0,1.0,1.0,1.0,1.0,1.0,1.0,1.0,1.0,1.0,1.0,1.0,1.0,1.0,1.0,1.0,1.0,1.0,1.0,1.0,1.0,1.0,1.0,1.0,1.0,1.0,1.0,1.0,1.0,1.0,1.0,1.0,1.0,1.0,1.0,1.0,1.0,1.0,1.0,1.0,1.0,1.0,1.0,1.0,1.0,1.0,1.0,1.0,1.0,1.0,1.0,1.0,1.0,1.0,1.0,1.0,1.0,1.0,1.0,1.0,1.0,1.0,1.0,1.0,1.0,1.0,1.0,1.0,1.0,1.0,1.0,1.0,1.0,1.0,1.0,1.0,1.0,1.0,1.0,1.0,1.0,1.0,1.0,1.0,1.0,1.0,1.0,1.0,1.0,1.0,1.0,1.0,1.0,1.0,1.0,1.0,1.0,1.0,1.0,1.0,1.0,1.0,1.0,1.0,1.0,1.0,1.0,1.0,1.0,1.0,1.0,1.0,1.0,1.0,1.0,1.0,1.0,1.0,1.0,1.0,1.0,1.0,1.0,1.0,1.0,1.0,1.0,1.0,1.0,1.0,1.0,1.0,1.0,1.0,1.0,1.0,1.0,1.0,1.0,1.0,1.0,1.0,1.0,1.0,1.0,1.0,1.0,1.0,1.0,1.0,1.0,1.0,1.0,1.0,1.0,1.0,1.0,1.0,1.0,1.0,1.0,1.0,1.0,1.0,1.0,1.0,1.0,1.0,1.0,1.0,1.0,1.0,1.0,1.0,1.0,1.0,1.0,1.0,1.0,1.0,1.0,1.0,1.0,1.0,1.0,1.0,1.0,1.0,1.0,1.0,1.0,1.0,1.0,1.0,1.0,1.0,1.0,1.0,1.0,1.0,1.0,1.0,1.0,1.0,1.0,1.0,1.0,1.0,1.0,1.0,1.0,1.0,1.0,1.0,1.0,1.0,1.0,1.0,1.0,1.0,1.0,1.0,1.0,1.0,1.0,1.0,1.0],\"x0\":\" \",\"xaxis\":\"x\",\"y\":[148.0,183.0,137.0,78.0,197.0,125.0,168.0,189.0,166.0,100.0,118.0,107.0,115.0,196.0,119.0,143.0,125.0,147.0,158.0,102.0,90.0,111.0,171.0,180.0,103.0,176.0,187.0,133.0,114.0,109.0,100.0,126.0,131.0,137.0,136.0,134.0,122.0,163.0,95.0,171.0,155.0,160.0,146.0,124.0,162.0,113.0,88.0,117.0,105.0,173.0,122.0,170.0,108.0,156.0,188.0,152.0,163.0,131.0,104.0,102.0,134.0,179.0,129.0,130.0,194.0,181.0,128.0,109.0,139.0,159.0,135.0,158.0,107.0,109.0,148.0,196.0,162.0,184.0,140.0,112.0,151.0,109.0,85.0,112.0,177.0,158.0,162.0,142.0,134.0,171.0,181.0,179.0,164.0,139.0,119.0,184.0,92.0,113.0,155.0,141.0,123.0,138.0,146.0,101.0,106.0,146.0,161.0,108.0,119.0,107.0,128.0,128.0,146.0,100.0,167.0,144.0,115.0,161.0,128.0,124.0,155.0,109.0,182.0,194.0,112.0,124.0,152.0,122.0,102.0,180.0,115.0,152.0,178.0,117.0,165.0,125.0,129.0,196.0,189.0,146.0,124.0,133.0,173.0,140.0,156.0,116.0,105.0,144.0,166.0,158.0,131.0,193.0,95.0,136.0,168.0,115.0,197.0,172.0,138.0,173.0,144.0,129.0,151.0,184.0,181.0,95.0,141.0,189.0,108.0,117.0,180.0,104.0,134.0,175.0,148.0,120.0,105.0,158.0,145.0,135.0,125.0,195.0,117.0,180.0,84.0,163.0,145.0,130.0,132.0,129.0,100.0,128.0,90.0,186.0,187.0,125.0,198.0,121.0,118.0,197.0,151.0,124.0,143.0,176.0,111.0,132.0,188.0,173.0,150.0,183.0,181.0,174.0,168.0,138.0,112.0,119.0,114.0,104.0,97.0,147.0,167.0,179.0,136.0,155.0,80.0,199.0,167.0,145.0,115.0,145.0,111.0,195.0,156.0,121.0,162.0,125.0,144.0,158.0,129.0,142.0,169.0,125.0,168.0,115.0,164.0,93.0,129.0,187.0,173.0,97.0,149.0,130.0,120.0,174.0,102.0,120.0,140.0,147.0,187.0,162.0,136.0,181.0,154.0,128.0,123.0,190.0,170.0,126.0],\"y0\":\" \",\"yaxis\":\"y\",\"type\":\"box\"}],                        {\"template\":{\"data\":{\"histogram2dcontour\":[{\"type\":\"histogram2dcontour\",\"colorbar\":{\"outlinewidth\":0,\"ticks\":\"\"},\"colorscale\":[[0.0,\"#0d0887\"],[0.1111111111111111,\"#46039f\"],[0.2222222222222222,\"#7201a8\"],[0.3333333333333333,\"#9c179e\"],[0.4444444444444444,\"#bd3786\"],[0.5555555555555556,\"#d8576b\"],[0.6666666666666666,\"#ed7953\"],[0.7777777777777778,\"#fb9f3a\"],[0.8888888888888888,\"#fdca26\"],[1.0,\"#f0f921\"]]}],\"choropleth\":[{\"type\":\"choropleth\",\"colorbar\":{\"outlinewidth\":0,\"ticks\":\"\"}}],\"histogram2d\":[{\"type\":\"histogram2d\",\"colorbar\":{\"outlinewidth\":0,\"ticks\":\"\"},\"colorscale\":[[0.0,\"#0d0887\"],[0.1111111111111111,\"#46039f\"],[0.2222222222222222,\"#7201a8\"],[0.3333333333333333,\"#9c179e\"],[0.4444444444444444,\"#bd3786\"],[0.5555555555555556,\"#d8576b\"],[0.6666666666666666,\"#ed7953\"],[0.7777777777777778,\"#fb9f3a\"],[0.8888888888888888,\"#fdca26\"],[1.0,\"#f0f921\"]]}],\"heatmap\":[{\"type\":\"heatmap\",\"colorbar\":{\"outlinewidth\":0,\"ticks\":\"\"},\"colorscale\":[[0.0,\"#0d0887\"],[0.1111111111111111,\"#46039f\"],[0.2222222222222222,\"#7201a8\"],[0.3333333333333333,\"#9c179e\"],[0.4444444444444444,\"#bd3786\"],[0.5555555555555556,\"#d8576b\"],[0.6666666666666666,\"#ed7953\"],[0.7777777777777778,\"#fb9f3a\"],[0.8888888888888888,\"#fdca26\"],[1.0,\"#f0f921\"]]}],\"heatmapgl\":[{\"type\":\"heatmapgl\",\"colorbar\":{\"outlinewidth\":0,\"ticks\":\"\"},\"colorscale\":[[0.0,\"#0d0887\"],[0.1111111111111111,\"#46039f\"],[0.2222222222222222,\"#7201a8\"],[0.3333333333333333,\"#9c179e\"],[0.4444444444444444,\"#bd3786\"],[0.5555555555555556,\"#d8576b\"],[0.6666666666666666,\"#ed7953\"],[0.7777777777777778,\"#fb9f3a\"],[0.8888888888888888,\"#fdca26\"],[1.0,\"#f0f921\"]]}],\"contourcarpet\":[{\"type\":\"contourcarpet\",\"colorbar\":{\"outlinewidth\":0,\"ticks\":\"\"}}],\"contour\":[{\"type\":\"contour\",\"colorbar\":{\"outlinewidth\":0,\"ticks\":\"\"},\"colorscale\":[[0.0,\"#0d0887\"],[0.1111111111111111,\"#46039f\"],[0.2222222222222222,\"#7201a8\"],[0.3333333333333333,\"#9c179e\"],[0.4444444444444444,\"#bd3786\"],[0.5555555555555556,\"#d8576b\"],[0.6666666666666666,\"#ed7953\"],[0.7777777777777778,\"#fb9f3a\"],[0.8888888888888888,\"#fdca26\"],[1.0,\"#f0f921\"]]}],\"surface\":[{\"type\":\"surface\",\"colorbar\":{\"outlinewidth\":0,\"ticks\":\"\"},\"colorscale\":[[0.0,\"#0d0887\"],[0.1111111111111111,\"#46039f\"],[0.2222222222222222,\"#7201a8\"],[0.3333333333333333,\"#9c179e\"],[0.4444444444444444,\"#bd3786\"],[0.5555555555555556,\"#d8576b\"],[0.6666666666666666,\"#ed7953\"],[0.7777777777777778,\"#fb9f3a\"],[0.8888888888888888,\"#fdca26\"],[1.0,\"#f0f921\"]]}],\"mesh3d\":[{\"type\":\"mesh3d\",\"colorbar\":{\"outlinewidth\":0,\"ticks\":\"\"}}],\"scatter\":[{\"fillpattern\":{\"fillmode\":\"overlay\",\"size\":10,\"solidity\":0.2},\"type\":\"scatter\"}],\"parcoords\":[{\"type\":\"parcoords\",\"line\":{\"colorbar\":{\"outlinewidth\":0,\"ticks\":\"\"}}}],\"scatterpolargl\":[{\"type\":\"scatterpolargl\",\"marker\":{\"colorbar\":{\"outlinewidth\":0,\"ticks\":\"\"}}}],\"bar\":[{\"error_x\":{\"color\":\"#2a3f5f\"},\"error_y\":{\"color\":\"#2a3f5f\"},\"marker\":{\"line\":{\"color\":\"#E5ECF6\",\"width\":0.5},\"pattern\":{\"fillmode\":\"overlay\",\"size\":10,\"solidity\":0.2}},\"type\":\"bar\"}],\"scattergeo\":[{\"type\":\"scattergeo\",\"marker\":{\"colorbar\":{\"outlinewidth\":0,\"ticks\":\"\"}}}],\"scatterpolar\":[{\"type\":\"scatterpolar\",\"marker\":{\"colorbar\":{\"outlinewidth\":0,\"ticks\":\"\"}}}],\"histogram\":[{\"marker\":{\"pattern\":{\"fillmode\":\"overlay\",\"size\":10,\"solidity\":0.2}},\"type\":\"histogram\"}],\"scattergl\":[{\"type\":\"scattergl\",\"marker\":{\"colorbar\":{\"outlinewidth\":0,\"ticks\":\"\"}}}],\"scatter3d\":[{\"type\":\"scatter3d\",\"line\":{\"colorbar\":{\"outlinewidth\":0,\"ticks\":\"\"}},\"marker\":{\"colorbar\":{\"outlinewidth\":0,\"ticks\":\"\"}}}],\"scattermapbox\":[{\"type\":\"scattermapbox\",\"marker\":{\"colorbar\":{\"outlinewidth\":0,\"ticks\":\"\"}}}],\"scatterternary\":[{\"type\":\"scatterternary\",\"marker\":{\"colorbar\":{\"outlinewidth\":0,\"ticks\":\"\"}}}],\"scattercarpet\":[{\"type\":\"scattercarpet\",\"marker\":{\"colorbar\":{\"outlinewidth\":0,\"ticks\":\"\"}}}],\"carpet\":[{\"aaxis\":{\"endlinecolor\":\"#2a3f5f\",\"gridcolor\":\"white\",\"linecolor\":\"white\",\"minorgridcolor\":\"white\",\"startlinecolor\":\"#2a3f5f\"},\"baxis\":{\"endlinecolor\":\"#2a3f5f\",\"gridcolor\":\"white\",\"linecolor\":\"white\",\"minorgridcolor\":\"white\",\"startlinecolor\":\"#2a3f5f\"},\"type\":\"carpet\"}],\"table\":[{\"cells\":{\"fill\":{\"color\":\"#EBF0F8\"},\"line\":{\"color\":\"white\"}},\"header\":{\"fill\":{\"color\":\"#C8D4E3\"},\"line\":{\"color\":\"white\"}},\"type\":\"table\"}],\"barpolar\":[{\"marker\":{\"line\":{\"color\":\"#E5ECF6\",\"width\":0.5},\"pattern\":{\"fillmode\":\"overlay\",\"size\":10,\"solidity\":0.2}},\"type\":\"barpolar\"}],\"pie\":[{\"automargin\":true,\"type\":\"pie\"}]},\"layout\":{\"autotypenumbers\":\"strict\",\"colorway\":[\"#636efa\",\"#EF553B\",\"#00cc96\",\"#ab63fa\",\"#FFA15A\",\"#19d3f3\",\"#FF6692\",\"#B6E880\",\"#FF97FF\",\"#FECB52\"],\"font\":{\"color\":\"#2a3f5f\"},\"hovermode\":\"closest\",\"hoverlabel\":{\"align\":\"left\"},\"paper_bgcolor\":\"white\",\"plot_bgcolor\":\"#E5ECF6\",\"polar\":{\"bgcolor\":\"#E5ECF6\",\"angularaxis\":{\"gridcolor\":\"white\",\"linecolor\":\"white\",\"ticks\":\"\"},\"radialaxis\":{\"gridcolor\":\"white\",\"linecolor\":\"white\",\"ticks\":\"\"}},\"ternary\":{\"bgcolor\":\"#E5ECF6\",\"aaxis\":{\"gridcolor\":\"white\",\"linecolor\":\"white\",\"ticks\":\"\"},\"baxis\":{\"gridcolor\":\"white\",\"linecolor\":\"white\",\"ticks\":\"\"},\"caxis\":{\"gridcolor\":\"white\",\"linecolor\":\"white\",\"ticks\":\"\"}},\"coloraxis\":{\"colorbar\":{\"outlinewidth\":0,\"ticks\":\"\"}},\"colorscale\":{\"sequential\":[[0.0,\"#0d0887\"],[0.1111111111111111,\"#46039f\"],[0.2222222222222222,\"#7201a8\"],[0.3333333333333333,\"#9c179e\"],[0.4444444444444444,\"#bd3786\"],[0.5555555555555556,\"#d8576b\"],[0.6666666666666666,\"#ed7953\"],[0.7777777777777778,\"#fb9f3a\"],[0.8888888888888888,\"#fdca26\"],[1.0,\"#f0f921\"]],\"sequentialminus\":[[0.0,\"#0d0887\"],[0.1111111111111111,\"#46039f\"],[0.2222222222222222,\"#7201a8\"],[0.3333333333333333,\"#9c179e\"],[0.4444444444444444,\"#bd3786\"],[0.5555555555555556,\"#d8576b\"],[0.6666666666666666,\"#ed7953\"],[0.7777777777777778,\"#fb9f3a\"],[0.8888888888888888,\"#fdca26\"],[1.0,\"#f0f921\"]],\"diverging\":[[0,\"#8e0152\"],[0.1,\"#c51b7d\"],[0.2,\"#de77ae\"],[0.3,\"#f1b6da\"],[0.4,\"#fde0ef\"],[0.5,\"#f7f7f7\"],[0.6,\"#e6f5d0\"],[0.7,\"#b8e186\"],[0.8,\"#7fbc41\"],[0.9,\"#4d9221\"],[1,\"#276419\"]]},\"xaxis\":{\"gridcolor\":\"white\",\"linecolor\":\"white\",\"ticks\":\"\",\"title\":{\"standoff\":15},\"zerolinecolor\":\"white\",\"automargin\":true,\"zerolinewidth\":2},\"yaxis\":{\"gridcolor\":\"white\",\"linecolor\":\"white\",\"ticks\":\"\",\"title\":{\"standoff\":15},\"zerolinecolor\":\"white\",\"automargin\":true,\"zerolinewidth\":2},\"scene\":{\"xaxis\":{\"backgroundcolor\":\"#E5ECF6\",\"gridcolor\":\"white\",\"linecolor\":\"white\",\"showbackground\":true,\"ticks\":\"\",\"zerolinecolor\":\"white\",\"gridwidth\":2},\"yaxis\":{\"backgroundcolor\":\"#E5ECF6\",\"gridcolor\":\"white\",\"linecolor\":\"white\",\"showbackground\":true,\"ticks\":\"\",\"zerolinecolor\":\"white\",\"gridwidth\":2},\"zaxis\":{\"backgroundcolor\":\"#E5ECF6\",\"gridcolor\":\"white\",\"linecolor\":\"white\",\"showbackground\":true,\"ticks\":\"\",\"zerolinecolor\":\"white\",\"gridwidth\":2}},\"shapedefaults\":{\"line\":{\"color\":\"#2a3f5f\"}},\"annotationdefaults\":{\"arrowcolor\":\"#2a3f5f\",\"arrowhead\":0,\"arrowwidth\":1},\"geo\":{\"bgcolor\":\"white\",\"landcolor\":\"#E5ECF6\",\"subunitcolor\":\"white\",\"showland\":true,\"showlakes\":true,\"lakecolor\":\"white\"},\"title\":{\"x\":0.05},\"mapbox\":{\"style\":\"light\"}}},\"xaxis\":{\"anchor\":\"y\",\"domain\":[0.0,1.0],\"title\":{\"text\":\"Diabetes Diagnosis (0 = No, 1 = Yes)\"},\"categoryorder\":\"array\",\"categoryarray\":[0,1]},\"yaxis\":{\"anchor\":\"x\",\"domain\":[0.0,1.0],\"title\":{\"text\":\"Glucose Level (mg\\u002fdL)\"},\"showgrid\":true,\"gridwidth\":1,\"gridcolor\":\"LightGrey\"},\"legend\":{\"title\":{\"text\":\"Diabetes Diagnosis (0 = No, 1 = Yes)\"},\"tracegroupgap\":0},\"title\":{\"text\":\"\\u003cb\\u003eGlucose Level Distribution: Diabetes vs Non-Diabetes\\u003c\\u002fb\\u003e\\u003cbr\\u003e\\u003csup\\u003eThe Primary Diagnostic Differentiator\\u003c\\u002fsup\\u003e\"},\"boxmode\":\"overlay\",\"showlegend\":false,\"plot_bgcolor\":\"white\"},                        {\"responsive\": true}                    ).then(function(){\n",
              "                            \n",
              "var gd = document.getElementById('ee30a439-05c9-41a6-8a6e-de5716b1bad7');\n",
              "var x = new MutationObserver(function (mutations, observer) {{\n",
              "        var display = window.getComputedStyle(gd).display;\n",
              "        if (!display || display === 'none') {{\n",
              "            console.log([gd, 'removed!']);\n",
              "            Plotly.purge(gd);\n",
              "            observer.disconnect();\n",
              "        }}\n",
              "}});\n",
              "\n",
              "// Listen for the removal of the full notebook cells\n",
              "var notebookContainer = gd.closest('#notebook-container');\n",
              "if (notebookContainer) {{\n",
              "    x.observe(notebookContainer, {childList: true});\n",
              "}}\n",
              "\n",
              "// Listen for the clearing of the current output cell\n",
              "var outputEl = gd.closest('.output');\n",
              "if (outputEl) {{\n",
              "    x.observe(outputEl, {childList: true});\n",
              "}}\n",
              "\n",
              "                        })                };                });            </script>        </div>"
            ]
          },
          "metadata": {}
        }
      ]
    },
    {
      "cell_type": "markdown",
      "source": [
        "This chart shows a very clear difference: people with diabetes have much higher sugar levels in their blood than people without diabetes. The boxes don't even overlap much, which proves that checking sugar levels is a very reliable way to diagnose diabetes. The higher and wider box for the diabetic group means they not only have higher average sugar levels, but also more variation from person to person. This graph confirms that the blood sugar test is an excellent and trusted tool for doctors to identify diabetes."
      ],
      "metadata": {
        "id": "TdKshpuUPaOE"
      }
    },
    {
      "cell_type": "code",
      "source": [
        "fig2 = px.box(df_clean,\n",
        "             x='Outcome',\n",
        "             y='BMI',\n",
        "             color='Outcome',\n",
        "             title='<b>BMI Distribution by Diabetes Diagnosis</b><br><sup>Assessing Obesity as a Major Risk Factor</sup>',\n",
        "             labels={'Outcome': 'Diabetes Diagnosis', 'BMI': 'Body Mass Index'},\n",
        "             category_orders={'Outcome': [0, 1]},\n",
        "             color_discrete_map={0: '#1f77b4', 1: '#d62728'},\n",
        "             notched=True\n",
        "            )\n",
        "fig2.update_layout(showlegend=False, plot_bgcolor='white')\n",
        "fig2.update_yaxes(showgrid=True, gridwidth=1, gridcolor='LightGrey')\n",
        "fig2.show()"
      ],
      "metadata": {
        "colab": {
          "base_uri": "https://localhost:8080/",
          "height": 542
        },
        "id": "66mOOAgoOYm5",
        "outputId": "8c970b6b-4562-4c49-cc35-51112c407d7b"
      },
      "execution_count": 110,
      "outputs": [
        {
          "output_type": "display_data",
          "data": {
            "text/html": [
              "<div>                            <div id=\"272db098-fa45-4b5f-9fa8-85d2bc94cc93\" class=\"plotly-graph-div\" style=\"height:525px; width:100%;\"></div>            <script type=\"text/javascript\">                require([\"plotly\"], function(Plotly) {                    window.PLOTLYENV=window.PLOTLYENV || {};                                    if (document.getElementById(\"272db098-fa45-4b5f-9fa8-85d2bc94cc93\")) {                    Plotly.newPlot(                        \"272db098-fa45-4b5f-9fa8-85d2bc94cc93\",                        [{\"alignmentgroup\":\"True\",\"hovertemplate\":\"Diabetes Diagnosis=%{x}\\u003cbr\\u003eBody Mass Index=%{y}\\u003cextra\\u003e\\u003c\\u002fextra\\u003e\",\"legendgroup\":\"0.0\",\"marker\":{\"color\":\"#1f77b4\"},\"name\":\"0.0\",\"notched\":true,\"offsetgroup\":\"0.0\",\"orientation\":\"v\",\"showlegend\":true,\"x\":[0.0,0.0,0.0,0.0,0.0,0.0,0.0,0.0,0.0,0.0,0.0,0.0,0.0,0.0,0.0,0.0,0.0,0.0,0.0,0.0,0.0,0.0,0.0,0.0,0.0,0.0,0.0,0.0,0.0,0.0,0.0,0.0,0.0,0.0,0.0,0.0,0.0,0.0,0.0,0.0,0.0,0.0,0.0,0.0,0.0,0.0,0.0,0.0,0.0,0.0,0.0,0.0,0.0,0.0,0.0,0.0,0.0,0.0,0.0,0.0,0.0,0.0,0.0,0.0,0.0,0.0,0.0,0.0,0.0,0.0,0.0,0.0,0.0,0.0,0.0,0.0,0.0,0.0,0.0,0.0,0.0,0.0,0.0,0.0,0.0,0.0,0.0,0.0,0.0,0.0,0.0,0.0,0.0,0.0,0.0,0.0,0.0,0.0,0.0,0.0,0.0,0.0,0.0,0.0,0.0,0.0,0.0,0.0,0.0,0.0,0.0,0.0,0.0,0.0,0.0,0.0,0.0,0.0,0.0,0.0,0.0,0.0,0.0,0.0,0.0,0.0,0.0,0.0,0.0,0.0,0.0,0.0,0.0,0.0,0.0,0.0,0.0,0.0,0.0,0.0,0.0,0.0,0.0,0.0,0.0,0.0,0.0,0.0,0.0,0.0,0.0,0.0,0.0,0.0,0.0,0.0,0.0,0.0,0.0,0.0,0.0,0.0,0.0,0.0,0.0,0.0,0.0,0.0,0.0,0.0,0.0,0.0,0.0,0.0,0.0,0.0,0.0,0.0,0.0,0.0,0.0,0.0,0.0,0.0,0.0,0.0,0.0,0.0,0.0,0.0,0.0,0.0,0.0,0.0,0.0,0.0,0.0,0.0,0.0,0.0,0.0,0.0,0.0,0.0,0.0,0.0,0.0,0.0,0.0,0.0,0.0,0.0,0.0,0.0,0.0,0.0,0.0,0.0,0.0,0.0,0.0,0.0,0.0,0.0,0.0,0.0,0.0,0.0,0.0,0.0,0.0,0.0,0.0,0.0,0.0,0.0,0.0,0.0,0.0,0.0,0.0,0.0,0.0,0.0,0.0,0.0,0.0,0.0,0.0,0.0,0.0,0.0,0.0,0.0,0.0,0.0,0.0,0.0,0.0,0.0,0.0,0.0,0.0,0.0,0.0,0.0,0.0,0.0,0.0,0.0,0.0,0.0,0.0,0.0,0.0,0.0,0.0,0.0,0.0,0.0,0.0,0.0,0.0,0.0,0.0,0.0,0.0,0.0,0.0,0.0,0.0,0.0,0.0,0.0,0.0,0.0,0.0,0.0,0.0,0.0,0.0,0.0,0.0,0.0,0.0,0.0,0.0,0.0,0.0,0.0,0.0,0.0,0.0,0.0,0.0,0.0,0.0,0.0,0.0,0.0,0.0,0.0,0.0,0.0,0.0,0.0,0.0,0.0,0.0,0.0,0.0,0.0,0.0,0.0,0.0,0.0,0.0,0.0,0.0,0.0,0.0,0.0,0.0,0.0,0.0,0.0,0.0,0.0,0.0,0.0,0.0,0.0,0.0,0.0,0.0,0.0,0.0,0.0,0.0,0.0,0.0,0.0,0.0,0.0,0.0,0.0,0.0,0.0,0.0,0.0,0.0,0.0,0.0,0.0,0.0,0.0,0.0,0.0,0.0,0.0,0.0,0.0,0.0,0.0,0.0,0.0,0.0,0.0,0.0,0.0,0.0,0.0,0.0,0.0,0.0,0.0,0.0,0.0,0.0,0.0,0.0,0.0,0.0,0.0,0.0,0.0,0.0,0.0,0.0,0.0,0.0,0.0,0.0,0.0,0.0,0.0,0.0,0.0,0.0,0.0,0.0,0.0,0.0,0.0,0.0,0.0,0.0,0.0,0.0,0.0,0.0,0.0,0.0,0.0,0.0,0.0,0.0,0.0,0.0,0.0,0.0,0.0,0.0,0.0,0.0,0.0,0.0,0.0,0.0,0.0,0.0,0.0,0.0,0.0,0.0,0.0,0.0,0.0,0.0,0.0,0.0,0.0,0.0,0.0,0.0,0.0,0.0,0.0,0.0,0.0,0.0,0.0,0.0,0.0,0.0,0.0,0.0,0.0,0.0,0.0,0.0,0.0,0.0,0.0,0.0,0.0,0.0,0.0,0.0,0.0,0.0,0.0,0.0,0.0,0.0,0.0,0.0,0.0,0.0,0.0],\"x0\":\" \",\"xaxis\":\"x\",\"y\":[26.6,28.1,25.6,35.3,37.6,27.1,43.3,39.3,35.4,23.2,22.2,34.1,36.0,24.8,19.9,27.6,24.0,33.2,34.0,40.2,22.7,27.4,29.7,28.0,32.0,19.4,24.2,24.4,34.7,23.0,46.8,40.5,41.5,32.0,25.0,25.4,29.0,42.7,19.6,28.9,28.6,35.1,32.0,24.7,32.6,37.7,25.0,22.4,32.0,29.3,24.6,32.4,36.6,38.5,26.5,19.1,32.0,46.7,24.7,33.9,31.6,20.4,28.7,26.1,22.5,26.6,39.6,28.7,22.4,29.5,34.3,31.2,34.0,33.7,28.2,23.2,34.2,33.6,26.8,42.9,33.3,38.3,21.1,33.8,30.8,28.7,31.2,36.9,21.1,39.5,32.5,32.8,32.0,32.8,30.5,33.7,27.3,37.4,21.9,40.6,24.6,25.2,29.0,29.7,37.2,44.2,29.7,32.5,29.6,31.9,28.4,28.9,43.5,29.7,31.2,45.0,23.2,34.9,27.7,26.8,27.6,22.6,33.1,24.4,24.3,31.0,40.1,27.3,20.4,37.7,23.9,33.2,27.7,42.8,34.2,30.0,25.2,28.8,23.6,34.6,35.7,36.7,45.2,25.4,35.0,29.7,18.4,29.2,33.1,38.2,31.2,32.0,35.4,30.1,31.2,28.0,24.4,35.8,30.1,28.7,25.9,30.9,32.1,32.4,33.6,40.0,25.1,25.2,23.0,33.2,34.2,40.5,27.8,24.9,25.3,35.9,32.4,26.0,38.7,20.8,36.1,36.9,21.9,35.5,30.7,23.6,35.8,21.0,39.7,24.8,26.2,39.4,29.5,34.1,19.3,38.1,27.5,35.7,25.6,35.1,30.8,23.1,32.7,23.6,23.9,47.9,33.8,25.9,25.9,32.0,34.7,36.8,38.5,28.7,23.5,21.8,42.2,31.2,34.4,27.2,42.7,35.3,29.8,39.2,34.9,34.0,21.0,27.5,32.0,35.8,34.9,36.2,25.2,37.2,43.4,30.8,20.0,25.4,25.1,24.3,22.3,31.6,32.0,23.7,22.1,27.7,24.7,21.1,24.2,31.6,42.1,21.9,35.7,34.4,42.4,26.2,27.2,18.2,45.3,26.0,40.6,30.8,32.0,40.6,22.2,30.4,30.0,25.6,24.5,37.4,29.9,18.2,36.8,32.2,33.2,25.3,36.5,30.5,21.2,39.9,19.6,37.8,26.7,30.2,25.9,20.8,21.8,35.3,27.6,24.0,21.8,27.8,36.8,46.1,41.3,33.2,38.8,29.9,28.9,27.3,23.8,25.9,28.0,35.2,27.8,38.2,40.7,46.5,25.6,26.1,36.8,33.5,32.8,32.0,26.6,26.0,30.1,29.3,25.2,37.2,33.3,37.3,33.3,28.6,30.4,25.0,22.1,24.2,27.3,25.6,37.6,32.8,19.6,25.0,33.2,32.0,31.6,21.8,18.2,26.3,30.8,24.6,29.8,45.3,41.3,29.8,33.3,29.6,21.7,36.3,39.5,32.0,33.1,32.8,28.5,27.4,31.9,27.8,29.9,36.9,25.5,38.1,27.8,46.2,30.1,37.6,26.9,32.4,26.1,38.6,32.0,31.3,32.5,22.6,29.5,34.7,30.1,35.5,24.0,27.0,25.0,26.5,38.7,22.5,24.3,21.1,39.4,28.5,33.6,45.3,27.8,23.1,27.1,23.7,27.8,35.8,19.5,41.5,24.0,30.9,32.5,25.8,28.7,20.1,38.4,24.2,40.8,43.5,30.8,37.7,24.7,32.4,34.6,24.7,34.5,26.2,27.5,25.9,28.8,31.6,19.5,29.3,34.3,28.0,27.6,39.4,26.4,25.2,33.8,34.1,26.8,34.2,21.8,38.9,39.0,27.7,34.8,34.0,30.9,33.6,25.4,35.5,32.0,35.6,35.3,24.2,24.2,44.6,32.0,33.2,23.1,28.3,24.1,24.6,39.1,23.5,25.0,34.5,44.5,35.9,38.5,28.4,39.8,34.4,31.2,29.6,26.4,29.5,23.1,35.5,29.3,38.1,39.1,32.8,39.4,36.1,32.4,22.9,30.1,29.0,23.3,35.4,27.4,32.0,36.6,30.8,28.5,40.6,30.0,46.3,39.0,26.0,32.0,37.5,28.4,22.5,32.9,36.8,26.2,30.4],\"y0\":\" \",\"yaxis\":\"y\",\"type\":\"box\"},{\"alignmentgroup\":\"True\",\"hovertemplate\":\"Diabetes Diagnosis=%{x}\\u003cbr\\u003eBody Mass Index=%{y}\\u003cextra\\u003e\\u003c\\u002fextra\\u003e\",\"legendgroup\":\"1.0\",\"marker\":{\"color\":\"#d62728\"},\"name\":\"1.0\",\"notched\":true,\"offsetgroup\":\"1.0\",\"orientation\":\"v\",\"showlegend\":true,\"x\":[1.0,1.0,1.0,1.0,1.0,1.0,1.0,1.0,1.0,1.0,1.0,1.0,1.0,1.0,1.0,1.0,1.0,1.0,1.0,1.0,1.0,1.0,1.0,1.0,1.0,1.0,1.0,1.0,1.0,1.0,1.0,1.0,1.0,1.0,1.0,1.0,1.0,1.0,1.0,1.0,1.0,1.0,1.0,1.0,1.0,1.0,1.0,1.0,1.0,1.0,1.0,1.0,1.0,1.0,1.0,1.0,1.0,1.0,1.0,1.0,1.0,1.0,1.0,1.0,1.0,1.0,1.0,1.0,1.0,1.0,1.0,1.0,1.0,1.0,1.0,1.0,1.0,1.0,1.0,1.0,1.0,1.0,1.0,1.0,1.0,1.0,1.0,1.0,1.0,1.0,1.0,1.0,1.0,1.0,1.0,1.0,1.0,1.0,1.0,1.0,1.0,1.0,1.0,1.0,1.0,1.0,1.0,1.0,1.0,1.0,1.0,1.0,1.0,1.0,1.0,1.0,1.0,1.0,1.0,1.0,1.0,1.0,1.0,1.0,1.0,1.0,1.0,1.0,1.0,1.0,1.0,1.0,1.0,1.0,1.0,1.0,1.0,1.0,1.0,1.0,1.0,1.0,1.0,1.0,1.0,1.0,1.0,1.0,1.0,1.0,1.0,1.0,1.0,1.0,1.0,1.0,1.0,1.0,1.0,1.0,1.0,1.0,1.0,1.0,1.0,1.0,1.0,1.0,1.0,1.0,1.0,1.0,1.0,1.0,1.0,1.0,1.0,1.0,1.0,1.0,1.0,1.0,1.0,1.0,1.0,1.0,1.0,1.0,1.0,1.0,1.0,1.0,1.0,1.0,1.0,1.0,1.0,1.0,1.0,1.0,1.0,1.0,1.0,1.0,1.0,1.0,1.0,1.0,1.0,1.0,1.0,1.0,1.0,1.0,1.0,1.0,1.0,1.0,1.0,1.0,1.0,1.0,1.0,1.0,1.0,1.0,1.0,1.0,1.0,1.0,1.0,1.0,1.0,1.0,1.0,1.0,1.0,1.0,1.0,1.0,1.0,1.0,1.0,1.0,1.0,1.0,1.0,1.0,1.0,1.0,1.0,1.0,1.0,1.0,1.0,1.0,1.0,1.0,1.0,1.0,1.0,1.0,1.0,1.0,1.0,1.0,1.0,1.0],\"x0\":\" \",\"xaxis\":\"x\",\"y\":[33.6,23.3,43.1,31.0,30.5,32.0,38.0,30.1,25.8,30.0,45.8,29.6,34.6,39.8,29.0,36.6,31.1,39.4,31.6,32.9,38.2,37.1,45.4,42.0,39.1,33.7,37.7,32.9,32.8,32.5,32.9,43.4,43.2,48.8,37.1,23.8,49.7,39.0,37.4,33.3,34.0,30.5,31.2,34.0,32.0,33.3,32.0,34.5,27.9,29.7,33.3,34.5,32.4,34.3,47.9,50.0,40.9,31.6,29.9,30.8,35.4,32.7,32.0,39.1,35.9,30.1,32.0,27.9,31.6,30.4,32.0,39.4,22.9,34.8,30.9,37.5,37.7,35.5,42.6,34.2,41.8,35.8,29.0,37.8,34.6,31.6,37.2,44.0,46.2,43.6,35.9,44.1,30.8,25.6,27.1,30.0,27.6,33.6,33.3,30.0,32.0,36.3,27.5,45.6,26.5,37.9,30.4,27.0,45.6,36.6,43.3,40.5,28.0,36.6,32.3,31.6,32.0,25.5,30.5,32.9,26.6,35.9,30.5,23.5,31.6,27.4,26.8,35.1,45.5,43.3,31.2,34.2,39.9,41.0,30.4,33.3,39.9,36.5,31.2,38.5,27.6,32.8,38.4,39.2,48.3,32.3,43.3,32.0,45.7,32.9,34.3,34.9,32.0,35.0,32.9,28.9,25.9,42.4,34.6,35.7,38.5,26.4,42.9,37.0,34.1,35.0,42.4,34.3,30.5,29.7,32.0,33.6,28.9,33.6,37.6,30.0,33.7,35.5,44.2,42.3,28.9,25.1,39.0,36.5,29.7,31.6,30.3,34.2,32.9,36.4,39.4,32.4,34.9,34.5,43.6,33.8,41.3,34.3,42.9,34.7,42.1,28.7,34.9,33.3,46.8,34.4,32.0,36.8,35.2,28.4,40.0,32.9,38.2,36.1,28.2,32.4,27.4,31.2,40.9,29.5,23.4,37.8,28.3,38.7,34.2,42.9,37.6,37.9,33.7,32.5,27.5,30.9,24.8,36.0,49.6,32.3,46.1,42.3,38.5,30.4,29.9,27.6,35.0,32.0,32.8,38.0,41.2,33.9,33.8,35.6,29.3,28.4,28.4,44.5,39.5,42.3,32.7,49.3,36.4,24.3,31.2,43.3,32.4,36.5,36.3,35.5,44.0,30.1],\"y0\":\" \",\"yaxis\":\"y\",\"type\":\"box\"}],                        {\"template\":{\"data\":{\"histogram2dcontour\":[{\"type\":\"histogram2dcontour\",\"colorbar\":{\"outlinewidth\":0,\"ticks\":\"\"},\"colorscale\":[[0.0,\"#0d0887\"],[0.1111111111111111,\"#46039f\"],[0.2222222222222222,\"#7201a8\"],[0.3333333333333333,\"#9c179e\"],[0.4444444444444444,\"#bd3786\"],[0.5555555555555556,\"#d8576b\"],[0.6666666666666666,\"#ed7953\"],[0.7777777777777778,\"#fb9f3a\"],[0.8888888888888888,\"#fdca26\"],[1.0,\"#f0f921\"]]}],\"choropleth\":[{\"type\":\"choropleth\",\"colorbar\":{\"outlinewidth\":0,\"ticks\":\"\"}}],\"histogram2d\":[{\"type\":\"histogram2d\",\"colorbar\":{\"outlinewidth\":0,\"ticks\":\"\"},\"colorscale\":[[0.0,\"#0d0887\"],[0.1111111111111111,\"#46039f\"],[0.2222222222222222,\"#7201a8\"],[0.3333333333333333,\"#9c179e\"],[0.4444444444444444,\"#bd3786\"],[0.5555555555555556,\"#d8576b\"],[0.6666666666666666,\"#ed7953\"],[0.7777777777777778,\"#fb9f3a\"],[0.8888888888888888,\"#fdca26\"],[1.0,\"#f0f921\"]]}],\"heatmap\":[{\"type\":\"heatmap\",\"colorbar\":{\"outlinewidth\":0,\"ticks\":\"\"},\"colorscale\":[[0.0,\"#0d0887\"],[0.1111111111111111,\"#46039f\"],[0.2222222222222222,\"#7201a8\"],[0.3333333333333333,\"#9c179e\"],[0.4444444444444444,\"#bd3786\"],[0.5555555555555556,\"#d8576b\"],[0.6666666666666666,\"#ed7953\"],[0.7777777777777778,\"#fb9f3a\"],[0.8888888888888888,\"#fdca26\"],[1.0,\"#f0f921\"]]}],\"heatmapgl\":[{\"type\":\"heatmapgl\",\"colorbar\":{\"outlinewidth\":0,\"ticks\":\"\"},\"colorscale\":[[0.0,\"#0d0887\"],[0.1111111111111111,\"#46039f\"],[0.2222222222222222,\"#7201a8\"],[0.3333333333333333,\"#9c179e\"],[0.4444444444444444,\"#bd3786\"],[0.5555555555555556,\"#d8576b\"],[0.6666666666666666,\"#ed7953\"],[0.7777777777777778,\"#fb9f3a\"],[0.8888888888888888,\"#fdca26\"],[1.0,\"#f0f921\"]]}],\"contourcarpet\":[{\"type\":\"contourcarpet\",\"colorbar\":{\"outlinewidth\":0,\"ticks\":\"\"}}],\"contour\":[{\"type\":\"contour\",\"colorbar\":{\"outlinewidth\":0,\"ticks\":\"\"},\"colorscale\":[[0.0,\"#0d0887\"],[0.1111111111111111,\"#46039f\"],[0.2222222222222222,\"#7201a8\"],[0.3333333333333333,\"#9c179e\"],[0.4444444444444444,\"#bd3786\"],[0.5555555555555556,\"#d8576b\"],[0.6666666666666666,\"#ed7953\"],[0.7777777777777778,\"#fb9f3a\"],[0.8888888888888888,\"#fdca26\"],[1.0,\"#f0f921\"]]}],\"surface\":[{\"type\":\"surface\",\"colorbar\":{\"outlinewidth\":0,\"ticks\":\"\"},\"colorscale\":[[0.0,\"#0d0887\"],[0.1111111111111111,\"#46039f\"],[0.2222222222222222,\"#7201a8\"],[0.3333333333333333,\"#9c179e\"],[0.4444444444444444,\"#bd3786\"],[0.5555555555555556,\"#d8576b\"],[0.6666666666666666,\"#ed7953\"],[0.7777777777777778,\"#fb9f3a\"],[0.8888888888888888,\"#fdca26\"],[1.0,\"#f0f921\"]]}],\"mesh3d\":[{\"type\":\"mesh3d\",\"colorbar\":{\"outlinewidth\":0,\"ticks\":\"\"}}],\"scatter\":[{\"fillpattern\":{\"fillmode\":\"overlay\",\"size\":10,\"solidity\":0.2},\"type\":\"scatter\"}],\"parcoords\":[{\"type\":\"parcoords\",\"line\":{\"colorbar\":{\"outlinewidth\":0,\"ticks\":\"\"}}}],\"scatterpolargl\":[{\"type\":\"scatterpolargl\",\"marker\":{\"colorbar\":{\"outlinewidth\":0,\"ticks\":\"\"}}}],\"bar\":[{\"error_x\":{\"color\":\"#2a3f5f\"},\"error_y\":{\"color\":\"#2a3f5f\"},\"marker\":{\"line\":{\"color\":\"#E5ECF6\",\"width\":0.5},\"pattern\":{\"fillmode\":\"overlay\",\"size\":10,\"solidity\":0.2}},\"type\":\"bar\"}],\"scattergeo\":[{\"type\":\"scattergeo\",\"marker\":{\"colorbar\":{\"outlinewidth\":0,\"ticks\":\"\"}}}],\"scatterpolar\":[{\"type\":\"scatterpolar\",\"marker\":{\"colorbar\":{\"outlinewidth\":0,\"ticks\":\"\"}}}],\"histogram\":[{\"marker\":{\"pattern\":{\"fillmode\":\"overlay\",\"size\":10,\"solidity\":0.2}},\"type\":\"histogram\"}],\"scattergl\":[{\"type\":\"scattergl\",\"marker\":{\"colorbar\":{\"outlinewidth\":0,\"ticks\":\"\"}}}],\"scatter3d\":[{\"type\":\"scatter3d\",\"line\":{\"colorbar\":{\"outlinewidth\":0,\"ticks\":\"\"}},\"marker\":{\"colorbar\":{\"outlinewidth\":0,\"ticks\":\"\"}}}],\"scattermapbox\":[{\"type\":\"scattermapbox\",\"marker\":{\"colorbar\":{\"outlinewidth\":0,\"ticks\":\"\"}}}],\"scatterternary\":[{\"type\":\"scatterternary\",\"marker\":{\"colorbar\":{\"outlinewidth\":0,\"ticks\":\"\"}}}],\"scattercarpet\":[{\"type\":\"scattercarpet\",\"marker\":{\"colorbar\":{\"outlinewidth\":0,\"ticks\":\"\"}}}],\"carpet\":[{\"aaxis\":{\"endlinecolor\":\"#2a3f5f\",\"gridcolor\":\"white\",\"linecolor\":\"white\",\"minorgridcolor\":\"white\",\"startlinecolor\":\"#2a3f5f\"},\"baxis\":{\"endlinecolor\":\"#2a3f5f\",\"gridcolor\":\"white\",\"linecolor\":\"white\",\"minorgridcolor\":\"white\",\"startlinecolor\":\"#2a3f5f\"},\"type\":\"carpet\"}],\"table\":[{\"cells\":{\"fill\":{\"color\":\"#EBF0F8\"},\"line\":{\"color\":\"white\"}},\"header\":{\"fill\":{\"color\":\"#C8D4E3\"},\"line\":{\"color\":\"white\"}},\"type\":\"table\"}],\"barpolar\":[{\"marker\":{\"line\":{\"color\":\"#E5ECF6\",\"width\":0.5},\"pattern\":{\"fillmode\":\"overlay\",\"size\":10,\"solidity\":0.2}},\"type\":\"barpolar\"}],\"pie\":[{\"automargin\":true,\"type\":\"pie\"}]},\"layout\":{\"autotypenumbers\":\"strict\",\"colorway\":[\"#636efa\",\"#EF553B\",\"#00cc96\",\"#ab63fa\",\"#FFA15A\",\"#19d3f3\",\"#FF6692\",\"#B6E880\",\"#FF97FF\",\"#FECB52\"],\"font\":{\"color\":\"#2a3f5f\"},\"hovermode\":\"closest\",\"hoverlabel\":{\"align\":\"left\"},\"paper_bgcolor\":\"white\",\"plot_bgcolor\":\"#E5ECF6\",\"polar\":{\"bgcolor\":\"#E5ECF6\",\"angularaxis\":{\"gridcolor\":\"white\",\"linecolor\":\"white\",\"ticks\":\"\"},\"radialaxis\":{\"gridcolor\":\"white\",\"linecolor\":\"white\",\"ticks\":\"\"}},\"ternary\":{\"bgcolor\":\"#E5ECF6\",\"aaxis\":{\"gridcolor\":\"white\",\"linecolor\":\"white\",\"ticks\":\"\"},\"baxis\":{\"gridcolor\":\"white\",\"linecolor\":\"white\",\"ticks\":\"\"},\"caxis\":{\"gridcolor\":\"white\",\"linecolor\":\"white\",\"ticks\":\"\"}},\"coloraxis\":{\"colorbar\":{\"outlinewidth\":0,\"ticks\":\"\"}},\"colorscale\":{\"sequential\":[[0.0,\"#0d0887\"],[0.1111111111111111,\"#46039f\"],[0.2222222222222222,\"#7201a8\"],[0.3333333333333333,\"#9c179e\"],[0.4444444444444444,\"#bd3786\"],[0.5555555555555556,\"#d8576b\"],[0.6666666666666666,\"#ed7953\"],[0.7777777777777778,\"#fb9f3a\"],[0.8888888888888888,\"#fdca26\"],[1.0,\"#f0f921\"]],\"sequentialminus\":[[0.0,\"#0d0887\"],[0.1111111111111111,\"#46039f\"],[0.2222222222222222,\"#7201a8\"],[0.3333333333333333,\"#9c179e\"],[0.4444444444444444,\"#bd3786\"],[0.5555555555555556,\"#d8576b\"],[0.6666666666666666,\"#ed7953\"],[0.7777777777777778,\"#fb9f3a\"],[0.8888888888888888,\"#fdca26\"],[1.0,\"#f0f921\"]],\"diverging\":[[0,\"#8e0152\"],[0.1,\"#c51b7d\"],[0.2,\"#de77ae\"],[0.3,\"#f1b6da\"],[0.4,\"#fde0ef\"],[0.5,\"#f7f7f7\"],[0.6,\"#e6f5d0\"],[0.7,\"#b8e186\"],[0.8,\"#7fbc41\"],[0.9,\"#4d9221\"],[1,\"#276419\"]]},\"xaxis\":{\"gridcolor\":\"white\",\"linecolor\":\"white\",\"ticks\":\"\",\"title\":{\"standoff\":15},\"zerolinecolor\":\"white\",\"automargin\":true,\"zerolinewidth\":2},\"yaxis\":{\"gridcolor\":\"white\",\"linecolor\":\"white\",\"ticks\":\"\",\"title\":{\"standoff\":15},\"zerolinecolor\":\"white\",\"automargin\":true,\"zerolinewidth\":2},\"scene\":{\"xaxis\":{\"backgroundcolor\":\"#E5ECF6\",\"gridcolor\":\"white\",\"linecolor\":\"white\",\"showbackground\":true,\"ticks\":\"\",\"zerolinecolor\":\"white\",\"gridwidth\":2},\"yaxis\":{\"backgroundcolor\":\"#E5ECF6\",\"gridcolor\":\"white\",\"linecolor\":\"white\",\"showbackground\":true,\"ticks\":\"\",\"zerolinecolor\":\"white\",\"gridwidth\":2},\"zaxis\":{\"backgroundcolor\":\"#E5ECF6\",\"gridcolor\":\"white\",\"linecolor\":\"white\",\"showbackground\":true,\"ticks\":\"\",\"zerolinecolor\":\"white\",\"gridwidth\":2}},\"shapedefaults\":{\"line\":{\"color\":\"#2a3f5f\"}},\"annotationdefaults\":{\"arrowcolor\":\"#2a3f5f\",\"arrowhead\":0,\"arrowwidth\":1},\"geo\":{\"bgcolor\":\"white\",\"landcolor\":\"#E5ECF6\",\"subunitcolor\":\"white\",\"showland\":true,\"showlakes\":true,\"lakecolor\":\"white\"},\"title\":{\"x\":0.05},\"mapbox\":{\"style\":\"light\"}}},\"xaxis\":{\"anchor\":\"y\",\"domain\":[0.0,1.0],\"title\":{\"text\":\"Diabetes Diagnosis\"},\"categoryorder\":\"array\",\"categoryarray\":[0,1]},\"yaxis\":{\"anchor\":\"x\",\"domain\":[0.0,1.0],\"title\":{\"text\":\"Body Mass Index\"},\"showgrid\":true,\"gridwidth\":1,\"gridcolor\":\"LightGrey\"},\"legend\":{\"title\":{\"text\":\"Diabetes Diagnosis\"},\"tracegroupgap\":0},\"title\":{\"text\":\"\\u003cb\\u003eBMI Distribution by Diabetes Diagnosis\\u003c\\u002fb\\u003e\\u003cbr\\u003e\\u003csup\\u003eAssessing Obesity as a Major Risk Factor\\u003c\\u002fsup\\u003e\"},\"boxmode\":\"overlay\",\"showlegend\":false,\"plot_bgcolor\":\"white\"},                        {\"responsive\": true}                    ).then(function(){\n",
              "                            \n",
              "var gd = document.getElementById('272db098-fa45-4b5f-9fa8-85d2bc94cc93');\n",
              "var x = new MutationObserver(function (mutations, observer) {{\n",
              "        var display = window.getComputedStyle(gd).display;\n",
              "        if (!display || display === 'none') {{\n",
              "            console.log([gd, 'removed!']);\n",
              "            Plotly.purge(gd);\n",
              "            observer.disconnect();\n",
              "        }}\n",
              "}});\n",
              "\n",
              "// Listen for the removal of the full notebook cells\n",
              "var notebookContainer = gd.closest('#notebook-container');\n",
              "if (notebookContainer) {{\n",
              "    x.observe(notebookContainer, {childList: true});\n",
              "}}\n",
              "\n",
              "// Listen for the clearing of the current output cell\n",
              "var outputEl = gd.closest('.output');\n",
              "if (outputEl) {{\n",
              "    x.observe(outputEl, {childList: true});\n",
              "}}\n",
              "\n",
              "                        })                };                });            </script>        </div>"
            ]
          },
          "metadata": {}
        }
      ]
    },
    {
      "cell_type": "markdown",
      "source": [
        "This chart shows that people with diabetes tend to be heavier, with a higher average BMI, than people without diabetes. The weight among diabetic patients is also much more varied, with some being very heavy and others closer to normal. This proves that being overweight is a major risk factor for developing diabetes. The clear difference between the two groups shows why managing your weight is a key part of both preventing and treating this disease.\n",
        "\n"
      ],
      "metadata": {
        "id": "xkP_JwOBP00B"
      }
    },
    {
      "cell_type": "code",
      "source": [
        "fig3 = px.box(df_clean,\n",
        "             x='Outcome',\n",
        "             y='Age',\n",
        "             color='Outcome',\n",
        "             title='<b>Age Distribution by Diabetes Diagnosis</b><br><sup>Understanding Age-Related Risk Patterns</sup>',\n",
        "             labels={'Outcome': 'Diabetes Diagnosis', 'Age': 'Age (years)'},\n",
        "             category_orders={'Outcome': [0, 1]},\n",
        "             color_discrete_map={0: '#1f77b4', 1: '#d62728'},\n",
        "             notched=True\n",
        "            )\n",
        "fig3.update_layout(showlegend=False, plot_bgcolor='white')\n",
        "fig3.update_yaxes(showgrid=True, gridwidth=1, gridcolor='LightGrey')\n",
        "fig3.show()"
      ],
      "metadata": {
        "colab": {
          "base_uri": "https://localhost:8080/",
          "height": 542
        },
        "id": "6VBVoZ7vO4Jx",
        "outputId": "79311041-e84a-48bf-c42c-fe60c448cec2"
      },
      "execution_count": 111,
      "outputs": [
        {
          "output_type": "display_data",
          "data": {
            "text/html": [
              "<div>                            <div id=\"bd3677a3-b05e-4b91-8b1b-48c9e2be7f35\" class=\"plotly-graph-div\" style=\"height:525px; width:100%;\"></div>            <script type=\"text/javascript\">                require([\"plotly\"], function(Plotly) {                    window.PLOTLYENV=window.PLOTLYENV || {};                                    if (document.getElementById(\"bd3677a3-b05e-4b91-8b1b-48c9e2be7f35\")) {                    Plotly.newPlot(                        \"bd3677a3-b05e-4b91-8b1b-48c9e2be7f35\",                        [{\"alignmentgroup\":\"True\",\"hovertemplate\":\"Diabetes Diagnosis=%{x}\\u003cbr\\u003eAge (years)=%{y}\\u003cextra\\u003e\\u003c\\u002fextra\\u003e\",\"legendgroup\":\"0.0\",\"marker\":{\"color\":\"#1f77b4\"},\"name\":\"0.0\",\"notched\":true,\"offsetgroup\":\"0.0\",\"orientation\":\"v\",\"showlegend\":true,\"x\":[0.0,0.0,0.0,0.0,0.0,0.0,0.0,0.0,0.0,0.0,0.0,0.0,0.0,0.0,0.0,0.0,0.0,0.0,0.0,0.0,0.0,0.0,0.0,0.0,0.0,0.0,0.0,0.0,0.0,0.0,0.0,0.0,0.0,0.0,0.0,0.0,0.0,0.0,0.0,0.0,0.0,0.0,0.0,0.0,0.0,0.0,0.0,0.0,0.0,0.0,0.0,0.0,0.0,0.0,0.0,0.0,0.0,0.0,0.0,0.0,0.0,0.0,0.0,0.0,0.0,0.0,0.0,0.0,0.0,0.0,0.0,0.0,0.0,0.0,0.0,0.0,0.0,0.0,0.0,0.0,0.0,0.0,0.0,0.0,0.0,0.0,0.0,0.0,0.0,0.0,0.0,0.0,0.0,0.0,0.0,0.0,0.0,0.0,0.0,0.0,0.0,0.0,0.0,0.0,0.0,0.0,0.0,0.0,0.0,0.0,0.0,0.0,0.0,0.0,0.0,0.0,0.0,0.0,0.0,0.0,0.0,0.0,0.0,0.0,0.0,0.0,0.0,0.0,0.0,0.0,0.0,0.0,0.0,0.0,0.0,0.0,0.0,0.0,0.0,0.0,0.0,0.0,0.0,0.0,0.0,0.0,0.0,0.0,0.0,0.0,0.0,0.0,0.0,0.0,0.0,0.0,0.0,0.0,0.0,0.0,0.0,0.0,0.0,0.0,0.0,0.0,0.0,0.0,0.0,0.0,0.0,0.0,0.0,0.0,0.0,0.0,0.0,0.0,0.0,0.0,0.0,0.0,0.0,0.0,0.0,0.0,0.0,0.0,0.0,0.0,0.0,0.0,0.0,0.0,0.0,0.0,0.0,0.0,0.0,0.0,0.0,0.0,0.0,0.0,0.0,0.0,0.0,0.0,0.0,0.0,0.0,0.0,0.0,0.0,0.0,0.0,0.0,0.0,0.0,0.0,0.0,0.0,0.0,0.0,0.0,0.0,0.0,0.0,0.0,0.0,0.0,0.0,0.0,0.0,0.0,0.0,0.0,0.0,0.0,0.0,0.0,0.0,0.0,0.0,0.0,0.0,0.0,0.0,0.0,0.0,0.0,0.0,0.0,0.0,0.0,0.0,0.0,0.0,0.0,0.0,0.0,0.0,0.0,0.0,0.0,0.0,0.0,0.0,0.0,0.0,0.0,0.0,0.0,0.0,0.0,0.0,0.0,0.0,0.0,0.0,0.0,0.0,0.0,0.0,0.0,0.0,0.0,0.0,0.0,0.0,0.0,0.0,0.0,0.0,0.0,0.0,0.0,0.0,0.0,0.0,0.0,0.0,0.0,0.0,0.0,0.0,0.0,0.0,0.0,0.0,0.0,0.0,0.0,0.0,0.0,0.0,0.0,0.0,0.0,0.0,0.0,0.0,0.0,0.0,0.0,0.0,0.0,0.0,0.0,0.0,0.0,0.0,0.0,0.0,0.0,0.0,0.0,0.0,0.0,0.0,0.0,0.0,0.0,0.0,0.0,0.0,0.0,0.0,0.0,0.0,0.0,0.0,0.0,0.0,0.0,0.0,0.0,0.0,0.0,0.0,0.0,0.0,0.0,0.0,0.0,0.0,0.0,0.0,0.0,0.0,0.0,0.0,0.0,0.0,0.0,0.0,0.0,0.0,0.0,0.0,0.0,0.0,0.0,0.0,0.0,0.0,0.0,0.0,0.0,0.0,0.0,0.0,0.0,0.0,0.0,0.0,0.0,0.0,0.0,0.0,0.0,0.0,0.0,0.0,0.0,0.0,0.0,0.0,0.0,0.0,0.0,0.0,0.0,0.0,0.0,0.0,0.0,0.0,0.0,0.0,0.0,0.0,0.0,0.0,0.0,0.0,0.0,0.0,0.0,0.0,0.0,0.0,0.0,0.0,0.0,0.0,0.0,0.0,0.0,0.0,0.0,0.0,0.0,0.0,0.0,0.0,0.0,0.0,0.0,0.0,0.0,0.0,0.0,0.0,0.0,0.0,0.0,0.0,0.0,0.0,0.0,0.0,0.0,0.0,0.0,0.0,0.0,0.0,0.0,0.0,0.0,0.0,0.0,0.0,0.0,0.0,0.0,0.0,0.0,0.0,0.0,0.0,0.0,0.0,0.0,0.0,0.0,0.0,0.0,0.0,0.0,0.0,0.0,0.0,0.0,0.0,0.0,0.0,0.0,0.0],\"x0\":\" \",\"xaxis\":\"x\",\"y\":[31.0,21.0,30.0,29.0,30.0,57.0,33.0,27.0,50.0,22.0,57.0,38.0,60.0,22.0,28.0,45.0,33.0,35.0,26.0,37.0,48.0,40.0,29.0,22.0,24.0,22.0,26.0,30.0,42.0,21.0,31.0,44.0,22.0,21.0,36.0,24.0,32.0,54.0,25.0,27.0,26.0,23.0,22.0,22.0,41.0,27.0,24.0,22.0,22.0,36.0,22.0,27.0,45.0,26.0,24.0,21.0,34.0,42.0,21.0,40.0,24.0,22.0,23.0,22.0,21.0,24.0,27.0,21.0,27.0,37.0,25.0,23.0,25.0,25.0,22.0,21.0,24.0,23.0,29.0,30.0,23.0,39.0,26.0,31.0,21.0,22.0,29.0,28.0,55.0,38.0,22.0,23.0,21.0,41.0,34.0,65.0,22.0,24.0,37.0,23.0,21.0,23.0,22.0,36.0,45.0,27.0,21.0,22.0,34.0,29.0,29.0,25.0,23.0,33.0,42.0,47.0,32.0,23.0,21.0,27.0,40.0,21.0,40.0,42.0,21.0,21.0,28.0,32.0,27.0,55.0,27.0,21.0,25.0,24.0,60.0,32.0,37.0,61.0,26.0,22.0,26.0,31.0,24.0,22.0,29.0,23.0,27.0,21.0,22.0,29.0,41.0,23.0,34.0,23.0,42.0,27.0,24.0,25.0,30.0,25.0,24.0,34.0,24.0,63.0,43.0,24.0,21.0,21.0,40.0,21.0,52.0,25.0,23.0,57.0,22.0,39.0,37.0,51.0,34.0,26.0,33.0,21.0,65.0,28.0,24.0,58.0,35.0,37.0,29.0,21.0,41.0,22.0,25.0,26.0,30.0,28.0,31.0,21.0,24.0,37.0,37.0,46.0,25.0,44.0,22.0,26.0,44.0,22.0,36.0,22.0,33.0,57.0,49.0,22.0,23.0,26.0,29.0,30.0,46.0,24.0,21.0,48.0,63.0,65.0,30.0,30.0,21.0,22.0,21.0,21.0,25.0,28.0,22.0,22.0,35.0,24.0,22.0,21.0,25.0,25.0,24.0,28.0,42.0,21.0,37.0,25.0,39.0,25.0,55.0,38.0,26.0,25.0,28.0,25.0,22.0,21.0,22.0,27.0,26.0,21.0,21.0,21.0,25.0,26.0,23.0,38.0,22.0,29.0,36.0,41.0,28.0,21.0,31.0,22.0,24.0,28.0,26.0,26.0,23.0,25.0,29.0,24.0,62.0,24.0,29.0,48.0,26.0,39.0,37.0,34.0,21.0,22.0,25.0,27.0,28.0,22.0,22.0,50.0,24.0,59.0,31.0,39.0,63.0,29.0,28.0,23.0,21.0,58.0,28.0,29.0,24.0,42.0,33.0,22.0,66.0,30.0,25.0,39.0,21.0,28.0,41.0,40.0,38.0,21.0,21.0,64.0,21.0,58.0,22.0,24.0,51.0,41.0,60.0,25.0,26.0,26.0,24.0,21.0,21.0,24.0,22.0,31.0,22.0,24.0,29.0,31.0,24.0,46.0,29.0,23.0,25.0,29.0,28.0,50.0,37.0,21.0,25.0,66.0,23.0,28.0,37.0,30.0,58.0,42.0,35.0,24.0,32.0,27.0,22.0,21.0,46.0,37.0,39.0,21.0,22.0,22.0,23.0,25.0,35.0,36.0,27.0,62.0,42.0,22.0,29.0,25.0,24.0,25.0,34.0,46.0,21.0,26.0,24.0,28.0,30.0,21.0,25.0,27.0,23.0,24.0,26.0,27.0,30.0,23.0,28.0,28.0,45.0,21.0,21.0,29.0,21.0,21.0,45.0,21.0,24.0,23.0,22.0,31.0,48.0,23.0,28.0,27.0,24.0,31.0,27.0,30.0,23.0,23.0,27.0,28.0,27.0,22.0,22.0,41.0,51.0,54.0,24.0,43.0,45.0,49.0,21.0,47.0,22.0,29.0,25.0,23.0,22.0,22.0,29.0,25.0,22.0,29.0,23.0,34.0,23.0,25.0,22.0,28.0,26.0,26.0,41.0,27.0,28.0,22.0,24.0,40.0,21.0,32.0,56.0,24.0,34.0,21.0,42.0,45.0,38.0,25.0,22.0,22.0,22.0,22.0,53.0,28.0,21.0,42.0,21.0,26.0,22.0,39.0,46.0,32.0,28.0,25.0,39.0,26.0,22.0,33.0,63.0,27.0,30.0,23.0],\"y0\":\" \",\"yaxis\":\"y\",\"type\":\"box\"},{\"alignmentgroup\":\"True\",\"hovertemplate\":\"Diabetes Diagnosis=%{x}\\u003cbr\\u003eAge (years)=%{y}\\u003cextra\\u003e\\u003c\\u002fextra\\u003e\",\"legendgroup\":\"1.0\",\"marker\":{\"color\":\"#d62728\"},\"name\":\"1.0\",\"notched\":true,\"offsetgroup\":\"1.0\",\"orientation\":\"v\",\"showlegend\":true,\"x\":[1.0,1.0,1.0,1.0,1.0,1.0,1.0,1.0,1.0,1.0,1.0,1.0,1.0,1.0,1.0,1.0,1.0,1.0,1.0,1.0,1.0,1.0,1.0,1.0,1.0,1.0,1.0,1.0,1.0,1.0,1.0,1.0,1.0,1.0,1.0,1.0,1.0,1.0,1.0,1.0,1.0,1.0,1.0,1.0,1.0,1.0,1.0,1.0,1.0,1.0,1.0,1.0,1.0,1.0,1.0,1.0,1.0,1.0,1.0,1.0,1.0,1.0,1.0,1.0,1.0,1.0,1.0,1.0,1.0,1.0,1.0,1.0,1.0,1.0,1.0,1.0,1.0,1.0,1.0,1.0,1.0,1.0,1.0,1.0,1.0,1.0,1.0,1.0,1.0,1.0,1.0,1.0,1.0,1.0,1.0,1.0,1.0,1.0,1.0,1.0,1.0,1.0,1.0,1.0,1.0,1.0,1.0,1.0,1.0,1.0,1.0,1.0,1.0,1.0,1.0,1.0,1.0,1.0,1.0,1.0,1.0,1.0,1.0,1.0,1.0,1.0,1.0,1.0,1.0,1.0,1.0,1.0,1.0,1.0,1.0,1.0,1.0,1.0,1.0,1.0,1.0,1.0,1.0,1.0,1.0,1.0,1.0,1.0,1.0,1.0,1.0,1.0,1.0,1.0,1.0,1.0,1.0,1.0,1.0,1.0,1.0,1.0,1.0,1.0,1.0,1.0,1.0,1.0,1.0,1.0,1.0,1.0,1.0,1.0,1.0,1.0,1.0,1.0,1.0,1.0,1.0,1.0,1.0,1.0,1.0,1.0,1.0,1.0,1.0,1.0,1.0,1.0,1.0,1.0,1.0,1.0,1.0,1.0,1.0,1.0,1.0,1.0,1.0,1.0,1.0,1.0,1.0,1.0,1.0,1.0,1.0,1.0,1.0,1.0,1.0,1.0,1.0,1.0,1.0,1.0,1.0,1.0,1.0,1.0,1.0,1.0,1.0,1.0,1.0,1.0,1.0,1.0,1.0,1.0,1.0,1.0,1.0,1.0,1.0,1.0,1.0,1.0,1.0,1.0,1.0,1.0,1.0,1.0,1.0,1.0,1.0,1.0,1.0,1.0,1.0,1.0,1.0,1.0,1.0,1.0,1.0,1.0,1.0,1.0,1.0,1.0,1.0,1.0],\"x0\":\" \",\"xaxis\":\"x\",\"y\":[50.0,32.0,33.0,26.0,53.0,54.0,34.0,59.0,51.0,32.0,31.0,31.0,32.0,41.0,29.0,51.0,41.0,43.0,28.0,46.0,27.0,56.0,54.0,25.0,31.0,58.0,41.0,39.0,42.0,38.0,28.0,42.0,26.0,37.0,43.0,60.0,31.0,33.0,24.0,24.0,46.0,39.0,61.0,38.0,25.0,23.0,26.0,40.0,62.0,33.0,33.0,30.0,42.0,42.0,43.0,36.0,47.0,32.0,41.0,36.0,29.0,36.0,26.0,37.0,41.0,60.0,33.0,31.0,25.0,36.0,40.0,29.0,23.0,26.0,29.0,57.0,52.0,41.0,24.0,36.0,38.0,25.0,32.0,41.0,21.0,66.0,24.0,22.0,46.0,26.0,51.0,23.0,32.0,22.0,33.0,49.0,44.0,21.0,51.0,27.0,35.0,25.0,28.0,38.0,29.0,28.0,47.0,52.0,29.0,25.0,31.0,24.0,29.0,46.0,30.0,25.0,28.0,47.0,25.0,30.0,27.0,43.0,29.0,59.0,25.0,36.0,43.0,30.0,23.0,41.0,44.0,33.0,41.0,37.0,49.0,28.0,44.0,29.0,29.0,29.0,29.0,45.0,25.0,58.0,32.0,35.0,45.0,58.0,27.0,31.0,22.0,25.0,31.0,35.0,41.0,46.0,39.0,28.0,21.0,22.0,37.0,28.0,36.0,31.0,38.0,43.0,29.0,41.0,33.0,30.0,25.0,22.0,23.0,38.0,51.0,38.0,29.0,35.0,31.0,24.0,45.0,55.0,41.0,35.0,46.0,28.0,53.0,45.0,23.0,32.0,43.0,27.0,56.0,37.0,53.0,54.0,28.0,33.0,21.0,62.0,21.0,52.0,41.0,52.0,45.0,44.0,22.0,38.0,54.0,36.0,22.0,36.0,40.0,50.0,50.0,24.0,34.0,38.0,32.0,50.0,33.0,22.0,42.0,25.0,27.0,22.0,43.0,40.0,40.0,29.0,40.0,31.0,53.0,25.0,26.0,27.0,46.0,44.0,43.0,43.0,31.0,49.0,52.0,30.0,45.0,23.0,38.0,34.0,31.0,52.0,42.0,34.0,22.0,24.0,42.0,48.0,45.0,27.0,36.0,50.0,22.0,26.0,45.0,37.0,52.0,66.0,43.0,47.0],\"y0\":\" \",\"yaxis\":\"y\",\"type\":\"box\"}],                        {\"template\":{\"data\":{\"histogram2dcontour\":[{\"type\":\"histogram2dcontour\",\"colorbar\":{\"outlinewidth\":0,\"ticks\":\"\"},\"colorscale\":[[0.0,\"#0d0887\"],[0.1111111111111111,\"#46039f\"],[0.2222222222222222,\"#7201a8\"],[0.3333333333333333,\"#9c179e\"],[0.4444444444444444,\"#bd3786\"],[0.5555555555555556,\"#d8576b\"],[0.6666666666666666,\"#ed7953\"],[0.7777777777777778,\"#fb9f3a\"],[0.8888888888888888,\"#fdca26\"],[1.0,\"#f0f921\"]]}],\"choropleth\":[{\"type\":\"choropleth\",\"colorbar\":{\"outlinewidth\":0,\"ticks\":\"\"}}],\"histogram2d\":[{\"type\":\"histogram2d\",\"colorbar\":{\"outlinewidth\":0,\"ticks\":\"\"},\"colorscale\":[[0.0,\"#0d0887\"],[0.1111111111111111,\"#46039f\"],[0.2222222222222222,\"#7201a8\"],[0.3333333333333333,\"#9c179e\"],[0.4444444444444444,\"#bd3786\"],[0.5555555555555556,\"#d8576b\"],[0.6666666666666666,\"#ed7953\"],[0.7777777777777778,\"#fb9f3a\"],[0.8888888888888888,\"#fdca26\"],[1.0,\"#f0f921\"]]}],\"heatmap\":[{\"type\":\"heatmap\",\"colorbar\":{\"outlinewidth\":0,\"ticks\":\"\"},\"colorscale\":[[0.0,\"#0d0887\"],[0.1111111111111111,\"#46039f\"],[0.2222222222222222,\"#7201a8\"],[0.3333333333333333,\"#9c179e\"],[0.4444444444444444,\"#bd3786\"],[0.5555555555555556,\"#d8576b\"],[0.6666666666666666,\"#ed7953\"],[0.7777777777777778,\"#fb9f3a\"],[0.8888888888888888,\"#fdca26\"],[1.0,\"#f0f921\"]]}],\"heatmapgl\":[{\"type\":\"heatmapgl\",\"colorbar\":{\"outlinewidth\":0,\"ticks\":\"\"},\"colorscale\":[[0.0,\"#0d0887\"],[0.1111111111111111,\"#46039f\"],[0.2222222222222222,\"#7201a8\"],[0.3333333333333333,\"#9c179e\"],[0.4444444444444444,\"#bd3786\"],[0.5555555555555556,\"#d8576b\"],[0.6666666666666666,\"#ed7953\"],[0.7777777777777778,\"#fb9f3a\"],[0.8888888888888888,\"#fdca26\"],[1.0,\"#f0f921\"]]}],\"contourcarpet\":[{\"type\":\"contourcarpet\",\"colorbar\":{\"outlinewidth\":0,\"ticks\":\"\"}}],\"contour\":[{\"type\":\"contour\",\"colorbar\":{\"outlinewidth\":0,\"ticks\":\"\"},\"colorscale\":[[0.0,\"#0d0887\"],[0.1111111111111111,\"#46039f\"],[0.2222222222222222,\"#7201a8\"],[0.3333333333333333,\"#9c179e\"],[0.4444444444444444,\"#bd3786\"],[0.5555555555555556,\"#d8576b\"],[0.6666666666666666,\"#ed7953\"],[0.7777777777777778,\"#fb9f3a\"],[0.8888888888888888,\"#fdca26\"],[1.0,\"#f0f921\"]]}],\"surface\":[{\"type\":\"surface\",\"colorbar\":{\"outlinewidth\":0,\"ticks\":\"\"},\"colorscale\":[[0.0,\"#0d0887\"],[0.1111111111111111,\"#46039f\"],[0.2222222222222222,\"#7201a8\"],[0.3333333333333333,\"#9c179e\"],[0.4444444444444444,\"#bd3786\"],[0.5555555555555556,\"#d8576b\"],[0.6666666666666666,\"#ed7953\"],[0.7777777777777778,\"#fb9f3a\"],[0.8888888888888888,\"#fdca26\"],[1.0,\"#f0f921\"]]}],\"mesh3d\":[{\"type\":\"mesh3d\",\"colorbar\":{\"outlinewidth\":0,\"ticks\":\"\"}}],\"scatter\":[{\"fillpattern\":{\"fillmode\":\"overlay\",\"size\":10,\"solidity\":0.2},\"type\":\"scatter\"}],\"parcoords\":[{\"type\":\"parcoords\",\"line\":{\"colorbar\":{\"outlinewidth\":0,\"ticks\":\"\"}}}],\"scatterpolargl\":[{\"type\":\"scatterpolargl\",\"marker\":{\"colorbar\":{\"outlinewidth\":0,\"ticks\":\"\"}}}],\"bar\":[{\"error_x\":{\"color\":\"#2a3f5f\"},\"error_y\":{\"color\":\"#2a3f5f\"},\"marker\":{\"line\":{\"color\":\"#E5ECF6\",\"width\":0.5},\"pattern\":{\"fillmode\":\"overlay\",\"size\":10,\"solidity\":0.2}},\"type\":\"bar\"}],\"scattergeo\":[{\"type\":\"scattergeo\",\"marker\":{\"colorbar\":{\"outlinewidth\":0,\"ticks\":\"\"}}}],\"scatterpolar\":[{\"type\":\"scatterpolar\",\"marker\":{\"colorbar\":{\"outlinewidth\":0,\"ticks\":\"\"}}}],\"histogram\":[{\"marker\":{\"pattern\":{\"fillmode\":\"overlay\",\"size\":10,\"solidity\":0.2}},\"type\":\"histogram\"}],\"scattergl\":[{\"type\":\"scattergl\",\"marker\":{\"colorbar\":{\"outlinewidth\":0,\"ticks\":\"\"}}}],\"scatter3d\":[{\"type\":\"scatter3d\",\"line\":{\"colorbar\":{\"outlinewidth\":0,\"ticks\":\"\"}},\"marker\":{\"colorbar\":{\"outlinewidth\":0,\"ticks\":\"\"}}}],\"scattermapbox\":[{\"type\":\"scattermapbox\",\"marker\":{\"colorbar\":{\"outlinewidth\":0,\"ticks\":\"\"}}}],\"scatterternary\":[{\"type\":\"scatterternary\",\"marker\":{\"colorbar\":{\"outlinewidth\":0,\"ticks\":\"\"}}}],\"scattercarpet\":[{\"type\":\"scattercarpet\",\"marker\":{\"colorbar\":{\"outlinewidth\":0,\"ticks\":\"\"}}}],\"carpet\":[{\"aaxis\":{\"endlinecolor\":\"#2a3f5f\",\"gridcolor\":\"white\",\"linecolor\":\"white\",\"minorgridcolor\":\"white\",\"startlinecolor\":\"#2a3f5f\"},\"baxis\":{\"endlinecolor\":\"#2a3f5f\",\"gridcolor\":\"white\",\"linecolor\":\"white\",\"minorgridcolor\":\"white\",\"startlinecolor\":\"#2a3f5f\"},\"type\":\"carpet\"}],\"table\":[{\"cells\":{\"fill\":{\"color\":\"#EBF0F8\"},\"line\":{\"color\":\"white\"}},\"header\":{\"fill\":{\"color\":\"#C8D4E3\"},\"line\":{\"color\":\"white\"}},\"type\":\"table\"}],\"barpolar\":[{\"marker\":{\"line\":{\"color\":\"#E5ECF6\",\"width\":0.5},\"pattern\":{\"fillmode\":\"overlay\",\"size\":10,\"solidity\":0.2}},\"type\":\"barpolar\"}],\"pie\":[{\"automargin\":true,\"type\":\"pie\"}]},\"layout\":{\"autotypenumbers\":\"strict\",\"colorway\":[\"#636efa\",\"#EF553B\",\"#00cc96\",\"#ab63fa\",\"#FFA15A\",\"#19d3f3\",\"#FF6692\",\"#B6E880\",\"#FF97FF\",\"#FECB52\"],\"font\":{\"color\":\"#2a3f5f\"},\"hovermode\":\"closest\",\"hoverlabel\":{\"align\":\"left\"},\"paper_bgcolor\":\"white\",\"plot_bgcolor\":\"#E5ECF6\",\"polar\":{\"bgcolor\":\"#E5ECF6\",\"angularaxis\":{\"gridcolor\":\"white\",\"linecolor\":\"white\",\"ticks\":\"\"},\"radialaxis\":{\"gridcolor\":\"white\",\"linecolor\":\"white\",\"ticks\":\"\"}},\"ternary\":{\"bgcolor\":\"#E5ECF6\",\"aaxis\":{\"gridcolor\":\"white\",\"linecolor\":\"white\",\"ticks\":\"\"},\"baxis\":{\"gridcolor\":\"white\",\"linecolor\":\"white\",\"ticks\":\"\"},\"caxis\":{\"gridcolor\":\"white\",\"linecolor\":\"white\",\"ticks\":\"\"}},\"coloraxis\":{\"colorbar\":{\"outlinewidth\":0,\"ticks\":\"\"}},\"colorscale\":{\"sequential\":[[0.0,\"#0d0887\"],[0.1111111111111111,\"#46039f\"],[0.2222222222222222,\"#7201a8\"],[0.3333333333333333,\"#9c179e\"],[0.4444444444444444,\"#bd3786\"],[0.5555555555555556,\"#d8576b\"],[0.6666666666666666,\"#ed7953\"],[0.7777777777777778,\"#fb9f3a\"],[0.8888888888888888,\"#fdca26\"],[1.0,\"#f0f921\"]],\"sequentialminus\":[[0.0,\"#0d0887\"],[0.1111111111111111,\"#46039f\"],[0.2222222222222222,\"#7201a8\"],[0.3333333333333333,\"#9c179e\"],[0.4444444444444444,\"#bd3786\"],[0.5555555555555556,\"#d8576b\"],[0.6666666666666666,\"#ed7953\"],[0.7777777777777778,\"#fb9f3a\"],[0.8888888888888888,\"#fdca26\"],[1.0,\"#f0f921\"]],\"diverging\":[[0,\"#8e0152\"],[0.1,\"#c51b7d\"],[0.2,\"#de77ae\"],[0.3,\"#f1b6da\"],[0.4,\"#fde0ef\"],[0.5,\"#f7f7f7\"],[0.6,\"#e6f5d0\"],[0.7,\"#b8e186\"],[0.8,\"#7fbc41\"],[0.9,\"#4d9221\"],[1,\"#276419\"]]},\"xaxis\":{\"gridcolor\":\"white\",\"linecolor\":\"white\",\"ticks\":\"\",\"title\":{\"standoff\":15},\"zerolinecolor\":\"white\",\"automargin\":true,\"zerolinewidth\":2},\"yaxis\":{\"gridcolor\":\"white\",\"linecolor\":\"white\",\"ticks\":\"\",\"title\":{\"standoff\":15},\"zerolinecolor\":\"white\",\"automargin\":true,\"zerolinewidth\":2},\"scene\":{\"xaxis\":{\"backgroundcolor\":\"#E5ECF6\",\"gridcolor\":\"white\",\"linecolor\":\"white\",\"showbackground\":true,\"ticks\":\"\",\"zerolinecolor\":\"white\",\"gridwidth\":2},\"yaxis\":{\"backgroundcolor\":\"#E5ECF6\",\"gridcolor\":\"white\",\"linecolor\":\"white\",\"showbackground\":true,\"ticks\":\"\",\"zerolinecolor\":\"white\",\"gridwidth\":2},\"zaxis\":{\"backgroundcolor\":\"#E5ECF6\",\"gridcolor\":\"white\",\"linecolor\":\"white\",\"showbackground\":true,\"ticks\":\"\",\"zerolinecolor\":\"white\",\"gridwidth\":2}},\"shapedefaults\":{\"line\":{\"color\":\"#2a3f5f\"}},\"annotationdefaults\":{\"arrowcolor\":\"#2a3f5f\",\"arrowhead\":0,\"arrowwidth\":1},\"geo\":{\"bgcolor\":\"white\",\"landcolor\":\"#E5ECF6\",\"subunitcolor\":\"white\",\"showland\":true,\"showlakes\":true,\"lakecolor\":\"white\"},\"title\":{\"x\":0.05},\"mapbox\":{\"style\":\"light\"}}},\"xaxis\":{\"anchor\":\"y\",\"domain\":[0.0,1.0],\"title\":{\"text\":\"Diabetes Diagnosis\"},\"categoryorder\":\"array\",\"categoryarray\":[0,1]},\"yaxis\":{\"anchor\":\"x\",\"domain\":[0.0,1.0],\"title\":{\"text\":\"Age (years)\"},\"showgrid\":true,\"gridwidth\":1,\"gridcolor\":\"LightGrey\"},\"legend\":{\"title\":{\"text\":\"Diabetes Diagnosis\"},\"tracegroupgap\":0},\"title\":{\"text\":\"\\u003cb\\u003eAge Distribution by Diabetes Diagnosis\\u003c\\u002fb\\u003e\\u003cbr\\u003e\\u003csup\\u003eUnderstanding Age-Related Risk Patterns\\u003c\\u002fsup\\u003e\"},\"boxmode\":\"overlay\",\"showlegend\":false,\"plot_bgcolor\":\"white\"},                        {\"responsive\": true}                    ).then(function(){\n",
              "                            \n",
              "var gd = document.getElementById('bd3677a3-b05e-4b91-8b1b-48c9e2be7f35');\n",
              "var x = new MutationObserver(function (mutations, observer) {{\n",
              "        var display = window.getComputedStyle(gd).display;\n",
              "        if (!display || display === 'none') {{\n",
              "            console.log([gd, 'removed!']);\n",
              "            Plotly.purge(gd);\n",
              "            observer.disconnect();\n",
              "        }}\n",
              "}});\n",
              "\n",
              "// Listen for the removal of the full notebook cells\n",
              "var notebookContainer = gd.closest('#notebook-container');\n",
              "if (notebookContainer) {{\n",
              "    x.observe(notebookContainer, {childList: true});\n",
              "}}\n",
              "\n",
              "// Listen for the clearing of the current output cell\n",
              "var outputEl = gd.closest('.output');\n",
              "if (outputEl) {{\n",
              "    x.observe(outputEl, {childList: true});\n",
              "}}\n",
              "\n",
              "                        })                };                });            </script>        </div>"
            ]
          },
          "metadata": {}
        }
      ]
    },
    {
      "cell_type": "markdown",
      "source": [
        "This chart shows that older people are much more likely to have diabetes than younger people. The average age of people with diabetes is noticeably higher than those without the disease. Getting older is a known risk factor for developing diabetes, and this graph proves that pattern is true in this group. Because age is something we can't change, it highlights why doctors focus on screening older patients for diabetes. Finding it early in this higher-risk group is very important for their health."
      ],
      "metadata": {
        "id": "xpRobXw_QPQT"
      }
    },
    {
      "cell_type": "markdown",
      "source": [
        "BAR GRAPH"
      ],
      "metadata": {
        "id": "IHFH4V6oZh4R"
      }
    },
    {
      "cell_type": "code",
      "source": [
        "df_clean[\"Pregnancy_Group\"] = pd.cut(\n",
        "    df_clean[\"Pregnancies\"],\n",
        "    bins=[-1, 2, 5, 10, df[\"Pregnancies\"].max()],\n",
        "    labels=[\"0–2\", \"3–5\", \"6–10\", \"10+\"]\n",
        ")\n",
        "\n",
        "fig2 = px.bar(\n",
        "    df_clean.groupby(\"Pregnancy_Group\")[\"Outcome\"].mean().reset_index(),\n",
        "    x=\"Pregnancy_Group\",\n",
        "    y=\"Outcome\",\n",
        "    title=\"Diabetes Outcome Rate by Pregnancy Count Groups\",\n",
        "    labels={\"Outcome\": \"Proportion with Diabetes\", \"Pregnancy_Group\": \"Pregnancy Groups\"}\n",
        ")\n",
        "fig2.show()\n"
      ],
      "metadata": {
        "colab": {
          "base_uri": "https://localhost:8080/",
          "height": 542
        },
        "id": "i7hXG3OYXP3c",
        "outputId": "64b24d86-7526-4fb6-fb59-634fd0421553"
      },
      "execution_count": 112,
      "outputs": [
        {
          "output_type": "display_data",
          "data": {
            "text/html": [
              "<div>                            <div id=\"4054ad53-2968-4c5a-a9df-0f2e749d2d2a\" class=\"plotly-graph-div\" style=\"height:525px; width:100%;\"></div>            <script type=\"text/javascript\">                require([\"plotly\"], function(Plotly) {                    window.PLOTLYENV=window.PLOTLYENV || {};                                    if (document.getElementById(\"4054ad53-2968-4c5a-a9df-0f2e749d2d2a\")) {                    Plotly.newPlot(                        \"4054ad53-2968-4c5a-a9df-0f2e749d2d2a\",                        [{\"alignmentgroup\":\"True\",\"hovertemplate\":\"Pregnancy Groups=%{x}\\u003cbr\\u003eProportion with Diabetes=%{y}\\u003cextra\\u003e\\u003c\\u002fextra\\u003e\",\"legendgroup\":\"\",\"marker\":{\"color\":\"#636efa\",\"pattern\":{\"shape\":\"\"}},\"name\":\"\",\"offsetgroup\":\"\",\"orientation\":\"v\",\"showlegend\":false,\"textposition\":\"auto\",\"x\":[\"0–2\",\"3–5\",\"6–10\",\"10+\"],\"xaxis\":\"x\",\"y\":[0.24641833810888253,0.36764705882352944,0.4918918918918919,0.5333333333333333],\"yaxis\":\"y\",\"type\":\"bar\"}],                        {\"template\":{\"data\":{\"histogram2dcontour\":[{\"type\":\"histogram2dcontour\",\"colorbar\":{\"outlinewidth\":0,\"ticks\":\"\"},\"colorscale\":[[0.0,\"#0d0887\"],[0.1111111111111111,\"#46039f\"],[0.2222222222222222,\"#7201a8\"],[0.3333333333333333,\"#9c179e\"],[0.4444444444444444,\"#bd3786\"],[0.5555555555555556,\"#d8576b\"],[0.6666666666666666,\"#ed7953\"],[0.7777777777777778,\"#fb9f3a\"],[0.8888888888888888,\"#fdca26\"],[1.0,\"#f0f921\"]]}],\"choropleth\":[{\"type\":\"choropleth\",\"colorbar\":{\"outlinewidth\":0,\"ticks\":\"\"}}],\"histogram2d\":[{\"type\":\"histogram2d\",\"colorbar\":{\"outlinewidth\":0,\"ticks\":\"\"},\"colorscale\":[[0.0,\"#0d0887\"],[0.1111111111111111,\"#46039f\"],[0.2222222222222222,\"#7201a8\"],[0.3333333333333333,\"#9c179e\"],[0.4444444444444444,\"#bd3786\"],[0.5555555555555556,\"#d8576b\"],[0.6666666666666666,\"#ed7953\"],[0.7777777777777778,\"#fb9f3a\"],[0.8888888888888888,\"#fdca26\"],[1.0,\"#f0f921\"]]}],\"heatmap\":[{\"type\":\"heatmap\",\"colorbar\":{\"outlinewidth\":0,\"ticks\":\"\"},\"colorscale\":[[0.0,\"#0d0887\"],[0.1111111111111111,\"#46039f\"],[0.2222222222222222,\"#7201a8\"],[0.3333333333333333,\"#9c179e\"],[0.4444444444444444,\"#bd3786\"],[0.5555555555555556,\"#d8576b\"],[0.6666666666666666,\"#ed7953\"],[0.7777777777777778,\"#fb9f3a\"],[0.8888888888888888,\"#fdca26\"],[1.0,\"#f0f921\"]]}],\"heatmapgl\":[{\"type\":\"heatmapgl\",\"colorbar\":{\"outlinewidth\":0,\"ticks\":\"\"},\"colorscale\":[[0.0,\"#0d0887\"],[0.1111111111111111,\"#46039f\"],[0.2222222222222222,\"#7201a8\"],[0.3333333333333333,\"#9c179e\"],[0.4444444444444444,\"#bd3786\"],[0.5555555555555556,\"#d8576b\"],[0.6666666666666666,\"#ed7953\"],[0.7777777777777778,\"#fb9f3a\"],[0.8888888888888888,\"#fdca26\"],[1.0,\"#f0f921\"]]}],\"contourcarpet\":[{\"type\":\"contourcarpet\",\"colorbar\":{\"outlinewidth\":0,\"ticks\":\"\"}}],\"contour\":[{\"type\":\"contour\",\"colorbar\":{\"outlinewidth\":0,\"ticks\":\"\"},\"colorscale\":[[0.0,\"#0d0887\"],[0.1111111111111111,\"#46039f\"],[0.2222222222222222,\"#7201a8\"],[0.3333333333333333,\"#9c179e\"],[0.4444444444444444,\"#bd3786\"],[0.5555555555555556,\"#d8576b\"],[0.6666666666666666,\"#ed7953\"],[0.7777777777777778,\"#fb9f3a\"],[0.8888888888888888,\"#fdca26\"],[1.0,\"#f0f921\"]]}],\"surface\":[{\"type\":\"surface\",\"colorbar\":{\"outlinewidth\":0,\"ticks\":\"\"},\"colorscale\":[[0.0,\"#0d0887\"],[0.1111111111111111,\"#46039f\"],[0.2222222222222222,\"#7201a8\"],[0.3333333333333333,\"#9c179e\"],[0.4444444444444444,\"#bd3786\"],[0.5555555555555556,\"#d8576b\"],[0.6666666666666666,\"#ed7953\"],[0.7777777777777778,\"#fb9f3a\"],[0.8888888888888888,\"#fdca26\"],[1.0,\"#f0f921\"]]}],\"mesh3d\":[{\"type\":\"mesh3d\",\"colorbar\":{\"outlinewidth\":0,\"ticks\":\"\"}}],\"scatter\":[{\"fillpattern\":{\"fillmode\":\"overlay\",\"size\":10,\"solidity\":0.2},\"type\":\"scatter\"}],\"parcoords\":[{\"type\":\"parcoords\",\"line\":{\"colorbar\":{\"outlinewidth\":0,\"ticks\":\"\"}}}],\"scatterpolargl\":[{\"type\":\"scatterpolargl\",\"marker\":{\"colorbar\":{\"outlinewidth\":0,\"ticks\":\"\"}}}],\"bar\":[{\"error_x\":{\"color\":\"#2a3f5f\"},\"error_y\":{\"color\":\"#2a3f5f\"},\"marker\":{\"line\":{\"color\":\"#E5ECF6\",\"width\":0.5},\"pattern\":{\"fillmode\":\"overlay\",\"size\":10,\"solidity\":0.2}},\"type\":\"bar\"}],\"scattergeo\":[{\"type\":\"scattergeo\",\"marker\":{\"colorbar\":{\"outlinewidth\":0,\"ticks\":\"\"}}}],\"scatterpolar\":[{\"type\":\"scatterpolar\",\"marker\":{\"colorbar\":{\"outlinewidth\":0,\"ticks\":\"\"}}}],\"histogram\":[{\"marker\":{\"pattern\":{\"fillmode\":\"overlay\",\"size\":10,\"solidity\":0.2}},\"type\":\"histogram\"}],\"scattergl\":[{\"type\":\"scattergl\",\"marker\":{\"colorbar\":{\"outlinewidth\":0,\"ticks\":\"\"}}}],\"scatter3d\":[{\"type\":\"scatter3d\",\"line\":{\"colorbar\":{\"outlinewidth\":0,\"ticks\":\"\"}},\"marker\":{\"colorbar\":{\"outlinewidth\":0,\"ticks\":\"\"}}}],\"scattermapbox\":[{\"type\":\"scattermapbox\",\"marker\":{\"colorbar\":{\"outlinewidth\":0,\"ticks\":\"\"}}}],\"scatterternary\":[{\"type\":\"scatterternary\",\"marker\":{\"colorbar\":{\"outlinewidth\":0,\"ticks\":\"\"}}}],\"scattercarpet\":[{\"type\":\"scattercarpet\",\"marker\":{\"colorbar\":{\"outlinewidth\":0,\"ticks\":\"\"}}}],\"carpet\":[{\"aaxis\":{\"endlinecolor\":\"#2a3f5f\",\"gridcolor\":\"white\",\"linecolor\":\"white\",\"minorgridcolor\":\"white\",\"startlinecolor\":\"#2a3f5f\"},\"baxis\":{\"endlinecolor\":\"#2a3f5f\",\"gridcolor\":\"white\",\"linecolor\":\"white\",\"minorgridcolor\":\"white\",\"startlinecolor\":\"#2a3f5f\"},\"type\":\"carpet\"}],\"table\":[{\"cells\":{\"fill\":{\"color\":\"#EBF0F8\"},\"line\":{\"color\":\"white\"}},\"header\":{\"fill\":{\"color\":\"#C8D4E3\"},\"line\":{\"color\":\"white\"}},\"type\":\"table\"}],\"barpolar\":[{\"marker\":{\"line\":{\"color\":\"#E5ECF6\",\"width\":0.5},\"pattern\":{\"fillmode\":\"overlay\",\"size\":10,\"solidity\":0.2}},\"type\":\"barpolar\"}],\"pie\":[{\"automargin\":true,\"type\":\"pie\"}]},\"layout\":{\"autotypenumbers\":\"strict\",\"colorway\":[\"#636efa\",\"#EF553B\",\"#00cc96\",\"#ab63fa\",\"#FFA15A\",\"#19d3f3\",\"#FF6692\",\"#B6E880\",\"#FF97FF\",\"#FECB52\"],\"font\":{\"color\":\"#2a3f5f\"},\"hovermode\":\"closest\",\"hoverlabel\":{\"align\":\"left\"},\"paper_bgcolor\":\"white\",\"plot_bgcolor\":\"#E5ECF6\",\"polar\":{\"bgcolor\":\"#E5ECF6\",\"angularaxis\":{\"gridcolor\":\"white\",\"linecolor\":\"white\",\"ticks\":\"\"},\"radialaxis\":{\"gridcolor\":\"white\",\"linecolor\":\"white\",\"ticks\":\"\"}},\"ternary\":{\"bgcolor\":\"#E5ECF6\",\"aaxis\":{\"gridcolor\":\"white\",\"linecolor\":\"white\",\"ticks\":\"\"},\"baxis\":{\"gridcolor\":\"white\",\"linecolor\":\"white\",\"ticks\":\"\"},\"caxis\":{\"gridcolor\":\"white\",\"linecolor\":\"white\",\"ticks\":\"\"}},\"coloraxis\":{\"colorbar\":{\"outlinewidth\":0,\"ticks\":\"\"}},\"colorscale\":{\"sequential\":[[0.0,\"#0d0887\"],[0.1111111111111111,\"#46039f\"],[0.2222222222222222,\"#7201a8\"],[0.3333333333333333,\"#9c179e\"],[0.4444444444444444,\"#bd3786\"],[0.5555555555555556,\"#d8576b\"],[0.6666666666666666,\"#ed7953\"],[0.7777777777777778,\"#fb9f3a\"],[0.8888888888888888,\"#fdca26\"],[1.0,\"#f0f921\"]],\"sequentialminus\":[[0.0,\"#0d0887\"],[0.1111111111111111,\"#46039f\"],[0.2222222222222222,\"#7201a8\"],[0.3333333333333333,\"#9c179e\"],[0.4444444444444444,\"#bd3786\"],[0.5555555555555556,\"#d8576b\"],[0.6666666666666666,\"#ed7953\"],[0.7777777777777778,\"#fb9f3a\"],[0.8888888888888888,\"#fdca26\"],[1.0,\"#f0f921\"]],\"diverging\":[[0,\"#8e0152\"],[0.1,\"#c51b7d\"],[0.2,\"#de77ae\"],[0.3,\"#f1b6da\"],[0.4,\"#fde0ef\"],[0.5,\"#f7f7f7\"],[0.6,\"#e6f5d0\"],[0.7,\"#b8e186\"],[0.8,\"#7fbc41\"],[0.9,\"#4d9221\"],[1,\"#276419\"]]},\"xaxis\":{\"gridcolor\":\"white\",\"linecolor\":\"white\",\"ticks\":\"\",\"title\":{\"standoff\":15},\"zerolinecolor\":\"white\",\"automargin\":true,\"zerolinewidth\":2},\"yaxis\":{\"gridcolor\":\"white\",\"linecolor\":\"white\",\"ticks\":\"\",\"title\":{\"standoff\":15},\"zerolinecolor\":\"white\",\"automargin\":true,\"zerolinewidth\":2},\"scene\":{\"xaxis\":{\"backgroundcolor\":\"#E5ECF6\",\"gridcolor\":\"white\",\"linecolor\":\"white\",\"showbackground\":true,\"ticks\":\"\",\"zerolinecolor\":\"white\",\"gridwidth\":2},\"yaxis\":{\"backgroundcolor\":\"#E5ECF6\",\"gridcolor\":\"white\",\"linecolor\":\"white\",\"showbackground\":true,\"ticks\":\"\",\"zerolinecolor\":\"white\",\"gridwidth\":2},\"zaxis\":{\"backgroundcolor\":\"#E5ECF6\",\"gridcolor\":\"white\",\"linecolor\":\"white\",\"showbackground\":true,\"ticks\":\"\",\"zerolinecolor\":\"white\",\"gridwidth\":2}},\"shapedefaults\":{\"line\":{\"color\":\"#2a3f5f\"}},\"annotationdefaults\":{\"arrowcolor\":\"#2a3f5f\",\"arrowhead\":0,\"arrowwidth\":1},\"geo\":{\"bgcolor\":\"white\",\"landcolor\":\"#E5ECF6\",\"subunitcolor\":\"white\",\"showland\":true,\"showlakes\":true,\"lakecolor\":\"white\"},\"title\":{\"x\":0.05},\"mapbox\":{\"style\":\"light\"}}},\"xaxis\":{\"anchor\":\"y\",\"domain\":[0.0,1.0],\"title\":{\"text\":\"Pregnancy Groups\"}},\"yaxis\":{\"anchor\":\"x\",\"domain\":[0.0,1.0],\"title\":{\"text\":\"Proportion with Diabetes\"}},\"legend\":{\"tracegroupgap\":0},\"title\":{\"text\":\"Diabetes Outcome Rate by Pregnancy Count Groups\"},\"barmode\":\"relative\"},                        {\"responsive\": true}                    ).then(function(){\n",
              "                            \n",
              "var gd = document.getElementById('4054ad53-2968-4c5a-a9df-0f2e749d2d2a');\n",
              "var x = new MutationObserver(function (mutations, observer) {{\n",
              "        var display = window.getComputedStyle(gd).display;\n",
              "        if (!display || display === 'none') {{\n",
              "            console.log([gd, 'removed!']);\n",
              "            Plotly.purge(gd);\n",
              "            observer.disconnect();\n",
              "        }}\n",
              "}});\n",
              "\n",
              "// Listen for the removal of the full notebook cells\n",
              "var notebookContainer = gd.closest('#notebook-container');\n",
              "if (notebookContainer) {{\n",
              "    x.observe(notebookContainer, {childList: true});\n",
              "}}\n",
              "\n",
              "// Listen for the clearing of the current output cell\n",
              "var outputEl = gd.closest('.output');\n",
              "if (outputEl) {{\n",
              "    x.observe(outputEl, {childList: true});\n",
              "}}\n",
              "\n",
              "                        })                };                });            </script>        </div>"
            ]
          },
          "metadata": {}
        }
      ]
    },
    {
      "cell_type": "markdown",
      "source": [
        "This chart shows that the more pregnancies a woman has, the higher her chance of getting diabetes. The risk starts to go up noticeably for women who have had 6 or more pregnancies. Women with 10 or more pregnancies have the highest risk of all. This suggests that having many babies might slowly change the body's metabolism in a way that makes diabetes more likely. Because of this, women who have had several pregnancies should be especially careful to get checked for diabetes."
      ],
      "metadata": {
        "id": "5Ai11QhxYEI6"
      }
    },
    {
      "cell_type": "markdown",
      "source": [
        "HEAT MAP"
      ],
      "metadata": {
        "id": "Q0pVS4slZfkV"
      }
    },
    {
      "cell_type": "code",
      "source": [
        "numerical_columns = ['Pregnancies', 'Glucose', 'BloodPressure', 'SkinThickness',\n",
        "                     'Insulin', 'BMI', 'DPF', 'Age', 'Outcome']\n",
        "corr_matrix = df_clean[numerical_columns].corr()\n",
        "fig = px.imshow(corr_matrix,\n",
        "                text_auto=True,\n",
        "                aspect=\"auto\",\n",
        "                color_continuous_scale='RdBu_r',\n",
        "                title='<b>Correlation Matrix of Clinical Variables</b><br><sup>Relationships Between Numerical Features</sup>',\n",
        "                zmin=-1,\n",
        "                zmax=1\n",
        "               )\n",
        "fig.update_layout(width=700, height=600)\n",
        "fig.show()"
      ],
      "metadata": {
        "colab": {
          "base_uri": "https://localhost:8080/",
          "height": 617
        },
        "id": "_sGjepG0Xbz1",
        "outputId": "0e793e5f-e5a0-4e98-beef-7f68421bc492"
      },
      "execution_count": 113,
      "outputs": [
        {
          "output_type": "display_data",
          "data": {
            "text/html": [
              "<div>                            <div id=\"8f54b60a-35f6-4477-8c25-bb894a81f8ed\" class=\"plotly-graph-div\" style=\"height:600px; width:700px;\"></div>            <script type=\"text/javascript\">                require([\"plotly\"], function(Plotly) {                    window.PLOTLYENV=window.PLOTLYENV || {};                                    if (document.getElementById(\"8f54b60a-35f6-4477-8c25-bb894a81f8ed\")) {                    Plotly.newPlot(                        \"8f54b60a-35f6-4477-8c25-bb894a81f8ed\",                        [{\"coloraxis\":\"coloraxis\",\"name\":\"0\",\"texttemplate\":\"%{z}\",\"x\":[\"Pregnancies\",\"Glucose\",\"BloodPressure\",\"SkinThickness\",\"Insulin\",\"BMI\",\"DPF\",\"Age\",\"Outcome\"],\"y\":[\"Pregnancies\",\"Glucose\",\"BloodPressure\",\"SkinThickness\",\"Insulin\",\"BMI\",\"DPF\",\"Age\",\"Outcome\"],\"z\":[[1.0,0.11769181185088791,0.20895257453015506,-0.09671983188632774,-0.10847432322431323,0.028338662342347408,0.004519341263782909,0.560768256793917,0.20249191735213337],[0.11769181185088791,1.0,0.20453923609806654,0.06003393781616346,0.17956583215128766,0.22824456151796915,0.0816131571935951,0.27426392587806864,0.4927824039150268],[0.20895257453015506,0.20453923609806654,1.0,0.02564488603064183,-0.0509557266889091,0.27155977034974527,0.022495315381652087,0.326372138521006,0.16487361165522096],[-0.09671983188632774,0.06003393781616346,0.02564488603064183,1.0,0.47271403653855415,0.37372623048908393,0.15276273616316588,-0.10139684991785393,0.06734435649547732],[-0.10847432322431323,0.17956583215128766,-0.0509557266889091,0.47271403653855415,1.0,0.17150331578516842,0.19857961365126542,-0.07372567269436431,0.07806591717915946],[0.028338662342347408,0.22824456151796915,0.27155977034974527,0.37372623048908393,0.17150331578516842,1.0,0.12377566307785128,0.07766828942193013,0.3006152317206247],[0.004519341263782909,0.0816131571935951,0.022495315381652087,0.15276273616316588,0.19857961365126542,0.12377566307785128,1.0,0.03610929352535132,0.15199364133871968],[0.560768256793917,0.27426392587806864,0.326372138521006,-0.10139684991785393,-0.07372567269436431,0.07766828942193013,0.03610929352535132,1.0,0.2658577257012341],[0.20249191735213337,0.4927824039150268,0.16487361165522096,0.06734435649547732,0.07806591717915946,0.3006152317206247,0.15199364133871968,0.2658577257012341,1.0]],\"type\":\"heatmap\",\"xaxis\":\"x\",\"yaxis\":\"y\",\"hovertemplate\":\"x: %{x}\\u003cbr\\u003ey: %{y}\\u003cbr\\u003ecolor: %{z}\\u003cextra\\u003e\\u003c\\u002fextra\\u003e\"}],                        {\"template\":{\"data\":{\"histogram2dcontour\":[{\"type\":\"histogram2dcontour\",\"colorbar\":{\"outlinewidth\":0,\"ticks\":\"\"},\"colorscale\":[[0.0,\"#0d0887\"],[0.1111111111111111,\"#46039f\"],[0.2222222222222222,\"#7201a8\"],[0.3333333333333333,\"#9c179e\"],[0.4444444444444444,\"#bd3786\"],[0.5555555555555556,\"#d8576b\"],[0.6666666666666666,\"#ed7953\"],[0.7777777777777778,\"#fb9f3a\"],[0.8888888888888888,\"#fdca26\"],[1.0,\"#f0f921\"]]}],\"choropleth\":[{\"type\":\"choropleth\",\"colorbar\":{\"outlinewidth\":0,\"ticks\":\"\"}}],\"histogram2d\":[{\"type\":\"histogram2d\",\"colorbar\":{\"outlinewidth\":0,\"ticks\":\"\"},\"colorscale\":[[0.0,\"#0d0887\"],[0.1111111111111111,\"#46039f\"],[0.2222222222222222,\"#7201a8\"],[0.3333333333333333,\"#9c179e\"],[0.4444444444444444,\"#bd3786\"],[0.5555555555555556,\"#d8576b\"],[0.6666666666666666,\"#ed7953\"],[0.7777777777777778,\"#fb9f3a\"],[0.8888888888888888,\"#fdca26\"],[1.0,\"#f0f921\"]]}],\"heatmap\":[{\"type\":\"heatmap\",\"colorbar\":{\"outlinewidth\":0,\"ticks\":\"\"},\"colorscale\":[[0.0,\"#0d0887\"],[0.1111111111111111,\"#46039f\"],[0.2222222222222222,\"#7201a8\"],[0.3333333333333333,\"#9c179e\"],[0.4444444444444444,\"#bd3786\"],[0.5555555555555556,\"#d8576b\"],[0.6666666666666666,\"#ed7953\"],[0.7777777777777778,\"#fb9f3a\"],[0.8888888888888888,\"#fdca26\"],[1.0,\"#f0f921\"]]}],\"heatmapgl\":[{\"type\":\"heatmapgl\",\"colorbar\":{\"outlinewidth\":0,\"ticks\":\"\"},\"colorscale\":[[0.0,\"#0d0887\"],[0.1111111111111111,\"#46039f\"],[0.2222222222222222,\"#7201a8\"],[0.3333333333333333,\"#9c179e\"],[0.4444444444444444,\"#bd3786\"],[0.5555555555555556,\"#d8576b\"],[0.6666666666666666,\"#ed7953\"],[0.7777777777777778,\"#fb9f3a\"],[0.8888888888888888,\"#fdca26\"],[1.0,\"#f0f921\"]]}],\"contourcarpet\":[{\"type\":\"contourcarpet\",\"colorbar\":{\"outlinewidth\":0,\"ticks\":\"\"}}],\"contour\":[{\"type\":\"contour\",\"colorbar\":{\"outlinewidth\":0,\"ticks\":\"\"},\"colorscale\":[[0.0,\"#0d0887\"],[0.1111111111111111,\"#46039f\"],[0.2222222222222222,\"#7201a8\"],[0.3333333333333333,\"#9c179e\"],[0.4444444444444444,\"#bd3786\"],[0.5555555555555556,\"#d8576b\"],[0.6666666666666666,\"#ed7953\"],[0.7777777777777778,\"#fb9f3a\"],[0.8888888888888888,\"#fdca26\"],[1.0,\"#f0f921\"]]}],\"surface\":[{\"type\":\"surface\",\"colorbar\":{\"outlinewidth\":0,\"ticks\":\"\"},\"colorscale\":[[0.0,\"#0d0887\"],[0.1111111111111111,\"#46039f\"],[0.2222222222222222,\"#7201a8\"],[0.3333333333333333,\"#9c179e\"],[0.4444444444444444,\"#bd3786\"],[0.5555555555555556,\"#d8576b\"],[0.6666666666666666,\"#ed7953\"],[0.7777777777777778,\"#fb9f3a\"],[0.8888888888888888,\"#fdca26\"],[1.0,\"#f0f921\"]]}],\"mesh3d\":[{\"type\":\"mesh3d\",\"colorbar\":{\"outlinewidth\":0,\"ticks\":\"\"}}],\"scatter\":[{\"fillpattern\":{\"fillmode\":\"overlay\",\"size\":10,\"solidity\":0.2},\"type\":\"scatter\"}],\"parcoords\":[{\"type\":\"parcoords\",\"line\":{\"colorbar\":{\"outlinewidth\":0,\"ticks\":\"\"}}}],\"scatterpolargl\":[{\"type\":\"scatterpolargl\",\"marker\":{\"colorbar\":{\"outlinewidth\":0,\"ticks\":\"\"}}}],\"bar\":[{\"error_x\":{\"color\":\"#2a3f5f\"},\"error_y\":{\"color\":\"#2a3f5f\"},\"marker\":{\"line\":{\"color\":\"#E5ECF6\",\"width\":0.5},\"pattern\":{\"fillmode\":\"overlay\",\"size\":10,\"solidity\":0.2}},\"type\":\"bar\"}],\"scattergeo\":[{\"type\":\"scattergeo\",\"marker\":{\"colorbar\":{\"outlinewidth\":0,\"ticks\":\"\"}}}],\"scatterpolar\":[{\"type\":\"scatterpolar\",\"marker\":{\"colorbar\":{\"outlinewidth\":0,\"ticks\":\"\"}}}],\"histogram\":[{\"marker\":{\"pattern\":{\"fillmode\":\"overlay\",\"size\":10,\"solidity\":0.2}},\"type\":\"histogram\"}],\"scattergl\":[{\"type\":\"scattergl\",\"marker\":{\"colorbar\":{\"outlinewidth\":0,\"ticks\":\"\"}}}],\"scatter3d\":[{\"type\":\"scatter3d\",\"line\":{\"colorbar\":{\"outlinewidth\":0,\"ticks\":\"\"}},\"marker\":{\"colorbar\":{\"outlinewidth\":0,\"ticks\":\"\"}}}],\"scattermapbox\":[{\"type\":\"scattermapbox\",\"marker\":{\"colorbar\":{\"outlinewidth\":0,\"ticks\":\"\"}}}],\"scatterternary\":[{\"type\":\"scatterternary\",\"marker\":{\"colorbar\":{\"outlinewidth\":0,\"ticks\":\"\"}}}],\"scattercarpet\":[{\"type\":\"scattercarpet\",\"marker\":{\"colorbar\":{\"outlinewidth\":0,\"ticks\":\"\"}}}],\"carpet\":[{\"aaxis\":{\"endlinecolor\":\"#2a3f5f\",\"gridcolor\":\"white\",\"linecolor\":\"white\",\"minorgridcolor\":\"white\",\"startlinecolor\":\"#2a3f5f\"},\"baxis\":{\"endlinecolor\":\"#2a3f5f\",\"gridcolor\":\"white\",\"linecolor\":\"white\",\"minorgridcolor\":\"white\",\"startlinecolor\":\"#2a3f5f\"},\"type\":\"carpet\"}],\"table\":[{\"cells\":{\"fill\":{\"color\":\"#EBF0F8\"},\"line\":{\"color\":\"white\"}},\"header\":{\"fill\":{\"color\":\"#C8D4E3\"},\"line\":{\"color\":\"white\"}},\"type\":\"table\"}],\"barpolar\":[{\"marker\":{\"line\":{\"color\":\"#E5ECF6\",\"width\":0.5},\"pattern\":{\"fillmode\":\"overlay\",\"size\":10,\"solidity\":0.2}},\"type\":\"barpolar\"}],\"pie\":[{\"automargin\":true,\"type\":\"pie\"}]},\"layout\":{\"autotypenumbers\":\"strict\",\"colorway\":[\"#636efa\",\"#EF553B\",\"#00cc96\",\"#ab63fa\",\"#FFA15A\",\"#19d3f3\",\"#FF6692\",\"#B6E880\",\"#FF97FF\",\"#FECB52\"],\"font\":{\"color\":\"#2a3f5f\"},\"hovermode\":\"closest\",\"hoverlabel\":{\"align\":\"left\"},\"paper_bgcolor\":\"white\",\"plot_bgcolor\":\"#E5ECF6\",\"polar\":{\"bgcolor\":\"#E5ECF6\",\"angularaxis\":{\"gridcolor\":\"white\",\"linecolor\":\"white\",\"ticks\":\"\"},\"radialaxis\":{\"gridcolor\":\"white\",\"linecolor\":\"white\",\"ticks\":\"\"}},\"ternary\":{\"bgcolor\":\"#E5ECF6\",\"aaxis\":{\"gridcolor\":\"white\",\"linecolor\":\"white\",\"ticks\":\"\"},\"baxis\":{\"gridcolor\":\"white\",\"linecolor\":\"white\",\"ticks\":\"\"},\"caxis\":{\"gridcolor\":\"white\",\"linecolor\":\"white\",\"ticks\":\"\"}},\"coloraxis\":{\"colorbar\":{\"outlinewidth\":0,\"ticks\":\"\"}},\"colorscale\":{\"sequential\":[[0.0,\"#0d0887\"],[0.1111111111111111,\"#46039f\"],[0.2222222222222222,\"#7201a8\"],[0.3333333333333333,\"#9c179e\"],[0.4444444444444444,\"#bd3786\"],[0.5555555555555556,\"#d8576b\"],[0.6666666666666666,\"#ed7953\"],[0.7777777777777778,\"#fb9f3a\"],[0.8888888888888888,\"#fdca26\"],[1.0,\"#f0f921\"]],\"sequentialminus\":[[0.0,\"#0d0887\"],[0.1111111111111111,\"#46039f\"],[0.2222222222222222,\"#7201a8\"],[0.3333333333333333,\"#9c179e\"],[0.4444444444444444,\"#bd3786\"],[0.5555555555555556,\"#d8576b\"],[0.6666666666666666,\"#ed7953\"],[0.7777777777777778,\"#fb9f3a\"],[0.8888888888888888,\"#fdca26\"],[1.0,\"#f0f921\"]],\"diverging\":[[0,\"#8e0152\"],[0.1,\"#c51b7d\"],[0.2,\"#de77ae\"],[0.3,\"#f1b6da\"],[0.4,\"#fde0ef\"],[0.5,\"#f7f7f7\"],[0.6,\"#e6f5d0\"],[0.7,\"#b8e186\"],[0.8,\"#7fbc41\"],[0.9,\"#4d9221\"],[1,\"#276419\"]]},\"xaxis\":{\"gridcolor\":\"white\",\"linecolor\":\"white\",\"ticks\":\"\",\"title\":{\"standoff\":15},\"zerolinecolor\":\"white\",\"automargin\":true,\"zerolinewidth\":2},\"yaxis\":{\"gridcolor\":\"white\",\"linecolor\":\"white\",\"ticks\":\"\",\"title\":{\"standoff\":15},\"zerolinecolor\":\"white\",\"automargin\":true,\"zerolinewidth\":2},\"scene\":{\"xaxis\":{\"backgroundcolor\":\"#E5ECF6\",\"gridcolor\":\"white\",\"linecolor\":\"white\",\"showbackground\":true,\"ticks\":\"\",\"zerolinecolor\":\"white\",\"gridwidth\":2},\"yaxis\":{\"backgroundcolor\":\"#E5ECF6\",\"gridcolor\":\"white\",\"linecolor\":\"white\",\"showbackground\":true,\"ticks\":\"\",\"zerolinecolor\":\"white\",\"gridwidth\":2},\"zaxis\":{\"backgroundcolor\":\"#E5ECF6\",\"gridcolor\":\"white\",\"linecolor\":\"white\",\"showbackground\":true,\"ticks\":\"\",\"zerolinecolor\":\"white\",\"gridwidth\":2}},\"shapedefaults\":{\"line\":{\"color\":\"#2a3f5f\"}},\"annotationdefaults\":{\"arrowcolor\":\"#2a3f5f\",\"arrowhead\":0,\"arrowwidth\":1},\"geo\":{\"bgcolor\":\"white\",\"landcolor\":\"#E5ECF6\",\"subunitcolor\":\"white\",\"showland\":true,\"showlakes\":true,\"lakecolor\":\"white\"},\"title\":{\"x\":0.05},\"mapbox\":{\"style\":\"light\"}}},\"xaxis\":{\"anchor\":\"y\",\"domain\":[0.0,1.0]},\"yaxis\":{\"anchor\":\"x\",\"domain\":[0.0,1.0],\"autorange\":\"reversed\"},\"coloraxis\":{\"colorscale\":[[0.0,\"rgb(5,48,97)\"],[0.1,\"rgb(33,102,172)\"],[0.2,\"rgb(67,147,195)\"],[0.3,\"rgb(146,197,222)\"],[0.4,\"rgb(209,229,240)\"],[0.5,\"rgb(247,247,247)\"],[0.6,\"rgb(253,219,199)\"],[0.7,\"rgb(244,165,130)\"],[0.8,\"rgb(214,96,77)\"],[0.9,\"rgb(178,24,43)\"],[1.0,\"rgb(103,0,31)\"]],\"cmin\":-1,\"cmax\":1},\"title\":{\"text\":\"\\u003cb\\u003eCorrelation Matrix of Clinical Variables\\u003c\\u002fb\\u003e\\u003cbr\\u003e\\u003csup\\u003eRelationships Between Numerical Features\\u003c\\u002fsup\\u003e\"},\"width\":700,\"height\":600},                        {\"responsive\": true}                    ).then(function(){\n",
              "                            \n",
              "var gd = document.getElementById('8f54b60a-35f6-4477-8c25-bb894a81f8ed');\n",
              "var x = new MutationObserver(function (mutations, observer) {{\n",
              "        var display = window.getComputedStyle(gd).display;\n",
              "        if (!display || display === 'none') {{\n",
              "            console.log([gd, 'removed!']);\n",
              "            Plotly.purge(gd);\n",
              "            observer.disconnect();\n",
              "        }}\n",
              "}});\n",
              "\n",
              "// Listen for the removal of the full notebook cells\n",
              "var notebookContainer = gd.closest('#notebook-container');\n",
              "if (notebookContainer) {{\n",
              "    x.observe(notebookContainer, {childList: true});\n",
              "}}\n",
              "\n",
              "// Listen for the clearing of the current output cell\n",
              "var outputEl = gd.closest('.output');\n",
              "if (outputEl) {{\n",
              "    x.observe(outputEl, {childList: true});\n",
              "}}\n",
              "\n",
              "                        })                };                });            </script>        </div>"
            ]
          },
          "metadata": {}
        }
      ]
    },
    {
      "cell_type": "markdown",
      "source": [
        "This chart shows that high blood sugar and high BMI are the two strongest signs linked to having diabetes. Older age and more pregnancies also increase the risk, but not as strongly. Surprisingly, insulin levels and skin thickness don't show a strong direct link to diabetes in this analysis. Since most factors don't overlap much, each one tells doctors something unique, meaning they should look at all of them together to get the full picture."
      ],
      "metadata": {
        "id": "FNJIa6HvZYs4"
      }
    }
  ]
}